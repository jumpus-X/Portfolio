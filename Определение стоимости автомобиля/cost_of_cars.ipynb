{
 "cells": [
  {
   "cell_type": "markdown",
   "metadata": {},
   "source": [
    "# Определение стоимости автомобилей"
   ]
  },
  {
   "cell_type": "markdown",
   "metadata": {},
   "source": [
    "Сервис по продаже автомобилей с пробегом «Не бит, не крашен» разрабатывает приложение для привлечения новых клиентов. В нём можно быстро узнать рыночную стоимость своего автомобиля. В вашем распоряжении исторические данные: технические характеристики, комплектации и цены автомобилей. Вам нужно построить модель для определения стоимости. \n",
    "\n",
    "Заказчику важны:\n",
    "\n",
    "- качество предсказания;\n",
    "- скорость предсказания;\n",
    "- время обучения."
   ]
  },
  {
   "cell_type": "markdown",
   "metadata": {},
   "source": [
    "## Подготовка данных"
   ]
  },
  {
   "cell_type": "code",
   "execution_count": 1,
   "metadata": {},
   "outputs": [
    {
     "name": "stdout",
     "output_type": "stream",
     "text": [
      "Requirement already satisfied: sweetviz in d:\\anaconda3\\envs\\ds_practicum_env\\lib\\site-packages (2.1.4)\n",
      "Requirement already satisfied: tqdm>=4.43.0 in d:\\anaconda3\\envs\\ds_practicum_env\\lib\\site-packages (from sweetviz) (4.64.1)\n",
      "Requirement already satisfied: scipy>=1.3.2 in d:\\anaconda3\\envs\\ds_practicum_env\\lib\\site-packages (from sweetviz) (1.8.0)\n",
      "Requirement already satisfied: numpy>=1.16.0 in d:\\anaconda3\\envs\\ds_practicum_env\\lib\\site-packages (from sweetviz) (1.24.3)\n",
      "Requirement already satisfied: jinja2>=2.11.1 in d:\\anaconda3\\envs\\ds_practicum_env\\lib\\site-packages (from sweetviz) (3.1.2)\n",
      "Requirement already satisfied: importlib-resources>=1.2.0 in d:\\anaconda3\\envs\\ds_practicum_env\\lib\\site-packages (from sweetviz) (5.10.0)\n",
      "Requirement already satisfied: matplotlib>=3.1.3 in d:\\anaconda3\\envs\\ds_practicum_env\\lib\\site-packages (from sweetviz) (3.3.4)\n",
      "Requirement already satisfied: pandas!=1.0.0,!=1.0.1,!=1.0.2,>=0.25.3 in d:\\anaconda3\\envs\\ds_practicum_env\\lib\\site-packages (from sweetviz) (1.5.3)\n",
      "Requirement already satisfied: zipp>=3.1.0 in d:\\anaconda3\\envs\\ds_practicum_env\\lib\\site-packages (from importlib-resources>=1.2.0->sweetviz) (3.11.0)\n",
      "Requirement already satisfied: MarkupSafe>=2.0 in d:\\anaconda3\\envs\\ds_practicum_env\\lib\\site-packages (from jinja2>=2.11.1->sweetviz) (2.1.1)\n",
      "Requirement already satisfied: python-dateutil>=2.1 in d:\\anaconda3\\envs\\ds_practicum_env\\lib\\site-packages (from matplotlib>=3.1.3->sweetviz) (2.8.2)\n",
      "Requirement already satisfied: kiwisolver>=1.0.1 in d:\\anaconda3\\envs\\ds_practicum_env\\lib\\site-packages (from matplotlib>=3.1.3->sweetviz) (1.4.4)\n",
      "Requirement already satisfied: pillow>=6.2.0 in d:\\anaconda3\\envs\\ds_practicum_env\\lib\\site-packages (from matplotlib>=3.1.3->sweetviz) (10.0.0)\n",
      "Requirement already satisfied: cycler>=0.10 in d:\\anaconda3\\envs\\ds_practicum_env\\lib\\site-packages (from matplotlib>=3.1.3->sweetviz) (0.11.0)\n",
      "Requirement already satisfied: pyparsing!=2.0.4,!=2.1.2,!=2.1.6,>=2.0.3 in d:\\anaconda3\\envs\\ds_practicum_env\\lib\\site-packages (from matplotlib>=3.1.3->sweetviz) (3.0.9)\n",
      "Requirement already satisfied: pytz>=2020.1 in d:\\anaconda3\\envs\\ds_practicum_env\\lib\\site-packages (from pandas!=1.0.0,!=1.0.1,!=1.0.2,>=0.25.3->sweetviz) (2022.6)\n",
      "Requirement already satisfied: colorama in d:\\anaconda3\\envs\\ds_practicum_env\\lib\\site-packages (from tqdm>=4.43.0->sweetviz) (0.4.6)\n",
      "Requirement already satisfied: six>=1.5 in d:\\anaconda3\\envs\\ds_practicum_env\\lib\\site-packages (from python-dateutil>=2.1->matplotlib>=3.1.3->sweetviz) (1.16.0)\n",
      "Note: you may need to restart the kernel to use updated packages.\n",
      "Requirement already satisfied: missingno in d:\\anaconda3\\envs\\ds_practicum_env\\lib\\site-packages (0.5.1)\n",
      "Requirement already satisfied: scipy in d:\\anaconda3\\envs\\ds_practicum_env\\lib\\site-packages (from missingno) (1.8.0)\n",
      "Requirement already satisfied: seaborn in d:\\anaconda3\\envs\\ds_practicum_env\\lib\\site-packages (from missingno) (0.11.1)\n",
      "Requirement already satisfied: numpy in d:\\anaconda3\\envs\\ds_practicum_env\\lib\\site-packages (from missingno) (1.24.3)\n",
      "Requirement already satisfied: matplotlib in d:\\anaconda3\\envs\\ds_practicum_env\\lib\\site-packages (from missingno) (3.3.4)\n",
      "Requirement already satisfied: pillow>=6.2.0 in d:\\anaconda3\\envs\\ds_practicum_env\\lib\\site-packages (from matplotlib->missingno) (10.0.0)\n",
      "Requirement already satisfied: pyparsing!=2.0.4,!=2.1.2,!=2.1.6,>=2.0.3 in d:\\anaconda3\\envs\\ds_practicum_env\\lib\\site-packages (from matplotlib->missingno) (3.0.9)\n",
      "Requirement already satisfied: cycler>=0.10 in d:\\anaconda3\\envs\\ds_practicum_env\\lib\\site-packages (from matplotlib->missingno) (0.11.0)\n",
      "Requirement already satisfied: kiwisolver>=1.0.1 in d:\\anaconda3\\envs\\ds_practicum_env\\lib\\site-packages (from matplotlib->missingno) (1.4.4)\n",
      "Requirement already satisfied: python-dateutil>=2.1 in d:\\anaconda3\\envs\\ds_practicum_env\\lib\\site-packages (from matplotlib->missingno) (2.8.2)\n",
      "Requirement already satisfied: pandas>=0.23 in d:\\anaconda3\\envs\\ds_practicum_env\\lib\\site-packages (from seaborn->missingno) (1.5.3)\n",
      "Requirement already satisfied: pytz>=2020.1 in d:\\anaconda3\\envs\\ds_practicum_env\\lib\\site-packages (from pandas>=0.23->seaborn->missingno) (2022.6)\n",
      "Requirement already satisfied: six>=1.5 in d:\\anaconda3\\envs\\ds_practicum_env\\lib\\site-packages (from python-dateutil>=2.1->matplotlib->missingno) (1.16.0)\n",
      "Note: you may need to restart the kernel to use updated packages.\n",
      "Requirement already satisfied: skimpy in d:\\anaconda3\\envs\\ds_practicum_env\\lib\\site-packages (0.0.8)\n",
      "Requirement already satisfied: Pygments<3.0.0,>=2.10.0 in d:\\anaconda3\\envs\\ds_practicum_env\\lib\\site-packages (from skimpy) (2.13.0)\n",
      "Requirement already satisfied: click<9.0.0,>=8.1.3 in d:\\anaconda3\\envs\\ds_practicum_env\\lib\\site-packages (from skimpy) (8.1.3)\n",
      "Requirement already satisfied: numpy<2.0.0,>=1.22.2 in d:\\anaconda3\\envs\\ds_practicum_env\\lib\\site-packages (from skimpy) (1.24.3)\n",
      "Requirement already satisfied: pandas<2.0.0,>=1.3.2 in d:\\anaconda3\\envs\\ds_practicum_env\\lib\\site-packages (from skimpy) (1.5.3)\n",
      "Requirement already satisfied: typeguard<3.0.0,>=2.12.1 in d:\\anaconda3\\envs\\ds_practicum_env\\lib\\site-packages (from skimpy) (2.13.3)\n",
      "Requirement already satisfied: jupyter<2.0.0,>=1.0.0 in d:\\anaconda3\\envs\\ds_practicum_env\\lib\\site-packages (from skimpy) (1.0.0)\n",
      "Requirement already satisfied: rich<13.0,>=10.9 in d:\\anaconda3\\envs\\ds_practicum_env\\lib\\site-packages (from skimpy) (12.6.0)\n",
      "Requirement already satisfied: ipykernel<7.0.0,>=6.7.0 in d:\\anaconda3\\envs\\ds_practicum_env\\lib\\site-packages (from skimpy) (6.17.1)\n",
      "Requirement already satisfied: colorama in d:\\anaconda3\\envs\\ds_practicum_env\\lib\\site-packages (from click<9.0.0,>=8.1.3->skimpy) (0.4.6)\n",
      "Requirement already satisfied: debugpy>=1.0 in d:\\anaconda3\\envs\\ds_practicum_env\\lib\\site-packages (from ipykernel<7.0.0,>=6.7.0->skimpy) (1.6.3)\n",
      "Requirement already satisfied: jupyter-client>=6.1.12 in d:\\anaconda3\\envs\\ds_practicum_env\\lib\\site-packages (from ipykernel<7.0.0,>=6.7.0->skimpy) (7.4.7)\n",
      "Requirement already satisfied: matplotlib-inline>=0.1 in d:\\anaconda3\\envs\\ds_practicum_env\\lib\\site-packages (from ipykernel<7.0.0,>=6.7.0->skimpy) (0.1.6)\n",
      "Requirement already satisfied: packaging in d:\\anaconda3\\envs\\ds_practicum_env\\lib\\site-packages (from ipykernel<7.0.0,>=6.7.0->skimpy) (21.3)\n",
      "Requirement already satisfied: tornado>=6.1 in d:\\anaconda3\\envs\\ds_practicum_env\\lib\\site-packages (from ipykernel<7.0.0,>=6.7.0->skimpy) (6.2)\n",
      "Requirement already satisfied: traitlets>=5.1.0 in d:\\anaconda3\\envs\\ds_practicum_env\\lib\\site-packages (from ipykernel<7.0.0,>=6.7.0->skimpy) (5.5.0)\n",
      "Requirement already satisfied: nest-asyncio in d:\\anaconda3\\envs\\ds_practicum_env\\lib\\site-packages (from ipykernel<7.0.0,>=6.7.0->skimpy) (1.5.6)\n",
      "Requirement already satisfied: ipython>=7.23.1 in d:\\anaconda3\\envs\\ds_practicum_env\\lib\\site-packages (from ipykernel<7.0.0,>=6.7.0->skimpy) (8.6.0)\n",
      "Requirement already satisfied: psutil in d:\\anaconda3\\envs\\ds_practicum_env\\lib\\site-packages (from ipykernel<7.0.0,>=6.7.0->skimpy) (5.9.4)\n",
      "Requirement already satisfied: pyzmq>=17 in d:\\anaconda3\\envs\\ds_practicum_env\\lib\\site-packages (from ipykernel<7.0.0,>=6.7.0->skimpy) (24.0.1)\n",
      "Requirement already satisfied: qtconsole in d:\\anaconda3\\envs\\ds_practicum_env\\lib\\site-packages (from jupyter<2.0.0,>=1.0.0->skimpy) (5.4.0)\n",
      "Requirement already satisfied: jupyter-console in d:\\anaconda3\\envs\\ds_practicum_env\\lib\\site-packages (from jupyter<2.0.0,>=1.0.0->skimpy) (6.4.4)\n",
      "Requirement already satisfied: nbconvert in d:\\anaconda3\\envs\\ds_practicum_env\\lib\\site-packages (from jupyter<2.0.0,>=1.0.0->skimpy) (7.2.5)\n",
      "Requirement already satisfied: ipywidgets in d:\\anaconda3\\envs\\ds_practicum_env\\lib\\site-packages (from jupyter<2.0.0,>=1.0.0->skimpy) (8.0.2)\n",
      "Requirement already satisfied: notebook in d:\\anaconda3\\envs\\ds_practicum_env\\lib\\site-packages (from jupyter<2.0.0,>=1.0.0->skimpy) (6.5.2)\n",
      "Requirement already satisfied: python-dateutil>=2.8.1 in d:\\anaconda3\\envs\\ds_practicum_env\\lib\\site-packages (from pandas<2.0.0,>=1.3.2->skimpy) (2.8.2)\n",
      "Requirement already satisfied: pytz>=2020.1 in d:\\anaconda3\\envs\\ds_practicum_env\\lib\\site-packages (from pandas<2.0.0,>=1.3.2->skimpy) (2022.6)\n",
      "Requirement already satisfied: commonmark<0.10.0,>=0.9.0 in d:\\anaconda3\\envs\\ds_practicum_env\\lib\\site-packages (from rich<13.0,>=10.9->skimpy) (0.9.1)\n",
      "Requirement already satisfied: stack-data in d:\\anaconda3\\envs\\ds_practicum_env\\lib\\site-packages (from ipython>=7.23.1->ipykernel<7.0.0,>=6.7.0->skimpy) (0.6.1)\n",
      "Requirement already satisfied: decorator in d:\\anaconda3\\envs\\ds_practicum_env\\lib\\site-packages (from ipython>=7.23.1->ipykernel<7.0.0,>=6.7.0->skimpy) (5.1.1)\n",
      "Requirement already satisfied: backcall in d:\\anaconda3\\envs\\ds_practicum_env\\lib\\site-packages (from ipython>=7.23.1->ipykernel<7.0.0,>=6.7.0->skimpy) (0.2.0)\n",
      "Requirement already satisfied: jedi>=0.16 in d:\\anaconda3\\envs\\ds_practicum_env\\lib\\site-packages (from ipython>=7.23.1->ipykernel<7.0.0,>=6.7.0->skimpy) (0.18.2)\n",
      "Requirement already satisfied: prompt-toolkit<3.1.0,>3.0.1 in d:\\anaconda3\\envs\\ds_practicum_env\\lib\\site-packages (from ipython>=7.23.1->ipykernel<7.0.0,>=6.7.0->skimpy) (3.0.33)\n",
      "Requirement already satisfied: pickleshare in d:\\anaconda3\\envs\\ds_practicum_env\\lib\\site-packages (from ipython>=7.23.1->ipykernel<7.0.0,>=6.7.0->skimpy) (0.7.5)\n",
      "Requirement already satisfied: entrypoints in d:\\anaconda3\\envs\\ds_practicum_env\\lib\\site-packages (from jupyter-client>=6.1.12->ipykernel<7.0.0,>=6.7.0->skimpy) (0.4)\n",
      "Requirement already satisfied: jupyter-core>=4.9.2 in d:\\anaconda3\\envs\\ds_practicum_env\\lib\\site-packages (from jupyter-client>=6.1.12->ipykernel<7.0.0,>=6.7.0->skimpy) (5.0.0)\n",
      "Requirement already satisfied: six>=1.5 in d:\\anaconda3\\envs\\ds_practicum_env\\lib\\site-packages (from python-dateutil>=2.8.1->pandas<2.0.0,>=1.3.2->skimpy) (1.16.0)\n",
      "Requirement already satisfied: widgetsnbextension~=4.0 in d:\\anaconda3\\envs\\ds_practicum_env\\lib\\site-packages (from ipywidgets->jupyter<2.0.0,>=1.0.0->skimpy) (4.0.3)\n",
      "Requirement already satisfied: jupyterlab-widgets~=3.0 in d:\\anaconda3\\envs\\ds_practicum_env\\lib\\site-packages (from ipywidgets->jupyter<2.0.0,>=1.0.0->skimpy) (3.0.3)\n",
      "Requirement already satisfied: jinja2>=3.0 in d:\\anaconda3\\envs\\ds_practicum_env\\lib\\site-packages (from nbconvert->jupyter<2.0.0,>=1.0.0->skimpy) (3.1.2)\n",
      "Requirement already satisfied: beautifulsoup4 in d:\\anaconda3\\envs\\ds_practicum_env\\lib\\site-packages (from nbconvert->jupyter<2.0.0,>=1.0.0->skimpy) (4.9.3)\n",
      "Requirement already satisfied: pandocfilters>=1.4.1 in d:\\anaconda3\\envs\\ds_practicum_env\\lib\\site-packages (from nbconvert->jupyter<2.0.0,>=1.0.0->skimpy) (1.5.0)\n",
      "Requirement already satisfied: jupyterlab-pygments in d:\\anaconda3\\envs\\ds_practicum_env\\lib\\site-packages (from nbconvert->jupyter<2.0.0,>=1.0.0->skimpy) (0.2.2)\n",
      "Requirement already satisfied: tinycss2 in d:\\anaconda3\\envs\\ds_practicum_env\\lib\\site-packages (from nbconvert->jupyter<2.0.0,>=1.0.0->skimpy) (1.2.1)\n",
      "Requirement already satisfied: bleach in d:\\anaconda3\\envs\\ds_practicum_env\\lib\\site-packages (from nbconvert->jupyter<2.0.0,>=1.0.0->skimpy) (5.0.1)\n",
      "Requirement already satisfied: importlib-metadata>=3.6 in d:\\anaconda3\\envs\\ds_practicum_env\\lib\\site-packages (from nbconvert->jupyter<2.0.0,>=1.0.0->skimpy) (5.1.0)\n",
      "Requirement already satisfied: markupsafe>=2.0 in d:\\anaconda3\\envs\\ds_practicum_env\\lib\\site-packages (from nbconvert->jupyter<2.0.0,>=1.0.0->skimpy) (2.1.1)\n",
      "Requirement already satisfied: defusedxml in d:\\anaconda3\\envs\\ds_practicum_env\\lib\\site-packages (from nbconvert->jupyter<2.0.0,>=1.0.0->skimpy) (0.7.1)\n",
      "Requirement already satisfied: mistune<3,>=2.0.3 in d:\\anaconda3\\envs\\ds_practicum_env\\lib\\site-packages (from nbconvert->jupyter<2.0.0,>=1.0.0->skimpy) (2.0.4)\n",
      "Requirement already satisfied: nbclient>=0.5.0 in d:\\anaconda3\\envs\\ds_practicum_env\\lib\\site-packages (from nbconvert->jupyter<2.0.0,>=1.0.0->skimpy) (0.7.0)\n",
      "Requirement already satisfied: nbformat>=5.1 in d:\\anaconda3\\envs\\ds_practicum_env\\lib\\site-packages (from nbconvert->jupyter<2.0.0,>=1.0.0->skimpy) (5.7.0)\n",
      "Requirement already satisfied: ipython-genutils in d:\\anaconda3\\envs\\ds_practicum_env\\lib\\site-packages (from notebook->jupyter<2.0.0,>=1.0.0->skimpy) (0.2.0)\n",
      "Requirement already satisfied: argon2-cffi in d:\\anaconda3\\envs\\ds_practicum_env\\lib\\site-packages (from notebook->jupyter<2.0.0,>=1.0.0->skimpy) (21.3.0)\n",
      "Requirement already satisfied: Send2Trash>=1.8.0 in d:\\anaconda3\\envs\\ds_practicum_env\\lib\\site-packages (from notebook->jupyter<2.0.0,>=1.0.0->skimpy) (1.8.0)\n",
      "Requirement already satisfied: prometheus-client in d:\\anaconda3\\envs\\ds_practicum_env\\lib\\site-packages (from notebook->jupyter<2.0.0,>=1.0.0->skimpy) (0.15.0)\n",
      "Requirement already satisfied: nbclassic>=0.4.7 in d:\\anaconda3\\envs\\ds_practicum_env\\lib\\site-packages (from notebook->jupyter<2.0.0,>=1.0.0->skimpy) (0.4.8)\n",
      "Requirement already satisfied: terminado>=0.8.3 in d:\\anaconda3\\envs\\ds_practicum_env\\lib\\site-packages (from notebook->jupyter<2.0.0,>=1.0.0->skimpy) (0.17.0)\n",
      "Requirement already satisfied: pyparsing!=3.0.5,>=2.0.2 in d:\\anaconda3\\envs\\ds_practicum_env\\lib\\site-packages (from packaging->ipykernel<7.0.0,>=6.7.0->skimpy) (3.0.9)\n",
      "Requirement already satisfied: qtpy>=2.0.1 in d:\\anaconda3\\envs\\ds_practicum_env\\lib\\site-packages (from qtconsole->jupyter<2.0.0,>=1.0.0->skimpy) (2.3.0)\n",
      "Requirement already satisfied: zipp>=0.5 in d:\\anaconda3\\envs\\ds_practicum_env\\lib\\site-packages (from importlib-metadata>=3.6->nbconvert->jupyter<2.0.0,>=1.0.0->skimpy) (3.11.0)\n",
      "Requirement already satisfied: parso<0.9.0,>=0.8.0 in d:\\anaconda3\\envs\\ds_practicum_env\\lib\\site-packages (from jedi>=0.16->ipython>=7.23.1->ipykernel<7.0.0,>=6.7.0->skimpy) (0.8.3)\n",
      "Requirement already satisfied: pywin32>=1.0 in d:\\anaconda3\\envs\\ds_practicum_env\\lib\\site-packages (from jupyter-core>=4.9.2->jupyter-client>=6.1.12->ipykernel<7.0.0,>=6.7.0->skimpy) (304)\n",
      "Requirement already satisfied: platformdirs in d:\\anaconda3\\envs\\ds_practicum_env\\lib\\site-packages (from jupyter-core>=4.9.2->jupyter-client>=6.1.12->ipykernel<7.0.0,>=6.7.0->skimpy) (2.5.2)\n",
      "Requirement already satisfied: jupyter-server>=1.8 in d:\\anaconda3\\envs\\ds_practicum_env\\lib\\site-packages (from nbclassic>=0.4.7->notebook->jupyter<2.0.0,>=1.0.0->skimpy) (1.23.3)\n",
      "Requirement already satisfied: notebook-shim>=0.1.0 in d:\\anaconda3\\envs\\ds_practicum_env\\lib\\site-packages (from nbclassic>=0.4.7->notebook->jupyter<2.0.0,>=1.0.0->skimpy) (0.2.2)\n",
      "Requirement already satisfied: jsonschema>=2.6 in d:\\anaconda3\\envs\\ds_practicum_env\\lib\\site-packages (from nbformat>=5.1->nbconvert->jupyter<2.0.0,>=1.0.0->skimpy) (4.17.1)\n",
      "Requirement already satisfied: fastjsonschema in d:\\anaconda3\\envs\\ds_practicum_env\\lib\\site-packages (from nbformat>=5.1->nbconvert->jupyter<2.0.0,>=1.0.0->skimpy) (2.16.2)\n",
      "Requirement already satisfied: wcwidth in d:\\anaconda3\\envs\\ds_practicum_env\\lib\\site-packages (from prompt-toolkit<3.1.0,>3.0.1->ipython>=7.23.1->ipykernel<7.0.0,>=6.7.0->skimpy) (0.2.5)\n",
      "Requirement already satisfied: pywinpty>=1.1.0 in d:\\anaconda3\\envs\\ds_practicum_env\\lib\\site-packages (from terminado>=0.8.3->notebook->jupyter<2.0.0,>=1.0.0->skimpy) (2.0.9)\n",
      "Requirement already satisfied: argon2-cffi-bindings in d:\\anaconda3\\envs\\ds_practicum_env\\lib\\site-packages (from argon2-cffi->notebook->jupyter<2.0.0,>=1.0.0->skimpy) (21.2.0)\n",
      "Requirement already satisfied: soupsieve>1.2 in d:\\anaconda3\\envs\\ds_practicum_env\\lib\\site-packages (from beautifulsoup4->nbconvert->jupyter<2.0.0,>=1.0.0->skimpy) (2.3.2.post1)\n",
      "Requirement already satisfied: webencodings in d:\\anaconda3\\envs\\ds_practicum_env\\lib\\site-packages (from bleach->nbconvert->jupyter<2.0.0,>=1.0.0->skimpy) (0.5.1)\n",
      "Requirement already satisfied: pure-eval in d:\\anaconda3\\envs\\ds_practicum_env\\lib\\site-packages (from stack-data->ipython>=7.23.1->ipykernel<7.0.0,>=6.7.0->skimpy) (0.2.2)\n",
      "Requirement already satisfied: executing>=1.2.0 in d:\\anaconda3\\envs\\ds_practicum_env\\lib\\site-packages (from stack-data->ipython>=7.23.1->ipykernel<7.0.0,>=6.7.0->skimpy) (1.2.0)\n",
      "Requirement already satisfied: asttokens>=2.1.0 in d:\\anaconda3\\envs\\ds_practicum_env\\lib\\site-packages (from stack-data->ipython>=7.23.1->ipykernel<7.0.0,>=6.7.0->skimpy) (2.1.0)\n",
      "Requirement already satisfied: attrs>=17.4.0 in d:\\anaconda3\\envs\\ds_practicum_env\\lib\\site-packages (from jsonschema>=2.6->nbformat>=5.1->nbconvert->jupyter<2.0.0,>=1.0.0->skimpy) (22.1.0)\n",
      "Requirement already satisfied: pyrsistent!=0.17.0,!=0.17.1,!=0.17.2,>=0.14.0 in d:\\anaconda3\\envs\\ds_practicum_env\\lib\\site-packages (from jsonschema>=2.6->nbformat>=5.1->nbconvert->jupyter<2.0.0,>=1.0.0->skimpy) (0.19.2)\n",
      "Requirement already satisfied: anyio<4,>=3.1.0 in d:\\anaconda3\\envs\\ds_practicum_env\\lib\\site-packages (from jupyter-server>=1.8->nbclassic>=0.4.7->notebook->jupyter<2.0.0,>=1.0.0->skimpy) (3.6.2)\n",
      "Requirement already satisfied: websocket-client in d:\\anaconda3\\envs\\ds_practicum_env\\lib\\site-packages (from jupyter-server>=1.8->nbclassic>=0.4.7->notebook->jupyter<2.0.0,>=1.0.0->skimpy) (1.4.2)\n",
      "Requirement already satisfied: cffi>=1.0.1 in d:\\anaconda3\\envs\\ds_practicum_env\\lib\\site-packages (from argon2-cffi-bindings->argon2-cffi->notebook->jupyter<2.0.0,>=1.0.0->skimpy) (1.15.1)\n",
      "Requirement already satisfied: sniffio>=1.1 in d:\\anaconda3\\envs\\ds_practicum_env\\lib\\site-packages (from anyio<4,>=3.1.0->jupyter-server>=1.8->nbclassic>=0.4.7->notebook->jupyter<2.0.0,>=1.0.0->skimpy) (1.3.0)\n",
      "Requirement already satisfied: idna>=2.8 in d:\\anaconda3\\envs\\ds_practicum_env\\lib\\site-packages (from anyio<4,>=3.1.0->jupyter-server>=1.8->nbclassic>=0.4.7->notebook->jupyter<2.0.0,>=1.0.0->skimpy) (3.4)\n",
      "Requirement already satisfied: pycparser in d:\\anaconda3\\envs\\ds_practicum_env\\lib\\site-packages (from cffi>=1.0.1->argon2-cffi-bindings->argon2-cffi->notebook->jupyter<2.0.0,>=1.0.0->skimpy) (2.21)\n",
      "Note: you may need to restart the kernel to use updated packages.\n"
     ]
    },
    {
     "name": "stdout",
     "output_type": "stream",
     "text": [
      "Requirement already satisfied: lightgbm in d:\\anaconda3\\envs\\ds_practicum_env\\lib\\site-packages (3.3.5)\n",
      "Requirement already satisfied: numpy in d:\\anaconda3\\envs\\ds_practicum_env\\lib\\site-packages (from lightgbm) (1.24.3)\n",
      "Requirement already satisfied: wheel in d:\\anaconda3\\envs\\ds_practicum_env\\lib\\site-packages (from lightgbm) (0.38.4)\n",
      "Requirement already satisfied: scipy in d:\\anaconda3\\envs\\ds_practicum_env\\lib\\site-packages (from lightgbm) (1.8.0)\n",
      "Requirement already satisfied: scikit-learn!=0.22.0 in d:\\anaconda3\\envs\\ds_practicum_env\\lib\\site-packages (from lightgbm) (1.2.2)\n",
      "Requirement already satisfied: joblib>=1.1.1 in d:\\anaconda3\\envs\\ds_practicum_env\\lib\\site-packages (from scikit-learn!=0.22.0->lightgbm) (1.2.0)\n",
      "Requirement already satisfied: threadpoolctl>=2.0.0 in d:\\anaconda3\\envs\\ds_practicum_env\\lib\\site-packages (from scikit-learn!=0.22.0->lightgbm) (3.1.0)\n",
      "Note: you may need to restart the kernel to use updated packages.\n",
      "Requirement already satisfied: category_encoders in d:\\anaconda3\\envs\\ds_practicum_env\\lib\\site-packages (2.6.1)\n",
      "Requirement already satisfied: patsy>=0.5.1 in d:\\anaconda3\\envs\\ds_practicum_env\\lib\\site-packages (from category_encoders) (0.5.3)\n",
      "Requirement already satisfied: numpy>=1.14.0 in d:\\anaconda3\\envs\\ds_practicum_env\\lib\\site-packages (from category_encoders) (1.24.3)\n",
      "Requirement already satisfied: scikit-learn>=0.20.0 in d:\\anaconda3\\envs\\ds_practicum_env\\lib\\site-packages (from category_encoders) (1.2.2)\n",
      "Requirement already satisfied: scipy>=1.0.0 in d:\\anaconda3\\envs\\ds_practicum_env\\lib\\site-packages (from category_encoders) (1.8.0)\n",
      "Requirement already satisfied: pandas>=1.0.5 in d:\\anaconda3\\envs\\ds_practicum_env\\lib\\site-packages (from category_encoders) (1.5.3)\n",
      "Requirement already satisfied: statsmodels>=0.9.0 in d:\\anaconda3\\envs\\ds_practicum_env\\lib\\site-packages (from category_encoders) (0.13.2)\n",
      "Requirement already satisfied: pytz>=2020.1 in d:\\anaconda3\\envs\\ds_practicum_env\\lib\\site-packages (from pandas>=1.0.5->category_encoders) (2022.6)\n",
      "Requirement already satisfied: python-dateutil>=2.8.1 in d:\\anaconda3\\envs\\ds_practicum_env\\lib\\site-packages (from pandas>=1.0.5->category_encoders) (2.8.2)\n",
      "Requirement already satisfied: six in d:\\anaconda3\\envs\\ds_practicum_env\\lib\\site-packages (from patsy>=0.5.1->category_encoders) (1.16.0)\n",
      "Requirement already satisfied: joblib>=1.1.1 in d:\\anaconda3\\envs\\ds_practicum_env\\lib\\site-packages (from scikit-learn>=0.20.0->category_encoders) (1.2.0)\n",
      "Requirement already satisfied: threadpoolctl>=2.0.0 in d:\\anaconda3\\envs\\ds_practicum_env\\lib\\site-packages (from scikit-learn>=0.20.0->category_encoders) (3.1.0)\n",
      "Requirement already satisfied: packaging>=21.3 in d:\\anaconda3\\envs\\ds_practicum_env\\lib\\site-packages (from statsmodels>=0.9.0->category_encoders) (21.3)\n",
      "Requirement already satisfied: pyparsing!=3.0.5,>=2.0.2 in d:\\anaconda3\\envs\\ds_practicum_env\\lib\\site-packages (from packaging>=21.3->statsmodels>=0.9.0->category_encoders) (3.0.9)\n",
      "Note: you may need to restart the kernel to use updated packages.\n"
     ]
    }
   ],
   "source": [
    "import pandas as pd\n",
    "from sklearn.model_selection import train_test_split, GridSearchCV, RandomizedSearchCV\n",
    "from sklearn.preprocessing import StandardScaler, OneHotEncoder\n",
    "from sklearn.metrics import mean_squared_error, make_scorer\n",
    "from sklearn.ensemble import RandomForestRegressor\n",
    "from sklearn.linear_model import LinearRegression, SGDRegressor\n",
    "from catboost import CatBoostRegressor\n",
    "\n",
    "import timeit\n",
    "import numpy as np\n",
    "import matplotlib.pyplot as plt\n",
    "import warnings\n",
    "np.warnings = warnings\n",
    "warnings.filterwarnings('ignore')\n",
    "\n",
    "%pip install missingno\n",
    "import missingno as msno\n",
    "\n",
    "%pip install skimpy\n",
    "from skimpy import skim, clean_columns\n",
    "\n",
    "%pip install lightgbm\n",
    "import lightgbm as lgb\n",
    "from lightgbm import LGBMRegressor\n",
    "\n",
    "%pip install category_encoders\n",
    "import category_encoders as ce"
   ]
  },
  {
   "cell_type": "code",
   "execution_count": 2,
   "metadata": {},
   "outputs": [],
   "source": [
    "# Импортируем датасет\n",
    "try:\n",
    "    df = pd.read_csv('autos.csv')\n",
    "except:\n",
    "    df = pd.read_csv('/datasets/autos.csv')"
   ]
  },
  {
   "cell_type": "code",
   "execution_count": 3,
   "metadata": {},
   "outputs": [
    {
     "name": "stdout",
     "output_type": "stream",
     "text": [
      "<class 'pandas.core.frame.DataFrame'>\n",
      "RangeIndex: 354369 entries, 0 to 354368\n",
      "Data columns (total 16 columns):\n",
      " #   Column             Non-Null Count   Dtype \n",
      "---  ------             --------------   ----- \n",
      " 0   DateCrawled        354369 non-null  object\n",
      " 1   Price              354369 non-null  int64 \n",
      " 2   VehicleType        316879 non-null  object\n",
      " 3   RegistrationYear   354369 non-null  int64 \n",
      " 4   Gearbox            334536 non-null  object\n",
      " 5   Power              354369 non-null  int64 \n",
      " 6   Model              334664 non-null  object\n",
      " 7   Kilometer          354369 non-null  int64 \n",
      " 8   RegistrationMonth  354369 non-null  int64 \n",
      " 9   FuelType           321474 non-null  object\n",
      " 10  Brand              354369 non-null  object\n",
      " 11  Repaired           283215 non-null  object\n",
      " 12  DateCreated        354369 non-null  object\n",
      " 13  NumberOfPictures   354369 non-null  int64 \n",
      " 14  PostalCode         354369 non-null  int64 \n",
      " 15  LastSeen           354369 non-null  object\n",
      "dtypes: int64(7), object(9)\n",
      "memory usage: 43.3+ MB\n"
     ]
    }
   ],
   "source": [
    "# Основная информация\n",
    "df.info()"
   ]
  },
  {
   "cell_type": "code",
   "execution_count": 4,
   "metadata": {},
   "outputs": [
    {
     "data": {
      "text/html": [
       "<div>\n",
       "<style scoped>\n",
       "    .dataframe tbody tr th:only-of-type {\n",
       "        vertical-align: middle;\n",
       "    }\n",
       "\n",
       "    .dataframe tbody tr th {\n",
       "        vertical-align: top;\n",
       "    }\n",
       "\n",
       "    .dataframe thead th {\n",
       "        text-align: right;\n",
       "    }\n",
       "</style>\n",
       "<table border=\"1\" class=\"dataframe\">\n",
       "  <thead>\n",
       "    <tr style=\"text-align: right;\">\n",
       "      <th></th>\n",
       "      <th>DateCrawled</th>\n",
       "      <th>Price</th>\n",
       "      <th>VehicleType</th>\n",
       "      <th>RegistrationYear</th>\n",
       "      <th>Gearbox</th>\n",
       "      <th>Power</th>\n",
       "      <th>Model</th>\n",
       "      <th>Kilometer</th>\n",
       "      <th>RegistrationMonth</th>\n",
       "      <th>FuelType</th>\n",
       "      <th>Brand</th>\n",
       "      <th>Repaired</th>\n",
       "      <th>DateCreated</th>\n",
       "      <th>NumberOfPictures</th>\n",
       "      <th>PostalCode</th>\n",
       "      <th>LastSeen</th>\n",
       "    </tr>\n",
       "  </thead>\n",
       "  <tbody>\n",
       "    <tr>\n",
       "      <th>0</th>\n",
       "      <td>2016-03-24 11:52:17</td>\n",
       "      <td>480</td>\n",
       "      <td>NaN</td>\n",
       "      <td>1993</td>\n",
       "      <td>manual</td>\n",
       "      <td>0</td>\n",
       "      <td>golf</td>\n",
       "      <td>150000</td>\n",
       "      <td>0</td>\n",
       "      <td>petrol</td>\n",
       "      <td>volkswagen</td>\n",
       "      <td>NaN</td>\n",
       "      <td>2016-03-24 00:00:00</td>\n",
       "      <td>0</td>\n",
       "      <td>70435</td>\n",
       "      <td>2016-04-07 03:16:57</td>\n",
       "    </tr>\n",
       "    <tr>\n",
       "      <th>1</th>\n",
       "      <td>2016-03-24 10:58:45</td>\n",
       "      <td>18300</td>\n",
       "      <td>coupe</td>\n",
       "      <td>2011</td>\n",
       "      <td>manual</td>\n",
       "      <td>190</td>\n",
       "      <td>NaN</td>\n",
       "      <td>125000</td>\n",
       "      <td>5</td>\n",
       "      <td>gasoline</td>\n",
       "      <td>audi</td>\n",
       "      <td>yes</td>\n",
       "      <td>2016-03-24 00:00:00</td>\n",
       "      <td>0</td>\n",
       "      <td>66954</td>\n",
       "      <td>2016-04-07 01:46:50</td>\n",
       "    </tr>\n",
       "    <tr>\n",
       "      <th>2</th>\n",
       "      <td>2016-03-14 12:52:21</td>\n",
       "      <td>9800</td>\n",
       "      <td>suv</td>\n",
       "      <td>2004</td>\n",
       "      <td>auto</td>\n",
       "      <td>163</td>\n",
       "      <td>grand</td>\n",
       "      <td>125000</td>\n",
       "      <td>8</td>\n",
       "      <td>gasoline</td>\n",
       "      <td>jeep</td>\n",
       "      <td>NaN</td>\n",
       "      <td>2016-03-14 00:00:00</td>\n",
       "      <td>0</td>\n",
       "      <td>90480</td>\n",
       "      <td>2016-04-05 12:47:46</td>\n",
       "    </tr>\n",
       "    <tr>\n",
       "      <th>3</th>\n",
       "      <td>2016-03-17 16:54:04</td>\n",
       "      <td>1500</td>\n",
       "      <td>small</td>\n",
       "      <td>2001</td>\n",
       "      <td>manual</td>\n",
       "      <td>75</td>\n",
       "      <td>golf</td>\n",
       "      <td>150000</td>\n",
       "      <td>6</td>\n",
       "      <td>petrol</td>\n",
       "      <td>volkswagen</td>\n",
       "      <td>no</td>\n",
       "      <td>2016-03-17 00:00:00</td>\n",
       "      <td>0</td>\n",
       "      <td>91074</td>\n",
       "      <td>2016-03-17 17:40:17</td>\n",
       "    </tr>\n",
       "    <tr>\n",
       "      <th>4</th>\n",
       "      <td>2016-03-31 17:25:20</td>\n",
       "      <td>3600</td>\n",
       "      <td>small</td>\n",
       "      <td>2008</td>\n",
       "      <td>manual</td>\n",
       "      <td>69</td>\n",
       "      <td>fabia</td>\n",
       "      <td>90000</td>\n",
       "      <td>7</td>\n",
       "      <td>gasoline</td>\n",
       "      <td>skoda</td>\n",
       "      <td>no</td>\n",
       "      <td>2016-03-31 00:00:00</td>\n",
       "      <td>0</td>\n",
       "      <td>60437</td>\n",
       "      <td>2016-04-06 10:17:21</td>\n",
       "    </tr>\n",
       "  </tbody>\n",
       "</table>\n",
       "</div>"
      ],
      "text/plain": [
       "           DateCrawled  Price VehicleType  RegistrationYear Gearbox  Power  \\\n",
       "0  2016-03-24 11:52:17    480         NaN              1993  manual      0   \n",
       "1  2016-03-24 10:58:45  18300       coupe              2011  manual    190   \n",
       "2  2016-03-14 12:52:21   9800         suv              2004    auto    163   \n",
       "3  2016-03-17 16:54:04   1500       small              2001  manual     75   \n",
       "4  2016-03-31 17:25:20   3600       small              2008  manual     69   \n",
       "\n",
       "   Model  Kilometer  RegistrationMonth  FuelType       Brand Repaired  \\\n",
       "0   golf     150000                  0    petrol  volkswagen      NaN   \n",
       "1    NaN     125000                  5  gasoline        audi      yes   \n",
       "2  grand     125000                  8  gasoline        jeep      NaN   \n",
       "3   golf     150000                  6    petrol  volkswagen       no   \n",
       "4  fabia      90000                  7  gasoline       skoda       no   \n",
       "\n",
       "           DateCreated  NumberOfPictures  PostalCode             LastSeen  \n",
       "0  2016-03-24 00:00:00                 0       70435  2016-04-07 03:16:57  \n",
       "1  2016-03-24 00:00:00                 0       66954  2016-04-07 01:46:50  \n",
       "2  2016-03-14 00:00:00                 0       90480  2016-04-05 12:47:46  \n",
       "3  2016-03-17 00:00:00                 0       91074  2016-03-17 17:40:17  \n",
       "4  2016-03-31 00:00:00                 0       60437  2016-04-06 10:17:21  "
      ]
     },
     "execution_count": 4,
     "metadata": {},
     "output_type": "execute_result"
    }
   ],
   "source": [
    "# Первые 5 строк\n",
    "df.head()"
   ]
  },
  {
   "cell_type": "code",
   "execution_count": 5,
   "metadata": {},
   "outputs": [
    {
     "data": {
      "text/html": [
       "<pre style=\"white-space:pre;overflow-x:auto;line-height:normal;font-family:Menlo,'DejaVu Sans Mono',consolas,'Courier New',monospace\"><span style=\"color: #008080; text-decoration-color: #008080; font-weight: bold\">16</span> column names have been cleaned\n",
       "</pre>\n"
      ],
      "text/plain": [
       "\u001b[1;36m16\u001b[0m column names have been cleaned\n"
      ]
     },
     "metadata": {},
     "output_type": "display_data"
    },
    {
     "data": {
      "text/plain": [
       "Index(['date_crawled', 'price', 'vehicle_type', 'registration_year', 'gearbox',\n",
       "       'power', 'model', 'kilometer', 'registration_month', 'fuel_type',\n",
       "       'brand', 'repaired', 'date_created', 'number_of_pictures',\n",
       "       'postal_code', 'last_seen'],\n",
       "      dtype='object')"
      ]
     },
     "execution_count": 5,
     "metadata": {},
     "output_type": "execute_result"
    }
   ],
   "source": [
    "# Приводим названия столбцов к змеиному стилю\n",
    "df = clean_columns(df)\n",
    "df.columns"
   ]
  },
  {
   "cell_type": "code",
   "execution_count": 6,
   "metadata": {},
   "outputs": [
    {
     "data": {
      "image/png": "[encoded data removed]",
      "text/plain": [
       "<Figure size 2500x1000 with 2 Axes>"
      ]
     },
     "metadata": {},
     "output_type": "display_data"
    }
   ],
   "source": [
    "# Визуальное отоборажение пропусков\n",
    "msno.matrix(df);"
   ]
  },
  {
   "cell_type": "markdown",
   "metadata": {},
   "source": [
    "По предварительному анализу можно выделить:\n",
    "1) Пропуски:\n",
    "    - В столбце `vehicle_type` содержится 11% пропусков\n",
    "    - В столбце `model` содержится 6% пропусков\n",
    "    - В столбце `gearbox` содержится 6% пропусков\n",
    "    - В столбце `fuel_type` содержится 9% пропусков\n",
    "    - В столбце `repaired` содержится 20% пропусков\n",
    "2) Аномальные значения:\n",
    "    - В столбцах `price, power и registration_year` присуствуют аномальные значения, как аномальные низкие, так и аномально высокие\n",
    "    \n",
    "3) Неинформативные признаки:\n",
    "    - `postal_code` — почтовый индекс владельца анкеты (пользователя)\n",
    "    - `date_crawled` — дата скачивания анкеты из базы\n",
    "    - `date_created` — дата создания анкеты\n",
    "    - `last_seen` — дата последней активности пользователя\n",
    "    - `number_of_pictures` — количество фотографий автомобиля. Этот столбец принимает только одно значение - 0. Он не информативный, поэтому удалим его.\n",
    "    - `registration_month` — месяц регистрации автомобиля\n",
    "    \n",
    "    Информативные признаки:\n",
    "\n",
    "    - `vehicle_type` — тип автомобильного кузова\n",
    "    - `registration_year` — год регистрации автомобиля\n",
    "    - `gearbox` — тип коробки передач\n",
    "    - `power` — мощность (л. с.)\n",
    "    - `model` — модель автомобиля\n",
    "    - `kilometer` — пробег (км)\n",
    "    - `fuel_type` — тип топлива\n",
    "    - `brand` — марка автомобиля\n",
    "    - `repaired` — была машина в ремонте или нет\n",
    "\n",
    "\n",
    "\n",
    "\n",
    "Удалим неинформативные признаки."
   ]
  },
  {
   "cell_type": "code",
   "execution_count": 7,
   "metadata": {},
   "outputs": [],
   "source": [
    "# Удаляем признаки\n",
    "columns_to_drop = ['date_crawled', 'date_created', 'last_seen', 'postal_code', 'number_of_pictures', 'registration_month']\n",
    "df.drop(columns_to_drop, axis=1, inplace=True)"
   ]
  },
  {
   "cell_type": "markdown",
   "metadata": {},
   "source": [
    "### Обработка пропусков"
   ]
  },
  {
   "cell_type": "markdown",
   "metadata": {},
   "source": [
    "В столбце `vehicle_type` содержится 11% пропусков. Заполним их категорией other."
   ]
  },
  {
   "cell_type": "code",
   "execution_count": 8,
   "metadata": {},
   "outputs": [],
   "source": [
    "df['vehicle_type'].fillna('other', inplace=True)"
   ]
  },
  {
   "cell_type": "markdown",
   "metadata": {},
   "source": [
    "В столбце `model` содержится 6% пропусков. Заполним их other."
   ]
  },
  {
   "cell_type": "code",
   "execution_count": 9,
   "metadata": {},
   "outputs": [],
   "source": [
    "df['model'].fillna('other', inplace=True)"
   ]
  },
  {
   "cell_type": "markdown",
   "metadata": {},
   "source": [
    "В столбце `gearbox` содержится 6% пропусков. Заполним их other."
   ]
  },
  {
   "cell_type": "code",
   "execution_count": 10,
   "metadata": {},
   "outputs": [],
   "source": [
    "df['gearbox'].fillna('other', inplace=True)"
   ]
  },
  {
   "cell_type": "markdown",
   "metadata": {},
   "source": [
    "В столбце `fuel_type` 9% пропусков. Сделаем то же самое."
   ]
  },
  {
   "cell_type": "code",
   "execution_count": 11,
   "metadata": {},
   "outputs": [],
   "source": [
    "df['fuel_type'].fillna('other', inplace=True)"
   ]
  },
  {
   "cell_type": "markdown",
   "metadata": {},
   "source": [
    "В столбце `repaired` содержится 20% пропусков. 87% всех значений это `no`. Вероятнее пользователей не указал, была ли машина в ремонте, так как она не была в ремонте. Запонилним пропуски значениями `no`."
   ]
  },
  {
   "cell_type": "code",
   "execution_count": 12,
   "metadata": {},
   "outputs": [],
   "source": [
    "df['repaired'].fillna('no', inplace=True)"
   ]
  },
  {
   "cell_type": "markdown",
   "metadata": {},
   "source": [
    "### Обработка аномальных значений\n",
    "\n",
    "Обработаем аномальные значения в столбцах `price` и `power`. Ограничим распределение 5% и 95% квантилями для `price`. 15% и 95% для `power`. Тем самым удалив аномальные значения. "
   ]
  },
  {
   "cell_type": "code",
   "execution_count": 13,
   "metadata": {},
   "outputs": [],
   "source": [
    "df.drop(df[(df['price'] < df['price'].quantile(.05)) | (df['price'] > df['price'].quantile(.95))].index, inplace=True)"
   ]
  },
  {
   "cell_type": "code",
   "execution_count": 14,
   "metadata": {},
   "outputs": [],
   "source": [
    "df.drop(df[(df['power'] < df['power'].quantile(.15)) | (df['power'] > df['power'].quantile(.95))].index, inplace=True)"
   ]
  },
  {
   "cell_type": "markdown",
   "metadata": {},
   "source": [
    "В `registration_year` присуствуют аномально низкие и аномально высокие значения. Удалим их."
   ]
  },
  {
   "cell_type": "code",
   "execution_count": 15,
   "metadata": {},
   "outputs": [],
   "source": [
    "# Удаляем значения ниже 1910 и выше 2019\n",
    "df.drop((df[(df['registration_year'] < 1910) | (df['registration_year'] >= 2016)]).index, inplace=True)"
   ]
  },
  {
   "cell_type": "code",
   "execution_count": 16,
   "metadata": {},
   "outputs": [
    {
     "data": {
      "text/plain": [
       "array([1910, 1937, 1941, 1942, 1943, 1948, 1949, 1950, 1951, 1953, 1954,\n",
       "       1955, 1956, 1957, 1958, 1959, 1960, 1961, 1962, 1963, 1964, 1965,\n",
       "       1966, 1967, 1968, 1969, 1970, 1971, 1972, 1973, 1974, 1975, 1976,\n",
       "       1977, 1978, 1979, 1980, 1981, 1982, 1983, 1984, 1985, 1986, 1987,\n",
       "       1988, 1989, 1990, 1991, 1992, 1993, 1994, 1995, 1996, 1997, 1998,\n",
       "       1999, 2000, 2001, 2002, 2003, 2004, 2005, 2006, 2007, 2008, 2009,\n",
       "       2010, 2011, 2012, 2013, 2014, 2015], dtype=int64)"
      ]
     },
     "execution_count": 16,
     "metadata": {},
     "output_type": "execute_result"
    }
   ],
   "source": [
    "# Выводим уникальные значения столбца registration_year\n",
    "df['registration_year'].sort_values().unique()"
   ]
  },
  {
   "cell_type": "markdown",
   "metadata": {},
   "source": [
    "### Обработка явных дубликатов\n",
    "\n",
    "Проверим датасет на наличие явных дубликатов."
   ]
  },
  {
   "cell_type": "code",
   "execution_count": 17,
   "metadata": {},
   "outputs": [
    {
     "data": {
      "text/plain": [
       "39279"
      ]
     },
     "execution_count": 17,
     "metadata": {},
     "output_type": "execute_result"
    }
   ],
   "source": [
    "df.duplicated().sum()"
   ]
  },
  {
   "cell_type": "markdown",
   "metadata": {},
   "source": [
    "Удалим явные дубликаты."
   ]
  },
  {
   "cell_type": "code",
   "execution_count": 18,
   "metadata": {},
   "outputs": [],
   "source": [
    "df.drop_duplicates(inplace=True)"
   ]
  },
  {
   "cell_type": "markdown",
   "metadata": {},
   "source": [
    "### Подготовка датасета для обучения моделей"
   ]
  },
  {
   "cell_type": "markdown",
   "metadata": {},
   "source": [
    "Создадим 2 датасета:\n",
    "1) Первый датасет будет использоваться с моделью линейной регресси. Для этой модели требуется закодировать категориальные признаки. Закодируем их методами OneHotEncoding и TargetEncoding.\n",
    "2) Второй датасет будет использоваться с CatBoost и LightGBM. Для этих моделей кодирование категориальных признаков не требуется. Достаточно перевести категориальные признаки в формат `category`."
   ]
  },
  {
   "cell_type": "code",
   "execution_count": 19,
   "metadata": {},
   "outputs": [],
   "source": [
    "# Датасет для линейной регрессии\n",
    "df_encoded = df.copy()\n",
    "\n",
    "# Датасет для моделей catboost и lightGBM\n",
    "df_boost = df.copy()"
   ]
  },
  {
   "cell_type": "code",
   "execution_count": 20,
   "metadata": {},
   "outputs": [],
   "source": [
    "# Сохраним значение random_state в отдельную переменную\n",
    "state = 12345"
   ]
  },
  {
   "cell_type": "markdown",
   "metadata": {},
   "source": [
    "#### Подготовка датасета для модели линейной регрессии"
   ]
  },
  {
   "cell_type": "markdown",
   "metadata": {},
   "source": [
    "Разделим датасет на обучающую и тестовую выборку в соотношении 80% обучающая и 20% тестовая."
   ]
  },
  {
   "cell_type": "code",
   "execution_count": 21,
   "metadata": {},
   "outputs": [],
   "source": [
    "# Разделим датасет на обучающую и тестовую выборку\n",
    "train_encoded, test_encoded = train_test_split(df_encoded, test_size=0.2, random_state=state)"
   ]
  },
  {
   "cell_type": "code",
   "execution_count": 22,
   "metadata": {},
   "outputs": [
    {
     "name": "stdout",
     "output_type": "stream",
     "text": [
      "Размер обучающей выборки: (165379, 10)\n",
      "Размер тестовой выборки: (41345, 10)\n"
     ]
    }
   ],
   "source": [
    "print('Размер обучающей выборки:', train_encoded.shape)\n",
    "print('Размер тестовой выборки:', test_encoded.shape)"
   ]
  },
  {
   "cell_type": "code",
   "execution_count": 23,
   "metadata": {},
   "outputs": [],
   "source": [
    "# Обучающая выборка\n",
    "train_features_encoded = train_encoded.drop(['price'], axis=1)\n",
    "train_target_encoded = train_encoded['price']\n",
    "\n",
    "# Тествая выборка\n",
    "test_features_encoded = test_encoded.drop(['price'], axis=1)\n",
    "test_target_encoded = test_encoded['price']"
   ]
  },
  {
   "cell_type": "code",
   "execution_count": 24,
   "metadata": {},
   "outputs": [],
   "source": [
    "# Определяем список столбцов, которые требуется закодировать\n",
    "columns_to_encode = ['vehicle_type', 'gearbox', 'fuel_type', 'repaired']\n",
    "\n",
    "# Создаем экземпляр OneHotEncoder из библиотеки category_encoders\n",
    "encoder = ce.OneHotEncoder(cols=columns_to_encode, use_cat_names=True)\n",
    "\n",
    "# Применяем кодирование One-Hot на обучающем наборе данных\n",
    "train_features_encoded = encoder.fit_transform(train_features_encoded)\n",
    "\n",
    "# Применяем кодирование One-Hot на тестовом наборе данных с использованием уже обученного кодировщика\n",
    "test_features_encoded = encoder.transform(test_features_encoded)"
   ]
  },
  {
   "cell_type": "code",
   "execution_count": 25,
   "metadata": {},
   "outputs": [],
   "source": [
    "# Удаляем первый признак из каждой категории, что бы избежать мультиколлинерности\n",
    "columns_to_delete = ['vehicle_type_bus', 'gearbox_auto', 'fuel_type_cng', 'repaired_no']\n",
    "\n",
    "# Удаляем столбцы из обучающего набора данных\n",
    "train_features_encoded.drop(columns=columns_to_delete, axis=1, inplace=True)\n",
    "\n",
    "# Удаляем столбцы из тестового набора данных\n",
    "test_features_encoded.drop(columns=columns_to_delete, axis=1, inplace=True)"
   ]
  },
  {
   "cell_type": "markdown",
   "metadata": {},
   "source": [
    "Что бы избежать 'проклятья размерности' воспользуеся Target Encoding для столбцов `model` и `brand`."
   ]
  },
  {
   "cell_type": "code",
   "execution_count": 26,
   "metadata": {},
   "outputs": [],
   "source": [
    "# Создаем экземпляр среднего кодирования из библиотеки category_encoders\n",
    "encoder = ce.TargetEncoder(cols=['model', 'brand'])\n",
    "\n",
    "# Применяем кодирование целевого значения на столбцах 'model' и 'brand' обучающего набора данных\n",
    "encoder_train = encoder.fit_transform(train_features_encoded[['model', 'brand']],\n",
    "                                      pd.DataFrame(train_target_encoded)['price'])\n",
    "\n",
    "# Применяем кодирование целевого значения на столбцах 'model' и 'brand' тестового набора данных\n",
    "encoder_test = encoder.transform(test_features_encoded[['model', 'brand']],\n",
    "                                 pd.DataFrame(test_target_encoded)['price'])\n",
    "\n",
    "# Удаляем столбцы 'model' и 'brand' из обучающего набора данных\n",
    "train_features_encoded.drop(['model', 'brand'], axis=1, inplace=True)\n",
    "\n",
    "# Удаляем столбцы 'model' и 'brand' из тестового набора данных\n",
    "test_features_encoded.drop(['model', 'brand'], axis=1, inplace=True)\n",
    "\n",
    "# Объединяем закодированные столбцы с обучающим набором данных\n",
    "train_features_encoded = train_features_encoded.join(encoder_train)\n",
    "\n",
    "# Объединяем закодированные столбцы с тестовым набором данных\n",
    "test_features_encoded = test_features_encoded.join(encoder_test)"
   ]
  },
  {
   "cell_type": "markdown",
   "metadata": {},
   "source": [
    "Стандартизируем признаки для закодированного датасета."
   ]
  },
  {
   "cell_type": "code",
   "execution_count": 27,
   "metadata": {},
   "outputs": [],
   "source": [
    "# Создаем объект StandardScaler\n",
    "scaler = StandardScaler()\n",
    "\n",
    "# Определяем список столбцов, которые нужно масштабировать\n",
    "col_to_scale = ['power', 'kilometer', 'registration_year']\n",
    "\n",
    "# Обучаем scaler на тренировочных данных\n",
    "scaler.fit(train_features_encoded[col_to_scale])\n",
    "\n",
    "# Масштабируем выбранные столбцы в тренировочном наборе данных\n",
    "train_features_encoded[col_to_scale] = scaler.transform(train_features_encoded[col_to_scale])\n",
    "\n",
    "# Масштабируем выбранные столбцы в тестовом наборе данных\n",
    "test_features_encoded[col_to_scale] = scaler.transform(test_features_encoded[col_to_scale])"
   ]
  },
  {
   "cell_type": "markdown",
   "metadata": {},
   "source": [
    "#### Подготовка датасета для моделей CatBoost и LightGBM"
   ]
  },
  {
   "cell_type": "markdown",
   "metadata": {},
   "source": [
    "Для моделей CatBoost и LightGBM переведём категориальные признаки тип `category`."
   ]
  },
  {
   "cell_type": "code",
   "execution_count": 28,
   "metadata": {},
   "outputs": [],
   "source": [
    "# Столбцы с категориальными признаками\n",
    "categorical_columns = ['vehicle_type', 'gearbox', 'fuel_type', 'repaired', 'model', 'brand']\n",
    "\n",
    "# Преобразование выбранных столбцов в тип 'category'\n",
    "df_boost[categorical_columns] = df_boost[categorical_columns].astype('category')"
   ]
  },
  {
   "cell_type": "markdown",
   "metadata": {},
   "source": [
    "Разделим датасет на обучающую и тестовую выборку в соотношении 80% обучающая и 20% тестовая."
   ]
  },
  {
   "cell_type": "code",
   "execution_count": 29,
   "metadata": {},
   "outputs": [],
   "source": [
    "# Разделим датасет на обучающую и тестовую выборку\n",
    "train_boost, test_boost = train_test_split(df_boost, test_size=0.2, random_state=state)"
   ]
  },
  {
   "cell_type": "code",
   "execution_count": 30,
   "metadata": {},
   "outputs": [
    {
     "name": "stdout",
     "output_type": "stream",
     "text": [
      "Размер обучающей выборки: (165379, 10)\n",
      "Размер тестовой выборки: (41345, 10)\n"
     ]
    }
   ],
   "source": [
    "print('Размер обучающей выборки:', train_boost.shape)\n",
    "print('Размер тестовой выборки:', test_boost.shape)"
   ]
  },
  {
   "cell_type": "markdown",
   "metadata": {},
   "source": [
    "Разделяем на `features` и `target`."
   ]
  },
  {
   "cell_type": "code",
   "execution_count": 31,
   "metadata": {},
   "outputs": [],
   "source": [
    "# Обучающая выборка\n",
    "train_features = train_boost.drop(['price'], axis=1)\n",
    "train_target = train_boost['price']\n",
    "\n",
    "# Тествая выборка\n",
    "test_features = test_boost.drop(['price'], axis=1)\n",
    "test_target = test_boost['price']"
   ]
  },
  {
   "cell_type": "markdown",
   "metadata": {},
   "source": [
    "### Вывод по подготовке данных\n",
    "На этапе предподготовки данных, были выполненые такие шаги:\n",
    "- Изучили датасет\n",
    "- Заполнили пропуски\n",
    "- Обработали аномальные значения\n",
    "- Удалили неинформативные признаки\n",
    "- Удалили явные дубликаты\n",
    "- Закодировали категориальные признаки прямым кодированием (One-Hot-Encoding) и Target Encoding\n",
    "- Разделили датасет на обучающую и тестовую выборку\n",
    "- Стандартизировали признаки"
   ]
  },
  {
   "cell_type": "markdown",
   "metadata": {},
   "source": [
    "## Обучение моделей"
   ]
  },
  {
   "cell_type": "markdown",
   "metadata": {},
   "source": [
    "Определяем метрику оценки производительности RMSE"
   ]
  },
  {
   "cell_type": "code",
   "execution_count": 32,
   "metadata": {},
   "outputs": [],
   "source": [
    "rmse_score = make_scorer(mean_squared_error, squared=False)"
   ]
  },
  {
   "cell_type": "markdown",
   "metadata": {},
   "source": [
    "Создадим таблицу, куда будем сохранять результаты, что бы в дальнейшем проанализировать их."
   ]
  },
  {
   "cell_type": "code",
   "execution_count": 33,
   "metadata": {},
   "outputs": [],
   "source": [
    "results_df = pd.DataFrame(columns=['model', 'best_rmse', 'rmse_test', 'params_time', 'predict_time'])"
   ]
  },
  {
   "cell_type": "code",
   "execution_count": 34,
   "metadata": {},
   "outputs": [],
   "source": [
    "results_fit_time = pd.DataFrame(columns=['fit_time'])"
   ]
  },
  {
   "cell_type": "markdown",
   "metadata": {},
   "source": [
    "Создадим функцию обучения моделей."
   ]
  },
  {
   "cell_type": "code",
   "execution_count": 35,
   "metadata": {},
   "outputs": [],
   "source": [
    "def train_model(model, params, train_features, train_target, test_features, results_df, cat_features=None):\n",
    "    # Создаем объект GridSearchCV с моделью model, сеткой параметров params,\n",
    "    # кросс-валидацией на 5 фолдах и оценкой по scoring-функции rmse_score\n",
    "    grid = GridSearchCV(model, param_grid=params, cv=5, scoring=rmse_score)\n",
    "    \n",
    "    # Засекаем время начала обучения модели\n",
    "    start_time = timeit.default_timer()\n",
    "    \n",
    "    # Обучаем модель\n",
    "    if cat_features is None:\n",
    "        # Если `cat_features` не указаны, то обучаем модель без учета категориальных признаков\n",
    "        grid.fit(train_features, train_target)\n",
    "    else:\n",
    "        # Если `cat_features` указаны, то обучаем модель с учетом категориальных признаков\n",
    "        grid.fit(train_features, train_target, cat_features=cat_features)\n",
    "   \n",
    "    # Засекаем время окончания обучения модели\n",
    "    end_time = timeit.default_timer()\n",
    "    \n",
    "    # Получаем лучший результат и параметры из объекта GridSearchCV\n",
    "    best_score = grid.best_score_\n",
    "    best_params = grid.best_params_\n",
    "    \n",
    "    # Вычисляем время подбора гиперпараметров\n",
    "    params_time = end_time - start_time\n",
    "    \n",
    "    # Засекаем время начала предсказания на тестовых признаках\n",
    "    start_time_predict = timeit.default_timer()\n",
    "    \n",
    "    # Делаем предсказания на тестовых признаках\n",
    "    predictions = grid.predict(test_features)\n",
    "    \n",
    "    # Засекаем время окончания предсказания\n",
    "    end_time_predict = timeit.default_timer()\n",
    "    \n",
    "    # Вычисляем время предсказания\n",
    "    predict_time = end_time_predict - start_time_predict\n",
    "    \n",
    "    # Вычисляем RMSE (среднеквадратичную ошибку) между предсказаниями и целевой переменной тестовых данных\n",
    "    rmse_test = np.sqrt(mean_squared_error(test_target, predictions))\n",
    "    \n",
    "    # Добавляем результаты в таблицу\n",
    "    results_df.loc[len(results_df)] = [model.__class__.__name__, best_score, rmse_test, params_time, predict_time]\n",
    "\n",
    "    # Возвращаем лучшие гиперпараметры модели\n",
    "    return best_params"
   ]
  },
  {
   "cell_type": "code",
   "execution_count": 36,
   "metadata": {},
   "outputs": [],
   "source": [
    "# Функция вычисляющая время обучения модели\n",
    "def fit_time_cal(model, train_features, train_target, best_params, results, cat_features=None, random_state=None):\n",
    "    # Создаем модель с использованием переданных параметров и указанным random_state\n",
    "    if random_state is None:\n",
    "        model = model(**best_params)\n",
    "    else:\n",
    "        model = model(random_state=state, **best_params)\n",
    "\n",
    "    # Засекаем время начала обучения модели\n",
    "    start_time = timeit.default_timer()\n",
    "    \n",
    "    if cat_features is None:\n",
    "        # Если `cat_features` не указаны, то обучаем модель без учета категориальных признаков\n",
    "        model.fit(train_features, train_target)\n",
    "    else:\n",
    "        # Если `cat_features` указаны, то обучаем модель с учетом категориальных признаков\n",
    "        model.fit(train_features, train_target, cat_features=cat_features)\n",
    "        \n",
    "    # Засекаем время окончания обучения модели\n",
    "    end_time = timeit.default_timer()\n",
    "\n",
    "    # Вычисляем время обучения\n",
    "    fit_time = end_time - start_time\n",
    "\n",
    "    # Сохраняем время обучения в столбец 'fit_time' DataFrame results_df\n",
    "    results.loc[len(results)] = [fit_time]"
   ]
  },
  {
   "cell_type": "markdown",
   "metadata": {},
   "source": [
    "### Модель линейной регрессии"
   ]
  },
  {
   "cell_type": "code",
   "execution_count": 37,
   "metadata": {},
   "outputs": [],
   "source": [
    "# Создаем объект LinearRegression\n",
    "lin_reg = LinearRegression()\n",
    "\n",
    "# Определяем параметры для поиска по сетке\n",
    "lin_params = {'fit_intercept':[True, False]}\n",
    "\n",
    "# Вызываем функцию train_model для обучения модели с заданными параметрами\n",
    "lin_best_params = train_model(\n",
    "    lin_reg, lin_params, train_features_encoded, train_target_encoded, test_features_encoded, results_df\n",
    ")"
   ]
  },
  {
   "cell_type": "code",
   "execution_count": 38,
   "metadata": {},
   "outputs": [],
   "source": [
    "# Вызываем функцию fit_time_cal для вычисления времени обучения модели\n",
    "fit_time_cal(LinearRegression, train_features_encoded, train_target_encoded, lin_best_params, results_fit_time)"
   ]
  },
  {
   "cell_type": "code",
   "execution_count": 39,
   "metadata": {},
   "outputs": [
    {
     "data": {
      "text/html": [
       "<div>\n",
       "<style scoped>\n",
       "    .dataframe tbody tr th:only-of-type {\n",
       "        vertical-align: middle;\n",
       "    }\n",
       "\n",
       "    .dataframe tbody tr th {\n",
       "        vertical-align: top;\n",
       "    }\n",
       "\n",
       "    .dataframe thead th {\n",
       "        text-align: right;\n",
       "    }\n",
       "</style>\n",
       "<table border=\"1\" class=\"dataframe\">\n",
       "  <thead>\n",
       "    <tr style=\"text-align: right;\">\n",
       "      <th></th>\n",
       "      <th>model</th>\n",
       "      <th>best_rmse</th>\n",
       "      <th>rmse_test</th>\n",
       "      <th>params_time</th>\n",
       "      <th>predict_time</th>\n",
       "    </tr>\n",
       "  </thead>\n",
       "  <tbody>\n",
       "    <tr>\n",
       "      <th>0</th>\n",
       "      <td>LinearRegression</td>\n",
       "      <td>2144.455585</td>\n",
       "      <td>2121.437286</td>\n",
       "      <td>1.722778</td>\n",
       "      <td>0.011919</td>\n",
       "    </tr>\n",
       "  </tbody>\n",
       "</table>\n",
       "</div>"
      ],
      "text/plain": [
       "              model    best_rmse    rmse_test  params_time  predict_time\n",
       "0  LinearRegression  2144.455585  2121.437286     1.722778      0.011919"
      ]
     },
     "execution_count": 39,
     "metadata": {},
     "output_type": "execute_result"
    }
   ],
   "source": [
    "results_df.loc[results_df['model'] == 'LinearRegression']"
   ]
  },
  {
   "cell_type": "code",
   "execution_count": 40,
   "metadata": {},
   "outputs": [
    {
     "name": "stdout",
     "output_type": "stream",
     "text": [
      "Лучшие гиперпараметры для модели линейной регрессии: {'fit_intercept': False}\n"
     ]
    }
   ],
   "source": [
    "print('Лучшие гиперпараметры для модели линейной регрессии:', lin_best_params)"
   ]
  },
  {
   "cell_type": "markdown",
   "metadata": {},
   "source": [
    "### Модель градиентного бустинга LightGBM"
   ]
  },
  {
   "cell_type": "code",
   "execution_count": 41,
   "metadata": {},
   "outputs": [],
   "source": [
    "# Создаем модель LGBMRegressor с указанным random_state\n",
    "lgbm_model = LGBMRegressor(random_state=state)\n",
    "\n",
    "# Задаем параметры для гиперпараметров модели\n",
    "lgbm_params = {'max_depth': [1, 2], 'n_estimators': [25, 50]}\n",
    "\n",
    "# Вызываем функцию train_model для обучения модели с использованием указанных параметров\n",
    "lgbm_best_params = train_model(lgbm_model, lgbm_params, train_features, train_target, test_features, results_df)"
   ]
  },
  {
   "cell_type": "code",
   "execution_count": 42,
   "metadata": {},
   "outputs": [],
   "source": [
    "# Вызываем функцию fit_time_cal для вычисления времени обучения модели\n",
    "fit_time_cal(LGBMRegressor, train_features, train_target, lgbm_best_params, results_fit_time, random_state=state)"
   ]
  },
  {
   "cell_type": "code",
   "execution_count": 43,
   "metadata": {},
   "outputs": [
    {
     "name": "stdout",
     "output_type": "stream",
     "text": [
      "Лучшие гиперпараметры для модели LightGBM: {'max_depth': 1, 'n_estimators': 25}\n"
     ]
    }
   ],
   "source": [
    "print('Лучшие гиперпараметры для модели LightGBM:', lgbm_best_params)"
   ]
  },
  {
   "cell_type": "code",
   "execution_count": 44,
   "metadata": {},
   "outputs": [
    {
     "data": {
      "text/html": [
       "<div>\n",
       "<style scoped>\n",
       "    .dataframe tbody tr th:only-of-type {\n",
       "        vertical-align: middle;\n",
       "    }\n",
       "\n",
       "    .dataframe tbody tr th {\n",
       "        vertical-align: top;\n",
       "    }\n",
       "\n",
       "    .dataframe thead th {\n",
       "        text-align: right;\n",
       "    }\n",
       "</style>\n",
       "<table border=\"1\" class=\"dataframe\">\n",
       "  <thead>\n",
       "    <tr style=\"text-align: right;\">\n",
       "      <th></th>\n",
       "      <th>model</th>\n",
       "      <th>best_rmse</th>\n",
       "      <th>rmse_test</th>\n",
       "      <th>params_time</th>\n",
       "      <th>predict_time</th>\n",
       "    </tr>\n",
       "  </thead>\n",
       "  <tbody>\n",
       "    <tr>\n",
       "      <th>1</th>\n",
       "      <td>LGBMRegressor</td>\n",
       "      <td>2271.449517</td>\n",
       "      <td>2257.78108</td>\n",
       "      <td>4.419502</td>\n",
       "      <td>0.020149</td>\n",
       "    </tr>\n",
       "  </tbody>\n",
       "</table>\n",
       "</div>"
      ],
      "text/plain": [
       "           model    best_rmse   rmse_test  params_time  predict_time\n",
       "1  LGBMRegressor  2271.449517  2257.78108     4.419502      0.020149"
      ]
     },
     "execution_count": 44,
     "metadata": {},
     "output_type": "execute_result"
    }
   ],
   "source": [
    "results_df.loc[results_df['model'] == 'LGBMRegressor']"
   ]
  },
  {
   "cell_type": "markdown",
   "metadata": {},
   "source": [
    "### Модель градиентного бустинга CatBoostRegressor"
   ]
  },
  {
   "cell_type": "code",
   "execution_count": 45,
   "metadata": {},
   "outputs": [],
   "source": [
    "cat_features = ['vehicle_type', 'gearbox', 'fuel_type', 'repaired', 'model', 'brand']"
   ]
  },
  {
   "cell_type": "code",
   "execution_count": 46,
   "metadata": {},
   "outputs": [
    {
     "name": "stdout",
     "output_type": "stream",
     "text": [
      "Learning rate set to 0.5\n",
      "0:\tlearn: 2568.5613557\ttotal: 215ms\tremaining: 10.5s\n",
      "1:\tlearn: 2157.6618099\ttotal: 258ms\tremaining: 6.19s\n",
      "2:\tlearn: 1910.0532432\ttotal: 304ms\tremaining: 4.76s\n",
      "3:\tlearn: 1792.0797194\ttotal: 349ms\tremaining: 4.01s\n",
      "4:\tlearn: 1716.1433022\ttotal: 400ms\tremaining: 3.6s\n",
      "5:\tlearn: 1676.6486767\ttotal: 450ms\tremaining: 3.3s\n",
      "6:\tlearn: 1636.0364614\ttotal: 497ms\tremaining: 3.05s\n",
      "7:\tlearn: 1615.5120158\ttotal: 555ms\tremaining: 2.91s\n",
      "8:\tlearn: 1597.9931486\ttotal: 608ms\tremaining: 2.77s\n",
      "9:\tlearn: 1578.8048562\ttotal: 650ms\tremaining: 2.6s\n",
      "10:\tlearn: 1567.1802373\ttotal: 696ms\tremaining: 2.46s\n",
      "11:\tlearn: 1555.7536334\ttotal: 749ms\tremaining: 2.37s\n",
      "12:\tlearn: 1539.5495199\ttotal: 807ms\tremaining: 2.3s\n",
      "13:\tlearn: 1530.0347033\ttotal: 862ms\tremaining: 2.22s\n",
      "14:\tlearn: 1520.7677297\ttotal: 917ms\tremaining: 2.14s\n",
      "15:\tlearn: 1509.4521152\ttotal: 966ms\tremaining: 2.05s\n",
      "16:\tlearn: 1503.3575611\ttotal: 1.01s\tremaining: 1.97s\n",
      "17:\tlearn: 1498.5172415\ttotal: 1.06s\tremaining: 1.89s\n",
      "18:\tlearn: 1495.0866505\ttotal: 1.11s\tremaining: 1.82s\n",
      "19:\tlearn: 1489.7091586\ttotal: 1.16s\tremaining: 1.75s\n",
      "20:\tlearn: 1484.9282096\ttotal: 1.22s\tremaining: 1.68s\n",
      "21:\tlearn: 1481.7259785\ttotal: 1.26s\tremaining: 1.61s\n",
      "22:\tlearn: 1478.4823630\ttotal: 1.34s\tremaining: 1.57s\n",
      "23:\tlearn: 1472.1088280\ttotal: 1.38s\tremaining: 1.5s\n",
      "24:\tlearn: 1470.5240784\ttotal: 1.43s\tremaining: 1.43s\n",
      "25:\tlearn: 1460.7972707\ttotal: 1.48s\tremaining: 1.37s\n",
      "26:\tlearn: 1456.4734896\ttotal: 1.52s\tremaining: 1.29s\n",
      "27:\tlearn: 1451.4449286\ttotal: 1.56s\tremaining: 1.23s\n",
      "28:\tlearn: 1446.2640977\ttotal: 1.61s\tremaining: 1.17s\n",
      "29:\tlearn: 1441.5749644\ttotal: 1.65s\tremaining: 1.1s\n",
      "30:\tlearn: 1439.6216960\ttotal: 1.69s\tremaining: 1.04s\n",
      "31:\tlearn: 1437.8370469\ttotal: 1.73s\tremaining: 975ms\n",
      "32:\tlearn: 1435.0048709\ttotal: 1.77s\tremaining: 913ms\n",
      "33:\tlearn: 1433.4028383\ttotal: 1.81s\tremaining: 854ms\n",
      "34:\tlearn: 1430.6455600\ttotal: 1.85s\tremaining: 795ms\n",
      "35:\tlearn: 1428.0460943\ttotal: 1.9s\tremaining: 737ms\n",
      "36:\tlearn: 1425.4656292\ttotal: 1.94s\tremaining: 680ms\n",
      "37:\tlearn: 1422.8790847\ttotal: 1.98s\tremaining: 624ms\n",
      "38:\tlearn: 1420.1686247\ttotal: 2.01s\tremaining: 568ms\n",
      "39:\tlearn: 1418.8613771\ttotal: 2.05s\tremaining: 513ms\n",
      "40:\tlearn: 1418.0848357\ttotal: 2.1s\tremaining: 462ms\n",
      "41:\tlearn: 1415.0064307\ttotal: 2.15s\tremaining: 409ms\n",
      "42:\tlearn: 1413.0165807\ttotal: 2.21s\tremaining: 360ms\n",
      "43:\tlearn: 1410.5502421\ttotal: 2.25s\tremaining: 307ms\n",
      "44:\tlearn: 1408.2732306\ttotal: 2.29s\tremaining: 255ms\n",
      "45:\tlearn: 1405.9808012\ttotal: 2.33s\tremaining: 203ms\n",
      "46:\tlearn: 1404.8785210\ttotal: 2.39s\tremaining: 152ms\n",
      "47:\tlearn: 1404.1166783\ttotal: 2.43s\tremaining: 101ms\n",
      "48:\tlearn: 1402.8225659\ttotal: 2.48s\tremaining: 50.6ms\n",
      "49:\tlearn: 1401.6663304\ttotal: 2.52s\tremaining: 0us\n",
      "Learning rate set to 0.5\n",
      "0:\tlearn: 2557.9441278\ttotal: 39.8ms\tremaining: 1.95s\n",
      "1:\tlearn: 2149.3120949\ttotal: 78.7ms\tremaining: 1.89s\n",
      "2:\tlearn: 1948.2497859\ttotal: 121ms\tremaining: 1.9s\n",
      "3:\tlearn: 1818.4779960\ttotal: 160ms\tremaining: 1.84s\n",
      "4:\tlearn: 1729.1635078\ttotal: 200ms\tremaining: 1.8s\n",
      "5:\tlearn: 1692.0050012\ttotal: 242ms\tremaining: 1.78s\n",
      "6:\tlearn: 1658.1499589\ttotal: 281ms\tremaining: 1.73s\n",
      "7:\tlearn: 1637.9421603\ttotal: 318ms\tremaining: 1.67s\n",
      "8:\tlearn: 1621.6396279\ttotal: 359ms\tremaining: 1.63s\n",
      "9:\tlearn: 1594.4320266\ttotal: 395ms\tremaining: 1.58s\n",
      "10:\tlearn: 1577.7818856\ttotal: 433ms\tremaining: 1.53s\n",
      "11:\tlearn: 1564.2387058\ttotal: 470ms\tremaining: 1.49s\n",
      "12:\tlearn: 1548.3176241\ttotal: 508ms\tremaining: 1.45s\n",
      "13:\tlearn: 1540.0334392\ttotal: 546ms\tremaining: 1.4s\n",
      "14:\tlearn: 1532.1577381\ttotal: 584ms\tremaining: 1.36s\n",
      "15:\tlearn: 1525.2346760\ttotal: 624ms\tremaining: 1.32s\n",
      "16:\tlearn: 1514.5524484\ttotal: 666ms\tremaining: 1.29s\n",
      "17:\tlearn: 1508.4497163\ttotal: 705ms\tremaining: 1.25s\n",
      "18:\tlearn: 1498.5580420\ttotal: 742ms\tremaining: 1.21s\n",
      "19:\tlearn: 1493.9424771\ttotal: 783ms\tremaining: 1.17s\n",
      "20:\tlearn: 1491.1365787\ttotal: 834ms\tremaining: 1.15s\n",
      "21:\tlearn: 1487.1082182\ttotal: 874ms\tremaining: 1.11s\n",
      "22:\tlearn: 1481.5792618\ttotal: 912ms\tremaining: 1.07s\n",
      "23:\tlearn: 1475.2309854\ttotal: 949ms\tremaining: 1.03s\n",
      "24:\tlearn: 1465.4492591\ttotal: 990ms\tremaining: 990ms\n",
      "25:\tlearn: 1462.2253116\ttotal: 1.04s\tremaining: 957ms\n",
      "26:\tlearn: 1458.8996777\ttotal: 1.08s\tremaining: 918ms\n",
      "27:\tlearn: 1455.5909805\ttotal: 1.12s\tremaining: 881ms\n",
      "28:\tlearn: 1451.8481488\ttotal: 1.21s\tremaining: 877ms\n",
      "29:\tlearn: 1448.8741049\ttotal: 1.25s\tremaining: 835ms\n",
      "30:\tlearn: 1445.4638908\ttotal: 1.29s\tremaining: 793ms\n",
      "31:\tlearn: 1442.4429614\ttotal: 1.34s\tremaining: 752ms\n",
      "32:\tlearn: 1440.6494589\ttotal: 1.38s\tremaining: 710ms\n",
      "33:\tlearn: 1438.2763814\ttotal: 1.42s\tremaining: 668ms\n",
      "34:\tlearn: 1436.0637252\ttotal: 1.46s\tremaining: 625ms\n",
      "35:\tlearn: 1434.1202843\ttotal: 1.49s\tremaining: 581ms\n",
      "36:\tlearn: 1431.9423365\ttotal: 1.53s\tremaining: 539ms\n",
      "37:\tlearn: 1430.1773349\ttotal: 1.57s\tremaining: 497ms\n",
      "38:\tlearn: 1428.7704015\ttotal: 1.61s\tremaining: 455ms\n",
      "39:\tlearn: 1426.0600274\ttotal: 1.65s\tremaining: 412ms\n",
      "40:\tlearn: 1421.3838167\ttotal: 1.69s\tremaining: 371ms\n",
      "41:\tlearn: 1418.9573229\ttotal: 1.73s\tremaining: 329ms\n",
      "42:\tlearn: 1417.1816535\ttotal: 1.77s\tremaining: 288ms\n",
      "43:\tlearn: 1416.6329623\ttotal: 1.81s\tremaining: 247ms\n",
      "44:\tlearn: 1416.2804317\ttotal: 1.85s\tremaining: 206ms\n",
      "45:\tlearn: 1415.4779405\ttotal: 1.89s\tremaining: 165ms\n",
      "46:\tlearn: 1414.4842383\ttotal: 1.93s\tremaining: 123ms\n",
      "47:\tlearn: 1412.4390477\ttotal: 1.97s\tremaining: 82.2ms\n",
      "48:\tlearn: 1410.9475910\ttotal: 2.04s\tremaining: 41.6ms\n",
      "49:\tlearn: 1409.5107033\ttotal: 2.08s\tremaining: 0us\n",
      "Learning rate set to 0.5\n",
      "0:\tlearn: 2565.4493658\ttotal: 47.5ms\tremaining: 2.33s\n",
      "1:\tlearn: 2156.0360333\ttotal: 87.1ms\tremaining: 2.09s\n",
      "2:\tlearn: 1939.7003126\ttotal: 131ms\tremaining: 2.05s\n",
      "3:\tlearn: 1806.5267666\ttotal: 170ms\tremaining: 1.95s\n",
      "4:\tlearn: 1749.7883640\ttotal: 214ms\tremaining: 1.93s\n",
      "5:\tlearn: 1691.6305323\ttotal: 254ms\tremaining: 1.86s\n",
      "6:\tlearn: 1643.7003778\ttotal: 299ms\tremaining: 1.84s\n",
      "7:\tlearn: 1621.0242259\ttotal: 342ms\tremaining: 1.8s\n",
      "8:\tlearn: 1605.3364357\ttotal: 385ms\tremaining: 1.75s\n",
      "9:\tlearn: 1592.6766824\ttotal: 430ms\tremaining: 1.72s\n",
      "10:\tlearn: 1577.3634987\ttotal: 496ms\tremaining: 1.76s\n",
      "11:\tlearn: 1564.1820616\ttotal: 537ms\tremaining: 1.7s\n",
      "12:\tlearn: 1545.5763110\ttotal: 583ms\tremaining: 1.66s\n",
      "13:\tlearn: 1533.6884150\ttotal: 624ms\tremaining: 1.6s\n",
      "14:\tlearn: 1524.0953194\ttotal: 663ms\tremaining: 1.55s\n",
      "15:\tlearn: 1515.0272437\ttotal: 703ms\tremaining: 1.49s\n",
      "16:\tlearn: 1509.8481150\ttotal: 745ms\tremaining: 1.45s\n",
      "17:\tlearn: 1501.1883106\ttotal: 787ms\tremaining: 1.4s\n",
      "18:\tlearn: 1498.4184527\ttotal: 831ms\tremaining: 1.35s\n",
      "19:\tlearn: 1493.5948418\ttotal: 871ms\tremaining: 1.3s\n",
      "20:\tlearn: 1488.9142524\ttotal: 912ms\tremaining: 1.26s\n",
      "21:\tlearn: 1484.4349808\ttotal: 954ms\tremaining: 1.21s\n",
      "22:\tlearn: 1479.5009781\ttotal: 992ms\tremaining: 1.16s\n",
      "23:\tlearn: 1476.4567759\ttotal: 1.04s\tremaining: 1.12s\n",
      "24:\tlearn: 1474.8493929\ttotal: 1.08s\tremaining: 1.08s\n",
      "25:\tlearn: 1471.2887459\ttotal: 1.13s\tremaining: 1.04s\n",
      "26:\tlearn: 1468.0104055\ttotal: 1.19s\tremaining: 1.01s\n",
      "27:\tlearn: 1462.8304469\ttotal: 1.24s\tremaining: 977ms\n",
      "28:\tlearn: 1460.0277196\ttotal: 1.29s\tremaining: 936ms\n",
      "29:\tlearn: 1457.5138334\ttotal: 1.33s\tremaining: 890ms\n",
      "30:\tlearn: 1453.0444708\ttotal: 1.38s\tremaining: 846ms\n",
      "31:\tlearn: 1450.5963296\ttotal: 1.42s\tremaining: 801ms\n",
      "32:\tlearn: 1442.8027664\ttotal: 1.47s\tremaining: 756ms\n",
      "33:\tlearn: 1439.3434398\ttotal: 1.52s\tremaining: 714ms\n",
      "34:\tlearn: 1436.5739435\ttotal: 1.58s\tremaining: 677ms\n",
      "35:\tlearn: 1433.9568583\ttotal: 1.62s\tremaining: 630ms\n",
      "36:\tlearn: 1430.6998152\ttotal: 1.69s\tremaining: 593ms\n",
      "37:\tlearn: 1428.3645628\ttotal: 1.72s\tremaining: 544ms\n",
      "38:\tlearn: 1425.3129865\ttotal: 1.76s\tremaining: 497ms\n",
      "39:\tlearn: 1422.8486615\ttotal: 1.8s\tremaining: 451ms\n",
      "40:\tlearn: 1420.9263892\ttotal: 1.84s\tremaining: 404ms\n",
      "41:\tlearn: 1417.5543014\ttotal: 1.88s\tremaining: 357ms\n",
      "42:\tlearn: 1415.3723079\ttotal: 1.92s\tremaining: 312ms\n",
      "43:\tlearn: 1414.4252053\ttotal: 1.96s\tremaining: 267ms\n",
      "44:\tlearn: 1413.2035353\ttotal: 2.01s\tremaining: 223ms\n",
      "45:\tlearn: 1411.9443281\ttotal: 2.05s\tremaining: 178ms\n",
      "46:\tlearn: 1411.0654328\ttotal: 2.09s\tremaining: 134ms\n",
      "47:\tlearn: 1409.4591343\ttotal: 2.13s\tremaining: 89ms\n",
      "48:\tlearn: 1407.5958388\ttotal: 2.18s\tremaining: 44.4ms\n",
      "49:\tlearn: 1406.0077500\ttotal: 2.22s\tremaining: 0us\n",
      "Learning rate set to 0.5\n",
      "0:\tlearn: 2564.7201720\ttotal: 44.1ms\tremaining: 2.16s\n",
      "1:\tlearn: 2152.8520048\ttotal: 83.2ms\tremaining: 2s\n",
      "2:\tlearn: 1923.9137366\ttotal: 124ms\tremaining: 1.94s\n",
      "3:\tlearn: 1799.4358836\ttotal: 163ms\tremaining: 1.87s\n",
      "4:\tlearn: 1738.5502237\ttotal: 214ms\tremaining: 1.92s\n"
     ]
    },
    {
     "name": "stdout",
     "output_type": "stream",
     "text": [
      "5:\tlearn: 1683.2496116\ttotal: 254ms\tremaining: 1.86s\n",
      "6:\tlearn: 1637.8967894\ttotal: 297ms\tremaining: 1.82s\n",
      "7:\tlearn: 1613.0492666\ttotal: 362ms\tremaining: 1.9s\n",
      "8:\tlearn: 1593.4371072\ttotal: 400ms\tremaining: 1.82s\n",
      "9:\tlearn: 1578.7617065\ttotal: 438ms\tremaining: 1.75s\n",
      "10:\tlearn: 1565.7871154\ttotal: 479ms\tremaining: 1.7s\n",
      "11:\tlearn: 1550.9638274\ttotal: 517ms\tremaining: 1.64s\n",
      "12:\tlearn: 1542.8873918\ttotal: 555ms\tremaining: 1.58s\n",
      "13:\tlearn: 1532.8812920\ttotal: 593ms\tremaining: 1.52s\n",
      "14:\tlearn: 1524.3576627\ttotal: 628ms\tremaining: 1.46s\n",
      "15:\tlearn: 1508.5748614\ttotal: 665ms\tremaining: 1.41s\n",
      "16:\tlearn: 1500.0173246\ttotal: 702ms\tremaining: 1.36s\n",
      "17:\tlearn: 1495.4023867\ttotal: 740ms\tremaining: 1.32s\n",
      "18:\tlearn: 1490.8953274\ttotal: 783ms\tremaining: 1.28s\n",
      "19:\tlearn: 1485.6878074\ttotal: 820ms\tremaining: 1.23s\n",
      "20:\tlearn: 1482.1666198\ttotal: 860ms\tremaining: 1.19s\n",
      "21:\tlearn: 1478.7804792\ttotal: 897ms\tremaining: 1.14s\n",
      "22:\tlearn: 1475.5569008\ttotal: 935ms\tremaining: 1.1s\n",
      "23:\tlearn: 1471.0538311\ttotal: 972ms\tremaining: 1.05s\n",
      "24:\tlearn: 1466.2620253\ttotal: 1.02s\tremaining: 1.02s\n",
      "25:\tlearn: 1462.9419470\ttotal: 1.06s\tremaining: 979ms\n",
      "26:\tlearn: 1459.1044855\ttotal: 1.1s\tremaining: 939ms\n",
      "27:\tlearn: 1456.4484671\ttotal: 1.14s\tremaining: 899ms\n",
      "28:\tlearn: 1453.4855202\ttotal: 1.19s\tremaining: 858ms\n",
      "29:\tlearn: 1447.7322044\ttotal: 1.23s\tremaining: 818ms\n",
      "30:\tlearn: 1443.4387635\ttotal: 1.27s\tremaining: 780ms\n",
      "31:\tlearn: 1440.5327172\ttotal: 1.32s\tremaining: 741ms\n",
      "32:\tlearn: 1437.4480263\ttotal: 1.36s\tremaining: 700ms\n",
      "33:\tlearn: 1434.3832902\ttotal: 1.4s\tremaining: 660ms\n",
      "34:\tlearn: 1431.9247160\ttotal: 1.45s\tremaining: 620ms\n",
      "35:\tlearn: 1429.8679110\ttotal: 1.49s\tremaining: 580ms\n",
      "36:\tlearn: 1426.2819594\ttotal: 1.53s\tremaining: 539ms\n",
      "37:\tlearn: 1423.7474552\ttotal: 1.57s\tremaining: 497ms\n",
      "38:\tlearn: 1421.6761078\ttotal: 1.61s\tremaining: 455ms\n",
      "39:\tlearn: 1419.8576921\ttotal: 1.65s\tremaining: 414ms\n",
      "40:\tlearn: 1417.2588808\ttotal: 1.69s\tremaining: 372ms\n",
      "41:\tlearn: 1415.0648224\ttotal: 1.73s\tremaining: 330ms\n",
      "42:\tlearn: 1412.2325849\ttotal: 1.77s\tremaining: 288ms\n",
      "43:\tlearn: 1409.6964562\ttotal: 1.8s\tremaining: 246ms\n",
      "44:\tlearn: 1407.1181281\ttotal: 1.84s\tremaining: 205ms\n",
      "45:\tlearn: 1405.0847262\ttotal: 1.88s\tremaining: 163ms\n",
      "46:\tlearn: 1402.3641797\ttotal: 1.92s\tremaining: 122ms\n",
      "47:\tlearn: 1401.6054533\ttotal: 1.96s\tremaining: 81.5ms\n",
      "48:\tlearn: 1400.3485348\ttotal: 2s\tremaining: 40.8ms\n",
      "49:\tlearn: 1398.4235619\ttotal: 2.04s\tremaining: 0us\n",
      "Learning rate set to 0.5\n",
      "0:\tlearn: 2597.9756397\ttotal: 44.1ms\tremaining: 2.16s\n",
      "1:\tlearn: 2161.7316141\ttotal: 80.6ms\tremaining: 1.93s\n",
      "2:\tlearn: 1944.1180430\ttotal: 120ms\tremaining: 1.88s\n",
      "3:\tlearn: 1809.4875784\ttotal: 157ms\tremaining: 1.8s\n",
      "4:\tlearn: 1743.7175572\ttotal: 194ms\tremaining: 1.75s\n",
      "5:\tlearn: 1685.1381431\ttotal: 236ms\tremaining: 1.73s\n",
      "6:\tlearn: 1646.7958828\ttotal: 279ms\tremaining: 1.72s\n",
      "7:\tlearn: 1623.3670463\ttotal: 317ms\tremaining: 1.67s\n",
      "8:\tlearn: 1604.1340485\ttotal: 357ms\tremaining: 1.63s\n",
      "9:\tlearn: 1589.7026838\ttotal: 395ms\tremaining: 1.58s\n",
      "10:\tlearn: 1574.2527039\ttotal: 433ms\tremaining: 1.53s\n",
      "11:\tlearn: 1560.0168044\ttotal: 476ms\tremaining: 1.51s\n",
      "12:\tlearn: 1551.6737676\ttotal: 514ms\tremaining: 1.46s\n",
      "13:\tlearn: 1539.5445662\ttotal: 551ms\tremaining: 1.42s\n",
      "14:\tlearn: 1530.0611497\ttotal: 587ms\tremaining: 1.37s\n",
      "15:\tlearn: 1518.0301332\ttotal: 623ms\tremaining: 1.32s\n",
      "16:\tlearn: 1510.6189682\ttotal: 658ms\tremaining: 1.28s\n",
      "17:\tlearn: 1505.4979610\ttotal: 697ms\tremaining: 1.24s\n",
      "18:\tlearn: 1498.6689254\ttotal: 740ms\tremaining: 1.21s\n",
      "19:\tlearn: 1493.2298704\ttotal: 780ms\tremaining: 1.17s\n",
      "20:\tlearn: 1488.7465638\ttotal: 816ms\tremaining: 1.13s\n",
      "21:\tlearn: 1481.0366774\ttotal: 864ms\tremaining: 1.1s\n",
      "22:\tlearn: 1476.7863779\ttotal: 906ms\tremaining: 1.06s\n",
      "23:\tlearn: 1474.8713414\ttotal: 945ms\tremaining: 1.02s\n",
      "24:\tlearn: 1470.3333794\ttotal: 985ms\tremaining: 985ms\n",
      "25:\tlearn: 1466.6540806\ttotal: 1.02s\tremaining: 946ms\n",
      "26:\tlearn: 1461.4515735\ttotal: 1.1s\tremaining: 936ms\n",
      "27:\tlearn: 1459.8749311\ttotal: 1.15s\tremaining: 901ms\n",
      "28:\tlearn: 1455.1118015\ttotal: 1.2s\tremaining: 866ms\n",
      "29:\tlearn: 1451.9834167\ttotal: 1.24s\tremaining: 826ms\n",
      "30:\tlearn: 1449.3086296\ttotal: 1.28s\tremaining: 786ms\n",
      "31:\tlearn: 1445.9778471\ttotal: 1.33s\tremaining: 746ms\n",
      "32:\tlearn: 1442.9807704\ttotal: 1.37s\tremaining: 705ms\n",
      "33:\tlearn: 1438.5939324\ttotal: 1.41s\tremaining: 664ms\n",
      "34:\tlearn: 1435.4796832\ttotal: 1.45s\tremaining: 623ms\n",
      "35:\tlearn: 1433.8412834\ttotal: 1.5s\tremaining: 582ms\n",
      "36:\tlearn: 1432.2456353\ttotal: 1.54s\tremaining: 540ms\n",
      "37:\tlearn: 1429.9482012\ttotal: 1.58s\tremaining: 499ms\n",
      "38:\tlearn: 1427.6380503\ttotal: 1.62s\tremaining: 457ms\n",
      "39:\tlearn: 1424.3261512\ttotal: 1.66s\tremaining: 415ms\n",
      "40:\tlearn: 1422.0303960\ttotal: 1.7s\tremaining: 373ms\n",
      "41:\tlearn: 1419.7320627\ttotal: 1.74s\tremaining: 331ms\n",
      "42:\tlearn: 1417.7706905\ttotal: 1.78s\tremaining: 289ms\n",
      "43:\tlearn: 1414.6159191\ttotal: 1.82s\tremaining: 248ms\n",
      "44:\tlearn: 1413.3054377\ttotal: 1.86s\tremaining: 206ms\n",
      "45:\tlearn: 1410.4326548\ttotal: 1.9s\tremaining: 165ms\n",
      "46:\tlearn: 1409.2030557\ttotal: 1.94s\tremaining: 124ms\n",
      "47:\tlearn: 1408.0901818\ttotal: 1.99s\tremaining: 82.9ms\n",
      "48:\tlearn: 1407.2795494\ttotal: 2.03s\tremaining: 41.4ms\n",
      "49:\tlearn: 1406.0773332\ttotal: 2.07s\tremaining: 0us\n",
      "Learning rate set to 0.5\n",
      "0:\tlearn: 2492.5047341\ttotal: 56.6ms\tremaining: 2.77s\n",
      "1:\tlearn: 2051.7323794\ttotal: 125ms\tremaining: 2.99s\n",
      "2:\tlearn: 1790.4512192\ttotal: 207ms\tremaining: 3.24s\n",
      "3:\tlearn: 1664.2268627\ttotal: 293ms\tremaining: 3.37s\n",
      "4:\tlearn: 1594.3363179\ttotal: 368ms\tremaining: 3.31s\n",
      "5:\tlearn: 1565.1601136\ttotal: 462ms\tremaining: 3.39s\n",
      "6:\tlearn: 1545.1893692\ttotal: 540ms\tremaining: 3.32s\n",
      "7:\tlearn: 1525.4507738\ttotal: 631ms\tremaining: 3.31s\n",
      "8:\tlearn: 1510.3909085\ttotal: 695ms\tremaining: 3.16s\n",
      "9:\tlearn: 1498.7317409\ttotal: 763ms\tremaining: 3.05s\n",
      "10:\tlearn: 1482.4664582\ttotal: 815ms\tremaining: 2.89s\n",
      "11:\tlearn: 1471.9539930\ttotal: 881ms\tremaining: 2.79s\n",
      "12:\tlearn: 1459.9729567\ttotal: 935ms\tremaining: 2.66s\n",
      "13:\tlearn: 1456.4919346\ttotal: 1.02s\tremaining: 2.63s\n",
      "14:\tlearn: 1452.3893404\ttotal: 1.09s\tremaining: 2.54s\n",
      "15:\tlearn: 1446.9188473\ttotal: 1.17s\tremaining: 2.48s\n",
      "16:\tlearn: 1442.3889525\ttotal: 1.25s\tremaining: 2.42s\n",
      "17:\tlearn: 1438.6476462\ttotal: 1.34s\tremaining: 2.38s\n",
      "18:\tlearn: 1434.9677169\ttotal: 1.4s\tremaining: 2.28s\n",
      "19:\tlearn: 1428.6846774\ttotal: 1.48s\tremaining: 2.22s\n",
      "20:\tlearn: 1421.0688055\ttotal: 1.53s\tremaining: 2.12s\n",
      "21:\tlearn: 1412.8477938\ttotal: 1.61s\tremaining: 2.06s\n",
      "22:\tlearn: 1408.4062054\ttotal: 1.68s\tremaining: 1.97s\n",
      "23:\tlearn: 1400.5638704\ttotal: 1.75s\tremaining: 1.89s\n",
      "24:\tlearn: 1395.8553296\ttotal: 1.8s\tremaining: 1.8s\n",
      "25:\tlearn: 1391.0847850\ttotal: 1.88s\tremaining: 1.74s\n",
      "26:\tlearn: 1388.2591136\ttotal: 1.95s\tremaining: 1.66s\n",
      "27:\tlearn: 1385.2050027\ttotal: 2.04s\tremaining: 1.6s\n",
      "28:\tlearn: 1382.0136478\ttotal: 2.1s\tremaining: 1.52s\n",
      "29:\tlearn: 1379.0587432\ttotal: 2.16s\tremaining: 1.44s\n",
      "30:\tlearn: 1376.5278660\ttotal: 2.24s\tremaining: 1.37s\n",
      "31:\tlearn: 1373.4361510\ttotal: 2.31s\tremaining: 1.3s\n",
      "32:\tlearn: 1371.3923851\ttotal: 2.39s\tremaining: 1.23s\n",
      "33:\tlearn: 1369.1074043\ttotal: 2.47s\tremaining: 1.16s\n",
      "34:\tlearn: 1367.1971250\ttotal: 2.53s\tremaining: 1.08s\n",
      "35:\tlearn: 1363.1677293\ttotal: 2.59s\tremaining: 1.01s\n",
      "36:\tlearn: 1362.1967938\ttotal: 2.65s\tremaining: 932ms\n",
      "37:\tlearn: 1358.8807747\ttotal: 2.71s\tremaining: 857ms\n",
      "38:\tlearn: 1356.9152645\ttotal: 2.8s\tremaining: 790ms\n",
      "39:\tlearn: 1355.2734568\ttotal: 2.89s\tremaining: 722ms\n",
      "40:\tlearn: 1353.3715416\ttotal: 2.95s\tremaining: 647ms\n",
      "41:\tlearn: 1350.6391900\ttotal: 3.01s\tremaining: 574ms\n",
      "42:\tlearn: 1348.8755770\ttotal: 3.07s\tremaining: 500ms\n",
      "43:\tlearn: 1347.9516109\ttotal: 3.13s\tremaining: 427ms\n",
      "44:\tlearn: 1346.4285941\ttotal: 3.2s\tremaining: 355ms\n",
      "45:\tlearn: 1345.7001606\ttotal: 3.26s\tremaining: 283ms\n",
      "46:\tlearn: 1343.5095670\ttotal: 3.33s\tremaining: 213ms\n",
      "47:\tlearn: 1342.1725502\ttotal: 3.4s\tremaining: 142ms\n",
      "48:\tlearn: 1340.7308466\ttotal: 3.46s\tremaining: 70.7ms\n",
      "49:\tlearn: 1338.6012226\ttotal: 3.53s\tremaining: 0us\n",
      "Learning rate set to 0.5\n",
      "0:\tlearn: 2487.4847692\ttotal: 54.1ms\tremaining: 2.65s\n",
      "1:\tlearn: 2045.8901576\ttotal: 120ms\tremaining: 2.88s\n",
      "2:\tlearn: 1797.5256422\ttotal: 183ms\tremaining: 2.86s\n",
      "3:\tlearn: 1679.9902749\ttotal: 264ms\tremaining: 3.04s\n",
      "4:\tlearn: 1623.9897834\ttotal: 323ms\tremaining: 2.91s\n",
      "5:\tlearn: 1581.5517214\ttotal: 381ms\tremaining: 2.79s\n",
      "6:\tlearn: 1556.9628448\ttotal: 438ms\tremaining: 2.69s\n",
      "7:\tlearn: 1535.4573360\ttotal: 516ms\tremaining: 2.71s\n",
      "8:\tlearn: 1518.5631289\ttotal: 592ms\tremaining: 2.7s\n"
     ]
    },
    {
     "name": "stdout",
     "output_type": "stream",
     "text": [
      "9:\tlearn: 1498.2694671\ttotal: 648ms\tremaining: 2.59s\n",
      "10:\tlearn: 1487.2957375\ttotal: 729ms\tremaining: 2.58s\n",
      "11:\tlearn: 1479.4100540\ttotal: 787ms\tremaining: 2.49s\n",
      "12:\tlearn: 1469.1628450\ttotal: 853ms\tremaining: 2.43s\n",
      "13:\tlearn: 1461.6001118\ttotal: 913ms\tremaining: 2.35s\n",
      "14:\tlearn: 1454.7219103\ttotal: 969ms\tremaining: 2.26s\n",
      "15:\tlearn: 1451.6260232\ttotal: 1.05s\tremaining: 2.23s\n",
      "16:\tlearn: 1447.3329223\ttotal: 1.11s\tremaining: 2.16s\n",
      "17:\tlearn: 1441.7638680\ttotal: 1.18s\tremaining: 2.09s\n",
      "18:\tlearn: 1439.1264212\ttotal: 1.24s\tremaining: 2.02s\n",
      "19:\tlearn: 1435.4129602\ttotal: 1.3s\tremaining: 1.95s\n",
      "20:\tlearn: 1429.8635310\ttotal: 1.38s\tremaining: 1.91s\n",
      "21:\tlearn: 1423.6863094\ttotal: 1.44s\tremaining: 1.83s\n",
      "22:\tlearn: 1411.5057444\ttotal: 1.49s\tremaining: 1.75s\n",
      "23:\tlearn: 1407.0228009\ttotal: 1.56s\tremaining: 1.69s\n",
      "24:\tlearn: 1403.1665902\ttotal: 1.63s\tremaining: 1.63s\n",
      "25:\tlearn: 1398.3562110\ttotal: 1.69s\tremaining: 1.56s\n",
      "26:\tlearn: 1393.7034519\ttotal: 1.75s\tremaining: 1.49s\n",
      "27:\tlearn: 1390.4413076\ttotal: 1.81s\tremaining: 1.42s\n",
      "28:\tlearn: 1386.9224553\ttotal: 1.88s\tremaining: 1.36s\n",
      "29:\tlearn: 1383.9628458\ttotal: 1.94s\tremaining: 1.29s\n",
      "30:\tlearn: 1381.8081774\ttotal: 2.01s\tremaining: 1.23s\n",
      "31:\tlearn: 1379.6190224\ttotal: 2.06s\tremaining: 1.16s\n",
      "32:\tlearn: 1377.6731178\ttotal: 2.13s\tremaining: 1.1s\n",
      "33:\tlearn: 1376.6841973\ttotal: 2.21s\tremaining: 1.04s\n",
      "34:\tlearn: 1375.1477616\ttotal: 2.27s\tremaining: 971ms\n",
      "35:\tlearn: 1372.9901616\ttotal: 2.34s\tremaining: 911ms\n",
      "36:\tlearn: 1369.8256605\ttotal: 2.4s\tremaining: 844ms\n",
      "37:\tlearn: 1368.0775497\ttotal: 2.46s\tremaining: 776ms\n",
      "38:\tlearn: 1365.6023954\ttotal: 2.51s\tremaining: 709ms\n",
      "39:\tlearn: 1363.6520159\ttotal: 2.59s\tremaining: 647ms\n",
      "40:\tlearn: 1361.7497525\ttotal: 2.65s\tremaining: 581ms\n",
      "41:\tlearn: 1359.2287619\ttotal: 2.71s\tremaining: 516ms\n",
      "42:\tlearn: 1358.2364291\ttotal: 2.77s\tremaining: 450ms\n",
      "43:\tlearn: 1356.1835921\ttotal: 2.84s\tremaining: 387ms\n",
      "44:\tlearn: 1355.3869756\ttotal: 2.9s\tremaining: 323ms\n",
      "45:\tlearn: 1354.0466646\ttotal: 2.97s\tremaining: 258ms\n",
      "46:\tlearn: 1352.0644374\ttotal: 3.04s\tremaining: 194ms\n",
      "47:\tlearn: 1350.9082716\ttotal: 3.1s\tremaining: 129ms\n",
      "48:\tlearn: 1349.2600221\ttotal: 3.19s\tremaining: 65ms\n",
      "49:\tlearn: 1347.5327408\ttotal: 3.25s\tremaining: 0us\n",
      "Learning rate set to 0.5\n",
      "0:\tlearn: 2497.2773336\ttotal: 62.4ms\tremaining: 3.06s\n",
      "1:\tlearn: 2059.4809618\ttotal: 123ms\tremaining: 2.94s\n",
      "2:\tlearn: 1824.8932406\ttotal: 184ms\tremaining: 2.88s\n",
      "3:\tlearn: 1711.9583329\ttotal: 272ms\tremaining: 3.13s\n",
      "4:\tlearn: 1631.3183994\ttotal: 350ms\tremaining: 3.15s\n",
      "5:\tlearn: 1586.8760768\ttotal: 426ms\tremaining: 3.12s\n",
      "6:\tlearn: 1562.5190999\ttotal: 488ms\tremaining: 3s\n",
      "7:\tlearn: 1540.4731574\ttotal: 551ms\tremaining: 2.89s\n",
      "8:\tlearn: 1527.6702797\ttotal: 613ms\tremaining: 2.79s\n",
      "9:\tlearn: 1510.0924177\ttotal: 673ms\tremaining: 2.69s\n",
      "10:\tlearn: 1498.8730432\ttotal: 737ms\tremaining: 2.61s\n",
      "11:\tlearn: 1486.0195827\ttotal: 812ms\tremaining: 2.57s\n",
      "12:\tlearn: 1477.3572316\ttotal: 928ms\tremaining: 2.64s\n",
      "13:\tlearn: 1467.2266732\ttotal: 996ms\tremaining: 2.56s\n",
      "14:\tlearn: 1460.4558311\ttotal: 1.05s\tremaining: 2.46s\n",
      "15:\tlearn: 1456.2165770\ttotal: 1.12s\tremaining: 2.38s\n",
      "16:\tlearn: 1444.8660541\ttotal: 1.2s\tremaining: 2.33s\n",
      "17:\tlearn: 1439.9050891\ttotal: 1.27s\tremaining: 2.25s\n",
      "18:\tlearn: 1436.1183773\ttotal: 1.32s\tremaining: 2.16s\n",
      "19:\tlearn: 1430.5603493\ttotal: 1.39s\tremaining: 2.09s\n",
      "20:\tlearn: 1423.2686628\ttotal: 1.45s\tremaining: 2s\n",
      "21:\tlearn: 1418.1696198\ttotal: 1.52s\tremaining: 1.94s\n",
      "22:\tlearn: 1413.5466152\ttotal: 1.6s\tremaining: 1.87s\n",
      "23:\tlearn: 1411.1624789\ttotal: 1.65s\tremaining: 1.79s\n",
      "24:\tlearn: 1407.5303352\ttotal: 1.72s\tremaining: 1.72s\n",
      "25:\tlearn: 1405.1126227\ttotal: 1.78s\tremaining: 1.64s\n",
      "26:\tlearn: 1401.3104733\ttotal: 1.85s\tremaining: 1.58s\n",
      "27:\tlearn: 1396.4415838\ttotal: 1.92s\tremaining: 1.5s\n",
      "28:\tlearn: 1393.0969971\ttotal: 1.99s\tremaining: 1.44s\n",
      "29:\tlearn: 1386.0430664\ttotal: 2.06s\tremaining: 1.37s\n",
      "30:\tlearn: 1383.2128613\ttotal: 2.13s\tremaining: 1.31s\n",
      "31:\tlearn: 1379.3870656\ttotal: 2.19s\tremaining: 1.23s\n",
      "32:\tlearn: 1375.4193179\ttotal: 2.26s\tremaining: 1.16s\n",
      "33:\tlearn: 1373.2243810\ttotal: 2.32s\tremaining: 1.09s\n",
      "34:\tlearn: 1371.5031448\ttotal: 2.38s\tremaining: 1.02s\n",
      "35:\tlearn: 1369.5057352\ttotal: 2.45s\tremaining: 955ms\n",
      "36:\tlearn: 1368.7003824\ttotal: 2.53s\tremaining: 889ms\n",
      "37:\tlearn: 1366.1994351\ttotal: 2.6s\tremaining: 822ms\n",
      "38:\tlearn: 1364.2286172\ttotal: 2.66s\tremaining: 751ms\n",
      "39:\tlearn: 1361.7456985\ttotal: 2.72s\tremaining: 681ms\n",
      "40:\tlearn: 1360.5607497\ttotal: 2.79s\tremaining: 612ms\n",
      "41:\tlearn: 1358.0124552\ttotal: 2.85s\tremaining: 544ms\n",
      "42:\tlearn: 1356.8336887\ttotal: 2.94s\tremaining: 478ms\n",
      "43:\tlearn: 1355.5915259\ttotal: 3.06s\tremaining: 417ms\n",
      "44:\tlearn: 1355.2581579\ttotal: 3.14s\tremaining: 349ms\n",
      "45:\tlearn: 1353.0222173\ttotal: 3.22s\tremaining: 280ms\n",
      "46:\tlearn: 1350.9709527\ttotal: 3.29s\tremaining: 210ms\n",
      "47:\tlearn: 1349.6702171\ttotal: 3.35s\tremaining: 140ms\n",
      "48:\tlearn: 1348.2114168\ttotal: 3.43s\tremaining: 69.9ms\n",
      "49:\tlearn: 1346.6472226\ttotal: 3.53s\tremaining: 0us\n",
      "Learning rate set to 0.5\n",
      "0:\tlearn: 2494.8362664\ttotal: 56ms\tremaining: 2.75s\n",
      "1:\tlearn: 2054.1936527\ttotal: 108ms\tremaining: 2.59s\n",
      "2:\tlearn: 1814.7064439\ttotal: 189ms\tremaining: 2.97s\n",
      "3:\tlearn: 1694.2379273\ttotal: 262ms\tremaining: 3.01s\n",
      "4:\tlearn: 1626.6370096\ttotal: 319ms\tremaining: 2.87s\n",
      "5:\tlearn: 1587.0742966\ttotal: 376ms\tremaining: 2.76s\n",
      "6:\tlearn: 1541.9937101\ttotal: 434ms\tremaining: 2.67s\n",
      "7:\tlearn: 1523.3360721\ttotal: 496ms\tremaining: 2.6s\n",
      "8:\tlearn: 1507.9610916\ttotal: 564ms\tremaining: 2.57s\n",
      "9:\tlearn: 1495.5232445\ttotal: 650ms\tremaining: 2.6s\n",
      "10:\tlearn: 1481.6529791\ttotal: 704ms\tremaining: 2.5s\n",
      "11:\tlearn: 1469.5768230\ttotal: 767ms\tremaining: 2.43s\n",
      "12:\tlearn: 1461.5308967\ttotal: 859ms\tremaining: 2.44s\n",
      "13:\tlearn: 1458.1955025\ttotal: 963ms\tremaining: 2.48s\n",
      "14:\tlearn: 1447.9996165\ttotal: 1.03s\tremaining: 2.41s\n",
      "15:\tlearn: 1441.7532534\ttotal: 1.13s\tremaining: 2.39s\n",
      "16:\tlearn: 1436.0348772\ttotal: 1.19s\tremaining: 2.32s\n",
      "17:\tlearn: 1428.5146777\ttotal: 1.27s\tremaining: 2.25s\n",
      "18:\tlearn: 1422.2422495\ttotal: 1.34s\tremaining: 2.19s\n",
      "19:\tlearn: 1415.9767611\ttotal: 1.41s\tremaining: 2.12s\n",
      "20:\tlearn: 1411.0114384\ttotal: 1.48s\tremaining: 2.04s\n",
      "21:\tlearn: 1408.4453905\ttotal: 1.58s\tremaining: 2.01s\n",
      "22:\tlearn: 1404.7049586\ttotal: 1.66s\tremaining: 1.94s\n",
      "23:\tlearn: 1400.7078168\ttotal: 1.74s\tremaining: 1.88s\n",
      "24:\tlearn: 1396.1898113\ttotal: 1.82s\tremaining: 1.82s\n",
      "25:\tlearn: 1394.2288994\ttotal: 1.93s\tremaining: 1.78s\n",
      "26:\tlearn: 1390.6937780\ttotal: 2.03s\tremaining: 1.73s\n",
      "27:\tlearn: 1388.1538425\ttotal: 2.09s\tremaining: 1.64s\n",
      "28:\tlearn: 1384.9458798\ttotal: 2.15s\tremaining: 1.56s\n",
      "29:\tlearn: 1380.7134667\ttotal: 2.22s\tremaining: 1.48s\n",
      "30:\tlearn: 1378.6657701\ttotal: 2.29s\tremaining: 1.4s\n",
      "31:\tlearn: 1375.6657873\ttotal: 2.38s\tremaining: 1.34s\n",
      "32:\tlearn: 1374.0374883\ttotal: 2.47s\tremaining: 1.27s\n",
      "33:\tlearn: 1371.5814232\ttotal: 2.55s\tremaining: 1.2s\n",
      "34:\tlearn: 1369.1842970\ttotal: 2.62s\tremaining: 1.12s\n",
      "35:\tlearn: 1367.4605760\ttotal: 2.68s\tremaining: 1.04s\n",
      "36:\tlearn: 1365.1039756\ttotal: 2.76s\tremaining: 969ms\n",
      "37:\tlearn: 1363.1027452\ttotal: 2.82s\tremaining: 892ms\n",
      "38:\tlearn: 1361.8324082\ttotal: 2.89s\tremaining: 815ms\n",
      "39:\tlearn: 1359.3591456\ttotal: 2.97s\tremaining: 743ms\n",
      "40:\tlearn: 1356.6099344\ttotal: 3.04s\tremaining: 667ms\n",
      "41:\tlearn: 1353.5772858\ttotal: 3.12s\tremaining: 594ms\n",
      "42:\tlearn: 1351.5510157\ttotal: 3.21s\tremaining: 522ms\n",
      "43:\tlearn: 1348.9681668\ttotal: 3.27s\tremaining: 445ms\n",
      "44:\tlearn: 1347.6858761\ttotal: 3.33s\tremaining: 370ms\n",
      "45:\tlearn: 1346.9942717\ttotal: 3.4s\tremaining: 295ms\n",
      "46:\tlearn: 1345.6809461\ttotal: 3.47s\tremaining: 221ms\n",
      "47:\tlearn: 1343.5234090\ttotal: 3.56s\tremaining: 148ms\n",
      "48:\tlearn: 1341.7975278\ttotal: 3.63s\tremaining: 74.1ms\n",
      "49:\tlearn: 1339.5453507\ttotal: 3.7s\tremaining: 0us\n",
      "Learning rate set to 0.5\n",
      "0:\tlearn: 2481.7486807\ttotal: 65.5ms\tremaining: 3.21s\n",
      "1:\tlearn: 2048.6489406\ttotal: 134ms\tremaining: 3.21s\n",
      "2:\tlearn: 1798.2098082\ttotal: 212ms\tremaining: 3.32s\n",
      "3:\tlearn: 1701.9165262\ttotal: 293ms\tremaining: 3.37s\n",
      "4:\tlearn: 1636.9396054\ttotal: 358ms\tremaining: 3.22s\n",
      "5:\tlearn: 1580.2566624\ttotal: 435ms\tremaining: 3.19s\n",
      "6:\tlearn: 1553.4658466\ttotal: 496ms\tremaining: 3.04s\n",
      "7:\tlearn: 1532.4672446\ttotal: 563ms\tremaining: 2.96s\n",
      "8:\tlearn: 1514.8106016\ttotal: 638ms\tremaining: 2.9s\n",
      "9:\tlearn: 1500.3140152\ttotal: 713ms\tremaining: 2.85s\n",
      "10:\tlearn: 1489.2479699\ttotal: 803ms\tremaining: 2.85s\n",
      "11:\tlearn: 1480.3792765\ttotal: 875ms\tremaining: 2.77s\n"
     ]
    },
    {
     "name": "stdout",
     "output_type": "stream",
     "text": [
      "12:\tlearn: 1473.7819186\ttotal: 945ms\tremaining: 2.69s\n",
      "13:\tlearn: 1462.7382856\ttotal: 1.02s\tremaining: 2.61s\n",
      "14:\tlearn: 1454.6671137\ttotal: 1.08s\tremaining: 2.53s\n",
      "15:\tlearn: 1448.8481618\ttotal: 1.16s\tremaining: 2.47s\n",
      "16:\tlearn: 1444.9751142\ttotal: 1.23s\tremaining: 2.38s\n",
      "17:\tlearn: 1442.1436419\ttotal: 1.29s\tremaining: 2.29s\n",
      "18:\tlearn: 1436.4056913\ttotal: 1.35s\tremaining: 2.21s\n",
      "19:\tlearn: 1430.1392844\ttotal: 1.42s\tremaining: 2.13s\n",
      "20:\tlearn: 1424.2213691\ttotal: 1.49s\tremaining: 2.05s\n",
      "21:\tlearn: 1419.5206458\ttotal: 1.56s\tremaining: 1.99s\n",
      "22:\tlearn: 1416.9285168\ttotal: 1.66s\tremaining: 1.95s\n",
      "23:\tlearn: 1413.4646121\ttotal: 1.77s\tremaining: 1.91s\n",
      "24:\tlearn: 1408.5321784\ttotal: 1.85s\tremaining: 1.85s\n",
      "25:\tlearn: 1406.2786842\ttotal: 1.93s\tremaining: 1.78s\n",
      "26:\tlearn: 1403.0872499\ttotal: 2s\tremaining: 1.7s\n",
      "27:\tlearn: 1399.0732405\ttotal: 2.07s\tremaining: 1.62s\n",
      "28:\tlearn: 1393.9904593\ttotal: 2.14s\tremaining: 1.55s\n",
      "29:\tlearn: 1390.9791420\ttotal: 2.23s\tremaining: 1.48s\n",
      "30:\tlearn: 1386.7727757\ttotal: 2.32s\tremaining: 1.42s\n",
      "31:\tlearn: 1383.5561090\ttotal: 2.41s\tremaining: 1.35s\n",
      "32:\tlearn: 1382.5650474\ttotal: 2.49s\tremaining: 1.28s\n",
      "33:\tlearn: 1379.4710439\ttotal: 2.58s\tremaining: 1.22s\n",
      "34:\tlearn: 1377.3892931\ttotal: 2.67s\tremaining: 1.14s\n",
      "35:\tlearn: 1375.1347647\ttotal: 2.74s\tremaining: 1.06s\n",
      "36:\tlearn: 1372.6924735\ttotal: 2.84s\tremaining: 999ms\n",
      "37:\tlearn: 1371.3330257\ttotal: 3.01s\tremaining: 950ms\n",
      "38:\tlearn: 1368.9298984\ttotal: 3.1s\tremaining: 876ms\n",
      "39:\tlearn: 1362.4013024\ttotal: 3.17s\tremaining: 792ms\n",
      "40:\tlearn: 1360.5625599\ttotal: 3.23s\tremaining: 710ms\n",
      "41:\tlearn: 1357.9488248\ttotal: 3.31s\tremaining: 630ms\n",
      "42:\tlearn: 1356.6420022\ttotal: 3.38s\tremaining: 550ms\n",
      "43:\tlearn: 1353.2038123\ttotal: 3.44s\tremaining: 469ms\n",
      "44:\tlearn: 1352.3949741\ttotal: 3.58s\tremaining: 398ms\n",
      "45:\tlearn: 1350.6210746\ttotal: 3.68s\tremaining: 320ms\n",
      "46:\tlearn: 1348.3693992\ttotal: 3.76s\tremaining: 240ms\n",
      "47:\tlearn: 1347.6608909\ttotal: 3.84s\tremaining: 160ms\n",
      "48:\tlearn: 1345.4633265\ttotal: 3.96s\tremaining: 80.9ms\n",
      "49:\tlearn: 1345.0192835\ttotal: 4.02s\tremaining: 0us\n",
      "Learning rate set to 0.5\n",
      "0:\tlearn: 2568.5613557\ttotal: 41.1ms\tremaining: 4.07s\n",
      "1:\tlearn: 2157.6618099\ttotal: 79ms\tremaining: 3.87s\n",
      "2:\tlearn: 1910.0532432\ttotal: 121ms\tremaining: 3.92s\n",
      "3:\tlearn: 1792.0797194\ttotal: 162ms\tremaining: 3.88s\n",
      "4:\tlearn: 1716.1433022\ttotal: 203ms\tremaining: 3.86s\n",
      "5:\tlearn: 1676.6486767\ttotal: 246ms\tremaining: 3.85s\n",
      "6:\tlearn: 1636.0364614\ttotal: 286ms\tremaining: 3.8s\n",
      "7:\tlearn: 1615.5120158\ttotal: 326ms\tremaining: 3.75s\n",
      "8:\tlearn: 1597.9931486\ttotal: 382ms\tremaining: 3.87s\n",
      "9:\tlearn: 1578.8048562\ttotal: 422ms\tremaining: 3.8s\n",
      "10:\tlearn: 1567.1802373\ttotal: 470ms\tremaining: 3.8s\n",
      "11:\tlearn: 1555.7536334\ttotal: 512ms\tremaining: 3.76s\n",
      "12:\tlearn: 1539.5495199\ttotal: 555ms\tremaining: 3.71s\n",
      "13:\tlearn: 1530.0347033\ttotal: 598ms\tremaining: 3.67s\n",
      "14:\tlearn: 1520.7677297\ttotal: 639ms\tremaining: 3.62s\n",
      "15:\tlearn: 1509.4521152\ttotal: 680ms\tremaining: 3.57s\n",
      "16:\tlearn: 1503.3575611\ttotal: 724ms\tremaining: 3.53s\n",
      "17:\tlearn: 1498.5172415\ttotal: 767ms\tremaining: 3.49s\n",
      "18:\tlearn: 1495.0866505\ttotal: 805ms\tremaining: 3.43s\n",
      "19:\tlearn: 1489.7091586\ttotal: 843ms\tremaining: 3.37s\n",
      "20:\tlearn: 1484.9282096\ttotal: 881ms\tremaining: 3.31s\n",
      "21:\tlearn: 1481.7259785\ttotal: 924ms\tremaining: 3.28s\n",
      "22:\tlearn: 1478.4823630\ttotal: 966ms\tremaining: 3.23s\n",
      "23:\tlearn: 1472.1088280\ttotal: 1.01s\tremaining: 3.19s\n",
      "24:\tlearn: 1470.5240784\ttotal: 1.05s\tremaining: 3.14s\n",
      "25:\tlearn: 1460.7972707\ttotal: 1.09s\tremaining: 3.1s\n",
      "26:\tlearn: 1456.4734896\ttotal: 1.13s\tremaining: 3.04s\n",
      "27:\tlearn: 1451.4449286\ttotal: 1.18s\tremaining: 3.04s\n",
      "28:\tlearn: 1446.2640977\ttotal: 1.23s\tremaining: 3.01s\n",
      "29:\tlearn: 1441.5749644\ttotal: 1.27s\tremaining: 2.96s\n",
      "30:\tlearn: 1439.6216960\ttotal: 1.32s\tremaining: 2.95s\n",
      "31:\tlearn: 1437.8370469\ttotal: 1.36s\tremaining: 2.89s\n",
      "32:\tlearn: 1435.0048709\ttotal: 1.4s\tremaining: 2.85s\n",
      "33:\tlearn: 1433.4028383\ttotal: 1.44s\tremaining: 2.8s\n",
      "34:\tlearn: 1430.6455600\ttotal: 1.48s\tremaining: 2.75s\n",
      "35:\tlearn: 1428.0460943\ttotal: 1.52s\tremaining: 2.71s\n",
      "36:\tlearn: 1425.4656292\ttotal: 1.56s\tremaining: 2.65s\n",
      "37:\tlearn: 1422.8790847\ttotal: 1.6s\tremaining: 2.61s\n",
      "38:\tlearn: 1420.1686247\ttotal: 1.64s\tremaining: 2.57s\n",
      "39:\tlearn: 1418.8613771\ttotal: 1.68s\tremaining: 2.52s\n",
      "40:\tlearn: 1418.0848357\ttotal: 1.72s\tremaining: 2.48s\n",
      "41:\tlearn: 1415.0064307\ttotal: 1.76s\tremaining: 2.43s\n",
      "42:\tlearn: 1413.0165807\ttotal: 1.8s\tremaining: 2.39s\n",
      "43:\tlearn: 1410.5502421\ttotal: 1.84s\tremaining: 2.34s\n",
      "44:\tlearn: 1408.2732306\ttotal: 1.88s\tremaining: 2.3s\n",
      "45:\tlearn: 1405.9808012\ttotal: 1.92s\tremaining: 2.25s\n",
      "46:\tlearn: 1404.8785210\ttotal: 1.96s\tremaining: 2.21s\n",
      "47:\tlearn: 1404.1166783\ttotal: 2s\tremaining: 2.16s\n",
      "48:\tlearn: 1402.8225659\ttotal: 2.04s\tremaining: 2.12s\n",
      "49:\tlearn: 1401.6663304\ttotal: 2.08s\tremaining: 2.08s\n",
      "50:\tlearn: 1399.0467579\ttotal: 2.11s\tremaining: 2.03s\n",
      "51:\tlearn: 1398.1504547\ttotal: 2.15s\tremaining: 1.99s\n",
      "52:\tlearn: 1396.8965243\ttotal: 2.19s\tremaining: 1.94s\n",
      "53:\tlearn: 1395.7477338\ttotal: 2.23s\tremaining: 1.9s\n",
      "54:\tlearn: 1393.5690940\ttotal: 2.26s\tremaining: 1.85s\n",
      "55:\tlearn: 1391.4178547\ttotal: 2.3s\tremaining: 1.81s\n",
      "56:\tlearn: 1389.9945032\ttotal: 2.34s\tremaining: 1.76s\n",
      "57:\tlearn: 1388.7692753\ttotal: 2.38s\tremaining: 1.72s\n",
      "58:\tlearn: 1388.0420583\ttotal: 2.41s\tremaining: 1.68s\n",
      "59:\tlearn: 1386.7798730\ttotal: 2.46s\tremaining: 1.64s\n",
      "60:\tlearn: 1385.8423130\ttotal: 2.5s\tremaining: 1.6s\n",
      "61:\tlearn: 1384.9274895\ttotal: 2.54s\tremaining: 1.56s\n",
      "62:\tlearn: 1383.4600470\ttotal: 2.58s\tremaining: 1.52s\n",
      "63:\tlearn: 1382.7006922\ttotal: 2.63s\tremaining: 1.48s\n",
      "64:\tlearn: 1381.3677651\ttotal: 2.66s\tremaining: 1.43s\n",
      "65:\tlearn: 1380.4374440\ttotal: 2.7s\tremaining: 1.39s\n",
      "66:\tlearn: 1378.7208749\ttotal: 2.74s\tremaining: 1.35s\n",
      "67:\tlearn: 1377.6590140\ttotal: 2.78s\tremaining: 1.31s\n",
      "68:\tlearn: 1376.7234093\ttotal: 2.82s\tremaining: 1.26s\n",
      "69:\tlearn: 1375.3717650\ttotal: 2.85s\tremaining: 1.22s\n",
      "70:\tlearn: 1374.5255409\ttotal: 2.9s\tremaining: 1.19s\n",
      "71:\tlearn: 1373.6160625\ttotal: 2.95s\tremaining: 1.15s\n",
      "72:\tlearn: 1373.2408282\ttotal: 2.99s\tremaining: 1.1s\n",
      "73:\tlearn: 1373.1018586\ttotal: 3.03s\tremaining: 1.06s\n",
      "74:\tlearn: 1371.9740931\ttotal: 3.06s\tremaining: 1.02s\n",
      "75:\tlearn: 1370.1288924\ttotal: 3.1s\tremaining: 978ms\n",
      "76:\tlearn: 1369.1744320\ttotal: 3.13s\tremaining: 936ms\n",
      "77:\tlearn: 1368.2999740\ttotal: 3.17s\tremaining: 895ms\n",
      "78:\tlearn: 1367.5574657\ttotal: 3.21s\tremaining: 853ms\n",
      "79:\tlearn: 1366.7051809\ttotal: 3.24s\tremaining: 811ms\n",
      "80:\tlearn: 1366.5504267\ttotal: 3.28s\tremaining: 770ms\n",
      "81:\tlearn: 1365.4805983\ttotal: 3.32s\tremaining: 728ms\n",
      "82:\tlearn: 1364.6619579\ttotal: 3.35s\tremaining: 687ms\n",
      "83:\tlearn: 1364.4168989\ttotal: 3.39s\tremaining: 646ms\n",
      "84:\tlearn: 1363.7395837\ttotal: 3.43s\tremaining: 605ms\n",
      "85:\tlearn: 1363.0076343\ttotal: 3.47s\tremaining: 564ms\n",
      "86:\tlearn: 1361.6698586\ttotal: 3.5s\tremaining: 523ms\n",
      "87:\tlearn: 1361.0658141\ttotal: 3.54s\tremaining: 483ms\n",
      "88:\tlearn: 1360.9060522\ttotal: 3.58s\tremaining: 442ms\n",
      "89:\tlearn: 1360.6253578\ttotal: 3.62s\tremaining: 402ms\n",
      "90:\tlearn: 1359.6697867\ttotal: 3.65s\tremaining: 361ms\n",
      "91:\tlearn: 1358.8881273\ttotal: 3.69s\tremaining: 321ms\n",
      "92:\tlearn: 1358.4487535\ttotal: 3.72s\tremaining: 280ms\n",
      "93:\tlearn: 1357.5460374\ttotal: 3.77s\tremaining: 241ms\n",
      "94:\tlearn: 1356.4279057\ttotal: 3.81s\tremaining: 200ms\n",
      "95:\tlearn: 1356.1486164\ttotal: 3.85s\tremaining: 160ms\n",
      "96:\tlearn: 1355.4152283\ttotal: 3.89s\tremaining: 120ms\n",
      "97:\tlearn: 1354.5173855\ttotal: 3.93s\tremaining: 80.1ms\n",
      "98:\tlearn: 1354.0461565\ttotal: 3.98s\tremaining: 40.2ms\n",
      "99:\tlearn: 1353.4457578\ttotal: 4.02s\tremaining: 0us\n",
      "Learning rate set to 0.5\n",
      "0:\tlearn: 2557.9441278\ttotal: 41.7ms\tremaining: 4.13s\n",
      "1:\tlearn: 2149.3120949\ttotal: 81.5ms\tremaining: 3.99s\n",
      "2:\tlearn: 1948.2497859\ttotal: 123ms\tremaining: 3.98s\n",
      "3:\tlearn: 1818.4779960\ttotal: 164ms\tremaining: 3.95s\n",
      "4:\tlearn: 1729.1635078\ttotal: 211ms\tremaining: 4.01s\n",
      "5:\tlearn: 1692.0050012\ttotal: 256ms\tremaining: 4.01s\n",
      "6:\tlearn: 1658.1499589\ttotal: 302ms\tremaining: 4.01s\n",
      "7:\tlearn: 1637.9421603\ttotal: 344ms\tremaining: 3.96s\n",
      "8:\tlearn: 1621.6396279\ttotal: 402ms\tremaining: 4.06s\n",
      "9:\tlearn: 1594.4320266\ttotal: 454ms\tremaining: 4.09s\n",
      "10:\tlearn: 1577.7818856\ttotal: 501ms\tremaining: 4.05s\n",
      "11:\tlearn: 1564.2387058\ttotal: 545ms\tremaining: 3.99s\n",
      "12:\tlearn: 1548.3176241\ttotal: 585ms\tremaining: 3.92s\n",
      "13:\tlearn: 1540.0334392\ttotal: 624ms\tremaining: 3.83s\n",
      "14:\tlearn: 1532.1577381\ttotal: 666ms\tremaining: 3.77s\n"
     ]
    },
    {
     "name": "stdout",
     "output_type": "stream",
     "text": [
      "15:\tlearn: 1525.2346760\ttotal: 702ms\tremaining: 3.68s\n",
      "16:\tlearn: 1514.5524484\ttotal: 743ms\tremaining: 3.63s\n",
      "17:\tlearn: 1508.4497163\ttotal: 785ms\tremaining: 3.58s\n",
      "18:\tlearn: 1498.5580420\ttotal: 822ms\tremaining: 3.5s\n",
      "19:\tlearn: 1493.9424771\ttotal: 861ms\tremaining: 3.44s\n",
      "20:\tlearn: 1491.1365787\ttotal: 898ms\tremaining: 3.38s\n",
      "21:\tlearn: 1487.1082182\ttotal: 937ms\tremaining: 3.32s\n",
      "22:\tlearn: 1481.5792618\ttotal: 975ms\tremaining: 3.26s\n",
      "23:\tlearn: 1475.2309854\ttotal: 1.01s\tremaining: 3.21s\n",
      "24:\tlearn: 1465.4492591\ttotal: 1.05s\tremaining: 3.16s\n",
      "25:\tlearn: 1462.2253116\ttotal: 1.09s\tremaining: 3.12s\n",
      "26:\tlearn: 1458.8996777\ttotal: 1.14s\tremaining: 3.07s\n",
      "27:\tlearn: 1455.5909805\ttotal: 1.18s\tremaining: 3.04s\n",
      "28:\tlearn: 1451.8481488\ttotal: 1.23s\tremaining: 3.02s\n",
      "29:\tlearn: 1448.8741049\ttotal: 1.29s\tremaining: 3.01s\n",
      "30:\tlearn: 1445.4638908\ttotal: 1.33s\tremaining: 2.96s\n",
      "31:\tlearn: 1442.4429614\ttotal: 1.38s\tremaining: 2.92s\n",
      "32:\tlearn: 1440.6494589\ttotal: 1.42s\tremaining: 2.88s\n",
      "33:\tlearn: 1438.2763814\ttotal: 1.46s\tremaining: 2.84s\n",
      "34:\tlearn: 1436.0637252\ttotal: 1.5s\tremaining: 2.79s\n",
      "35:\tlearn: 1434.1202843\ttotal: 1.54s\tremaining: 2.75s\n",
      "36:\tlearn: 1431.9423365\ttotal: 1.59s\tremaining: 2.7s\n",
      "37:\tlearn: 1430.1773349\ttotal: 1.63s\tremaining: 2.65s\n",
      "38:\tlearn: 1428.7704015\ttotal: 1.67s\tremaining: 2.61s\n",
      "39:\tlearn: 1426.0600274\ttotal: 1.72s\tremaining: 2.58s\n",
      "40:\tlearn: 1421.3838167\ttotal: 1.76s\tremaining: 2.53s\n",
      "41:\tlearn: 1418.9573229\ttotal: 1.8s\tremaining: 2.48s\n",
      "42:\tlearn: 1417.1816535\ttotal: 1.84s\tremaining: 2.43s\n",
      "43:\tlearn: 1416.6329623\ttotal: 1.88s\tremaining: 2.39s\n",
      "44:\tlearn: 1416.2804317\ttotal: 1.92s\tremaining: 2.35s\n",
      "45:\tlearn: 1415.4779405\ttotal: 1.96s\tremaining: 2.3s\n",
      "46:\tlearn: 1414.4842383\ttotal: 2s\tremaining: 2.26s\n",
      "47:\tlearn: 1412.4390477\ttotal: 2.04s\tremaining: 2.21s\n",
      "48:\tlearn: 1410.9475910\ttotal: 2.08s\tremaining: 2.17s\n",
      "49:\tlearn: 1409.5107033\ttotal: 2.13s\tremaining: 2.13s\n",
      "50:\tlearn: 1407.5146212\ttotal: 2.19s\tremaining: 2.1s\n",
      "51:\tlearn: 1405.6960721\ttotal: 2.23s\tremaining: 2.06s\n",
      "52:\tlearn: 1403.9437449\ttotal: 2.27s\tremaining: 2.02s\n",
      "53:\tlearn: 1402.9406092\ttotal: 2.31s\tremaining: 1.97s\n",
      "54:\tlearn: 1401.8200722\ttotal: 2.42s\tremaining: 1.98s\n",
      "55:\tlearn: 1400.8932648\ttotal: 2.46s\tremaining: 1.93s\n",
      "56:\tlearn: 1399.7841247\ttotal: 2.5s\tremaining: 1.88s\n",
      "57:\tlearn: 1398.6265529\ttotal: 2.54s\tremaining: 1.84s\n",
      "58:\tlearn: 1397.9957342\ttotal: 2.58s\tremaining: 1.79s\n",
      "59:\tlearn: 1397.1338065\ttotal: 2.62s\tremaining: 1.75s\n",
      "60:\tlearn: 1396.0099677\ttotal: 2.66s\tremaining: 1.7s\n",
      "61:\tlearn: 1395.5326341\ttotal: 2.7s\tremaining: 1.65s\n",
      "62:\tlearn: 1394.9142844\ttotal: 2.73s\tremaining: 1.61s\n",
      "63:\tlearn: 1393.8511811\ttotal: 2.77s\tremaining: 1.56s\n",
      "64:\tlearn: 1392.1954697\ttotal: 2.81s\tremaining: 1.51s\n",
      "65:\tlearn: 1391.1887067\ttotal: 2.85s\tremaining: 1.47s\n",
      "66:\tlearn: 1390.5850407\ttotal: 2.89s\tremaining: 1.42s\n",
      "67:\tlearn: 1388.4846340\ttotal: 2.92s\tremaining: 1.38s\n",
      "68:\tlearn: 1387.0185956\ttotal: 2.96s\tremaining: 1.33s\n",
      "69:\tlearn: 1386.7482181\ttotal: 2.99s\tremaining: 1.28s\n",
      "70:\tlearn: 1384.4665712\ttotal: 3.04s\tremaining: 1.24s\n",
      "71:\tlearn: 1383.3753536\ttotal: 3.08s\tremaining: 1.2s\n",
      "72:\tlearn: 1382.2801062\ttotal: 3.12s\tremaining: 1.15s\n",
      "73:\tlearn: 1381.8043284\ttotal: 3.16s\tremaining: 1.11s\n",
      "74:\tlearn: 1381.5018094\ttotal: 3.21s\tremaining: 1.07s\n",
      "75:\tlearn: 1381.1023965\ttotal: 3.25s\tremaining: 1.03s\n",
      "76:\tlearn: 1380.3912011\ttotal: 3.29s\tremaining: 984ms\n",
      "77:\tlearn: 1378.4895128\ttotal: 3.33s\tremaining: 940ms\n",
      "78:\tlearn: 1378.4490328\ttotal: 3.37s\tremaining: 896ms\n",
      "79:\tlearn: 1377.8622364\ttotal: 3.41s\tremaining: 852ms\n",
      "80:\tlearn: 1377.8413774\ttotal: 3.45s\tremaining: 809ms\n",
      "81:\tlearn: 1377.0787520\ttotal: 3.48s\tremaining: 765ms\n",
      "82:\tlearn: 1376.1877701\ttotal: 3.52s\tremaining: 722ms\n",
      "83:\tlearn: 1375.3085768\ttotal: 3.56s\tremaining: 678ms\n",
      "84:\tlearn: 1374.4752638\ttotal: 3.6s\tremaining: 635ms\n",
      "85:\tlearn: 1374.1479488\ttotal: 3.63s\tremaining: 592ms\n",
      "86:\tlearn: 1373.6261798\ttotal: 3.67s\tremaining: 549ms\n",
      "87:\tlearn: 1372.5060381\ttotal: 3.71s\tremaining: 505ms\n",
      "88:\tlearn: 1371.8865319\ttotal: 3.74s\tremaining: 463ms\n",
      "89:\tlearn: 1371.2070436\ttotal: 3.78s\tremaining: 420ms\n",
      "90:\tlearn: 1370.6742329\ttotal: 3.81s\tremaining: 377ms\n",
      "91:\tlearn: 1369.7044664\ttotal: 3.85s\tremaining: 335ms\n",
      "92:\tlearn: 1369.4111298\ttotal: 3.92s\tremaining: 295ms\n",
      "93:\tlearn: 1368.8035152\ttotal: 3.96s\tremaining: 252ms\n",
      "94:\tlearn: 1368.1546286\ttotal: 3.99s\tremaining: 210ms\n",
      "95:\tlearn: 1367.4209919\ttotal: 4.03s\tremaining: 168ms\n",
      "96:\tlearn: 1366.8725380\ttotal: 4.07s\tremaining: 126ms\n",
      "97:\tlearn: 1366.0665022\ttotal: 4.1s\tremaining: 83.7ms\n",
      "98:\tlearn: 1365.1311834\ttotal: 4.14s\tremaining: 41.8ms\n",
      "99:\tlearn: 1364.5773598\ttotal: 4.18s\tremaining: 0us\n",
      "Learning rate set to 0.5\n",
      "0:\tlearn: 2565.4493658\ttotal: 39.7ms\tremaining: 3.93s\n",
      "1:\tlearn: 2156.0360333\ttotal: 76.6ms\tremaining: 3.75s\n",
      "2:\tlearn: 1939.7003126\ttotal: 117ms\tremaining: 3.78s\n",
      "3:\tlearn: 1806.5267666\ttotal: 154ms\tremaining: 3.7s\n",
      "4:\tlearn: 1749.7883640\ttotal: 191ms\tremaining: 3.63s\n",
      "5:\tlearn: 1691.6305323\ttotal: 227ms\tremaining: 3.56s\n",
      "6:\tlearn: 1643.7003778\ttotal: 267ms\tremaining: 3.54s\n",
      "7:\tlearn: 1621.0242259\ttotal: 308ms\tremaining: 3.54s\n",
      "8:\tlearn: 1605.3364357\ttotal: 360ms\tremaining: 3.64s\n",
      "9:\tlearn: 1592.6766824\ttotal: 398ms\tremaining: 3.58s\n",
      "10:\tlearn: 1577.3634987\ttotal: 434ms\tremaining: 3.51s\n",
      "11:\tlearn: 1564.1820616\ttotal: 469ms\tremaining: 3.44s\n",
      "12:\tlearn: 1545.5763110\ttotal: 505ms\tremaining: 3.38s\n",
      "13:\tlearn: 1533.6884150\ttotal: 542ms\tremaining: 3.33s\n",
      "14:\tlearn: 1524.0953194\ttotal: 579ms\tremaining: 3.28s\n",
      "15:\tlearn: 1515.0272437\ttotal: 618ms\tremaining: 3.24s\n",
      "16:\tlearn: 1509.8481150\ttotal: 675ms\tremaining: 3.3s\n",
      "17:\tlearn: 1501.1883106\ttotal: 736ms\tremaining: 3.35s\n",
      "18:\tlearn: 1498.4184527\ttotal: 793ms\tremaining: 3.38s\n",
      "19:\tlearn: 1493.5948418\ttotal: 851ms\tremaining: 3.4s\n",
      "20:\tlearn: 1488.9142524\ttotal: 902ms\tremaining: 3.39s\n",
      "21:\tlearn: 1484.4349808\ttotal: 946ms\tremaining: 3.35s\n",
      "22:\tlearn: 1479.5009781\ttotal: 989ms\tremaining: 3.31s\n",
      "23:\tlearn: 1476.4567759\ttotal: 1.04s\tremaining: 3.29s\n",
      "24:\tlearn: 1474.8493929\ttotal: 1.08s\tremaining: 3.25s\n",
      "25:\tlearn: 1471.2887459\ttotal: 1.13s\tremaining: 3.21s\n",
      "26:\tlearn: 1468.0104055\ttotal: 1.18s\tremaining: 3.18s\n",
      "27:\tlearn: 1462.8304469\ttotal: 1.23s\tremaining: 3.15s\n",
      "28:\tlearn: 1460.0277196\ttotal: 1.27s\tremaining: 3.12s\n",
      "29:\tlearn: 1457.5138334\ttotal: 1.33s\tremaining: 3.11s\n",
      "30:\tlearn: 1453.0444708\ttotal: 1.38s\tremaining: 3.07s\n",
      "31:\tlearn: 1450.5963296\ttotal: 1.43s\tremaining: 3.03s\n",
      "32:\tlearn: 1442.8027664\ttotal: 1.47s\tremaining: 2.99s\n",
      "33:\tlearn: 1439.3434398\ttotal: 1.51s\tremaining: 2.94s\n",
      "34:\tlearn: 1436.5739435\ttotal: 1.55s\tremaining: 2.88s\n",
      "35:\tlearn: 1433.9568583\ttotal: 1.59s\tremaining: 2.83s\n",
      "36:\tlearn: 1430.6998152\ttotal: 1.63s\tremaining: 2.77s\n",
      "37:\tlearn: 1428.3645628\ttotal: 1.67s\tremaining: 2.72s\n",
      "38:\tlearn: 1425.3129865\ttotal: 1.7s\tremaining: 2.66s\n",
      "39:\tlearn: 1422.8486615\ttotal: 1.74s\tremaining: 2.61s\n",
      "40:\tlearn: 1420.9263892\ttotal: 1.79s\tremaining: 2.57s\n",
      "41:\tlearn: 1417.5543014\ttotal: 1.82s\tremaining: 2.52s\n",
      "42:\tlearn: 1415.3723079\ttotal: 1.86s\tremaining: 2.47s\n",
      "43:\tlearn: 1414.4252053\ttotal: 1.9s\tremaining: 2.42s\n",
      "44:\tlearn: 1413.2035353\ttotal: 1.94s\tremaining: 2.38s\n",
      "45:\tlearn: 1411.9443281\ttotal: 1.98s\tremaining: 2.33s\n",
      "46:\tlearn: 1411.0654328\ttotal: 2.02s\tremaining: 2.28s\n",
      "47:\tlearn: 1409.4591343\ttotal: 2.06s\tremaining: 2.23s\n",
      "48:\tlearn: 1407.5958388\ttotal: 2.1s\tremaining: 2.18s\n",
      "49:\tlearn: 1406.0077500\ttotal: 2.13s\tremaining: 2.13s\n",
      "50:\tlearn: 1404.2528129\ttotal: 2.17s\tremaining: 2.08s\n",
      "51:\tlearn: 1402.4847262\ttotal: 2.21s\tremaining: 2.04s\n",
      "52:\tlearn: 1400.6255852\ttotal: 2.25s\tremaining: 1.99s\n",
      "53:\tlearn: 1399.7566618\ttotal: 2.29s\tremaining: 1.95s\n",
      "54:\tlearn: 1397.7629446\ttotal: 2.33s\tremaining: 1.9s\n",
      "55:\tlearn: 1396.6295665\ttotal: 2.36s\tremaining: 1.86s\n",
      "56:\tlearn: 1396.4542568\ttotal: 2.4s\tremaining: 1.81s\n",
      "57:\tlearn: 1395.8444060\ttotal: 2.44s\tremaining: 1.77s\n",
      "58:\tlearn: 1395.6354971\ttotal: 2.49s\tremaining: 1.73s\n",
      "59:\tlearn: 1393.9590081\ttotal: 2.53s\tremaining: 1.69s\n",
      "60:\tlearn: 1393.3407532\ttotal: 2.58s\tremaining: 1.65s\n",
      "61:\tlearn: 1392.1780251\ttotal: 2.61s\tremaining: 1.6s\n",
      "62:\tlearn: 1391.8496717\ttotal: 2.65s\tremaining: 1.56s\n",
      "63:\tlearn: 1390.4572189\ttotal: 2.69s\tremaining: 1.51s\n",
      "64:\tlearn: 1389.3450039\ttotal: 2.73s\tremaining: 1.47s\n",
      "65:\tlearn: 1388.4832205\ttotal: 2.78s\tremaining: 1.43s\n",
      "66:\tlearn: 1386.9416788\ttotal: 2.82s\tremaining: 1.39s\n",
      "67:\tlearn: 1385.5822226\ttotal: 2.86s\tremaining: 1.35s\n",
      "68:\tlearn: 1383.9653438\ttotal: 2.9s\tremaining: 1.3s\n"
     ]
    },
    {
     "name": "stdout",
     "output_type": "stream",
     "text": [
      "69:\tlearn: 1382.7881718\ttotal: 2.94s\tremaining: 1.26s\n",
      "70:\tlearn: 1381.7582592\ttotal: 2.98s\tremaining: 1.22s\n",
      "71:\tlearn: 1381.3861655\ttotal: 3.02s\tremaining: 1.18s\n",
      "72:\tlearn: 1379.2915340\ttotal: 3.06s\tremaining: 1.13s\n",
      "73:\tlearn: 1378.4467913\ttotal: 3.1s\tremaining: 1.09s\n",
      "74:\tlearn: 1377.1062383\ttotal: 3.14s\tremaining: 1.05s\n",
      "75:\tlearn: 1376.1957140\ttotal: 3.19s\tremaining: 1s\n",
      "76:\tlearn: 1375.2165747\ttotal: 3.23s\tremaining: 963ms\n",
      "77:\tlearn: 1374.5978691\ttotal: 3.29s\tremaining: 927ms\n",
      "78:\tlearn: 1374.4239646\ttotal: 3.33s\tremaining: 886ms\n",
      "79:\tlearn: 1373.2584118\ttotal: 3.38s\tremaining: 844ms\n",
      "80:\tlearn: 1372.8632140\ttotal: 3.44s\tremaining: 808ms\n",
      "81:\tlearn: 1372.6045268\ttotal: 3.5s\tremaining: 769ms\n",
      "82:\tlearn: 1371.4534621\ttotal: 3.54s\tremaining: 725ms\n",
      "83:\tlearn: 1370.6709840\ttotal: 3.58s\tremaining: 682ms\n",
      "84:\tlearn: 1369.9786318\ttotal: 3.63s\tremaining: 640ms\n",
      "85:\tlearn: 1369.9613718\ttotal: 3.67s\tremaining: 597ms\n",
      "86:\tlearn: 1369.2363502\ttotal: 3.7s\tremaining: 553ms\n",
      "87:\tlearn: 1368.8876506\ttotal: 3.74s\tremaining: 511ms\n",
      "88:\tlearn: 1368.4184605\ttotal: 3.79s\tremaining: 468ms\n",
      "89:\tlearn: 1367.9088106\ttotal: 3.83s\tremaining: 425ms\n",
      "90:\tlearn: 1366.8519874\ttotal: 3.87s\tremaining: 382ms\n",
      "91:\tlearn: 1366.6302051\ttotal: 3.91s\tremaining: 340ms\n",
      "92:\tlearn: 1365.8985868\ttotal: 3.94s\tremaining: 297ms\n",
      "93:\tlearn: 1365.1455780\ttotal: 3.98s\tremaining: 254ms\n",
      "94:\tlearn: 1363.8099331\ttotal: 4.02s\tremaining: 212ms\n",
      "95:\tlearn: 1363.0050018\ttotal: 4.06s\tremaining: 169ms\n",
      "96:\tlearn: 1362.5640659\ttotal: 4.11s\tremaining: 127ms\n",
      "97:\tlearn: 1361.8292536\ttotal: 4.15s\tremaining: 84.7ms\n",
      "98:\tlearn: 1360.6795106\ttotal: 4.19s\tremaining: 42.3ms\n",
      "99:\tlearn: 1359.9932336\ttotal: 4.22s\tremaining: 0us\n",
      "Learning rate set to 0.5\n",
      "0:\tlearn: 2564.7201720\ttotal: 39ms\tremaining: 3.86s\n",
      "1:\tlearn: 2152.8520048\ttotal: 75ms\tremaining: 3.67s\n",
      "2:\tlearn: 1923.9137366\ttotal: 114ms\tremaining: 3.7s\n",
      "3:\tlearn: 1799.4358836\ttotal: 150ms\tremaining: 3.61s\n",
      "4:\tlearn: 1738.5502237\ttotal: 196ms\tremaining: 3.72s\n",
      "5:\tlearn: 1683.2496116\ttotal: 231ms\tremaining: 3.62s\n",
      "6:\tlearn: 1637.8967894\ttotal: 272ms\tremaining: 3.61s\n",
      "7:\tlearn: 1613.0492666\ttotal: 324ms\tremaining: 3.73s\n",
      "8:\tlearn: 1593.4371072\ttotal: 366ms\tremaining: 3.7s\n",
      "9:\tlearn: 1578.7617065\ttotal: 408ms\tremaining: 3.67s\n",
      "10:\tlearn: 1565.7871154\ttotal: 449ms\tremaining: 3.63s\n",
      "11:\tlearn: 1550.9638274\ttotal: 489ms\tremaining: 3.59s\n",
      "12:\tlearn: 1542.8873918\ttotal: 537ms\tremaining: 3.59s\n",
      "13:\tlearn: 1532.8812920\ttotal: 577ms\tremaining: 3.54s\n",
      "14:\tlearn: 1524.3576627\ttotal: 611ms\tremaining: 3.46s\n",
      "15:\tlearn: 1508.5748614\ttotal: 651ms\tremaining: 3.42s\n",
      "16:\tlearn: 1500.0173246\ttotal: 688ms\tremaining: 3.36s\n",
      "17:\tlearn: 1495.4023867\ttotal: 732ms\tremaining: 3.33s\n",
      "18:\tlearn: 1490.8953274\ttotal: 769ms\tremaining: 3.28s\n",
      "19:\tlearn: 1485.6878074\ttotal: 804ms\tremaining: 3.22s\n",
      "20:\tlearn: 1482.1666198\ttotal: 841ms\tremaining: 3.16s\n",
      "21:\tlearn: 1478.7804792\ttotal: 877ms\tremaining: 3.11s\n",
      "22:\tlearn: 1475.5569008\ttotal: 913ms\tremaining: 3.06s\n",
      "23:\tlearn: 1471.0538311\ttotal: 956ms\tremaining: 3.03s\n",
      "24:\tlearn: 1466.2620253\ttotal: 994ms\tremaining: 2.98s\n",
      "25:\tlearn: 1462.9419470\ttotal: 1.03s\tremaining: 2.94s\n",
      "26:\tlearn: 1459.1044855\ttotal: 1.08s\tremaining: 2.92s\n",
      "27:\tlearn: 1456.4484671\ttotal: 1.12s\tremaining: 2.87s\n",
      "28:\tlearn: 1453.4855202\ttotal: 1.15s\tremaining: 2.82s\n",
      "29:\tlearn: 1447.7322044\ttotal: 1.19s\tremaining: 2.78s\n",
      "30:\tlearn: 1443.4387635\ttotal: 1.23s\tremaining: 2.74s\n",
      "31:\tlearn: 1440.5327172\ttotal: 1.27s\tremaining: 2.69s\n",
      "32:\tlearn: 1437.4480263\ttotal: 1.3s\tremaining: 2.65s\n",
      "33:\tlearn: 1434.3832902\ttotal: 1.34s\tremaining: 2.6s\n",
      "34:\tlearn: 1431.9247160\ttotal: 1.38s\tremaining: 2.56s\n",
      "35:\tlearn: 1429.8679110\ttotal: 1.42s\tremaining: 2.52s\n",
      "36:\tlearn: 1426.2819594\ttotal: 1.46s\tremaining: 2.48s\n",
      "37:\tlearn: 1423.7474552\ttotal: 1.49s\tremaining: 2.44s\n",
      "38:\tlearn: 1421.6761078\ttotal: 1.53s\tremaining: 2.4s\n",
      "39:\tlearn: 1419.8576921\ttotal: 1.57s\tremaining: 2.36s\n",
      "40:\tlearn: 1417.2588808\ttotal: 1.61s\tremaining: 2.31s\n",
      "41:\tlearn: 1415.0648224\ttotal: 1.65s\tremaining: 2.27s\n",
      "42:\tlearn: 1412.2325849\ttotal: 1.68s\tremaining: 2.23s\n",
      "43:\tlearn: 1409.6964562\ttotal: 1.72s\tremaining: 2.18s\n",
      "44:\tlearn: 1407.1181281\ttotal: 1.75s\tremaining: 2.14s\n",
      "45:\tlearn: 1405.0847262\ttotal: 1.79s\tremaining: 2.1s\n",
      "46:\tlearn: 1402.3641797\ttotal: 1.82s\tremaining: 2.06s\n",
      "47:\tlearn: 1401.6054533\ttotal: 1.86s\tremaining: 2.02s\n",
      "48:\tlearn: 1400.3485348\ttotal: 1.9s\tremaining: 1.97s\n",
      "49:\tlearn: 1398.4235619\ttotal: 1.93s\tremaining: 1.93s\n",
      "50:\tlearn: 1397.5320364\ttotal: 1.97s\tremaining: 1.89s\n",
      "51:\tlearn: 1396.4967968\ttotal: 2.01s\tremaining: 1.85s\n",
      "52:\tlearn: 1395.5216571\ttotal: 2.05s\tremaining: 1.81s\n",
      "53:\tlearn: 1394.9150606\ttotal: 2.08s\tremaining: 1.77s\n",
      "54:\tlearn: 1393.7069624\ttotal: 2.12s\tremaining: 1.74s\n",
      "55:\tlearn: 1392.3461190\ttotal: 2.16s\tremaining: 1.7s\n",
      "56:\tlearn: 1391.5524288\ttotal: 2.19s\tremaining: 1.66s\n",
      "57:\tlearn: 1390.3910518\ttotal: 2.23s\tremaining: 1.62s\n",
      "58:\tlearn: 1389.3687117\ttotal: 2.27s\tremaining: 1.58s\n",
      "59:\tlearn: 1388.2114048\ttotal: 2.32s\tremaining: 1.55s\n",
      "60:\tlearn: 1386.8005752\ttotal: 2.36s\tremaining: 1.51s\n",
      "61:\tlearn: 1385.6359387\ttotal: 2.4s\tremaining: 1.47s\n",
      "62:\tlearn: 1384.3057078\ttotal: 2.44s\tremaining: 1.43s\n",
      "63:\tlearn: 1382.7851880\ttotal: 2.48s\tremaining: 1.39s\n",
      "64:\tlearn: 1382.1363760\ttotal: 2.52s\tremaining: 1.35s\n",
      "65:\tlearn: 1381.1926956\ttotal: 2.55s\tremaining: 1.31s\n",
      "66:\tlearn: 1380.7933662\ttotal: 2.59s\tremaining: 1.27s\n",
      "67:\tlearn: 1379.9184417\ttotal: 2.63s\tremaining: 1.24s\n",
      "68:\tlearn: 1379.6058409\ttotal: 2.66s\tremaining: 1.2s\n",
      "69:\tlearn: 1379.1216531\ttotal: 2.7s\tremaining: 1.16s\n",
      "70:\tlearn: 1378.4164684\ttotal: 2.74s\tremaining: 1.12s\n",
      "71:\tlearn: 1378.1667024\ttotal: 2.78s\tremaining: 1.08s\n",
      "72:\tlearn: 1377.5634294\ttotal: 2.82s\tremaining: 1.04s\n",
      "73:\tlearn: 1376.6438951\ttotal: 2.85s\tremaining: 1s\n",
      "74:\tlearn: 1375.5764578\ttotal: 2.89s\tremaining: 964ms\n",
      "75:\tlearn: 1374.4144229\ttotal: 2.93s\tremaining: 925ms\n",
      "76:\tlearn: 1374.0768258\ttotal: 2.96s\tremaining: 886ms\n",
      "77:\tlearn: 1372.6708824\ttotal: 3.01s\tremaining: 848ms\n",
      "78:\tlearn: 1371.7495569\ttotal: 3.04s\tremaining: 808ms\n",
      "79:\tlearn: 1370.8656925\ttotal: 3.08s\tremaining: 770ms\n",
      "80:\tlearn: 1370.3095819\ttotal: 3.12s\tremaining: 731ms\n",
      "81:\tlearn: 1369.7586179\ttotal: 3.15s\tremaining: 693ms\n",
      "82:\tlearn: 1368.8015329\ttotal: 3.19s\tremaining: 654ms\n",
      "83:\tlearn: 1368.0338812\ttotal: 3.23s\tremaining: 615ms\n",
      "84:\tlearn: 1367.6791199\ttotal: 3.27s\tremaining: 577ms\n",
      "85:\tlearn: 1367.3141262\ttotal: 3.32s\tremaining: 540ms\n",
      "86:\tlearn: 1366.9848599\ttotal: 3.43s\tremaining: 512ms\n",
      "87:\tlearn: 1366.3491980\ttotal: 3.48s\tremaining: 475ms\n",
      "88:\tlearn: 1365.3675061\ttotal: 3.52s\tremaining: 435ms\n",
      "89:\tlearn: 1364.5859986\ttotal: 3.57s\tremaining: 397ms\n",
      "90:\tlearn: 1364.2960762\ttotal: 3.62s\tremaining: 358ms\n",
      "91:\tlearn: 1363.7900833\ttotal: 3.66s\tremaining: 318ms\n",
      "92:\tlearn: 1363.2257150\ttotal: 3.7s\tremaining: 278ms\n",
      "93:\tlearn: 1362.9035793\ttotal: 3.74s\tremaining: 239ms\n",
      "94:\tlearn: 1361.7456081\ttotal: 3.79s\tremaining: 199ms\n",
      "95:\tlearn: 1360.8538852\ttotal: 3.83s\tremaining: 160ms\n",
      "96:\tlearn: 1360.3963385\ttotal: 3.89s\tremaining: 120ms\n",
      "97:\tlearn: 1360.0038768\ttotal: 3.93s\tremaining: 80.2ms\n",
      "98:\tlearn: 1359.4579357\ttotal: 3.98s\tremaining: 40.2ms\n",
      "99:\tlearn: 1358.6286777\ttotal: 4.02s\tremaining: 0us\n",
      "Learning rate set to 0.5\n",
      "0:\tlearn: 2597.9756397\ttotal: 40.1ms\tremaining: 3.97s\n",
      "1:\tlearn: 2161.7316141\ttotal: 77.5ms\tremaining: 3.8s\n",
      "2:\tlearn: 1944.1180430\ttotal: 119ms\tremaining: 3.86s\n",
      "3:\tlearn: 1809.4875784\ttotal: 159ms\tremaining: 3.81s\n",
      "4:\tlearn: 1743.7175572\ttotal: 197ms\tremaining: 3.75s\n",
      "5:\tlearn: 1685.1381431\ttotal: 238ms\tremaining: 3.73s\n",
      "6:\tlearn: 1646.7958828\ttotal: 284ms\tremaining: 3.77s\n",
      "7:\tlearn: 1623.3670463\ttotal: 320ms\tremaining: 3.68s\n",
      "8:\tlearn: 1604.1340485\ttotal: 359ms\tremaining: 3.63s\n",
      "9:\tlearn: 1589.7026838\ttotal: 401ms\tremaining: 3.61s\n",
      "10:\tlearn: 1574.2527039\ttotal: 439ms\tremaining: 3.55s\n",
      "11:\tlearn: 1560.0168044\ttotal: 482ms\tremaining: 3.54s\n",
      "12:\tlearn: 1551.6737676\ttotal: 522ms\tremaining: 3.49s\n",
      "13:\tlearn: 1539.5445662\ttotal: 560ms\tremaining: 3.44s\n",
      "14:\tlearn: 1530.0611497\ttotal: 598ms\tremaining: 3.39s\n",
      "15:\tlearn: 1518.0301332\ttotal: 638ms\tremaining: 3.35s\n",
      "16:\tlearn: 1510.6189682\ttotal: 676ms\tremaining: 3.3s\n",
      "17:\tlearn: 1505.4979610\ttotal: 718ms\tremaining: 3.27s\n",
      "18:\tlearn: 1498.6689254\ttotal: 756ms\tremaining: 3.22s\n",
      "19:\tlearn: 1493.2298704\ttotal: 793ms\tremaining: 3.17s\n",
      "20:\tlearn: 1488.7465638\ttotal: 832ms\tremaining: 3.13s\n"
     ]
    },
    {
     "name": "stdout",
     "output_type": "stream",
     "text": [
      "21:\tlearn: 1481.0366774\ttotal: 876ms\tremaining: 3.1s\n",
      "22:\tlearn: 1476.7863779\ttotal: 919ms\tremaining: 3.08s\n",
      "23:\tlearn: 1474.8713414\ttotal: 961ms\tremaining: 3.04s\n",
      "24:\tlearn: 1470.3333794\ttotal: 1.01s\tremaining: 3.02s\n",
      "25:\tlearn: 1466.6540806\ttotal: 1.05s\tremaining: 3s\n",
      "26:\tlearn: 1461.4515735\ttotal: 1.1s\tremaining: 2.97s\n",
      "27:\tlearn: 1459.8749311\ttotal: 1.14s\tremaining: 2.94s\n",
      "28:\tlearn: 1455.1118015\ttotal: 1.23s\tremaining: 3.01s\n",
      "29:\tlearn: 1451.9834167\ttotal: 1.27s\tremaining: 2.97s\n",
      "30:\tlearn: 1449.3086296\ttotal: 1.32s\tremaining: 2.94s\n",
      "31:\tlearn: 1445.9778471\ttotal: 1.36s\tremaining: 2.9s\n",
      "32:\tlearn: 1442.9807704\ttotal: 1.41s\tremaining: 2.86s\n",
      "33:\tlearn: 1438.5939324\ttotal: 1.45s\tremaining: 2.82s\n",
      "34:\tlearn: 1435.4796832\ttotal: 1.49s\tremaining: 2.77s\n",
      "35:\tlearn: 1433.8412834\ttotal: 1.53s\tremaining: 2.73s\n",
      "36:\tlearn: 1432.2456353\ttotal: 1.57s\tremaining: 2.67s\n",
      "37:\tlearn: 1429.9482012\ttotal: 1.61s\tremaining: 2.63s\n",
      "38:\tlearn: 1427.6380503\ttotal: 1.65s\tremaining: 2.58s\n",
      "39:\tlearn: 1424.3261512\ttotal: 1.69s\tremaining: 2.53s\n",
      "40:\tlearn: 1422.0303960\ttotal: 1.73s\tremaining: 2.49s\n",
      "41:\tlearn: 1419.7320627\ttotal: 1.77s\tremaining: 2.45s\n",
      "42:\tlearn: 1417.7706905\ttotal: 1.81s\tremaining: 2.4s\n",
      "43:\tlearn: 1414.6159191\ttotal: 1.85s\tremaining: 2.35s\n",
      "44:\tlearn: 1413.3054377\ttotal: 1.89s\tremaining: 2.31s\n",
      "45:\tlearn: 1410.4326548\ttotal: 1.93s\tremaining: 2.26s\n",
      "46:\tlearn: 1409.2030557\ttotal: 1.97s\tremaining: 2.22s\n",
      "47:\tlearn: 1408.0901818\ttotal: 2.02s\tremaining: 2.19s\n",
      "48:\tlearn: 1407.2795494\ttotal: 2.06s\tremaining: 2.14s\n",
      "49:\tlearn: 1406.0773332\ttotal: 2.1s\tremaining: 2.1s\n",
      "50:\tlearn: 1404.1211190\ttotal: 2.13s\tremaining: 2.05s\n",
      "51:\tlearn: 1403.6048521\ttotal: 2.17s\tremaining: 2s\n",
      "52:\tlearn: 1402.4162627\ttotal: 2.21s\tremaining: 1.96s\n",
      "53:\tlearn: 1400.4899374\ttotal: 2.24s\tremaining: 1.91s\n",
      "54:\tlearn: 1398.8764337\ttotal: 2.28s\tremaining: 1.87s\n",
      "55:\tlearn: 1397.9216578\ttotal: 2.32s\tremaining: 1.82s\n",
      "56:\tlearn: 1396.3821454\ttotal: 2.35s\tremaining: 1.77s\n",
      "57:\tlearn: 1395.1305189\ttotal: 2.39s\tremaining: 1.73s\n",
      "58:\tlearn: 1394.2243773\ttotal: 2.43s\tremaining: 1.69s\n",
      "59:\tlearn: 1393.0077755\ttotal: 2.47s\tremaining: 1.65s\n",
      "60:\tlearn: 1390.9569334\ttotal: 2.52s\tremaining: 1.61s\n",
      "61:\tlearn: 1389.6197139\ttotal: 2.55s\tremaining: 1.56s\n",
      "62:\tlearn: 1388.6841176\ttotal: 2.6s\tremaining: 1.52s\n",
      "63:\tlearn: 1387.9910328\ttotal: 2.64s\tremaining: 1.48s\n",
      "64:\tlearn: 1387.2992775\ttotal: 2.67s\tremaining: 1.44s\n",
      "65:\tlearn: 1386.7412465\ttotal: 2.71s\tremaining: 1.4s\n",
      "66:\tlearn: 1385.8569676\ttotal: 2.75s\tremaining: 1.35s\n",
      "67:\tlearn: 1384.9124731\ttotal: 2.79s\tremaining: 1.31s\n",
      "68:\tlearn: 1383.0112764\ttotal: 2.82s\tremaining: 1.27s\n",
      "69:\tlearn: 1381.6861056\ttotal: 2.86s\tremaining: 1.23s\n",
      "70:\tlearn: 1380.1926226\ttotal: 2.9s\tremaining: 1.18s\n",
      "71:\tlearn: 1379.2969055\ttotal: 2.94s\tremaining: 1.14s\n",
      "72:\tlearn: 1378.3980901\ttotal: 2.98s\tremaining: 1.1s\n",
      "73:\tlearn: 1377.7804149\ttotal: 3.04s\tremaining: 1.07s\n",
      "74:\tlearn: 1375.9155845\ttotal: 3.11s\tremaining: 1.04s\n",
      "75:\tlearn: 1375.3846751\ttotal: 3.16s\tremaining: 999ms\n",
      "76:\tlearn: 1373.9457432\ttotal: 3.21s\tremaining: 959ms\n",
      "77:\tlearn: 1373.2817395\ttotal: 3.26s\tremaining: 920ms\n",
      "78:\tlearn: 1373.1289628\ttotal: 3.33s\tremaining: 885ms\n",
      "79:\tlearn: 1372.1100720\ttotal: 3.37s\tremaining: 844ms\n",
      "80:\tlearn: 1371.8399563\ttotal: 3.42s\tremaining: 802ms\n",
      "81:\tlearn: 1371.0659486\ttotal: 3.46s\tremaining: 760ms\n",
      "82:\tlearn: 1370.1865077\ttotal: 3.51s\tremaining: 718ms\n",
      "83:\tlearn: 1370.0598342\ttotal: 3.56s\tremaining: 679ms\n",
      "84:\tlearn: 1369.4967554\ttotal: 3.61s\tremaining: 637ms\n",
      "85:\tlearn: 1368.7736469\ttotal: 3.65s\tremaining: 595ms\n",
      "86:\tlearn: 1368.6394975\ttotal: 3.7s\tremaining: 553ms\n",
      "87:\tlearn: 1367.8861477\ttotal: 3.75s\tremaining: 511ms\n",
      "88:\tlearn: 1367.4142961\ttotal: 3.79s\tremaining: 469ms\n",
      "89:\tlearn: 1366.6153679\ttotal: 3.83s\tremaining: 426ms\n",
      "90:\tlearn: 1366.0328990\ttotal: 3.89s\tremaining: 385ms\n",
      "91:\tlearn: 1365.4303553\ttotal: 3.95s\tremaining: 344ms\n",
      "92:\tlearn: 1363.3459996\ttotal: 4.02s\tremaining: 303ms\n",
      "93:\tlearn: 1362.3180133\ttotal: 4.06s\tremaining: 259ms\n",
      "94:\tlearn: 1361.8026952\ttotal: 4.11s\tremaining: 216ms\n",
      "95:\tlearn: 1361.1612424\ttotal: 4.14s\tremaining: 173ms\n",
      "96:\tlearn: 1360.3542598\ttotal: 4.2s\tremaining: 130ms\n",
      "97:\tlearn: 1359.6799258\ttotal: 4.26s\tremaining: 86.9ms\n",
      "98:\tlearn: 1358.6984961\ttotal: 4.3s\tremaining: 43.5ms\n",
      "99:\tlearn: 1357.8044266\ttotal: 4.34s\tremaining: 0us\n",
      "Learning rate set to 0.5\n",
      "0:\tlearn: 2492.5047341\ttotal: 57.8ms\tremaining: 5.72s\n",
      "1:\tlearn: 2051.7323794\ttotal: 113ms\tremaining: 5.52s\n",
      "2:\tlearn: 1790.4512192\ttotal: 191ms\tremaining: 6.18s\n",
      "3:\tlearn: 1664.2268627\ttotal: 256ms\tremaining: 6.14s\n",
      "4:\tlearn: 1594.3363179\ttotal: 325ms\tremaining: 6.17s\n",
      "5:\tlearn: 1565.1601136\ttotal: 420ms\tremaining: 6.58s\n",
      "6:\tlearn: 1545.1893692\ttotal: 498ms\tremaining: 6.62s\n",
      "7:\tlearn: 1525.4507738\ttotal: 578ms\tremaining: 6.65s\n",
      "8:\tlearn: 1510.3909085\ttotal: 640ms\tremaining: 6.47s\n",
      "9:\tlearn: 1498.7317409\ttotal: 699ms\tremaining: 6.29s\n",
      "10:\tlearn: 1482.4664582\ttotal: 777ms\tremaining: 6.29s\n",
      "11:\tlearn: 1471.9539930\ttotal: 850ms\tremaining: 6.23s\n",
      "12:\tlearn: 1459.9729567\ttotal: 929ms\tremaining: 6.21s\n",
      "13:\tlearn: 1456.4919346\ttotal: 1.05s\tremaining: 6.45s\n",
      "14:\tlearn: 1452.3893404\ttotal: 1.11s\tremaining: 6.3s\n",
      "15:\tlearn: 1446.9188473\ttotal: 1.18s\tremaining: 6.21s\n",
      "16:\tlearn: 1442.3889525\ttotal: 1.32s\tremaining: 6.47s\n",
      "17:\tlearn: 1438.6476462\ttotal: 1.39s\tremaining: 6.35s\n",
      "18:\tlearn: 1434.9677169\ttotal: 1.47s\tremaining: 6.25s\n",
      "19:\tlearn: 1428.6846774\ttotal: 1.57s\tremaining: 6.27s\n",
      "20:\tlearn: 1421.0688055\ttotal: 1.66s\tremaining: 6.24s\n",
      "21:\tlearn: 1412.8477938\ttotal: 1.72s\tremaining: 6.1s\n",
      "22:\tlearn: 1408.4062054\ttotal: 1.78s\tremaining: 5.97s\n",
      "23:\tlearn: 1400.5638704\ttotal: 1.87s\tremaining: 5.94s\n",
      "24:\tlearn: 1395.8553296\ttotal: 1.95s\tremaining: 5.85s\n",
      "25:\tlearn: 1391.0847850\ttotal: 2.03s\tremaining: 5.77s\n",
      "26:\tlearn: 1388.2591136\ttotal: 2.13s\tremaining: 5.76s\n",
      "27:\tlearn: 1385.2050027\ttotal: 2.2s\tremaining: 5.66s\n",
      "28:\tlearn: 1382.0136478\ttotal: 2.27s\tremaining: 5.55s\n",
      "29:\tlearn: 1379.0587432\ttotal: 2.33s\tremaining: 5.44s\n",
      "30:\tlearn: 1376.5278660\ttotal: 2.44s\tremaining: 5.42s\n",
      "31:\tlearn: 1373.4361510\ttotal: 2.5s\tremaining: 5.31s\n",
      "32:\tlearn: 1371.3923851\ttotal: 2.56s\tremaining: 5.19s\n",
      "33:\tlearn: 1369.1074043\ttotal: 2.61s\tremaining: 5.07s\n",
      "34:\tlearn: 1367.1971250\ttotal: 2.71s\tremaining: 5.03s\n",
      "35:\tlearn: 1363.1677293\ttotal: 2.78s\tremaining: 4.94s\n",
      "36:\tlearn: 1362.1967938\ttotal: 2.85s\tremaining: 4.86s\n",
      "37:\tlearn: 1358.8807747\ttotal: 2.92s\tremaining: 4.76s\n",
      "38:\tlearn: 1356.9152645\ttotal: 2.98s\tremaining: 4.66s\n",
      "39:\tlearn: 1355.2734568\ttotal: 3.06s\tremaining: 4.58s\n",
      "40:\tlearn: 1353.3715416\ttotal: 3.13s\tremaining: 4.51s\n",
      "41:\tlearn: 1350.6391900\ttotal: 3.2s\tremaining: 4.41s\n",
      "42:\tlearn: 1348.8755770\ttotal: 3.26s\tremaining: 4.33s\n",
      "43:\tlearn: 1347.9516109\ttotal: 3.33s\tremaining: 4.24s\n",
      "44:\tlearn: 1346.4285941\ttotal: 3.42s\tremaining: 4.18s\n",
      "45:\tlearn: 1345.7001606\ttotal: 3.48s\tremaining: 4.08s\n",
      "46:\tlearn: 1343.5095670\ttotal: 3.53s\tremaining: 3.99s\n",
      "47:\tlearn: 1342.1725502\ttotal: 3.6s\tremaining: 3.9s\n",
      "48:\tlearn: 1340.7308466\ttotal: 3.65s\tremaining: 3.8s\n",
      "49:\tlearn: 1338.6012226\ttotal: 3.73s\tremaining: 3.73s\n",
      "50:\tlearn: 1337.4379348\ttotal: 3.81s\tremaining: 3.66s\n",
      "51:\tlearn: 1336.0805734\ttotal: 3.87s\tremaining: 3.58s\n",
      "52:\tlearn: 1334.7870032\ttotal: 3.93s\tremaining: 3.48s\n",
      "53:\tlearn: 1333.2231648\ttotal: 3.99s\tremaining: 3.4s\n",
      "54:\tlearn: 1331.5075828\ttotal: 4.05s\tremaining: 3.31s\n",
      "55:\tlearn: 1330.7141026\ttotal: 4.11s\tremaining: 3.23s\n",
      "56:\tlearn: 1328.9257987\ttotal: 4.17s\tremaining: 3.15s\n",
      "57:\tlearn: 1326.1594287\ttotal: 4.23s\tremaining: 3.06s\n",
      "58:\tlearn: 1325.3420158\ttotal: 4.29s\tremaining: 2.98s\n",
      "59:\tlearn: 1324.6807451\ttotal: 4.36s\tremaining: 2.91s\n",
      "60:\tlearn: 1323.7185999\ttotal: 4.43s\tremaining: 2.83s\n",
      "61:\tlearn: 1322.8988617\ttotal: 4.52s\tremaining: 2.77s\n",
      "62:\tlearn: 1322.6752129\ttotal: 4.58s\tremaining: 2.69s\n",
      "63:\tlearn: 1321.2777828\ttotal: 4.63s\tremaining: 2.61s\n",
      "64:\tlearn: 1320.6897404\ttotal: 4.71s\tremaining: 2.54s\n",
      "65:\tlearn: 1318.4833019\ttotal: 4.76s\tremaining: 2.45s\n",
      "66:\tlearn: 1317.5704663\ttotal: 4.83s\tremaining: 2.38s\n",
      "67:\tlearn: 1315.9762864\ttotal: 4.89s\tremaining: 2.3s\n",
      "68:\tlearn: 1315.9356329\ttotal: 4.96s\tremaining: 2.23s\n",
      "69:\tlearn: 1315.0875467\ttotal: 5.03s\tremaining: 2.15s\n",
      "70:\tlearn: 1314.4364822\ttotal: 5.1s\tremaining: 2.08s\n",
      "71:\tlearn: 1313.4469391\ttotal: 5.17s\tremaining: 2.01s\n",
      "72:\tlearn: 1312.7231784\ttotal: 5.23s\tremaining: 1.94s\n",
      "73:\tlearn: 1311.2958266\ttotal: 5.29s\tremaining: 1.86s\n",
      "74:\tlearn: 1310.0570710\ttotal: 5.37s\tremaining: 1.79s\n",
      "75:\tlearn: 1309.0588901\ttotal: 5.42s\tremaining: 1.71s\n"
     ]
    },
    {
     "name": "stdout",
     "output_type": "stream",
     "text": [
      "76:\tlearn: 1308.0999523\ttotal: 5.5s\tremaining: 1.64s\n",
      "77:\tlearn: 1307.2960513\ttotal: 5.57s\tremaining: 1.57s\n",
      "78:\tlearn: 1307.2252804\ttotal: 5.64s\tremaining: 1.5s\n",
      "79:\tlearn: 1305.4268527\ttotal: 5.71s\tremaining: 1.43s\n",
      "80:\tlearn: 1304.8720275\ttotal: 5.76s\tremaining: 1.35s\n",
      "81:\tlearn: 1304.4539163\ttotal: 5.82s\tremaining: 1.28s\n",
      "82:\tlearn: 1303.7220387\ttotal: 5.89s\tremaining: 1.21s\n",
      "83:\tlearn: 1302.7152540\ttotal: 5.96s\tremaining: 1.14s\n",
      "84:\tlearn: 1302.6353268\ttotal: 6.02s\tremaining: 1.06s\n",
      "85:\tlearn: 1301.5809747\ttotal: 6.09s\tremaining: 991ms\n",
      "86:\tlearn: 1300.7197734\ttotal: 6.15s\tremaining: 919ms\n",
      "87:\tlearn: 1299.8653055\ttotal: 6.23s\tremaining: 849ms\n",
      "88:\tlearn: 1298.4625630\ttotal: 6.3s\tremaining: 778ms\n",
      "89:\tlearn: 1297.4776837\ttotal: 6.36s\tremaining: 707ms\n",
      "90:\tlearn: 1296.9155575\ttotal: 6.42s\tremaining: 635ms\n",
      "91:\tlearn: 1296.1498520\ttotal: 6.5s\tremaining: 565ms\n",
      "92:\tlearn: 1294.9705343\ttotal: 6.57s\tremaining: 494ms\n",
      "93:\tlearn: 1294.2674957\ttotal: 6.64s\tremaining: 424ms\n",
      "94:\tlearn: 1292.7536030\ttotal: 6.7s\tremaining: 353ms\n",
      "95:\tlearn: 1292.1744375\ttotal: 6.77s\tremaining: 282ms\n",
      "96:\tlearn: 1292.0639774\ttotal: 6.85s\tremaining: 212ms\n",
      "97:\tlearn: 1291.0967098\ttotal: 6.91s\tremaining: 141ms\n",
      "98:\tlearn: 1290.7390719\ttotal: 6.97s\tremaining: 70.4ms\n",
      "99:\tlearn: 1289.5535288\ttotal: 7.03s\tremaining: 0us\n",
      "Learning rate set to 0.5\n",
      "0:\tlearn: 2487.4847692\ttotal: 60.6ms\tremaining: 6s\n",
      "1:\tlearn: 2045.8901576\ttotal: 122ms\tremaining: 6s\n",
      "2:\tlearn: 1797.5256422\ttotal: 186ms\tremaining: 6.01s\n",
      "3:\tlearn: 1679.9902749\ttotal: 251ms\tremaining: 6.03s\n",
      "4:\tlearn: 1623.9897834\ttotal: 321ms\tremaining: 6.11s\n",
      "5:\tlearn: 1581.5517214\ttotal: 388ms\tremaining: 6.07s\n",
      "6:\tlearn: 1556.9628448\ttotal: 448ms\tremaining: 5.95s\n",
      "7:\tlearn: 1535.4573360\ttotal: 527ms\tremaining: 6.06s\n",
      "8:\tlearn: 1518.5631289\ttotal: 586ms\tremaining: 5.92s\n",
      "9:\tlearn: 1498.2694671\ttotal: 656ms\tremaining: 5.91s\n",
      "10:\tlearn: 1487.2957375\ttotal: 713ms\tremaining: 5.77s\n",
      "11:\tlearn: 1479.4100540\ttotal: 770ms\tremaining: 5.65s\n",
      "12:\tlearn: 1469.1628450\ttotal: 835ms\tremaining: 5.59s\n",
      "13:\tlearn: 1461.6001118\ttotal: 895ms\tremaining: 5.5s\n",
      "14:\tlearn: 1454.7219103\ttotal: 954ms\tremaining: 5.41s\n",
      "15:\tlearn: 1451.6260232\ttotal: 1.02s\tremaining: 5.36s\n",
      "16:\tlearn: 1447.3329223\ttotal: 1.1s\tremaining: 5.4s\n",
      "17:\tlearn: 1441.7638680\ttotal: 1.19s\tremaining: 5.42s\n",
      "18:\tlearn: 1439.1264212\ttotal: 1.24s\tremaining: 5.3s\n",
      "19:\tlearn: 1435.4129602\ttotal: 1.32s\tremaining: 5.27s\n",
      "20:\tlearn: 1429.8635310\ttotal: 1.39s\tremaining: 5.22s\n",
      "21:\tlearn: 1423.6863094\ttotal: 1.45s\tremaining: 5.14s\n",
      "22:\tlearn: 1411.5057444\ttotal: 1.53s\tremaining: 5.12s\n",
      "23:\tlearn: 1407.0228009\ttotal: 1.59s\tremaining: 5.04s\n",
      "24:\tlearn: 1403.1665902\ttotal: 1.66s\tremaining: 4.99s\n",
      "25:\tlearn: 1398.3562110\ttotal: 1.73s\tremaining: 4.93s\n",
      "26:\tlearn: 1393.7034519\ttotal: 1.78s\tremaining: 4.82s\n",
      "27:\tlearn: 1390.4413076\ttotal: 1.84s\tremaining: 4.73s\n",
      "28:\tlearn: 1386.9224553\ttotal: 1.91s\tremaining: 4.68s\n",
      "29:\tlearn: 1383.9628458\ttotal: 1.97s\tremaining: 4.6s\n",
      "30:\tlearn: 1381.8081774\ttotal: 2.02s\tremaining: 4.51s\n",
      "31:\tlearn: 1379.6190224\ttotal: 2.1s\tremaining: 4.45s\n",
      "32:\tlearn: 1377.6731178\ttotal: 2.15s\tremaining: 4.36s\n",
      "33:\tlearn: 1376.6841973\ttotal: 2.22s\tremaining: 4.31s\n",
      "34:\tlearn: 1375.1477616\ttotal: 2.28s\tremaining: 4.23s\n",
      "35:\tlearn: 1372.9901616\ttotal: 2.35s\tremaining: 4.17s\n",
      "36:\tlearn: 1369.8256605\ttotal: 2.4s\tremaining: 4.08s\n",
      "37:\tlearn: 1368.0775497\ttotal: 2.47s\tremaining: 4.03s\n",
      "38:\tlearn: 1365.6023954\ttotal: 2.55s\tremaining: 3.99s\n",
      "39:\tlearn: 1363.6520159\ttotal: 2.6s\tremaining: 3.91s\n",
      "40:\tlearn: 1361.7497525\ttotal: 2.66s\tremaining: 3.83s\n",
      "41:\tlearn: 1359.2287619\ttotal: 2.72s\tremaining: 3.75s\n",
      "42:\tlearn: 1358.2364291\ttotal: 2.77s\tremaining: 3.67s\n",
      "43:\tlearn: 1356.1835921\ttotal: 2.84s\tremaining: 3.62s\n",
      "44:\tlearn: 1355.3869756\ttotal: 2.91s\tremaining: 3.56s\n",
      "45:\tlearn: 1354.0466646\ttotal: 2.98s\tremaining: 3.5s\n",
      "46:\tlearn: 1352.0644374\ttotal: 3.07s\tremaining: 3.46s\n",
      "47:\tlearn: 1350.9082716\ttotal: 3.13s\tremaining: 3.39s\n",
      "48:\tlearn: 1349.2600221\ttotal: 3.19s\tremaining: 3.32s\n",
      "49:\tlearn: 1347.5327408\ttotal: 3.26s\tremaining: 3.26s\n",
      "50:\tlearn: 1345.7002023\ttotal: 3.34s\tremaining: 3.21s\n",
      "51:\tlearn: 1344.3649507\ttotal: 3.4s\tremaining: 3.14s\n",
      "52:\tlearn: 1343.2406289\ttotal: 3.46s\tremaining: 3.07s\n",
      "53:\tlearn: 1341.3646452\ttotal: 3.55s\tremaining: 3.02s\n",
      "54:\tlearn: 1338.7366056\ttotal: 3.62s\tremaining: 2.96s\n",
      "55:\tlearn: 1336.8592894\ttotal: 3.68s\tremaining: 2.89s\n",
      "56:\tlearn: 1335.5415054\ttotal: 3.75s\tremaining: 2.83s\n",
      "57:\tlearn: 1335.3186531\ttotal: 3.82s\tremaining: 2.77s\n",
      "58:\tlearn: 1333.9784474\ttotal: 3.88s\tremaining: 2.7s\n",
      "59:\tlearn: 1332.3545020\ttotal: 3.95s\tremaining: 2.63s\n",
      "60:\tlearn: 1332.2408044\ttotal: 4.02s\tremaining: 2.57s\n",
      "61:\tlearn: 1331.4420666\ttotal: 4.12s\tremaining: 2.53s\n",
      "62:\tlearn: 1330.1080866\ttotal: 4.18s\tremaining: 2.46s\n",
      "63:\tlearn: 1329.0394492\ttotal: 4.25s\tremaining: 2.39s\n",
      "64:\tlearn: 1327.7032377\ttotal: 4.34s\tremaining: 2.33s\n",
      "65:\tlearn: 1327.6495227\ttotal: 4.41s\tremaining: 2.27s\n",
      "66:\tlearn: 1325.9702883\ttotal: 4.48s\tremaining: 2.21s\n",
      "67:\tlearn: 1324.5910065\ttotal: 4.55s\tremaining: 2.14s\n",
      "68:\tlearn: 1323.1163450\ttotal: 4.64s\tremaining: 2.08s\n",
      "69:\tlearn: 1322.3059136\ttotal: 4.7s\tremaining: 2.01s\n",
      "70:\tlearn: 1320.2966074\ttotal: 4.76s\tremaining: 1.94s\n",
      "71:\tlearn: 1319.5120842\ttotal: 4.82s\tremaining: 1.87s\n",
      "72:\tlearn: 1317.8948172\ttotal: 4.87s\tremaining: 1.8s\n",
      "73:\tlearn: 1317.5501413\ttotal: 4.93s\tremaining: 1.73s\n",
      "74:\tlearn: 1316.6251926\ttotal: 5.01s\tremaining: 1.67s\n",
      "75:\tlearn: 1315.8446013\ttotal: 5.06s\tremaining: 1.6s\n",
      "76:\tlearn: 1314.8861414\ttotal: 5.12s\tremaining: 1.53s\n",
      "77:\tlearn: 1314.1679482\ttotal: 5.2s\tremaining: 1.47s\n",
      "78:\tlearn: 1312.5127404\ttotal: 5.26s\tremaining: 1.4s\n",
      "79:\tlearn: 1311.6721324\ttotal: 5.32s\tremaining: 1.33s\n",
      "80:\tlearn: 1310.4907100\ttotal: 5.39s\tremaining: 1.26s\n",
      "81:\tlearn: 1309.4894434\ttotal: 5.47s\tremaining: 1.2s\n",
      "82:\tlearn: 1309.3956305\ttotal: 5.54s\tremaining: 1.13s\n",
      "83:\tlearn: 1308.6347263\ttotal: 5.59s\tremaining: 1.06s\n",
      "84:\tlearn: 1307.9898398\ttotal: 5.65s\tremaining: 997ms\n",
      "85:\tlearn: 1307.2290632\ttotal: 5.71s\tremaining: 930ms\n",
      "86:\tlearn: 1306.4049595\ttotal: 5.77s\tremaining: 863ms\n",
      "87:\tlearn: 1305.6099147\ttotal: 5.83s\tremaining: 795ms\n",
      "88:\tlearn: 1304.6536340\ttotal: 5.9s\tremaining: 729ms\n",
      "89:\tlearn: 1303.4519642\ttotal: 5.96s\tremaining: 662ms\n",
      "90:\tlearn: 1302.5804970\ttotal: 6.02s\tremaining: 596ms\n",
      "91:\tlearn: 1302.2360806\ttotal: 6.09s\tremaining: 529ms\n",
      "92:\tlearn: 1301.9504155\ttotal: 6.15s\tremaining: 463ms\n",
      "93:\tlearn: 1301.1999501\ttotal: 6.21s\tremaining: 396ms\n",
      "94:\tlearn: 1300.5310255\ttotal: 6.27s\tremaining: 330ms\n",
      "95:\tlearn: 1299.5815356\ttotal: 6.33s\tremaining: 264ms\n",
      "96:\tlearn: 1298.6202460\ttotal: 6.38s\tremaining: 197ms\n",
      "97:\tlearn: 1298.5247377\ttotal: 6.44s\tremaining: 131ms\n",
      "98:\tlearn: 1297.7047625\ttotal: 6.5s\tremaining: 65.7ms\n",
      "99:\tlearn: 1297.1766789\ttotal: 6.56s\tremaining: 0us\n",
      "Learning rate set to 0.5\n",
      "0:\tlearn: 2497.2773336\ttotal: 53.3ms\tremaining: 5.28s\n",
      "1:\tlearn: 2059.4809618\ttotal: 111ms\tremaining: 5.44s\n",
      "2:\tlearn: 1824.8932406\ttotal: 167ms\tremaining: 5.38s\n",
      "3:\tlearn: 1711.9583329\ttotal: 231ms\tremaining: 5.54s\n",
      "4:\tlearn: 1631.3183994\ttotal: 299ms\tremaining: 5.67s\n",
      "5:\tlearn: 1586.8760768\ttotal: 353ms\tremaining: 5.52s\n",
      "6:\tlearn: 1562.5190999\ttotal: 415ms\tremaining: 5.51s\n",
      "7:\tlearn: 1540.4731574\ttotal: 473ms\tremaining: 5.44s\n",
      "8:\tlearn: 1527.6702797\ttotal: 541ms\tremaining: 5.47s\n",
      "9:\tlearn: 1510.0924177\ttotal: 601ms\tremaining: 5.41s\n",
      "10:\tlearn: 1498.8730432\ttotal: 666ms\tremaining: 5.39s\n",
      "11:\tlearn: 1486.0195827\ttotal: 719ms\tremaining: 5.28s\n",
      "12:\tlearn: 1477.3572316\ttotal: 788ms\tremaining: 5.27s\n",
      "13:\tlearn: 1467.2266732\ttotal: 849ms\tremaining: 5.21s\n",
      "14:\tlearn: 1460.4558311\ttotal: 911ms\tremaining: 5.16s\n",
      "15:\tlearn: 1456.2165770\ttotal: 981ms\tremaining: 5.15s\n",
      "16:\tlearn: 1444.8660541\ttotal: 1.05s\tremaining: 5.14s\n",
      "17:\tlearn: 1439.9050891\ttotal: 1.13s\tremaining: 5.13s\n",
      "18:\tlearn: 1436.1183773\ttotal: 1.19s\tremaining: 5.07s\n",
      "19:\tlearn: 1430.5603493\ttotal: 1.26s\tremaining: 5.05s\n",
      "20:\tlearn: 1423.2686628\ttotal: 1.32s\tremaining: 4.97s\n",
      "21:\tlearn: 1418.1696198\ttotal: 1.4s\tremaining: 4.95s\n",
      "22:\tlearn: 1413.5466152\ttotal: 1.45s\tremaining: 4.87s\n",
      "23:\tlearn: 1411.1624789\ttotal: 1.53s\tremaining: 4.84s\n",
      "24:\tlearn: 1407.5303352\ttotal: 1.58s\tremaining: 4.75s\n",
      "25:\tlearn: 1405.1126227\ttotal: 1.68s\tremaining: 4.79s\n",
      "26:\tlearn: 1401.3104733\ttotal: 1.74s\tremaining: 4.71s\n",
      "27:\tlearn: 1396.4415838\ttotal: 1.83s\tremaining: 4.71s\n",
      "28:\tlearn: 1393.0969971\ttotal: 1.89s\tremaining: 4.63s\n",
      "29:\tlearn: 1386.0430664\ttotal: 1.95s\tremaining: 4.56s\n"
     ]
    },
    {
     "name": "stdout",
     "output_type": "stream",
     "text": [
      "30:\tlearn: 1383.2128613\ttotal: 2.02s\tremaining: 4.5s\n",
      "31:\tlearn: 1379.3870656\ttotal: 2.08s\tremaining: 4.41s\n",
      "32:\tlearn: 1375.4193179\ttotal: 2.14s\tremaining: 4.35s\n",
      "33:\tlearn: 1373.2243810\ttotal: 2.2s\tremaining: 4.27s\n",
      "34:\tlearn: 1371.5031448\ttotal: 2.26s\tremaining: 4.21s\n",
      "35:\tlearn: 1369.5057352\ttotal: 2.32s\tremaining: 4.13s\n",
      "36:\tlearn: 1368.7003824\ttotal: 2.39s\tremaining: 4.07s\n",
      "37:\tlearn: 1366.1994351\ttotal: 2.46s\tremaining: 4.01s\n",
      "38:\tlearn: 1364.2286172\ttotal: 2.53s\tremaining: 3.95s\n",
      "39:\tlearn: 1361.7456985\ttotal: 2.59s\tremaining: 3.88s\n",
      "40:\tlearn: 1360.5607497\ttotal: 2.65s\tremaining: 3.82s\n",
      "41:\tlearn: 1358.0124552\ttotal: 2.71s\tremaining: 3.75s\n",
      "42:\tlearn: 1356.8336887\ttotal: 2.82s\tremaining: 3.73s\n",
      "43:\tlearn: 1355.5915259\ttotal: 2.88s\tremaining: 3.66s\n",
      "44:\tlearn: 1355.2581579\ttotal: 2.94s\tremaining: 3.6s\n",
      "45:\tlearn: 1353.0222173\ttotal: 3.06s\tremaining: 3.6s\n",
      "46:\tlearn: 1350.9709527\ttotal: 3.13s\tremaining: 3.53s\n",
      "47:\tlearn: 1349.6702171\ttotal: 3.2s\tremaining: 3.46s\n",
      "48:\tlearn: 1348.2114168\ttotal: 3.26s\tremaining: 3.39s\n",
      "49:\tlearn: 1346.6472226\ttotal: 3.31s\tremaining: 3.31s\n",
      "50:\tlearn: 1345.2558977\ttotal: 3.37s\tremaining: 3.24s\n",
      "51:\tlearn: 1342.8261182\ttotal: 3.45s\tremaining: 3.18s\n",
      "52:\tlearn: 1341.6728569\ttotal: 3.52s\tremaining: 3.12s\n",
      "53:\tlearn: 1339.8828435\ttotal: 3.58s\tremaining: 3.05s\n",
      "54:\tlearn: 1339.0962351\ttotal: 3.65s\tremaining: 2.98s\n",
      "55:\tlearn: 1338.4033231\ttotal: 3.71s\tremaining: 2.91s\n",
      "56:\tlearn: 1336.9504016\ttotal: 3.77s\tremaining: 2.85s\n",
      "57:\tlearn: 1336.1473231\ttotal: 3.83s\tremaining: 2.77s\n",
      "58:\tlearn: 1333.8451503\ttotal: 3.91s\tremaining: 2.72s\n",
      "59:\tlearn: 1331.9892625\ttotal: 3.98s\tremaining: 2.65s\n",
      "60:\tlearn: 1330.6128291\ttotal: 4.04s\tremaining: 2.58s\n",
      "61:\tlearn: 1329.8482255\ttotal: 4.13s\tremaining: 2.53s\n",
      "62:\tlearn: 1329.2079045\ttotal: 4.18s\tremaining: 2.46s\n",
      "63:\tlearn: 1328.3536979\ttotal: 4.26s\tremaining: 2.4s\n",
      "64:\tlearn: 1327.3113894\ttotal: 4.33s\tremaining: 2.33s\n",
      "65:\tlearn: 1326.0220386\ttotal: 4.39s\tremaining: 2.26s\n",
      "66:\tlearn: 1325.3780369\ttotal: 4.45s\tremaining: 2.19s\n",
      "67:\tlearn: 1324.4559974\ttotal: 4.5s\tremaining: 2.12s\n",
      "68:\tlearn: 1323.7525078\ttotal: 4.59s\tremaining: 2.06s\n",
      "69:\tlearn: 1322.5437807\ttotal: 4.64s\tremaining: 1.99s\n",
      "70:\tlearn: 1321.2385419\ttotal: 4.71s\tremaining: 1.92s\n",
      "71:\tlearn: 1319.6930421\ttotal: 4.77s\tremaining: 1.85s\n",
      "72:\tlearn: 1318.6439018\ttotal: 4.84s\tremaining: 1.79s\n",
      "73:\tlearn: 1317.4060963\ttotal: 4.91s\tremaining: 1.72s\n",
      "74:\tlearn: 1316.1026299\ttotal: 5s\tremaining: 1.67s\n",
      "75:\tlearn: 1315.4140453\ttotal: 5.07s\tremaining: 1.6s\n",
      "76:\tlearn: 1315.1940856\ttotal: 5.13s\tremaining: 1.53s\n",
      "77:\tlearn: 1314.3476416\ttotal: 5.2s\tremaining: 1.47s\n",
      "78:\tlearn: 1313.5191313\ttotal: 5.28s\tremaining: 1.4s\n",
      "79:\tlearn: 1312.6789048\ttotal: 5.35s\tremaining: 1.34s\n",
      "80:\tlearn: 1311.7022764\ttotal: 5.41s\tremaining: 1.27s\n",
      "81:\tlearn: 1310.7195651\ttotal: 5.49s\tremaining: 1.2s\n",
      "82:\tlearn: 1309.8504994\ttotal: 5.56s\tremaining: 1.14s\n",
      "83:\tlearn: 1309.2075799\ttotal: 5.63s\tremaining: 1.07s\n",
      "84:\tlearn: 1307.7538573\ttotal: 5.71s\tremaining: 1.01s\n",
      "85:\tlearn: 1307.3376191\ttotal: 5.77s\tremaining: 940ms\n",
      "86:\tlearn: 1306.8128108\ttotal: 5.84s\tremaining: 873ms\n",
      "87:\tlearn: 1305.8214086\ttotal: 5.92s\tremaining: 807ms\n",
      "88:\tlearn: 1305.2752040\ttotal: 6s\tremaining: 742ms\n",
      "89:\tlearn: 1304.8445813\ttotal: 6.07s\tremaining: 674ms\n",
      "90:\tlearn: 1303.9126797\ttotal: 6.13s\tremaining: 607ms\n",
      "91:\tlearn: 1302.7736663\ttotal: 6.21s\tremaining: 540ms\n",
      "92:\tlearn: 1301.4361038\ttotal: 6.31s\tremaining: 475ms\n",
      "93:\tlearn: 1301.0250319\ttotal: 6.38s\tremaining: 407ms\n",
      "94:\tlearn: 1300.8676182\ttotal: 6.46s\tremaining: 340ms\n",
      "95:\tlearn: 1300.2728021\ttotal: 6.52s\tremaining: 272ms\n",
      "96:\tlearn: 1299.0686161\ttotal: 6.58s\tremaining: 203ms\n",
      "97:\tlearn: 1298.2351388\ttotal: 6.66s\tremaining: 136ms\n",
      "98:\tlearn: 1297.3628318\ttotal: 6.75s\tremaining: 68.2ms\n",
      "99:\tlearn: 1296.7589662\ttotal: 6.81s\tremaining: 0us\n",
      "Learning rate set to 0.5\n",
      "0:\tlearn: 2494.8362664\ttotal: 59.7ms\tremaining: 5.91s\n",
      "1:\tlearn: 2054.1936527\ttotal: 130ms\tremaining: 6.37s\n",
      "2:\tlearn: 1814.7064439\ttotal: 198ms\tremaining: 6.42s\n",
      "3:\tlearn: 1694.2379273\ttotal: 277ms\tremaining: 6.65s\n",
      "4:\tlearn: 1626.6370096\ttotal: 343ms\tremaining: 6.52s\n",
      "5:\tlearn: 1587.0742966\ttotal: 415ms\tremaining: 6.5s\n",
      "6:\tlearn: 1541.9937101\ttotal: 473ms\tremaining: 6.29s\n",
      "7:\tlearn: 1523.3360721\ttotal: 537ms\tremaining: 6.17s\n",
      "8:\tlearn: 1507.9610916\ttotal: 596ms\tremaining: 6.03s\n",
      "9:\tlearn: 1495.5232445\ttotal: 658ms\tremaining: 5.92s\n",
      "10:\tlearn: 1481.6529791\ttotal: 721ms\tremaining: 5.84s\n",
      "11:\tlearn: 1469.5768230\ttotal: 773ms\tremaining: 5.67s\n",
      "12:\tlearn: 1461.5308967\ttotal: 838ms\tremaining: 5.61s\n",
      "13:\tlearn: 1458.1955025\ttotal: 923ms\tremaining: 5.67s\n",
      "14:\tlearn: 1447.9996165\ttotal: 977ms\tremaining: 5.54s\n",
      "15:\tlearn: 1441.7532534\ttotal: 1.04s\tremaining: 5.44s\n",
      "16:\tlearn: 1436.0348772\ttotal: 1.1s\tremaining: 5.35s\n",
      "17:\tlearn: 1428.5146777\ttotal: 1.16s\tremaining: 5.3s\n",
      "18:\tlearn: 1422.2422495\ttotal: 1.22s\tremaining: 5.21s\n",
      "19:\tlearn: 1415.9767611\ttotal: 1.28s\tremaining: 5.14s\n",
      "20:\tlearn: 1411.0114384\ttotal: 1.34s\tremaining: 5.04s\n",
      "21:\tlearn: 1408.4453905\ttotal: 1.39s\tremaining: 4.94s\n",
      "22:\tlearn: 1404.7049586\ttotal: 1.46s\tremaining: 4.89s\n",
      "23:\tlearn: 1400.7078168\ttotal: 1.53s\tremaining: 4.86s\n",
      "24:\tlearn: 1396.1898113\ttotal: 1.59s\tremaining: 4.78s\n",
      "25:\tlearn: 1394.2288994\ttotal: 1.67s\tremaining: 4.76s\n",
      "26:\tlearn: 1390.6937780\ttotal: 1.8s\tremaining: 4.88s\n",
      "27:\tlearn: 1388.1538425\ttotal: 1.91s\tremaining: 4.9s\n",
      "28:\tlearn: 1384.9458798\ttotal: 2s\tremaining: 4.89s\n",
      "29:\tlearn: 1380.7134667\ttotal: 2.08s\tremaining: 4.85s\n",
      "30:\tlearn: 1378.6657701\ttotal: 2.17s\tremaining: 4.84s\n",
      "31:\tlearn: 1375.6657873\ttotal: 2.28s\tremaining: 4.84s\n",
      "32:\tlearn: 1374.0374883\ttotal: 2.35s\tremaining: 4.78s\n",
      "33:\tlearn: 1371.5814232\ttotal: 2.43s\tremaining: 4.72s\n",
      "34:\tlearn: 1369.1842970\ttotal: 2.51s\tremaining: 4.66s\n",
      "35:\tlearn: 1367.4605760\ttotal: 2.58s\tremaining: 4.59s\n",
      "36:\tlearn: 1365.1039756\ttotal: 2.73s\tremaining: 4.64s\n",
      "37:\tlearn: 1363.1027452\ttotal: 2.82s\tremaining: 4.59s\n",
      "38:\tlearn: 1361.8324082\ttotal: 2.88s\tremaining: 4.51s\n",
      "39:\tlearn: 1359.3591456\ttotal: 2.98s\tremaining: 4.47s\n",
      "40:\tlearn: 1356.6099344\ttotal: 3.04s\tremaining: 4.38s\n",
      "41:\tlearn: 1353.5772858\ttotal: 3.1s\tremaining: 4.29s\n",
      "42:\tlearn: 1351.5510157\ttotal: 3.17s\tremaining: 4.2s\n",
      "43:\tlearn: 1348.9681668\ttotal: 3.24s\tremaining: 4.13s\n",
      "44:\tlearn: 1347.6858761\ttotal: 3.3s\tremaining: 4.04s\n",
      "45:\tlearn: 1346.9942717\ttotal: 3.37s\tremaining: 3.96s\n",
      "46:\tlearn: 1345.6809461\ttotal: 3.43s\tremaining: 3.87s\n",
      "47:\tlearn: 1343.5234090\ttotal: 3.5s\tremaining: 3.79s\n",
      "48:\tlearn: 1341.7975278\ttotal: 3.55s\tremaining: 3.7s\n",
      "49:\tlearn: 1339.5453507\ttotal: 3.63s\tremaining: 3.63s\n",
      "50:\tlearn: 1338.3984090\ttotal: 3.69s\tremaining: 3.55s\n",
      "51:\tlearn: 1338.3376057\ttotal: 3.75s\tremaining: 3.46s\n",
      "52:\tlearn: 1336.8862937\ttotal: 3.82s\tremaining: 3.38s\n",
      "53:\tlearn: 1334.8638330\ttotal: 3.88s\tremaining: 3.3s\n",
      "54:\tlearn: 1334.1448818\ttotal: 3.94s\tremaining: 3.22s\n",
      "55:\tlearn: 1332.6526485\ttotal: 4.01s\tremaining: 3.15s\n",
      "56:\tlearn: 1331.1137686\ttotal: 4.07s\tremaining: 3.07s\n",
      "57:\tlearn: 1329.6483888\ttotal: 4.13s\tremaining: 2.99s\n",
      "58:\tlearn: 1328.8034634\ttotal: 4.21s\tremaining: 2.92s\n",
      "59:\tlearn: 1327.3269233\ttotal: 4.28s\tremaining: 2.86s\n",
      "60:\tlearn: 1325.9047678\ttotal: 4.35s\tremaining: 2.78s\n",
      "61:\tlearn: 1324.9275559\ttotal: 4.41s\tremaining: 2.7s\n",
      "62:\tlearn: 1324.6674995\ttotal: 4.46s\tremaining: 2.62s\n",
      "63:\tlearn: 1322.9210350\ttotal: 4.52s\tremaining: 2.54s\n",
      "64:\tlearn: 1321.3219311\ttotal: 4.58s\tremaining: 2.47s\n",
      "65:\tlearn: 1320.4596921\ttotal: 4.64s\tremaining: 2.39s\n",
      "66:\tlearn: 1319.1049320\ttotal: 4.7s\tremaining: 2.31s\n",
      "67:\tlearn: 1318.2116078\ttotal: 4.77s\tremaining: 2.24s\n",
      "68:\tlearn: 1316.8228601\ttotal: 4.82s\tremaining: 2.17s\n",
      "69:\tlearn: 1315.3617960\ttotal: 4.9s\tremaining: 2.1s\n",
      "70:\tlearn: 1314.0838136\ttotal: 4.99s\tremaining: 2.04s\n",
      "71:\tlearn: 1313.1385610\ttotal: 5.05s\tremaining: 1.96s\n",
      "72:\tlearn: 1312.0942536\ttotal: 5.11s\tremaining: 1.89s\n",
      "73:\tlearn: 1311.0845935\ttotal: 5.2s\tremaining: 1.83s\n",
      "74:\tlearn: 1310.1890562\ttotal: 5.26s\tremaining: 1.75s\n",
      "75:\tlearn: 1309.3165950\ttotal: 5.33s\tremaining: 1.68s\n",
      "76:\tlearn: 1308.4761578\ttotal: 5.39s\tremaining: 1.61s\n",
      "77:\tlearn: 1307.8442877\ttotal: 5.45s\tremaining: 1.54s\n",
      "78:\tlearn: 1306.9569008\ttotal: 5.52s\tremaining: 1.47s\n",
      "79:\tlearn: 1306.2599801\ttotal: 5.63s\tremaining: 1.41s\n",
      "80:\tlearn: 1305.7839756\ttotal: 5.7s\tremaining: 1.34s\n",
      "81:\tlearn: 1304.9494678\ttotal: 5.76s\tremaining: 1.26s\n",
      "82:\tlearn: 1304.1734342\ttotal: 5.83s\tremaining: 1.19s\n"
     ]
    },
    {
     "name": "stdout",
     "output_type": "stream",
     "text": [
      "83:\tlearn: 1302.9722267\ttotal: 5.94s\tremaining: 1.13s\n",
      "84:\tlearn: 1302.5059046\ttotal: 6s\tremaining: 1.06s\n",
      "85:\tlearn: 1301.1875965\ttotal: 6.06s\tremaining: 986ms\n",
      "86:\tlearn: 1300.4504937\ttotal: 6.12s\tremaining: 915ms\n",
      "87:\tlearn: 1300.1433621\ttotal: 6.18s\tremaining: 843ms\n",
      "88:\tlearn: 1299.6289644\ttotal: 6.26s\tremaining: 773ms\n",
      "89:\tlearn: 1298.3983418\ttotal: 6.35s\tremaining: 706ms\n",
      "90:\tlearn: 1297.8018762\ttotal: 6.41s\tremaining: 634ms\n",
      "91:\tlearn: 1297.1508622\ttotal: 6.48s\tremaining: 563ms\n",
      "92:\tlearn: 1296.8017656\ttotal: 6.55s\tremaining: 493ms\n",
      "93:\tlearn: 1296.2625193\ttotal: 6.61s\tremaining: 422ms\n",
      "94:\tlearn: 1295.6506677\ttotal: 6.68s\tremaining: 351ms\n",
      "95:\tlearn: 1295.2639196\ttotal: 6.74s\tremaining: 281ms\n",
      "96:\tlearn: 1293.5347921\ttotal: 6.81s\tremaining: 211ms\n",
      "97:\tlearn: 1292.4298359\ttotal: 6.87s\tremaining: 140ms\n",
      "98:\tlearn: 1291.6045956\ttotal: 6.93s\tremaining: 70ms\n",
      "99:\tlearn: 1290.7690824\ttotal: 7.04s\tremaining: 0us\n",
      "Learning rate set to 0.5\n",
      "0:\tlearn: 2481.7486807\ttotal: 54.6ms\tremaining: 5.4s\n",
      "1:\tlearn: 2048.6489406\ttotal: 110ms\tremaining: 5.37s\n",
      "2:\tlearn: 1798.2098082\ttotal: 170ms\tremaining: 5.5s\n",
      "3:\tlearn: 1701.9165262\ttotal: 230ms\tremaining: 5.51s\n",
      "4:\tlearn: 1636.9396054\ttotal: 301ms\tremaining: 5.71s\n",
      "5:\tlearn: 1580.2566624\ttotal: 372ms\tremaining: 5.83s\n",
      "6:\tlearn: 1553.4658466\ttotal: 431ms\tremaining: 5.73s\n",
      "7:\tlearn: 1532.4672446\ttotal: 498ms\tremaining: 5.72s\n",
      "8:\tlearn: 1514.8106016\ttotal: 559ms\tremaining: 5.65s\n",
      "9:\tlearn: 1500.3140152\ttotal: 621ms\tremaining: 5.59s\n",
      "10:\tlearn: 1489.2479699\ttotal: 681ms\tremaining: 5.51s\n",
      "11:\tlearn: 1480.3792765\ttotal: 741ms\tremaining: 5.43s\n",
      "12:\tlearn: 1473.7819186\ttotal: 827ms\tremaining: 5.53s\n",
      "13:\tlearn: 1462.7382856\ttotal: 902ms\tremaining: 5.54s\n",
      "14:\tlearn: 1454.6671137\ttotal: 998ms\tremaining: 5.65s\n",
      "15:\tlearn: 1448.8481618\ttotal: 1.07s\tremaining: 5.6s\n",
      "16:\tlearn: 1444.9751142\ttotal: 1.13s\tremaining: 5.5s\n",
      "17:\tlearn: 1442.1436419\ttotal: 1.21s\tremaining: 5.53s\n",
      "18:\tlearn: 1436.4056913\ttotal: 1.27s\tremaining: 5.41s\n",
      "19:\tlearn: 1430.1392844\ttotal: 1.32s\tremaining: 5.3s\n",
      "20:\tlearn: 1424.2213691\ttotal: 1.39s\tremaining: 5.21s\n",
      "21:\tlearn: 1419.5206458\ttotal: 1.46s\tremaining: 5.16s\n",
      "22:\tlearn: 1416.9285168\ttotal: 1.52s\tremaining: 5.09s\n",
      "23:\tlearn: 1413.4646121\ttotal: 1.58s\tremaining: 5s\n",
      "24:\tlearn: 1408.5321784\ttotal: 1.65s\tremaining: 4.96s\n",
      "25:\tlearn: 1406.2786842\ttotal: 1.72s\tremaining: 4.91s\n",
      "26:\tlearn: 1403.0872499\ttotal: 1.8s\tremaining: 4.87s\n",
      "27:\tlearn: 1399.0732405\ttotal: 1.87s\tremaining: 4.82s\n",
      "28:\tlearn: 1393.9904593\ttotal: 1.96s\tremaining: 4.8s\n",
      "29:\tlearn: 1390.9791420\ttotal: 2.05s\tremaining: 4.79s\n",
      "30:\tlearn: 1386.7727757\ttotal: 2.12s\tremaining: 4.71s\n",
      "31:\tlearn: 1383.5561090\ttotal: 2.18s\tremaining: 4.63s\n",
      "32:\tlearn: 1382.5650474\ttotal: 2.26s\tremaining: 4.59s\n",
      "33:\tlearn: 1379.4710439\ttotal: 2.35s\tremaining: 4.55s\n",
      "34:\tlearn: 1377.3892931\ttotal: 2.4s\tremaining: 4.47s\n",
      "35:\tlearn: 1375.1347647\ttotal: 2.5s\tremaining: 4.44s\n",
      "36:\tlearn: 1372.6924735\ttotal: 2.56s\tremaining: 4.36s\n",
      "37:\tlearn: 1371.3330257\ttotal: 2.62s\tremaining: 4.28s\n",
      "38:\tlearn: 1368.9298984\ttotal: 2.69s\tremaining: 4.21s\n",
      "39:\tlearn: 1362.4013024\ttotal: 2.78s\tremaining: 4.17s\n",
      "40:\tlearn: 1360.5625599\ttotal: 2.85s\tremaining: 4.11s\n",
      "41:\tlearn: 1357.9488248\ttotal: 2.94s\tremaining: 4.05s\n",
      "42:\tlearn: 1356.6420022\ttotal: 3s\tremaining: 3.97s\n",
      "43:\tlearn: 1353.2038123\ttotal: 3.09s\tremaining: 3.93s\n",
      "44:\tlearn: 1352.3949741\ttotal: 3.16s\tremaining: 3.87s\n",
      "45:\tlearn: 1350.6210746\ttotal: 3.27s\tremaining: 3.84s\n",
      "46:\tlearn: 1348.3693992\ttotal: 3.36s\tremaining: 3.79s\n",
      "47:\tlearn: 1347.6608909\ttotal: 3.45s\tremaining: 3.74s\n",
      "48:\tlearn: 1345.4633265\ttotal: 3.55s\tremaining: 3.7s\n",
      "49:\tlearn: 1345.0192835\ttotal: 3.65s\tremaining: 3.65s\n",
      "50:\tlearn: 1343.9302369\ttotal: 3.71s\tremaining: 3.57s\n",
      "51:\tlearn: 1343.1912406\ttotal: 3.77s\tremaining: 3.48s\n",
      "52:\tlearn: 1341.0864205\ttotal: 3.84s\tremaining: 3.41s\n",
      "53:\tlearn: 1339.6850407\ttotal: 3.94s\tremaining: 3.35s\n",
      "54:\tlearn: 1338.5057036\ttotal: 4.02s\tremaining: 3.29s\n",
      "55:\tlearn: 1337.6403556\ttotal: 4.11s\tremaining: 3.23s\n",
      "56:\tlearn: 1336.8117295\ttotal: 4.18s\tremaining: 3.15s\n",
      "57:\tlearn: 1335.5278214\ttotal: 4.23s\tremaining: 3.07s\n",
      "58:\tlearn: 1332.6684472\ttotal: 4.3s\tremaining: 2.99s\n",
      "59:\tlearn: 1331.6282826\ttotal: 4.37s\tremaining: 2.91s\n",
      "60:\tlearn: 1331.3879885\ttotal: 4.43s\tremaining: 2.83s\n",
      "61:\tlearn: 1329.9981646\ttotal: 4.53s\tremaining: 2.77s\n",
      "62:\tlearn: 1328.8957161\ttotal: 4.6s\tremaining: 2.7s\n",
      "63:\tlearn: 1327.7583180\ttotal: 4.67s\tremaining: 2.63s\n",
      "64:\tlearn: 1326.4931633\ttotal: 4.74s\tremaining: 2.55s\n",
      "65:\tlearn: 1325.2508811\ttotal: 4.8s\tremaining: 2.47s\n",
      "66:\tlearn: 1323.9333820\ttotal: 4.86s\tremaining: 2.39s\n",
      "67:\tlearn: 1322.6483300\ttotal: 4.94s\tremaining: 2.32s\n",
      "68:\tlearn: 1322.0092744\ttotal: 5s\tremaining: 2.24s\n",
      "69:\tlearn: 1321.5876101\ttotal: 5.06s\tremaining: 2.17s\n",
      "70:\tlearn: 1320.8351259\ttotal: 5.12s\tremaining: 2.09s\n",
      "71:\tlearn: 1319.9888582\ttotal: 5.18s\tremaining: 2.02s\n",
      "72:\tlearn: 1319.1927256\ttotal: 5.31s\tremaining: 1.96s\n",
      "73:\tlearn: 1318.0992571\ttotal: 5.39s\tremaining: 1.89s\n",
      "74:\tlearn: 1317.2356989\ttotal: 5.48s\tremaining: 1.82s\n",
      "75:\tlearn: 1316.5848187\ttotal: 5.56s\tremaining: 1.76s\n",
      "76:\tlearn: 1315.9317273\ttotal: 5.63s\tremaining: 1.68s\n",
      "77:\tlearn: 1315.0638712\ttotal: 5.69s\tremaining: 1.6s\n",
      "78:\tlearn: 1313.9113719\ttotal: 5.78s\tremaining: 1.54s\n",
      "79:\tlearn: 1312.4047201\ttotal: 5.88s\tremaining: 1.47s\n",
      "80:\tlearn: 1312.3863524\ttotal: 5.95s\tremaining: 1.4s\n",
      "81:\tlearn: 1311.7266691\ttotal: 6.01s\tremaining: 1.32s\n",
      "82:\tlearn: 1311.1848114\ttotal: 6.08s\tremaining: 1.25s\n",
      "83:\tlearn: 1310.6269793\ttotal: 6.16s\tremaining: 1.17s\n",
      "84:\tlearn: 1308.4193515\ttotal: 6.23s\tremaining: 1.1s\n",
      "85:\tlearn: 1307.5051497\ttotal: 6.31s\tremaining: 1.03s\n",
      "86:\tlearn: 1306.6518438\ttotal: 6.39s\tremaining: 954ms\n",
      "87:\tlearn: 1306.3132878\ttotal: 6.44s\tremaining: 879ms\n",
      "88:\tlearn: 1305.9245467\ttotal: 6.5s\tremaining: 803ms\n",
      "89:\tlearn: 1304.7737072\ttotal: 6.55s\tremaining: 728ms\n",
      "90:\tlearn: 1304.0724809\ttotal: 6.63s\tremaining: 656ms\n",
      "91:\tlearn: 1303.5098960\ttotal: 6.7s\tremaining: 583ms\n",
      "92:\tlearn: 1302.3998820\ttotal: 6.79s\tremaining: 511ms\n",
      "93:\tlearn: 1301.3960197\ttotal: 6.85s\tremaining: 437ms\n",
      "94:\tlearn: 1301.3820960\ttotal: 6.92s\tremaining: 364ms\n",
      "95:\tlearn: 1300.7995082\ttotal: 7s\tremaining: 292ms\n",
      "96:\tlearn: 1300.0170397\ttotal: 7.08s\tremaining: 219ms\n",
      "97:\tlearn: 1299.7314255\ttotal: 7.14s\tremaining: 146ms\n",
      "98:\tlearn: 1299.1062476\ttotal: 7.2s\tremaining: 72.8ms\n",
      "99:\tlearn: 1298.2807548\ttotal: 7.27s\tremaining: 0us\n",
      "Learning rate set to 0.5\n",
      "0:\tlearn: 2568.1158279\ttotal: 43.6ms\tremaining: 2.14s\n",
      "1:\tlearn: 2169.1368832\ttotal: 98.1ms\tremaining: 2.35s\n",
      "2:\tlearn: 1964.1294186\ttotal: 144ms\tremaining: 2.25s\n",
      "3:\tlearn: 1826.9770615\ttotal: 211ms\tremaining: 2.43s\n",
      "4:\tlearn: 1737.8753237\ttotal: 255ms\tremaining: 2.3s\n",
      "5:\tlearn: 1690.6833370\ttotal: 313ms\tremaining: 2.3s\n",
      "6:\tlearn: 1637.1325660\ttotal: 379ms\tremaining: 2.33s\n",
      "7:\tlearn: 1618.7186535\ttotal: 427ms\tremaining: 2.24s\n",
      "8:\tlearn: 1600.6528778\ttotal: 472ms\tremaining: 2.15s\n",
      "9:\tlearn: 1584.1587016\ttotal: 516ms\tremaining: 2.06s\n",
      "10:\tlearn: 1562.5623050\ttotal: 558ms\tremaining: 1.98s\n",
      "11:\tlearn: 1552.4730776\ttotal: 597ms\tremaining: 1.89s\n",
      "12:\tlearn: 1541.3511774\ttotal: 635ms\tremaining: 1.81s\n",
      "13:\tlearn: 1532.7138775\ttotal: 675ms\tremaining: 1.74s\n",
      "14:\tlearn: 1524.9357907\ttotal: 722ms\tremaining: 1.68s\n",
      "15:\tlearn: 1517.0412513\ttotal: 763ms\tremaining: 1.62s\n",
      "16:\tlearn: 1510.5136585\ttotal: 806ms\tremaining: 1.56s\n",
      "17:\tlearn: 1502.7547683\ttotal: 846ms\tremaining: 1.5s\n",
      "18:\tlearn: 1498.8906597\ttotal: 893ms\tremaining: 1.46s\n",
      "19:\tlearn: 1489.8050295\ttotal: 953ms\tremaining: 1.43s\n",
      "20:\tlearn: 1486.6395582\ttotal: 1s\tremaining: 1.39s\n",
      "21:\tlearn: 1479.7852508\ttotal: 1.05s\tremaining: 1.34s\n",
      "22:\tlearn: 1476.3532214\ttotal: 1.09s\tremaining: 1.28s\n",
      "23:\tlearn: 1471.8357329\ttotal: 1.13s\tremaining: 1.23s\n",
      "24:\tlearn: 1467.4251629\ttotal: 1.17s\tremaining: 1.17s\n",
      "25:\tlearn: 1464.5975254\ttotal: 1.21s\tremaining: 1.12s\n",
      "26:\tlearn: 1459.8423811\ttotal: 1.26s\tremaining: 1.07s\n",
      "27:\tlearn: 1456.8095611\ttotal: 1.3s\tremaining: 1.02s\n",
      "28:\tlearn: 1453.3985197\ttotal: 1.35s\tremaining: 977ms\n",
      "29:\tlearn: 1450.1086040\ttotal: 1.39s\tremaining: 929ms\n",
      "30:\tlearn: 1446.3803466\ttotal: 1.44s\tremaining: 880ms\n",
      "31:\tlearn: 1445.0554550\ttotal: 1.49s\tremaining: 838ms\n",
      "32:\tlearn: 1441.4175302\ttotal: 1.53s\tremaining: 788ms\n",
      "33:\tlearn: 1437.1874476\ttotal: 1.58s\tremaining: 743ms\n",
      "34:\tlearn: 1434.5052088\ttotal: 1.62s\tremaining: 694ms\n",
      "35:\tlearn: 1432.8154525\ttotal: 1.66s\tremaining: 645ms\n",
      "36:\tlearn: 1430.5490160\ttotal: 1.7s\tremaining: 597ms\n",
      "37:\tlearn: 1428.2541816\ttotal: 1.74s\tremaining: 551ms\n"
     ]
    },
    {
     "name": "stdout",
     "output_type": "stream",
     "text": [
      "38:\tlearn: 1424.7988255\ttotal: 1.79s\tremaining: 504ms\n",
      "39:\tlearn: 1422.3216934\ttotal: 1.83s\tremaining: 457ms\n",
      "40:\tlearn: 1419.6035210\ttotal: 1.87s\tremaining: 411ms\n",
      "41:\tlearn: 1417.3690981\ttotal: 1.91s\tremaining: 364ms\n",
      "42:\tlearn: 1415.5678265\ttotal: 1.95s\tremaining: 318ms\n",
      "43:\tlearn: 1414.6580449\ttotal: 2s\tremaining: 272ms\n",
      "44:\tlearn: 1412.9869947\ttotal: 2.04s\tremaining: 227ms\n",
      "45:\tlearn: 1411.7869911\ttotal: 2.08s\tremaining: 181ms\n",
      "46:\tlearn: 1409.7891464\ttotal: 2.13s\tremaining: 136ms\n",
      "47:\tlearn: 1409.3956036\ttotal: 2.17s\tremaining: 90.4ms\n",
      "48:\tlearn: 1408.1951470\ttotal: 2.21s\tremaining: 45.1ms\n",
      "49:\tlearn: 1406.5908997\ttotal: 2.28s\tremaining: 0us\n"
     ]
    }
   ],
   "source": [
    "# Создаем модель CatBoostRegressor с указанным random_state\n",
    "cat_boost_model = CatBoostRegressor(random_state=state)\n",
    "\n",
    "# Задаем параметры для гиперпараметров модели\n",
    "cat_boost_params = {'max_depth': [4, 6],\n",
    "                   'iterations': [50, 100]}\n",
    "\n",
    "# Вызываем функцию train_model для обучения модели с использованием указанных параметров\n",
    "cat_boost_best_params = train_model(\n",
    "    cat_boost_model, \n",
    "    cat_boost_params, \n",
    "    train_features, \n",
    "    train_target, \n",
    "    test_features, \n",
    "    results_df, \n",
    "    cat_features\n",
    ")"
   ]
  },
  {
   "cell_type": "code",
   "execution_count": 47,
   "metadata": {},
   "outputs": [
    {
     "name": "stdout",
     "output_type": "stream",
     "text": [
      "Learning rate set to 0.5\n",
      "0:\tlearn: 2568.1158279\ttotal: 45.5ms\tremaining: 2.23s\n",
      "1:\tlearn: 2169.1368832\ttotal: 88.2ms\tremaining: 2.12s\n",
      "2:\tlearn: 1964.1294186\ttotal: 134ms\tremaining: 2.1s\n",
      "3:\tlearn: 1826.9770615\ttotal: 189ms\tremaining: 2.17s\n",
      "4:\tlearn: 1737.8753237\ttotal: 253ms\tremaining: 2.27s\n",
      "5:\tlearn: 1690.6833370\ttotal: 305ms\tremaining: 2.23s\n",
      "6:\tlearn: 1637.1325660\ttotal: 353ms\tremaining: 2.17s\n",
      "7:\tlearn: 1618.7186535\ttotal: 395ms\tremaining: 2.07s\n",
      "8:\tlearn: 1600.6528778\ttotal: 438ms\tremaining: 2s\n",
      "9:\tlearn: 1584.1587016\ttotal: 491ms\tremaining: 1.96s\n",
      "10:\tlearn: 1562.5623050\ttotal: 533ms\tremaining: 1.89s\n",
      "11:\tlearn: 1552.4730776\ttotal: 572ms\tremaining: 1.81s\n",
      "12:\tlearn: 1541.3511774\ttotal: 610ms\tremaining: 1.74s\n",
      "13:\tlearn: 1532.7138775\ttotal: 650ms\tremaining: 1.67s\n",
      "14:\tlearn: 1524.9357907\ttotal: 688ms\tremaining: 1.61s\n",
      "15:\tlearn: 1517.0412513\ttotal: 740ms\tremaining: 1.57s\n",
      "16:\tlearn: 1510.5136585\ttotal: 784ms\tremaining: 1.52s\n",
      "17:\tlearn: 1502.7547683\ttotal: 825ms\tremaining: 1.47s\n",
      "18:\tlearn: 1498.8906597\ttotal: 882ms\tremaining: 1.44s\n",
      "19:\tlearn: 1489.8050295\ttotal: 936ms\tremaining: 1.4s\n",
      "20:\tlearn: 1486.6395582\ttotal: 975ms\tremaining: 1.35s\n",
      "21:\tlearn: 1479.7852508\ttotal: 1.01s\tremaining: 1.29s\n",
      "22:\tlearn: 1476.3532214\ttotal: 1.06s\tremaining: 1.25s\n",
      "23:\tlearn: 1471.8357329\ttotal: 1.1s\tremaining: 1.2s\n",
      "24:\tlearn: 1467.4251629\ttotal: 1.14s\tremaining: 1.14s\n",
      "25:\tlearn: 1464.5975254\ttotal: 1.18s\tremaining: 1.09s\n",
      "26:\tlearn: 1459.8423811\ttotal: 1.23s\tremaining: 1.05s\n",
      "27:\tlearn: 1456.8095611\ttotal: 1.27s\tremaining: 1s\n",
      "28:\tlearn: 1453.3985197\ttotal: 1.31s\tremaining: 952ms\n",
      "29:\tlearn: 1450.1086040\ttotal: 1.35s\tremaining: 901ms\n",
      "30:\tlearn: 1446.3803466\ttotal: 1.43s\tremaining: 874ms\n",
      "31:\tlearn: 1445.0554550\ttotal: 1.48s\tremaining: 830ms\n",
      "32:\tlearn: 1441.4175302\ttotal: 1.52s\tremaining: 783ms\n",
      "33:\tlearn: 1437.1874476\ttotal: 1.57s\tremaining: 741ms\n",
      "34:\tlearn: 1434.5052088\ttotal: 1.63s\tremaining: 696ms\n",
      "35:\tlearn: 1432.8154525\ttotal: 1.67s\tremaining: 651ms\n",
      "36:\tlearn: 1430.5490160\ttotal: 1.72s\tremaining: 604ms\n",
      "37:\tlearn: 1428.2541816\ttotal: 1.77s\tremaining: 560ms\n",
      "38:\tlearn: 1424.7988255\ttotal: 1.82s\tremaining: 513ms\n",
      "39:\tlearn: 1422.3216934\ttotal: 1.87s\tremaining: 467ms\n",
      "40:\tlearn: 1419.6035210\ttotal: 1.91s\tremaining: 420ms\n",
      "41:\tlearn: 1417.3690981\ttotal: 1.96s\tremaining: 374ms\n",
      "42:\tlearn: 1415.5678265\ttotal: 2.01s\tremaining: 327ms\n",
      "43:\tlearn: 1414.6580449\ttotal: 2.06s\tremaining: 281ms\n",
      "44:\tlearn: 1412.9869947\ttotal: 2.11s\tremaining: 234ms\n",
      "45:\tlearn: 1411.7869911\ttotal: 2.15s\tremaining: 187ms\n",
      "46:\tlearn: 1409.7891464\ttotal: 2.2s\tremaining: 140ms\n",
      "47:\tlearn: 1409.3956036\ttotal: 2.25s\tremaining: 93.6ms\n",
      "48:\tlearn: 1408.1951470\ttotal: 2.29s\tremaining: 46.6ms\n",
      "49:\tlearn: 1406.5908997\ttotal: 2.34s\tremaining: 0us\n"
     ]
    }
   ],
   "source": [
    "# Вызываем функцию fit_time_cal для вычисления времени обучения модели\n",
    "fit_time_cal(\n",
    "    CatBoostRegressor, train_features, train_target, cat_boost_best_params, results_fit_time, cat_features, random_state=state\n",
    ")"
   ]
  },
  {
   "cell_type": "code",
   "execution_count": 48,
   "metadata": {},
   "outputs": [
    {
     "name": "stdout",
     "output_type": "stream",
     "text": [
      "Лучшие гиперпараметры для модели CatBoost: {'iterations': 50, 'max_depth': 4}\n"
     ]
    }
   ],
   "source": [
    "print('Лучшие гиперпараметры для модели CatBoost:', cat_boost_best_params)"
   ]
  },
  {
   "cell_type": "code",
   "execution_count": 49,
   "metadata": {},
   "outputs": [
    {
     "data": {
      "text/html": [
       "<div>\n",
       "<style scoped>\n",
       "    .dataframe tbody tr th:only-of-type {\n",
       "        vertical-align: middle;\n",
       "    }\n",
       "\n",
       "    .dataframe tbody tr th {\n",
       "        vertical-align: top;\n",
       "    }\n",
       "\n",
       "    .dataframe thead th {\n",
       "        text-align: right;\n",
       "    }\n",
       "</style>\n",
       "<table border=\"1\" class=\"dataframe\">\n",
       "  <thead>\n",
       "    <tr style=\"text-align: right;\">\n",
       "      <th></th>\n",
       "      <th>model</th>\n",
       "      <th>best_rmse</th>\n",
       "      <th>rmse_test</th>\n",
       "      <th>params_time</th>\n",
       "      <th>predict_time</th>\n",
       "    </tr>\n",
       "  </thead>\n",
       "  <tbody>\n",
       "    <tr>\n",
       "      <th>2</th>\n",
       "      <td>CatBoostRegressor</td>\n",
       "      <td>1408.771347</td>\n",
       "      <td>1398.001925</td>\n",
       "      <td>92.300107</td>\n",
       "      <td>0.031426</td>\n",
       "    </tr>\n",
       "  </tbody>\n",
       "</table>\n",
       "</div>"
      ],
      "text/plain": [
       "               model    best_rmse    rmse_test  params_time  predict_time\n",
       "2  CatBoostRegressor  1408.771347  1398.001925    92.300107      0.031426"
      ]
     },
     "execution_count": 49,
     "metadata": {},
     "output_type": "execute_result"
    }
   ],
   "source": [
    "results_df.loc[results_df['model'] == 'CatBoostRegressor']"
   ]
  },
  {
   "cell_type": "markdown",
   "metadata": {},
   "source": [
    "### Вывод по обучению моделей\n",
    "На этапе обучения моделей, обучили 3 модели:\n",
    "- LinearRegression - Модель линейной регрессии\n",
    "- LGBMRegressor - Модель градиентного бустинга LightGBM\n",
    "- CatBoostRegressor\t- Модель градиентного бустинга CatBoostRegressor\n",
    "\n",
    "Результаты сохранили в таблицу `results_df`. Проанализируем и выберем лучшую модель на этапе анализа моделей."
   ]
  },
  {
   "cell_type": "markdown",
   "metadata": {},
   "source": [
    "## Анализ моделей"
   ]
  },
  {
   "cell_type": "markdown",
   "metadata": {},
   "source": [
    "В этом разделе проанализируем собранные данные в таблице `results_df`."
   ]
  },
  {
   "cell_type": "code",
   "execution_count": 50,
   "metadata": {},
   "outputs": [],
   "source": [
    "# Объеденим результаты\n",
    "results_df = results_df.join(results_fit_time)"
   ]
  },
  {
   "cell_type": "code",
   "execution_count": 51,
   "metadata": {},
   "outputs": [],
   "source": [
    "# Создадим столбец с сумарным временем обучения и предсказания\n",
    "results_df['fit_predict_time'] = results_df['fit_time'] + results_df['predict_time']"
   ]
  },
  {
   "cell_type": "code",
   "execution_count": 52,
   "metadata": {},
   "outputs": [
    {
     "data": {
      "text/html": [
       "<div>\n",
       "<style scoped>\n",
       "    .dataframe tbody tr th:only-of-type {\n",
       "        vertical-align: middle;\n",
       "    }\n",
       "\n",
       "    .dataframe tbody tr th {\n",
       "        vertical-align: top;\n",
       "    }\n",
       "\n",
       "    .dataframe thead th {\n",
       "        text-align: right;\n",
       "    }\n",
       "</style>\n",
       "<table border=\"1\" class=\"dataframe\">\n",
       "  <thead>\n",
       "    <tr style=\"text-align: right;\">\n",
       "      <th></th>\n",
       "      <th>model</th>\n",
       "      <th>best_rmse</th>\n",
       "      <th>rmse_test</th>\n",
       "      <th>params_time</th>\n",
       "      <th>predict_time</th>\n",
       "      <th>fit_time</th>\n",
       "      <th>fit_predict_time</th>\n",
       "    </tr>\n",
       "  </thead>\n",
       "  <tbody>\n",
       "    <tr>\n",
       "      <th>0</th>\n",
       "      <td>LinearRegression</td>\n",
       "      <td>2144.455585</td>\n",
       "      <td>2121.437286</td>\n",
       "      <td>1.722778</td>\n",
       "      <td>0.011919</td>\n",
       "      <td>0.194768</td>\n",
       "      <td>0.206687</td>\n",
       "    </tr>\n",
       "    <tr>\n",
       "      <th>1</th>\n",
       "      <td>LGBMRegressor</td>\n",
       "      <td>2271.449517</td>\n",
       "      <td>2257.781080</td>\n",
       "      <td>4.419502</td>\n",
       "      <td>0.020149</td>\n",
       "      <td>0.206642</td>\n",
       "      <td>0.226791</td>\n",
       "    </tr>\n",
       "    <tr>\n",
       "      <th>2</th>\n",
       "      <td>CatBoostRegressor</td>\n",
       "      <td>1408.771347</td>\n",
       "      <td>1398.001925</td>\n",
       "      <td>92.300107</td>\n",
       "      <td>0.031426</td>\n",
       "      <td>2.581989</td>\n",
       "      <td>2.613414</td>\n",
       "    </tr>\n",
       "  </tbody>\n",
       "</table>\n",
       "</div>"
      ],
      "text/plain": [
       "               model    best_rmse    rmse_test  params_time  predict_time  \\\n",
       "0   LinearRegression  2144.455585  2121.437286     1.722778      0.011919   \n",
       "1      LGBMRegressor  2271.449517  2257.781080     4.419502      0.020149   \n",
       "2  CatBoostRegressor  1408.771347  1398.001925    92.300107      0.031426   \n",
       "\n",
       "   fit_time  fit_predict_time  \n",
       "0  0.194768          0.206687  \n",
       "1  0.206642          0.226791  \n",
       "2  2.581989          2.613414  "
      ]
     },
     "execution_count": 52,
     "metadata": {},
     "output_type": "execute_result"
    }
   ],
   "source": [
    "results_df"
   ]
  },
  {
   "cell_type": "code",
   "execution_count": 53,
   "metadata": {},
   "outputs": [],
   "source": [
    "# Функция для постороения столбчатой диаграммы\n",
    "def plot_bar_chart(height, bars, title):\n",
    "    # Создание массива позиций для каждого столбца на оси x\n",
    "    x_pos = np.arange(len(bars))\n",
    "    \n",
    "    # Определение цветов для столбцов\n",
    "    colors = ['blue', 'green', 'red', 'orange']\n",
    "    \n",
    "    # Создание нового графика с указанным размером\n",
    "    plt.figure(figsize=(10, 6))\n",
    "    \n",
    "    # Построение столбчатой диаграммы\n",
    "    plt.bar(x_pos, height, color=colors)\n",
    "    \n",
    "    # Установка подписей на оси x\n",
    "    plt.xticks(x_pos, bars)\n",
    "    \n",
    "    # Включение сетки по оси y с прозрачностью 0.2\n",
    "    plt.grid(True, axis='y', alpha=0.2)\n",
    "    \n",
    "    # Установка заголовка диаграммы\n",
    "    plt.title(title)\n",
    "    plt.ylabel('RMSE')\n",
    "    \n",
    "    # Отображение графика\n",
    "    plt.show()"
   ]
  },
  {
   "cell_type": "code",
   "execution_count": 54,
   "metadata": {},
   "outputs": [
    {
     "data": {
      "image/png": "[encoded data removed]",
      "text/plain": [
       "<Figure size 1000x600 with 1 Axes>"
      ]
     },
     "metadata": {},
     "output_type": "display_data"
    }
   ],
   "source": [
    "plot_bar_chart(results_df['rmse_test'], results_df['model'], 'Лучшая RMSE на тестовой выборке')"
   ]
  },
  {
   "cell_type": "code",
   "execution_count": 55,
   "metadata": {},
   "outputs": [
    {
     "data": {
      "image/png": "[encoded data removed]",
      "text/plain": [
       "<Figure size 1000x600 with 1 Axes>"
      ]
     },
     "metadata": {},
     "output_type": "display_data"
    }
   ],
   "source": [
    "plot_bar_chart(results_df['fit_predict_time'], results_df['model'], 'Время подбора гиперпараметров')"
   ]
  },
  {
   "cell_type": "code",
   "execution_count": 56,
   "metadata": {},
   "outputs": [
    {
     "data": {
      "image/png": "[encoded data removed]",
      "text/plain": [
       "<Figure size 1000x600 with 1 Axes>"
      ]
     },
     "metadata": {},
     "output_type": "display_data"
    }
   ],
   "source": [
    "plot_bar_chart(results_df['fit_time'], results_df['model'], 'Время обучения')"
   ]
  },
  {
   "cell_type": "code",
   "execution_count": 57,
   "metadata": {},
   "outputs": [
    {
     "data": {
      "image/png": "[encoded data removed]",
      "text/plain": [
       "<Figure size 1000x600 with 1 Axes>"
      ]
     },
     "metadata": {},
     "output_type": "display_data"
    }
   ],
   "source": [
    "plot_bar_chart(results_df['predict_time'], results_df['model'], 'Время на предсказания')"
   ]
  },
  {
   "cell_type": "markdown",
   "metadata": {},
   "source": [
    "### Вывод по анализу моделей\n",
    "\n",
    "Получили такие результаты:\n",
    "\n",
    "- Лучшее качество предсказаний у модели CatBoost\n",
    "- Наибольшая скорость предсказаний у модели LinearRegression\n",
    "- Наименьшее время обучения у модели LinearRegression"
   ]
  },
  {
   "cell_type": "markdown",
   "metadata": {},
   "source": [
    "## Вывод по проекту\n",
    "\n",
    "В этом проекте нам нужно было построить модель для определения рыночной стоимости автомобиля. \n",
    "\n",
    "В этом проекте мы сделали:\n",
    "- Изучили датасет\n",
    "- Заполнили пропуски\n",
    "- Обработали аномальные значения\n",
    "- Удалили неинформативные признаки\n",
    "- Удалили явные дубликаты\n",
    "- Закодировали категориальные признаки прямым кодированием (One-Hot-Encoding) и Target Encoding\n",
    "- Разделили датасет на обучающую и тестовую выборку\n",
    "- Стандартизировали признаки\n",
    "- Обучили 3 модели:\n",
    "    - LinearRegression - Модель линейной регрессии\n",
    "    - LGBMRegressor - Модель градиентного бустинга LightGBM\n",
    "    - CatBoostRegressor - Модель градиентного бустинга CatBoostRegressor\n",
    "- Собрали результаты в таблице `results_df`\n",
    "- Проанализировали модели\n",
    "- Выбрали лучшую модель подходящию заказчику по 3 параметрам: по качеству предсказаний, скорость предсказаний и времени обучения.\n",
    "\n",
    "По итогу лучшее значение RMSE у модели CatBoost, по остальным параметрам она уступает таким моделям, как LinearRegression и LightBoost."
   ]
  }
 ],
 "metadata": {
  "ExecuteTimeLog": [
   {
    "duration": 43631,
    "start_time": "2023-05-31T14:13:18.333Z"
   },
   {
    "duration": 908,
    "start_time": "2023-05-31T14:14:01.966Z"
   },
   {
    "duration": 115,
    "start_time": "2023-05-31T14:14:02.875Z"
   },
   {
    "duration": 14,
    "start_time": "2023-05-31T14:14:02.992Z"
   },
   {
    "duration": 175,
    "start_time": "2023-05-31T14:14:03.015Z"
   },
   {
    "duration": 137,
    "start_time": "2023-05-31T14:14:03.191Z"
   },
   {
    "duration": 0,
    "start_time": "2023-05-31T14:14:03.330Z"
   },
   {
    "duration": 0,
    "start_time": "2023-05-31T14:14:03.332Z"
   },
   {
    "duration": 0,
    "start_time": "2023-05-31T14:14:03.332Z"
   },
   {
    "duration": 0,
    "start_time": "2023-05-31T14:14:03.333Z"
   },
   {
    "duration": 0,
    "start_time": "2023-05-31T14:14:03.334Z"
   },
   {
    "duration": 0,
    "start_time": "2023-05-31T14:14:03.335Z"
   },
   {
    "duration": 0,
    "start_time": "2023-05-31T14:14:03.335Z"
   },
   {
    "duration": 0,
    "start_time": "2023-05-31T14:14:03.336Z"
   },
   {
    "duration": 0,
    "start_time": "2023-05-31T14:14:03.337Z"
   },
   {
    "duration": 0,
    "start_time": "2023-05-31T14:14:03.338Z"
   },
   {
    "duration": 0,
    "start_time": "2023-05-31T14:14:03.339Z"
   },
   {
    "duration": 0,
    "start_time": "2023-05-31T14:14:03.339Z"
   },
   {
    "duration": 0,
    "start_time": "2023-05-31T14:14:03.340Z"
   },
   {
    "duration": 0,
    "start_time": "2023-05-31T14:14:03.341Z"
   },
   {
    "duration": 0,
    "start_time": "2023-05-31T14:14:03.342Z"
   },
   {
    "duration": 0,
    "start_time": "2023-05-31T14:14:03.342Z"
   },
   {
    "duration": 0,
    "start_time": "2023-05-31T14:14:03.343Z"
   },
   {
    "duration": 0,
    "start_time": "2023-05-31T14:14:03.344Z"
   },
   {
    "duration": 0,
    "start_time": "2023-05-31T14:14:03.345Z"
   },
   {
    "duration": 0,
    "start_time": "2023-05-31T14:14:03.346Z"
   },
   {
    "duration": 0,
    "start_time": "2023-05-31T14:14:03.347Z"
   },
   {
    "duration": 0,
    "start_time": "2023-05-31T14:14:03.347Z"
   },
   {
    "duration": 0,
    "start_time": "2023-05-31T14:14:03.348Z"
   },
   {
    "duration": 0,
    "start_time": "2023-05-31T14:14:03.349Z"
   },
   {
    "duration": 0,
    "start_time": "2023-05-31T14:14:03.350Z"
   },
   {
    "duration": 0,
    "start_time": "2023-05-31T14:14:03.351Z"
   },
   {
    "duration": 0,
    "start_time": "2023-05-31T14:14:03.351Z"
   },
   {
    "duration": 0,
    "start_time": "2023-05-31T14:14:03.352Z"
   },
   {
    "duration": 0,
    "start_time": "2023-05-31T14:14:03.353Z"
   },
   {
    "duration": 0,
    "start_time": "2023-05-31T14:14:03.354Z"
   },
   {
    "duration": 0,
    "start_time": "2023-05-31T14:14:03.355Z"
   },
   {
    "duration": 0,
    "start_time": "2023-05-31T14:14:03.356Z"
   },
   {
    "duration": 0,
    "start_time": "2023-05-31T14:14:03.357Z"
   },
   {
    "duration": 0,
    "start_time": "2023-05-31T14:14:03.357Z"
   },
   {
    "duration": 0,
    "start_time": "2023-05-31T14:14:03.358Z"
   },
   {
    "duration": 0,
    "start_time": "2023-05-31T14:14:03.359Z"
   },
   {
    "duration": 0,
    "start_time": "2023-05-31T14:14:03.360Z"
   },
   {
    "duration": 0,
    "start_time": "2023-05-31T14:14:03.360Z"
   },
   {
    "duration": 1954,
    "start_time": "2023-05-31T14:14:35.440Z"
   },
   {
    "duration": 8536,
    "start_time": "2023-05-31T14:14:52.804Z"
   },
   {
    "duration": 27,
    "start_time": "2023-05-31T14:15:18.106Z"
   },
   {
    "duration": 2528,
    "start_time": "2023-05-31T14:16:29.240Z"
   },
   {
    "duration": 15730,
    "start_time": "2023-05-31T14:16:31.770Z"
   },
   {
    "duration": 963,
    "start_time": "2023-05-31T14:16:47.502Z"
   },
   {
    "duration": 107,
    "start_time": "2023-05-31T14:16:48.467Z"
   },
   {
    "duration": 12,
    "start_time": "2023-05-31T14:16:48.576Z"
   },
   {
    "duration": 90,
    "start_time": "2023-05-31T14:16:48.589Z"
   },
   {
    "duration": 155,
    "start_time": "2023-05-31T14:16:48.681Z"
   },
   {
    "duration": 0,
    "start_time": "2023-05-31T14:16:48.840Z"
   },
   {
    "duration": 0,
    "start_time": "2023-05-31T14:16:48.841Z"
   },
   {
    "duration": 0,
    "start_time": "2023-05-31T14:16:48.843Z"
   },
   {
    "duration": 0,
    "start_time": "2023-05-31T14:16:48.844Z"
   },
   {
    "duration": 0,
    "start_time": "2023-05-31T14:16:48.845Z"
   },
   {
    "duration": 0,
    "start_time": "2023-05-31T14:16:48.846Z"
   },
   {
    "duration": 0,
    "start_time": "2023-05-31T14:16:48.847Z"
   },
   {
    "duration": 0,
    "start_time": "2023-05-31T14:16:48.848Z"
   },
   {
    "duration": 0,
    "start_time": "2023-05-31T14:16:48.849Z"
   },
   {
    "duration": 0,
    "start_time": "2023-05-31T14:16:48.850Z"
   },
   {
    "duration": 0,
    "start_time": "2023-05-31T14:16:48.851Z"
   },
   {
    "duration": 0,
    "start_time": "2023-05-31T14:16:48.852Z"
   },
   {
    "duration": 0,
    "start_time": "2023-05-31T14:16:48.853Z"
   },
   {
    "duration": 0,
    "start_time": "2023-05-31T14:16:48.854Z"
   },
   {
    "duration": 0,
    "start_time": "2023-05-31T14:16:48.855Z"
   },
   {
    "duration": 0,
    "start_time": "2023-05-31T14:16:48.856Z"
   },
   {
    "duration": 0,
    "start_time": "2023-05-31T14:16:48.858Z"
   },
   {
    "duration": 0,
    "start_time": "2023-05-31T14:16:48.859Z"
   },
   {
    "duration": 0,
    "start_time": "2023-05-31T14:16:48.860Z"
   },
   {
    "duration": 0,
    "start_time": "2023-05-31T14:16:48.862Z"
   },
   {
    "duration": 0,
    "start_time": "2023-05-31T14:16:48.863Z"
   },
   {
    "duration": 0,
    "start_time": "2023-05-31T14:16:48.864Z"
   },
   {
    "duration": 0,
    "start_time": "2023-05-31T14:16:48.865Z"
   },
   {
    "duration": 0,
    "start_time": "2023-05-31T14:16:48.867Z"
   },
   {
    "duration": 0,
    "start_time": "2023-05-31T14:16:48.915Z"
   },
   {
    "duration": 0,
    "start_time": "2023-05-31T14:16:48.916Z"
   },
   {
    "duration": 0,
    "start_time": "2023-05-31T14:16:48.918Z"
   },
   {
    "duration": 0,
    "start_time": "2023-05-31T14:16:48.919Z"
   },
   {
    "duration": 0,
    "start_time": "2023-05-31T14:16:48.921Z"
   },
   {
    "duration": 0,
    "start_time": "2023-05-31T14:16:48.922Z"
   },
   {
    "duration": 0,
    "start_time": "2023-05-31T14:16:48.923Z"
   },
   {
    "duration": 0,
    "start_time": "2023-05-31T14:16:48.925Z"
   },
   {
    "duration": 0,
    "start_time": "2023-05-31T14:16:48.926Z"
   },
   {
    "duration": 0,
    "start_time": "2023-05-31T14:16:48.927Z"
   },
   {
    "duration": 0,
    "start_time": "2023-05-31T14:16:48.928Z"
   },
   {
    "duration": 0,
    "start_time": "2023-05-31T14:16:48.930Z"
   },
   {
    "duration": 0,
    "start_time": "2023-05-31T14:16:48.931Z"
   },
   {
    "duration": 0,
    "start_time": "2023-05-31T14:16:48.932Z"
   },
   {
    "duration": 10716,
    "start_time": "2023-05-31T14:18:41.908Z"
   },
   {
    "duration": 939,
    "start_time": "2023-05-31T14:18:52.626Z"
   },
   {
    "duration": 348,
    "start_time": "2023-05-31T14:18:53.567Z"
   },
   {
    "duration": 12,
    "start_time": "2023-05-31T14:18:53.917Z"
   },
   {
    "duration": 88,
    "start_time": "2023-05-31T14:18:53.930Z"
   },
   {
    "duration": 23130,
    "start_time": "2023-05-31T14:18:54.020Z"
   },
   {
    "duration": 1851,
    "start_time": "2023-05-31T14:19:17.151Z"
   },
   {
    "duration": 32,
    "start_time": "2023-05-31T14:19:19.004Z"
   },
   {
    "duration": 17,
    "start_time": "2023-05-31T14:19:19.038Z"
   },
   {
    "duration": 14,
    "start_time": "2023-05-31T14:19:19.057Z"
   },
   {
    "duration": 18,
    "start_time": "2023-05-31T14:19:19.072Z"
   },
   {
    "duration": 34,
    "start_time": "2023-05-31T14:19:19.091Z"
   },
   {
    "duration": 23,
    "start_time": "2023-05-31T14:19:19.126Z"
   },
   {
    "duration": 41,
    "start_time": "2023-05-31T14:19:19.151Z"
   },
   {
    "duration": 55,
    "start_time": "2023-05-31T14:19:19.193Z"
   },
   {
    "duration": 24,
    "start_time": "2023-05-31T14:19:19.250Z"
   },
   {
    "duration": 94,
    "start_time": "2023-05-31T14:19:19.276Z"
   },
   {
    "duration": 99,
    "start_time": "2023-05-31T14:19:19.372Z"
   },
   {
    "duration": 327,
    "start_time": "2023-05-31T14:19:19.473Z"
   },
   {
    "duration": 2,
    "start_time": "2023-05-31T14:19:19.802Z"
   },
   {
    "duration": 357,
    "start_time": "2023-05-31T14:19:19.806Z"
   },
   {
    "duration": 60,
    "start_time": "2023-05-31T14:19:20.164Z"
   },
   {
    "duration": 20,
    "start_time": "2023-05-31T14:19:20.226Z"
   },
   {
    "duration": 3,
    "start_time": "2023-05-31T14:19:20.247Z"
   },
   {
    "duration": 12,
    "start_time": "2023-05-31T14:19:20.252Z"
   },
   {
    "duration": 15,
    "start_time": "2023-05-31T14:19:20.265Z"
   },
   {
    "duration": 305235,
    "start_time": "2023-05-31T14:19:20.281Z"
   },
   {
    "duration": 100,
    "start_time": "2023-05-31T14:24:25.521Z"
   },
   {
    "duration": 10,
    "start_time": "2023-05-31T14:24:25.623Z"
   },
   {
    "duration": 1094568,
    "start_time": "2023-05-31T14:24:25.634Z"
   },
   {
    "duration": 0,
    "start_time": "2023-05-31T14:42:40.204Z"
   },
   {
    "duration": 0,
    "start_time": "2023-05-31T14:42:40.205Z"
   },
   {
    "duration": 0,
    "start_time": "2023-05-31T14:42:40.206Z"
   },
   {
    "duration": 0,
    "start_time": "2023-05-31T14:42:40.215Z"
   },
   {
    "duration": 0,
    "start_time": "2023-05-31T14:42:40.216Z"
   },
   {
    "duration": 0,
    "start_time": "2023-05-31T14:42:40.218Z"
   },
   {
    "duration": 0,
    "start_time": "2023-05-31T14:42:40.218Z"
   },
   {
    "duration": 0,
    "start_time": "2023-05-31T14:42:40.219Z"
   },
   {
    "duration": 0,
    "start_time": "2023-05-31T14:42:40.220Z"
   },
   {
    "duration": 0,
    "start_time": "2023-05-31T14:42:40.221Z"
   },
   {
    "duration": 0,
    "start_time": "2023-05-31T14:42:40.222Z"
   },
   {
    "duration": 0,
    "start_time": "2023-05-31T14:42:40.223Z"
   },
   {
    "duration": 0,
    "start_time": "2023-05-31T14:42:40.224Z"
   },
   {
    "duration": 0,
    "start_time": "2023-05-31T14:42:40.225Z"
   },
   {
    "duration": 67200,
    "start_time": "2023-06-05T13:10:58.630Z"
   },
   {
    "duration": 1798,
    "start_time": "2023-06-05T13:12:05.833Z"
   },
   {
    "duration": 131,
    "start_time": "2023-06-05T13:12:07.633Z"
   },
   {
    "duration": 20,
    "start_time": "2023-06-05T13:12:07.767Z"
   },
   {
    "duration": 162,
    "start_time": "2023-06-05T13:12:07.790Z"
   },
   {
    "duration": 165,
    "start_time": "2023-06-05T13:12:07.955Z"
   },
   {
    "duration": 0,
    "start_time": "2023-06-05T13:12:08.124Z"
   },
   {
    "duration": 0,
    "start_time": "2023-06-05T13:12:08.126Z"
   },
   {
    "duration": 0,
    "start_time": "2023-06-05T13:12:08.141Z"
   },
   {
    "duration": 0,
    "start_time": "2023-06-05T13:12:08.143Z"
   },
   {
    "duration": 0,
    "start_time": "2023-06-05T13:12:08.145Z"
   },
   {
    "duration": 0,
    "start_time": "2023-06-05T13:12:08.147Z"
   },
   {
    "duration": 0,
    "start_time": "2023-06-05T13:12:08.149Z"
   },
   {
    "duration": 0,
    "start_time": "2023-06-05T13:12:08.152Z"
   },
   {
    "duration": 0,
    "start_time": "2023-06-05T13:12:08.154Z"
   },
   {
    "duration": 0,
    "start_time": "2023-06-05T13:12:08.156Z"
   },
   {
    "duration": 1,
    "start_time": "2023-06-05T13:12:08.157Z"
   },
   {
    "duration": 0,
    "start_time": "2023-06-05T13:12:08.159Z"
   },
   {
    "duration": 0,
    "start_time": "2023-06-05T13:12:08.161Z"
   },
   {
    "duration": 0,
    "start_time": "2023-06-05T13:12:08.162Z"
   },
   {
    "duration": 0,
    "start_time": "2023-06-05T13:12:08.164Z"
   },
   {
    "duration": 0,
    "start_time": "2023-06-05T13:12:08.165Z"
   },
   {
    "duration": 0,
    "start_time": "2023-06-05T13:12:08.168Z"
   },
   {
    "duration": 0,
    "start_time": "2023-06-05T13:12:08.169Z"
   },
   {
    "duration": 0,
    "start_time": "2023-06-05T13:12:08.171Z"
   },
   {
    "duration": 0,
    "start_time": "2023-06-05T13:12:08.173Z"
   },
   {
    "duration": 38,
    "start_time": "2023-06-05T13:21:21.417Z"
   },
   {
    "duration": 18,
    "start_time": "2023-06-05T13:21:26.236Z"
   },
   {
    "duration": 17,
    "start_time": "2023-06-05T13:21:27.026Z"
   },
   {
    "duration": 16,
    "start_time": "2023-06-05T13:21:27.835Z"
   },
   {
    "duration": 16,
    "start_time": "2023-06-05T13:21:28.576Z"
   },
   {
    "duration": 18,
    "start_time": "2023-06-05T13:21:29.475Z"
   },
   {
    "duration": 23,
    "start_time": "2023-06-05T13:21:30.927Z"
   },
   {
    "duration": 12075,
    "start_time": "2023-06-05T13:23:38.807Z"
   },
   {
    "duration": 31,
    "start_time": "2023-06-05T13:23:55.247Z"
   },
   {
    "duration": 20192,
    "start_time": "2023-06-05T13:24:19.830Z"
   },
   {
    "duration": 1399,
    "start_time": "2023-06-05T13:24:40.025Z"
   },
   {
    "duration": 116,
    "start_time": "2023-06-05T13:24:41.426Z"
   },
   {
    "duration": 16,
    "start_time": "2023-06-05T13:24:41.545Z"
   },
   {
    "duration": 116,
    "start_time": "2023-06-05T13:24:41.562Z"
   },
   {
    "duration": 7985,
    "start_time": "2023-06-05T13:24:41.680Z"
   },
   {
    "duration": 145,
    "start_time": "2023-06-05T13:24:49.667Z"
   },
   {
    "duration": 0,
    "start_time": "2023-06-05T13:24:49.816Z"
   },
   {
    "duration": 0,
    "start_time": "2023-06-05T13:24:49.817Z"
   },
   {
    "duration": 0,
    "start_time": "2023-06-05T13:24:49.819Z"
   },
   {
    "duration": 0,
    "start_time": "2023-06-05T13:24:49.820Z"
   },
   {
    "duration": 0,
    "start_time": "2023-06-05T13:24:49.821Z"
   },
   {
    "duration": 0,
    "start_time": "2023-06-05T13:24:49.822Z"
   },
   {
    "duration": 0,
    "start_time": "2023-06-05T13:24:49.823Z"
   },
   {
    "duration": 0,
    "start_time": "2023-06-05T13:24:49.824Z"
   },
   {
    "duration": 0,
    "start_time": "2023-06-05T13:24:49.825Z"
   },
   {
    "duration": 0,
    "start_time": "2023-06-05T13:24:49.842Z"
   },
   {
    "duration": 0,
    "start_time": "2023-06-05T13:24:49.843Z"
   },
   {
    "duration": 0,
    "start_time": "2023-06-05T13:24:49.845Z"
   },
   {
    "duration": 0,
    "start_time": "2023-06-05T13:24:49.847Z"
   },
   {
    "duration": 0,
    "start_time": "2023-06-05T13:24:49.848Z"
   },
   {
    "duration": 0,
    "start_time": "2023-06-05T13:24:49.849Z"
   },
   {
    "duration": 0,
    "start_time": "2023-06-05T13:24:49.851Z"
   },
   {
    "duration": 0,
    "start_time": "2023-06-05T13:24:49.852Z"
   },
   {
    "duration": 0,
    "start_time": "2023-06-05T13:24:49.854Z"
   },
   {
    "duration": 0,
    "start_time": "2023-06-05T13:24:49.855Z"
   },
   {
    "duration": 0,
    "start_time": "2023-06-05T13:24:49.857Z"
   },
   {
    "duration": 0,
    "start_time": "2023-06-05T13:24:49.861Z"
   },
   {
    "duration": 0,
    "start_time": "2023-06-05T13:24:49.862Z"
   },
   {
    "duration": 0,
    "start_time": "2023-06-05T13:24:49.864Z"
   },
   {
    "duration": 0,
    "start_time": "2023-06-05T13:24:49.866Z"
   },
   {
    "duration": 0,
    "start_time": "2023-06-05T13:24:49.867Z"
   },
   {
    "duration": 0,
    "start_time": "2023-06-05T13:24:49.869Z"
   },
   {
    "duration": 0,
    "start_time": "2023-06-05T13:24:49.870Z"
   },
   {
    "duration": 0,
    "start_time": "2023-06-05T13:24:49.871Z"
   },
   {
    "duration": 0,
    "start_time": "2023-06-05T13:24:49.872Z"
   },
   {
    "duration": 0,
    "start_time": "2023-06-05T13:24:49.874Z"
   },
   {
    "duration": 0,
    "start_time": "2023-06-05T13:24:49.875Z"
   },
   {
    "duration": 0,
    "start_time": "2023-06-05T13:24:49.877Z"
   },
   {
    "duration": 0,
    "start_time": "2023-06-05T13:24:49.878Z"
   },
   {
    "duration": 0,
    "start_time": "2023-06-05T13:24:49.880Z"
   },
   {
    "duration": 0,
    "start_time": "2023-06-05T13:24:49.942Z"
   },
   {
    "duration": 0,
    "start_time": "2023-06-05T13:24:49.945Z"
   },
   {
    "duration": 1,
    "start_time": "2023-06-05T13:24:49.947Z"
   },
   {
    "duration": 0,
    "start_time": "2023-06-05T13:24:49.949Z"
   },
   {
    "duration": 0,
    "start_time": "2023-06-05T13:24:49.949Z"
   },
   {
    "duration": 0,
    "start_time": "2023-06-05T13:24:49.950Z"
   },
   {
    "duration": 0,
    "start_time": "2023-06-05T13:24:49.951Z"
   },
   {
    "duration": 0,
    "start_time": "2023-06-05T13:24:49.952Z"
   },
   {
    "duration": 0,
    "start_time": "2023-06-05T13:24:49.953Z"
   },
   {
    "duration": 0,
    "start_time": "2023-06-05T13:24:49.954Z"
   },
   {
    "duration": 0,
    "start_time": "2023-06-05T13:24:49.955Z"
   },
   {
    "duration": 0,
    "start_time": "2023-06-05T13:24:49.956Z"
   },
   {
    "duration": 0,
    "start_time": "2023-06-05T13:24:49.957Z"
   },
   {
    "duration": 0,
    "start_time": "2023-06-05T13:24:49.958Z"
   },
   {
    "duration": 0,
    "start_time": "2023-06-05T13:24:49.959Z"
   },
   {
    "duration": 0,
    "start_time": "2023-06-05T13:24:49.960Z"
   },
   {
    "duration": 0,
    "start_time": "2023-06-05T13:24:49.961Z"
   },
   {
    "duration": 0,
    "start_time": "2023-06-05T13:24:49.964Z"
   },
   {
    "duration": 0,
    "start_time": "2023-06-05T13:24:49.965Z"
   },
   {
    "duration": 0,
    "start_time": "2023-06-05T13:24:49.966Z"
   },
   {
    "duration": 0,
    "start_time": "2023-06-05T13:24:49.968Z"
   },
   {
    "duration": 19404,
    "start_time": "2023-06-05T13:26:16.181Z"
   },
   {
    "duration": 1174,
    "start_time": "2023-06-05T13:26:35.588Z"
   },
   {
    "duration": 104,
    "start_time": "2023-06-05T13:26:36.764Z"
   },
   {
    "duration": 33,
    "start_time": "2023-06-05T13:26:36.870Z"
   },
   {
    "duration": 94,
    "start_time": "2023-06-05T13:26:36.905Z"
   },
   {
    "duration": 148,
    "start_time": "2023-06-05T13:26:37.001Z"
   },
   {
    "duration": 0,
    "start_time": "2023-06-05T13:26:37.153Z"
   },
   {
    "duration": 0,
    "start_time": "2023-06-05T13:26:37.154Z"
   },
   {
    "duration": 0,
    "start_time": "2023-06-05T13:26:37.155Z"
   },
   {
    "duration": 0,
    "start_time": "2023-06-05T13:26:37.156Z"
   },
   {
    "duration": 0,
    "start_time": "2023-06-05T13:26:37.157Z"
   },
   {
    "duration": 0,
    "start_time": "2023-06-05T13:26:37.158Z"
   },
   {
    "duration": 0,
    "start_time": "2023-06-05T13:26:37.159Z"
   },
   {
    "duration": 0,
    "start_time": "2023-06-05T13:26:37.160Z"
   },
   {
    "duration": 0,
    "start_time": "2023-06-05T13:26:37.161Z"
   },
   {
    "duration": 0,
    "start_time": "2023-06-05T13:26:37.162Z"
   },
   {
    "duration": 0,
    "start_time": "2023-06-05T13:26:37.162Z"
   },
   {
    "duration": 0,
    "start_time": "2023-06-05T13:26:37.163Z"
   },
   {
    "duration": 0,
    "start_time": "2023-06-05T13:26:37.164Z"
   },
   {
    "duration": 0,
    "start_time": "2023-06-05T13:26:37.165Z"
   },
   {
    "duration": 0,
    "start_time": "2023-06-05T13:26:37.166Z"
   },
   {
    "duration": 0,
    "start_time": "2023-06-05T13:26:37.167Z"
   },
   {
    "duration": 0,
    "start_time": "2023-06-05T13:26:37.168Z"
   },
   {
    "duration": 0,
    "start_time": "2023-06-05T13:26:37.169Z"
   },
   {
    "duration": 0,
    "start_time": "2023-06-05T13:26:37.170Z"
   },
   {
    "duration": 0,
    "start_time": "2023-06-05T13:26:37.171Z"
   },
   {
    "duration": 0,
    "start_time": "2023-06-05T13:26:37.172Z"
   },
   {
    "duration": 0,
    "start_time": "2023-06-05T13:26:37.173Z"
   },
   {
    "duration": 0,
    "start_time": "2023-06-05T13:26:37.174Z"
   },
   {
    "duration": 0,
    "start_time": "2023-06-05T13:26:37.175Z"
   },
   {
    "duration": 0,
    "start_time": "2023-06-05T13:26:37.176Z"
   },
   {
    "duration": 0,
    "start_time": "2023-06-05T13:26:37.177Z"
   },
   {
    "duration": 0,
    "start_time": "2023-06-05T13:26:37.178Z"
   },
   {
    "duration": 0,
    "start_time": "2023-06-05T13:26:37.179Z"
   },
   {
    "duration": 0,
    "start_time": "2023-06-05T13:26:37.180Z"
   },
   {
    "duration": 0,
    "start_time": "2023-06-05T13:26:37.181Z"
   },
   {
    "duration": 0,
    "start_time": "2023-06-05T13:26:37.182Z"
   },
   {
    "duration": 0,
    "start_time": "2023-06-05T13:26:37.183Z"
   },
   {
    "duration": 0,
    "start_time": "2023-06-05T13:26:37.184Z"
   },
   {
    "duration": 0,
    "start_time": "2023-06-05T13:26:37.185Z"
   },
   {
    "duration": 0,
    "start_time": "2023-06-05T13:26:37.186Z"
   },
   {
    "duration": 0,
    "start_time": "2023-06-05T13:26:37.187Z"
   },
   {
    "duration": 0,
    "start_time": "2023-06-05T13:26:37.242Z"
   },
   {
    "duration": 0,
    "start_time": "2023-06-05T13:26:37.243Z"
   },
   {
    "duration": 0,
    "start_time": "2023-06-05T13:26:37.244Z"
   },
   {
    "duration": 0,
    "start_time": "2023-06-05T13:26:37.245Z"
   },
   {
    "duration": 0,
    "start_time": "2023-06-05T13:26:37.246Z"
   },
   {
    "duration": 0,
    "start_time": "2023-06-05T13:26:37.248Z"
   },
   {
    "duration": 0,
    "start_time": "2023-06-05T13:26:37.249Z"
   },
   {
    "duration": 1,
    "start_time": "2023-06-05T13:26:37.249Z"
   },
   {
    "duration": 0,
    "start_time": "2023-06-05T13:26:37.251Z"
   },
   {
    "duration": 0,
    "start_time": "2023-06-05T13:26:37.252Z"
   },
   {
    "duration": 0,
    "start_time": "2023-06-05T13:26:37.253Z"
   },
   {
    "duration": 0,
    "start_time": "2023-06-05T13:26:37.254Z"
   },
   {
    "duration": 0,
    "start_time": "2023-06-05T13:26:37.255Z"
   },
   {
    "duration": 0,
    "start_time": "2023-06-05T13:26:37.258Z"
   },
   {
    "duration": 0,
    "start_time": "2023-06-05T13:26:37.259Z"
   },
   {
    "duration": 0,
    "start_time": "2023-06-05T13:26:37.260Z"
   },
   {
    "duration": 0,
    "start_time": "2023-06-05T13:26:37.261Z"
   },
   {
    "duration": 0,
    "start_time": "2023-06-05T13:26:37.262Z"
   },
   {
    "duration": 0,
    "start_time": "2023-06-05T13:26:37.263Z"
   },
   {
    "duration": 1759,
    "start_time": "2023-06-05T13:26:58.439Z"
   },
   {
    "duration": 29,
    "start_time": "2023-06-05T13:27:03.629Z"
   },
   {
    "duration": 18,
    "start_time": "2023-06-05T13:27:07.619Z"
   },
   {
    "duration": 17,
    "start_time": "2023-06-05T13:27:09.337Z"
   },
   {
    "duration": 17,
    "start_time": "2023-06-05T13:27:11.112Z"
   },
   {
    "duration": 17,
    "start_time": "2023-06-05T13:27:16.193Z"
   },
   {
    "duration": 18,
    "start_time": "2023-06-05T13:27:17.137Z"
   },
   {
    "duration": 53,
    "start_time": "2023-06-05T13:27:19.265Z"
   },
   {
    "duration": 59,
    "start_time": "2023-06-05T13:27:21.555Z"
   },
   {
    "duration": 42,
    "start_time": "2023-06-05T13:27:23.170Z"
   },
   {
    "duration": 25,
    "start_time": "2023-06-05T13:27:24.378Z"
   },
   {
    "duration": 97,
    "start_time": "2023-06-05T13:27:26.674Z"
   },
   {
    "duration": 99,
    "start_time": "2023-06-05T13:27:28.545Z"
   },
   {
    "duration": 21,
    "start_time": "2023-06-05T13:27:31.078Z"
   },
   {
    "duration": 2,
    "start_time": "2023-06-05T13:27:32.262Z"
   },
   {
    "duration": 49,
    "start_time": "2023-06-05T13:27:35.942Z"
   },
   {
    "duration": 4,
    "start_time": "2023-06-05T13:27:37.343Z"
   },
   {
    "duration": 18,
    "start_time": "2023-06-05T13:27:38.565Z"
   },
   {
    "duration": 15,
    "start_time": "2023-06-05T13:27:40.078Z"
   },
   {
    "duration": 740,
    "start_time": "2023-06-05T13:27:42.304Z"
   },
   {
    "duration": 48,
    "start_time": "2023-06-05T13:27:46.869Z"
   },
   {
    "duration": 20,
    "start_time": "2023-06-05T13:29:42.842Z"
   },
   {
    "duration": 404,
    "start_time": "2023-06-05T13:29:43.932Z"
   },
   {
    "duration": 27,
    "start_time": "2023-06-05T13:29:46.306Z"
   }
  ],
  "kernelspec": {
   "display_name": "Python 3 (ipykernel)",
   "language": "python",
   "name": "python3"
  },
  "language_info": {
   "codemirror_mode": {
    "name": "ipython",
    "version": 3
   },
   "file_extension": ".py",
   "mimetype": "text/x-python",
   "name": "python",
   "nbconvert_exporter": "python",
   "pygments_lexer": "ipython3",
   "version": "3.9.15"
  },
  "toc": {
   "base_numbering": 1,
   "nav_menu": {},
   "number_sections": true,
   "sideBar": true,
   "skip_h1_title": true,
   "title_cell": "Table of Contents",
   "title_sidebar": "Contents",
   "toc_cell": false,
   "toc_position": {},
   "toc_section_display": true,
   "toc_window_display": true
  }
 },
 "nbformat": 4,
 "nbformat_minor": 2
}
