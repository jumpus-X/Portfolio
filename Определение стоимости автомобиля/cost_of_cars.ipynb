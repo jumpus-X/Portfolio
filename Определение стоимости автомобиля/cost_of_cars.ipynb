{
 "cells": [
  {
   "cell_type": "markdown",
   "metadata": {},
   "source": [
    "# Определение стоимости автомобилей"
   ]
  },
  {
   "cell_type": "markdown",
   "metadata": {},
   "source": [
    "Сервис по продаже автомобилей с пробегом «Не бит, не крашен» разрабатывает приложение для привлечения новых клиентов. В нём можно быстро узнать рыночную стоимость своего автомобиля. В вашем распоряжении исторические данные: технические характеристики, комплектации и цены автомобилей. Вам нужно построить модель для определения стоимости. \n",
    "\n",
    "Заказчику важны:\n",
    "\n",
    "- качество предсказания;\n",
    "- скорость предсказания;\n",
    "- время обучения."
   ]
  },
  {
   "cell_type": "markdown",
   "metadata": {},
   "source": [
    "## Подготовка данных"
   ]
  },
  {
   "cell_type": "code",
   "execution_count": 1,
   "metadata": {},
   "outputs": [
    {
     "name": "stdout",
     "output_type": "stream",
     "text": [
      "Requirement already satisfied: missingno in d:\\anaconda3\\envs\\ds_practicum_env\\lib\\site-packages (0.5.1)\n",
      "Requirement already satisfied: matplotlib in d:\\anaconda3\\envs\\ds_practicum_env\\lib\\site-packages (from missingno) (3.3.4)\n",
      "Requirement already satisfied: scipy in d:\\anaconda3\\envs\\ds_practicum_env\\lib\\site-packages (from missingno) (1.8.0)\n",
      "Requirement already satisfied: seaborn in d:\\anaconda3\\envs\\ds_practicum_env\\lib\\site-packages (from missingno) (0.11.1)\n",
      "Requirement already satisfied: numpy in d:\\anaconda3\\envs\\ds_practicum_env\\lib\\site-packages (from missingno) (1.24.3)\n",
      "Requirement already satisfied: kiwisolver>=1.0.1 in d:\\anaconda3\\envs\\ds_practicum_env\\lib\\site-packages (from matplotlib->missingno) (1.4.4)\n",
      "Requirement already satisfied: cycler>=0.10 in d:\\anaconda3\\envs\\ds_practicum_env\\lib\\site-packages (from matplotlib->missingno) (0.11.0)\n",
      "Requirement already satisfied: python-dateutil>=2.1 in d:\\anaconda3\\envs\\ds_practicum_env\\lib\\site-packages (from matplotlib->missingno) (2.8.2)\n",
      "Requirement already satisfied: pyparsing!=2.0.4,!=2.1.2,!=2.1.6,>=2.0.3 in d:\\anaconda3\\envs\\ds_practicum_env\\lib\\site-packages (from matplotlib->missingno) (3.0.9)\n",
      "Requirement already satisfied: pillow>=6.2.0 in d:\\anaconda3\\envs\\ds_practicum_env\\lib\\site-packages (from matplotlib->missingno) (10.0.0)\n",
      "Requirement already satisfied: pandas>=0.23 in d:\\anaconda3\\envs\\ds_practicum_env\\lib\\site-packages (from seaborn->missingno) (1.5.3)\n",
      "Requirement already satisfied: pytz>=2020.1 in d:\\anaconda3\\envs\\ds_practicum_env\\lib\\site-packages (from pandas>=0.23->seaborn->missingno) (2022.6)\n",
      "Requirement already satisfied: six>=1.5 in d:\\anaconda3\\envs\\ds_practicum_env\\lib\\site-packages (from python-dateutil>=2.1->matplotlib->missingno) (1.16.0)\n",
      "Note: you may need to restart the kernel to use updated packages.\n",
      "Requirement already satisfied: skimpy in d:\\anaconda3\\envs\\ds_practicum_env\\lib\\site-packages (0.0.8)\n",
      "Requirement already satisfied: ipykernel<7.0.0,>=6.7.0 in d:\\anaconda3\\envs\\ds_practicum_env\\lib\\site-packages (from skimpy) (6.17.1)\n",
      "Requirement already satisfied: pandas<2.0.0,>=1.3.2 in d:\\anaconda3\\envs\\ds_practicum_env\\lib\\site-packages (from skimpy) (1.5.3)\n",
      "Requirement already satisfied: jupyter<2.0.0,>=1.0.0 in d:\\anaconda3\\envs\\ds_practicum_env\\lib\\site-packages (from skimpy) (1.0.0)\n",
      "Requirement already satisfied: Pygments<3.0.0,>=2.10.0 in d:\\anaconda3\\envs\\ds_practicum_env\\lib\\site-packages (from skimpy) (2.13.0)\n",
      "Requirement already satisfied: typeguard<3.0.0,>=2.12.1 in d:\\anaconda3\\envs\\ds_practicum_env\\lib\\site-packages (from skimpy) (2.13.3)\n",
      "Requirement already satisfied: rich<13.0,>=10.9 in d:\\anaconda3\\envs\\ds_practicum_env\\lib\\site-packages (from skimpy) (12.6.0)\n",
      "Requirement already satisfied: click<9.0.0,>=8.1.3 in d:\\anaconda3\\envs\\ds_practicum_env\\lib\\site-packages (from skimpy) (8.1.3)\n",
      "Requirement already satisfied: numpy<2.0.0,>=1.22.2 in d:\\anaconda3\\envs\\ds_practicum_env\\lib\\site-packages (from skimpy) (1.24.3)\n",
      "Requirement already satisfied: colorama in d:\\anaconda3\\envs\\ds_practicum_env\\lib\\site-packages (from click<9.0.0,>=8.1.3->skimpy) (0.4.6)\n",
      "Requirement already satisfied: tornado>=6.1 in d:\\anaconda3\\envs\\ds_practicum_env\\lib\\site-packages (from ipykernel<7.0.0,>=6.7.0->skimpy) (6.2)\n",
      "Requirement already satisfied: psutil in d:\\anaconda3\\envs\\ds_practicum_env\\lib\\site-packages (from ipykernel<7.0.0,>=6.7.0->skimpy) (5.9.4)\n",
      "Requirement already satisfied: ipython>=7.23.1 in d:\\anaconda3\\envs\\ds_practicum_env\\lib\\site-packages (from ipykernel<7.0.0,>=6.7.0->skimpy) (8.6.0)\n",
      "Requirement already satisfied: matplotlib-inline>=0.1 in d:\\anaconda3\\envs\\ds_practicum_env\\lib\\site-packages (from ipykernel<7.0.0,>=6.7.0->skimpy) (0.1.6)\n",
      "Requirement already satisfied: jupyter-client>=6.1.12 in d:\\anaconda3\\envs\\ds_practicum_env\\lib\\site-packages (from ipykernel<7.0.0,>=6.7.0->skimpy) (7.4.7)\n",
      "Requirement already satisfied: debugpy>=1.0 in d:\\anaconda3\\envs\\ds_practicum_env\\lib\\site-packages (from ipykernel<7.0.0,>=6.7.0->skimpy) (1.6.3)\n",
      "Requirement already satisfied: nest-asyncio in d:\\anaconda3\\envs\\ds_practicum_env\\lib\\site-packages (from ipykernel<7.0.0,>=6.7.0->skimpy) (1.5.6)\n",
      "Requirement already satisfied: pyzmq>=17 in d:\\anaconda3\\envs\\ds_practicum_env\\lib\\site-packages (from ipykernel<7.0.0,>=6.7.0->skimpy) (24.0.1)\n",
      "Requirement already satisfied: traitlets>=5.1.0 in d:\\anaconda3\\envs\\ds_practicum_env\\lib\\site-packages (from ipykernel<7.0.0,>=6.7.0->skimpy) (5.5.0)\n",
      "Requirement already satisfied: packaging in d:\\anaconda3\\envs\\ds_practicum_env\\lib\\site-packages (from ipykernel<7.0.0,>=6.7.0->skimpy) (21.3)\n",
      "Requirement already satisfied: ipywidgets in d:\\anaconda3\\envs\\ds_practicum_env\\lib\\site-packages (from jupyter<2.0.0,>=1.0.0->skimpy) (8.0.2)\n",
      "Requirement already satisfied: jupyter-console in d:\\anaconda3\\envs\\ds_practicum_env\\lib\\site-packages (from jupyter<2.0.0,>=1.0.0->skimpy) (6.4.4)\n",
      "Requirement already satisfied: nbconvert in d:\\anaconda3\\envs\\ds_practicum_env\\lib\\site-packages (from jupyter<2.0.0,>=1.0.0->skimpy) (7.2.5)\n",
      "Requirement already satisfied: qtconsole in d:\\anaconda3\\envs\\ds_practicum_env\\lib\\site-packages (from jupyter<2.0.0,>=1.0.0->skimpy) (5.4.0)\n",
      "Requirement already satisfied: notebook in d:\\anaconda3\\envs\\ds_practicum_env\\lib\\site-packages (from jupyter<2.0.0,>=1.0.0->skimpy) (6.5.2)\n",
      "Requirement already satisfied: python-dateutil>=2.8.1 in d:\\anaconda3\\envs\\ds_practicum_env\\lib\\site-packages (from pandas<2.0.0,>=1.3.2->skimpy) (2.8.2)\n",
      "Requirement already satisfied: pytz>=2020.1 in d:\\anaconda3\\envs\\ds_practicum_env\\lib\\site-packages (from pandas<2.0.0,>=1.3.2->skimpy) (2022.6)\n",
      "Requirement already satisfied: commonmark<0.10.0,>=0.9.0 in d:\\anaconda3\\envs\\ds_practicum_env\\lib\\site-packages (from rich<13.0,>=10.9->skimpy) (0.9.1)\n",
      "Requirement already satisfied: stack-data in d:\\anaconda3\\envs\\ds_practicum_env\\lib\\site-packages (from ipython>=7.23.1->ipykernel<7.0.0,>=6.7.0->skimpy) (0.6.1)\n",
      "Requirement already satisfied: decorator in d:\\anaconda3\\envs\\ds_practicum_env\\lib\\site-packages (from ipython>=7.23.1->ipykernel<7.0.0,>=6.7.0->skimpy) (5.1.1)\n",
      "Requirement already satisfied: pickleshare in d:\\anaconda3\\envs\\ds_practicum_env\\lib\\site-packages (from ipython>=7.23.1->ipykernel<7.0.0,>=6.7.0->skimpy) (0.7.5)\n",
      "Requirement already satisfied: jedi>=0.16 in d:\\anaconda3\\envs\\ds_practicum_env\\lib\\site-packages (from ipython>=7.23.1->ipykernel<7.0.0,>=6.7.0->skimpy) (0.18.2)\n",
      "Requirement already satisfied: backcall in d:\\anaconda3\\envs\\ds_practicum_env\\lib\\site-packages (from ipython>=7.23.1->ipykernel<7.0.0,>=6.7.0->skimpy) (0.2.0)\n",
      "Requirement already satisfied: prompt-toolkit<3.1.0,>3.0.1 in d:\\anaconda3\\envs\\ds_practicum_env\\lib\\site-packages (from ipython>=7.23.1->ipykernel<7.0.0,>=6.7.0->skimpy) (3.0.33)\n",
      "Requirement already satisfied: entrypoints in d:\\anaconda3\\envs\\ds_practicum_env\\lib\\site-packages (from jupyter-client>=6.1.12->ipykernel<7.0.0,>=6.7.0->skimpy) (0.4)\n",
      "Requirement already satisfied: jupyter-core>=4.9.2 in d:\\anaconda3\\envs\\ds_practicum_env\\lib\\site-packages (from jupyter-client>=6.1.12->ipykernel<7.0.0,>=6.7.0->skimpy) (5.0.0)\n",
      "Requirement already satisfied: six>=1.5 in d:\\anaconda3\\envs\\ds_practicum_env\\lib\\site-packages (from python-dateutil>=2.8.1->pandas<2.0.0,>=1.3.2->skimpy) (1.16.0)\n",
      "Requirement already satisfied: jupyterlab-widgets~=3.0 in d:\\anaconda3\\envs\\ds_practicum_env\\lib\\site-packages (from ipywidgets->jupyter<2.0.0,>=1.0.0->skimpy) (3.0.3)\n",
      "Requirement already satisfied: widgetsnbextension~=4.0 in d:\\anaconda3\\envs\\ds_practicum_env\\lib\\site-packages (from ipywidgets->jupyter<2.0.0,>=1.0.0->skimpy) (4.0.3)\n",
      "Requirement already satisfied: tinycss2 in d:\\anaconda3\\envs\\ds_practicum_env\\lib\\site-packages (from nbconvert->jupyter<2.0.0,>=1.0.0->skimpy) (1.2.1)\n",
      "Requirement already satisfied: markupsafe>=2.0 in d:\\anaconda3\\envs\\ds_practicum_env\\lib\\site-packages (from nbconvert->jupyter<2.0.0,>=1.0.0->skimpy) (2.1.1)\n",
      "Requirement already satisfied: beautifulsoup4 in d:\\anaconda3\\envs\\ds_practicum_env\\lib\\site-packages (from nbconvert->jupyter<2.0.0,>=1.0.0->skimpy) (4.9.3)\n",
      "Requirement already satisfied: bleach in d:\\anaconda3\\envs\\ds_practicum_env\\lib\\site-packages (from nbconvert->jupyter<2.0.0,>=1.0.0->skimpy) (5.0.1)\n",
      "Requirement already satisfied: importlib-metadata>=3.6 in d:\\anaconda3\\envs\\ds_practicum_env\\lib\\site-packages (from nbconvert->jupyter<2.0.0,>=1.0.0->skimpy) (5.1.0)\n",
      "Requirement already satisfied: jupyterlab-pygments in d:\\anaconda3\\envs\\ds_practicum_env\\lib\\site-packages (from nbconvert->jupyter<2.0.0,>=1.0.0->skimpy) (0.2.2)\n",
      "Requirement already satisfied: pandocfilters>=1.4.1 in d:\\anaconda3\\envs\\ds_practicum_env\\lib\\site-packages (from nbconvert->jupyter<2.0.0,>=1.0.0->skimpy) (1.5.0)\n",
      "Requirement already satisfied: nbclient>=0.5.0 in d:\\anaconda3\\envs\\ds_practicum_env\\lib\\site-packages (from nbconvert->jupyter<2.0.0,>=1.0.0->skimpy) (0.7.0)\n",
      "Requirement already satisfied: mistune<3,>=2.0.3 in d:\\anaconda3\\envs\\ds_practicum_env\\lib\\site-packages (from nbconvert->jupyter<2.0.0,>=1.0.0->skimpy) (2.0.4)\n",
      "Requirement already satisfied: defusedxml in d:\\anaconda3\\envs\\ds_practicum_env\\lib\\site-packages (from nbconvert->jupyter<2.0.0,>=1.0.0->skimpy) (0.7.1)\n",
      "Requirement already satisfied: jinja2>=3.0 in d:\\anaconda3\\envs\\ds_practicum_env\\lib\\site-packages (from nbconvert->jupyter<2.0.0,>=1.0.0->skimpy) (3.1.2)\n",
      "Requirement already satisfied: nbformat>=5.1 in d:\\anaconda3\\envs\\ds_practicum_env\\lib\\site-packages (from nbconvert->jupyter<2.0.0,>=1.0.0->skimpy) (5.7.0)\n",
      "Requirement already satisfied: ipython-genutils in d:\\anaconda3\\envs\\ds_practicum_env\\lib\\site-packages (from notebook->jupyter<2.0.0,>=1.0.0->skimpy) (0.2.0)\n",
      "Requirement already satisfied: terminado>=0.8.3 in d:\\anaconda3\\envs\\ds_practicum_env\\lib\\site-packages (from notebook->jupyter<2.0.0,>=1.0.0->skimpy) (0.17.0)\n",
      "Requirement already satisfied: prometheus-client in d:\\anaconda3\\envs\\ds_practicum_env\\lib\\site-packages (from notebook->jupyter<2.0.0,>=1.0.0->skimpy) (0.15.0)\n",
      "Requirement already satisfied: argon2-cffi in d:\\anaconda3\\envs\\ds_practicum_env\\lib\\site-packages (from notebook->jupyter<2.0.0,>=1.0.0->skimpy) (21.3.0)\n",
      "Requirement already satisfied: Send2Trash>=1.8.0 in d:\\anaconda3\\envs\\ds_practicum_env\\lib\\site-packages (from notebook->jupyter<2.0.0,>=1.0.0->skimpy) (1.8.0)\n",
      "Requirement already satisfied: nbclassic>=0.4.7 in d:\\anaconda3\\envs\\ds_practicum_env\\lib\\site-packages (from notebook->jupyter<2.0.0,>=1.0.0->skimpy) (0.4.8)\n",
      "Requirement already satisfied: pyparsing!=3.0.5,>=2.0.2 in d:\\anaconda3\\envs\\ds_practicum_env\\lib\\site-packages (from packaging->ipykernel<7.0.0,>=6.7.0->skimpy) (3.0.9)\n",
      "Requirement already satisfied: qtpy>=2.0.1 in d:\\anaconda3\\envs\\ds_practicum_env\\lib\\site-packages (from qtconsole->jupyter<2.0.0,>=1.0.0->skimpy) (2.3.0)\n",
      "Requirement already satisfied: zipp>=0.5 in d:\\anaconda3\\envs\\ds_practicum_env\\lib\\site-packages (from importlib-metadata>=3.6->nbconvert->jupyter<2.0.0,>=1.0.0->skimpy) (3.11.0)\n",
      "Requirement already satisfied: parso<0.9.0,>=0.8.0 in d:\\anaconda3\\envs\\ds_practicum_env\\lib\\site-packages (from jedi>=0.16->ipython>=7.23.1->ipykernel<7.0.0,>=6.7.0->skimpy) (0.8.3)\n",
      "Requirement already satisfied: pywin32>=1.0 in d:\\anaconda3\\envs\\ds_practicum_env\\lib\\site-packages (from jupyter-core>=4.9.2->jupyter-client>=6.1.12->ipykernel<7.0.0,>=6.7.0->skimpy) (304)\n",
      "Requirement already satisfied: platformdirs in d:\\anaconda3\\envs\\ds_practicum_env\\lib\\site-packages (from jupyter-core>=4.9.2->jupyter-client>=6.1.12->ipykernel<7.0.0,>=6.7.0->skimpy) (2.5.2)\n",
      "Requirement already satisfied: jupyter-server>=1.8 in d:\\anaconda3\\envs\\ds_practicum_env\\lib\\site-packages (from nbclassic>=0.4.7->notebook->jupyter<2.0.0,>=1.0.0->skimpy) (1.23.3)\n",
      "Requirement already satisfied: notebook-shim>=0.1.0 in d:\\anaconda3\\envs\\ds_practicum_env\\lib\\site-packages (from nbclassic>=0.4.7->notebook->jupyter<2.0.0,>=1.0.0->skimpy) (0.2.2)\n",
      "Requirement already satisfied: jsonschema>=2.6 in d:\\anaconda3\\envs\\ds_practicum_env\\lib\\site-packages (from nbformat>=5.1->nbconvert->jupyter<2.0.0,>=1.0.0->skimpy) (4.17.1)\n",
      "Requirement already satisfied: fastjsonschema in d:\\anaconda3\\envs\\ds_practicum_env\\lib\\site-packages (from nbformat>=5.1->nbconvert->jupyter<2.0.0,>=1.0.0->skimpy) (2.16.2)\n",
      "Requirement already satisfied: wcwidth in d:\\anaconda3\\envs\\ds_practicum_env\\lib\\site-packages (from prompt-toolkit<3.1.0,>3.0.1->ipython>=7.23.1->ipykernel<7.0.0,>=6.7.0->skimpy) (0.2.5)\n",
      "Requirement already satisfied: pywinpty>=1.1.0 in d:\\anaconda3\\envs\\ds_practicum_env\\lib\\site-packages (from terminado>=0.8.3->notebook->jupyter<2.0.0,>=1.0.0->skimpy) (2.0.9)\n",
      "Requirement already satisfied: argon2-cffi-bindings in d:\\anaconda3\\envs\\ds_practicum_env\\lib\\site-packages (from argon2-cffi->notebook->jupyter<2.0.0,>=1.0.0->skimpy) (21.2.0)\n",
      "Requirement already satisfied: soupsieve>1.2 in d:\\anaconda3\\envs\\ds_practicum_env\\lib\\site-packages (from beautifulsoup4->nbconvert->jupyter<2.0.0,>=1.0.0->skimpy) (2.3.2.post1)\n",
      "Requirement already satisfied: webencodings in d:\\anaconda3\\envs\\ds_practicum_env\\lib\\site-packages (from bleach->nbconvert->jupyter<2.0.0,>=1.0.0->skimpy) (0.5.1)\n",
      "Requirement already satisfied: pure-eval in d:\\anaconda3\\envs\\ds_practicum_env\\lib\\site-packages (from stack-data->ipython>=7.23.1->ipykernel<7.0.0,>=6.7.0->skimpy) (0.2.2)\n",
      "Requirement already satisfied: executing>=1.2.0 in d:\\anaconda3\\envs\\ds_practicum_env\\lib\\site-packages (from stack-data->ipython>=7.23.1->ipykernel<7.0.0,>=6.7.0->skimpy) (1.2.0)\n",
      "Requirement already satisfied: asttokens>=2.1.0 in d:\\anaconda3\\envs\\ds_practicum_env\\lib\\site-packages (from stack-data->ipython>=7.23.1->ipykernel<7.0.0,>=6.7.0->skimpy) (2.1.0)\n",
      "Requirement already satisfied: pyrsistent!=0.17.0,!=0.17.1,!=0.17.2,>=0.14.0 in d:\\anaconda3\\envs\\ds_practicum_env\\lib\\site-packages (from jsonschema>=2.6->nbformat>=5.1->nbconvert->jupyter<2.0.0,>=1.0.0->skimpy) (0.19.2)\n",
      "Requirement already satisfied: attrs>=17.4.0 in d:\\anaconda3\\envs\\ds_practicum_env\\lib\\site-packages (from jsonschema>=2.6->nbformat>=5.1->nbconvert->jupyter<2.0.0,>=1.0.0->skimpy) (22.1.0)\n",
      "Requirement already satisfied: anyio<4,>=3.1.0 in d:\\anaconda3\\envs\\ds_practicum_env\\lib\\site-packages (from jupyter-server>=1.8->nbclassic>=0.4.7->notebook->jupyter<2.0.0,>=1.0.0->skimpy) (3.6.2)\n",
      "Requirement already satisfied: websocket-client in d:\\anaconda3\\envs\\ds_practicum_env\\lib\\site-packages (from jupyter-server>=1.8->nbclassic>=0.4.7->notebook->jupyter<2.0.0,>=1.0.0->skimpy) (1.4.2)\n",
      "Requirement already satisfied: cffi>=1.0.1 in d:\\anaconda3\\envs\\ds_practicum_env\\lib\\site-packages (from argon2-cffi-bindings->argon2-cffi->notebook->jupyter<2.0.0,>=1.0.0->skimpy) (1.15.1)\n",
      "Requirement already satisfied: sniffio>=1.1 in d:\\anaconda3\\envs\\ds_practicum_env\\lib\\site-packages (from anyio<4,>=3.1.0->jupyter-server>=1.8->nbclassic>=0.4.7->notebook->jupyter<2.0.0,>=1.0.0->skimpy) (1.3.0)\n",
      "Requirement already satisfied: idna>=2.8 in d:\\anaconda3\\envs\\ds_practicum_env\\lib\\site-packages (from anyio<4,>=3.1.0->jupyter-server>=1.8->nbclassic>=0.4.7->notebook->jupyter<2.0.0,>=1.0.0->skimpy) (3.4)\n",
      "Requirement already satisfied: pycparser in d:\\anaconda3\\envs\\ds_practicum_env\\lib\\site-packages (from cffi>=1.0.1->argon2-cffi-bindings->argon2-cffi->notebook->jupyter<2.0.0,>=1.0.0->skimpy) (2.21)\n",
      "Note: you may need to restart the kernel to use updated packages.\n"
     ]
    },
    {
     "name": "stdout",
     "output_type": "stream",
     "text": [
      "Requirement already satisfied: lightgbm in d:\\anaconda3\\envs\\ds_practicum_env\\lib\\site-packages (3.3.5)\n",
      "Requirement already satisfied: scipy in d:\\anaconda3\\envs\\ds_practicum_env\\lib\\site-packages (from lightgbm) (1.8.0)\n",
      "Requirement already satisfied: numpy in d:\\anaconda3\\envs\\ds_practicum_env\\lib\\site-packages (from lightgbm) (1.24.3)\n",
      "Requirement already satisfied: wheel in d:\\anaconda3\\envs\\ds_practicum_env\\lib\\site-packages (from lightgbm) (0.38.4)\n",
      "Requirement already satisfied: scikit-learn!=0.22.0 in d:\\anaconda3\\envs\\ds_practicum_env\\lib\\site-packages (from lightgbm) (1.2.2)\n",
      "Requirement already satisfied: threadpoolctl>=2.0.0 in d:\\anaconda3\\envs\\ds_practicum_env\\lib\\site-packages (from scikit-learn!=0.22.0->lightgbm) (3.1.0)\n",
      "Requirement already satisfied: joblib>=1.1.1 in d:\\anaconda3\\envs\\ds_practicum_env\\lib\\site-packages (from scikit-learn!=0.22.0->lightgbm) (1.2.0)\n",
      "Note: you may need to restart the kernel to use updated packages.\n",
      "Requirement already satisfied: category_encoders in d:\\anaconda3\\envs\\ds_practicum_env\\lib\\site-packages (2.6.1)\n",
      "Requirement already satisfied: numpy>=1.14.0 in d:\\anaconda3\\envs\\ds_practicum_env\\lib\\site-packages (from category_encoders) (1.24.3)\n",
      "Requirement already satisfied: scikit-learn>=0.20.0 in d:\\anaconda3\\envs\\ds_practicum_env\\lib\\site-packages (from category_encoders) (1.2.2)\n",
      "Requirement already satisfied: statsmodels>=0.9.0 in d:\\anaconda3\\envs\\ds_practicum_env\\lib\\site-packages (from category_encoders) (0.13.2)\n",
      "Requirement already satisfied: pandas>=1.0.5 in d:\\anaconda3\\envs\\ds_practicum_env\\lib\\site-packages (from category_encoders) (1.5.3)\n",
      "Requirement already satisfied: patsy>=0.5.1 in d:\\anaconda3\\envs\\ds_practicum_env\\lib\\site-packages (from category_encoders) (0.5.3)\n",
      "Requirement already satisfied: scipy>=1.0.0 in d:\\anaconda3\\envs\\ds_practicum_env\\lib\\site-packages (from category_encoders) (1.8.0)\n",
      "Requirement already satisfied: python-dateutil>=2.8.1 in d:\\anaconda3\\envs\\ds_practicum_env\\lib\\site-packages (from pandas>=1.0.5->category_encoders) (2.8.2)\n",
      "Requirement already satisfied: pytz>=2020.1 in d:\\anaconda3\\envs\\ds_practicum_env\\lib\\site-packages (from pandas>=1.0.5->category_encoders) (2022.6)\n",
      "Requirement already satisfied: six in d:\\anaconda3\\envs\\ds_practicum_env\\lib\\site-packages (from patsy>=0.5.1->category_encoders) (1.16.0)\n",
      "Requirement already satisfied: joblib>=1.1.1 in d:\\anaconda3\\envs\\ds_practicum_env\\lib\\site-packages (from scikit-learn>=0.20.0->category_encoders) (1.2.0)\n",
      "Requirement already satisfied: threadpoolctl>=2.0.0 in d:\\anaconda3\\envs\\ds_practicum_env\\lib\\site-packages (from scikit-learn>=0.20.0->category_encoders) (3.1.0)\n",
      "Requirement already satisfied: packaging>=21.3 in d:\\anaconda3\\envs\\ds_practicum_env\\lib\\site-packages (from statsmodels>=0.9.0->category_encoders) (21.3)\n",
      "Requirement already satisfied: pyparsing!=3.0.5,>=2.0.2 in d:\\anaconda3\\envs\\ds_practicum_env\\lib\\site-packages (from packaging>=21.3->statsmodels>=0.9.0->category_encoders) (3.0.9)\n",
      "Note: you may need to restart the kernel to use updated packages.\n"
     ]
    }
   ],
   "source": [
    "import pandas as pd\n",
    "from sklearn.model_selection import train_test_split, GridSearchCV, RandomizedSearchCV\n",
    "from sklearn.preprocessing import StandardScaler, OneHotEncoder\n",
    "from sklearn.metrics import mean_squared_error, make_scorer\n",
    "from sklearn.ensemble import RandomForestRegressor\n",
    "from sklearn.linear_model import LinearRegression, SGDRegressor\n",
    "from catboost import CatBoostRegressor\n",
    "\n",
    "import timeit\n",
    "import numpy as np\n",
    "import matplotlib.pyplot as plt\n",
    "import warnings\n",
    "np.warnings = warnings\n",
    "warnings.filterwarnings('ignore')\n",
    "\n",
    "%pip install missingno\n",
    "import missingno as msno\n",
    "\n",
    "%pip install skimpy\n",
    "from skimpy import skim, clean_columns\n",
    "\n",
    "%pip install lightgbm\n",
    "import lightgbm as lgb\n",
    "from lightgbm import LGBMRegressor\n",
    "\n",
    "%pip install category_encoders\n",
    "import category_encoders as ce"
   ]
  },
  {
   "cell_type": "code",
   "execution_count": 2,
   "metadata": {},
   "outputs": [],
   "source": [
    "# Импортируем датасет\n",
    "try:\n",
    "    df = pd.read_csv('autos.csv')\n",
    "except:\n",
    "    df = pd.read_csv('/datasets/autos.csv')"
   ]
  },
  {
   "cell_type": "code",
   "execution_count": 3,
   "metadata": {},
   "outputs": [
    {
     "name": "stdout",
     "output_type": "stream",
     "text": [
      "<class 'pandas.core.frame.DataFrame'>\n",
      "RangeIndex: 354369 entries, 0 to 354368\n",
      "Data columns (total 16 columns):\n",
      " #   Column             Non-Null Count   Dtype \n",
      "---  ------             --------------   ----- \n",
      " 0   DateCrawled        354369 non-null  object\n",
      " 1   Price              354369 non-null  int64 \n",
      " 2   VehicleType        316879 non-null  object\n",
      " 3   RegistrationYear   354369 non-null  int64 \n",
      " 4   Gearbox            334536 non-null  object\n",
      " 5   Power              354369 non-null  int64 \n",
      " 6   Model              334664 non-null  object\n",
      " 7   Kilometer          354369 non-null  int64 \n",
      " 8   RegistrationMonth  354369 non-null  int64 \n",
      " 9   FuelType           321474 non-null  object\n",
      " 10  Brand              354369 non-null  object\n",
      " 11  Repaired           283215 non-null  object\n",
      " 12  DateCreated        354369 non-null  object\n",
      " 13  NumberOfPictures   354369 non-null  int64 \n",
      " 14  PostalCode         354369 non-null  int64 \n",
      " 15  LastSeen           354369 non-null  object\n",
      "dtypes: int64(7), object(9)\n",
      "memory usage: 43.3+ MB\n"
     ]
    }
   ],
   "source": [
    "# Основная информация\n",
    "df.info()"
   ]
  },
  {
   "cell_type": "code",
   "execution_count": 4,
   "metadata": {},
   "outputs": [
    {
     "data": {
      "text/html": [
       "<div>\n",
       "<style scoped>\n",
       "    .dataframe tbody tr th:only-of-type {\n",
       "        vertical-align: middle;\n",
       "    }\n",
       "\n",
       "    .dataframe tbody tr th {\n",
       "        vertical-align: top;\n",
       "    }\n",
       "\n",
       "    .dataframe thead th {\n",
       "        text-align: right;\n",
       "    }\n",
       "</style>\n",
       "<table border=\"1\" class=\"dataframe\">\n",
       "  <thead>\n",
       "    <tr style=\"text-align: right;\">\n",
       "      <th></th>\n",
       "      <th>DateCrawled</th>\n",
       "      <th>Price</th>\n",
       "      <th>VehicleType</th>\n",
       "      <th>RegistrationYear</th>\n",
       "      <th>Gearbox</th>\n",
       "      <th>Power</th>\n",
       "      <th>Model</th>\n",
       "      <th>Kilometer</th>\n",
       "      <th>RegistrationMonth</th>\n",
       "      <th>FuelType</th>\n",
       "      <th>Brand</th>\n",
       "      <th>Repaired</th>\n",
       "      <th>DateCreated</th>\n",
       "      <th>NumberOfPictures</th>\n",
       "      <th>PostalCode</th>\n",
       "      <th>LastSeen</th>\n",
       "    </tr>\n",
       "  </thead>\n",
       "  <tbody>\n",
       "    <tr>\n",
       "      <th>0</th>\n",
       "      <td>2016-03-24 11:52:17</td>\n",
       "      <td>480</td>\n",
       "      <td>NaN</td>\n",
       "      <td>1993</td>\n",
       "      <td>manual</td>\n",
       "      <td>0</td>\n",
       "      <td>golf</td>\n",
       "      <td>150000</td>\n",
       "      <td>0</td>\n",
       "      <td>petrol</td>\n",
       "      <td>volkswagen</td>\n",
       "      <td>NaN</td>\n",
       "      <td>2016-03-24 00:00:00</td>\n",
       "      <td>0</td>\n",
       "      <td>70435</td>\n",
       "      <td>2016-04-07 03:16:57</td>\n",
       "    </tr>\n",
       "    <tr>\n",
       "      <th>1</th>\n",
       "      <td>2016-03-24 10:58:45</td>\n",
       "      <td>18300</td>\n",
       "      <td>coupe</td>\n",
       "      <td>2011</td>\n",
       "      <td>manual</td>\n",
       "      <td>190</td>\n",
       "      <td>NaN</td>\n",
       "      <td>125000</td>\n",
       "      <td>5</td>\n",
       "      <td>gasoline</td>\n",
       "      <td>audi</td>\n",
       "      <td>yes</td>\n",
       "      <td>2016-03-24 00:00:00</td>\n",
       "      <td>0</td>\n",
       "      <td>66954</td>\n",
       "      <td>2016-04-07 01:46:50</td>\n",
       "    </tr>\n",
       "    <tr>\n",
       "      <th>2</th>\n",
       "      <td>2016-03-14 12:52:21</td>\n",
       "      <td>9800</td>\n",
       "      <td>suv</td>\n",
       "      <td>2004</td>\n",
       "      <td>auto</td>\n",
       "      <td>163</td>\n",
       "      <td>grand</td>\n",
       "      <td>125000</td>\n",
       "      <td>8</td>\n",
       "      <td>gasoline</td>\n",
       "      <td>jeep</td>\n",
       "      <td>NaN</td>\n",
       "      <td>2016-03-14 00:00:00</td>\n",
       "      <td>0</td>\n",
       "      <td>90480</td>\n",
       "      <td>2016-04-05 12:47:46</td>\n",
       "    </tr>\n",
       "    <tr>\n",
       "      <th>3</th>\n",
       "      <td>2016-03-17 16:54:04</td>\n",
       "      <td>1500</td>\n",
       "      <td>small</td>\n",
       "      <td>2001</td>\n",
       "      <td>manual</td>\n",
       "      <td>75</td>\n",
       "      <td>golf</td>\n",
       "      <td>150000</td>\n",
       "      <td>6</td>\n",
       "      <td>petrol</td>\n",
       "      <td>volkswagen</td>\n",
       "      <td>no</td>\n",
       "      <td>2016-03-17 00:00:00</td>\n",
       "      <td>0</td>\n",
       "      <td>91074</td>\n",
       "      <td>2016-03-17 17:40:17</td>\n",
       "    </tr>\n",
       "    <tr>\n",
       "      <th>4</th>\n",
       "      <td>2016-03-31 17:25:20</td>\n",
       "      <td>3600</td>\n",
       "      <td>small</td>\n",
       "      <td>2008</td>\n",
       "      <td>manual</td>\n",
       "      <td>69</td>\n",
       "      <td>fabia</td>\n",
       "      <td>90000</td>\n",
       "      <td>7</td>\n",
       "      <td>gasoline</td>\n",
       "      <td>skoda</td>\n",
       "      <td>no</td>\n",
       "      <td>2016-03-31 00:00:00</td>\n",
       "      <td>0</td>\n",
       "      <td>60437</td>\n",
       "      <td>2016-04-06 10:17:21</td>\n",
       "    </tr>\n",
       "  </tbody>\n",
       "</table>\n",
       "</div>"
      ],
      "text/plain": [
       "           DateCrawled  Price VehicleType  RegistrationYear Gearbox  Power  \\\n",
       "0  2016-03-24 11:52:17    480         NaN              1993  manual      0   \n",
       "1  2016-03-24 10:58:45  18300       coupe              2011  manual    190   \n",
       "2  2016-03-14 12:52:21   9800         suv              2004    auto    163   \n",
       "3  2016-03-17 16:54:04   1500       small              2001  manual     75   \n",
       "4  2016-03-31 17:25:20   3600       small              2008  manual     69   \n",
       "\n",
       "   Model  Kilometer  RegistrationMonth  FuelType       Brand Repaired  \\\n",
       "0   golf     150000                  0    petrol  volkswagen      NaN   \n",
       "1    NaN     125000                  5  gasoline        audi      yes   \n",
       "2  grand     125000                  8  gasoline        jeep      NaN   \n",
       "3   golf     150000                  6    petrol  volkswagen       no   \n",
       "4  fabia      90000                  7  gasoline       skoda       no   \n",
       "\n",
       "           DateCreated  NumberOfPictures  PostalCode             LastSeen  \n",
       "0  2016-03-24 00:00:00                 0       70435  2016-04-07 03:16:57  \n",
       "1  2016-03-24 00:00:00                 0       66954  2016-04-07 01:46:50  \n",
       "2  2016-03-14 00:00:00                 0       90480  2016-04-05 12:47:46  \n",
       "3  2016-03-17 00:00:00                 0       91074  2016-03-17 17:40:17  \n",
       "4  2016-03-31 00:00:00                 0       60437  2016-04-06 10:17:21  "
      ]
     },
     "execution_count": 4,
     "metadata": {},
     "output_type": "execute_result"
    }
   ],
   "source": [
    "# Первые 5 строк\n",
    "df.head()"
   ]
  },
  {
   "cell_type": "code",
   "execution_count": 5,
   "metadata": {},
   "outputs": [
    {
     "data": {
      "text/html": [
       "<pre style=\"white-space:pre;overflow-x:auto;line-height:normal;font-family:Menlo,'DejaVu Sans Mono',consolas,'Courier New',monospace\"><span style=\"color: #008080; text-decoration-color: #008080; font-weight: bold\">16</span> column names have been cleaned\n",
       "</pre>\n"
      ],
      "text/plain": [
       "\u001b[1;36m16\u001b[0m column names have been cleaned\n"
      ]
     },
     "metadata": {},
     "output_type": "display_data"
    },
    {
     "data": {
      "text/plain": [
       "Index(['date_crawled', 'price', 'vehicle_type', 'registration_year', 'gearbox',\n",
       "       'power', 'model', 'kilometer', 'registration_month', 'fuel_type',\n",
       "       'brand', 'repaired', 'date_created', 'number_of_pictures',\n",
       "       'postal_code', 'last_seen'],\n",
       "      dtype='object')"
      ]
     },
     "execution_count": 5,
     "metadata": {},
     "output_type": "execute_result"
    }
   ],
   "source": [
    "# Приводим названия столбцов к змеиному стилю\n",
    "df = clean_columns(df)\n",
    "df.columns"
   ]
  },
  {
   "cell_type": "code",
   "execution_count": 6,
   "metadata": {},
   "outputs": [
    {
     "data": {
      "image/png": "[encoded data removed]",
      "text/plain": [
       "<Figure size 2500x1000 with 2 Axes>"
      ]
     },
     "metadata": {},
     "output_type": "display_data"
    }
   ],
   "source": [
    "# Визуальное отоборажение пропусков\n",
    "msno.matrix(df);"
   ]
  },
  {
   "cell_type": "markdown",
   "metadata": {},
   "source": [
    "По предварительному анализу можно выделить:\n",
    "1) Пропуски:\n",
    "    - В столбце `vehicle_type` содержится 11% пропусков\n",
    "    - В столбце `model` содержится 6% пропусков\n",
    "    - В столбце `gearbox` содержится 6% пропусков\n",
    "    - В столбце `fuel_type` содержится 9% пропусков\n",
    "    - В столбце `repaired` содержится 20% пропусков\n",
    "2) Аномальные значения:\n",
    "    - В столбцах `price, power и registration_year` присуствуют аномальные значения, как аномальные низкие, так и аномально высокие\n",
    "    \n",
    "3) Неинформативные признаки:\n",
    "    - `postal_code` — почтовый индекс владельца анкеты (пользователя)\n",
    "    - `date_crawled` — дата скачивания анкеты из базы\n",
    "    - `date_created` — дата создания анкеты\n",
    "    - `last_seen` — дата последней активности пользователя\n",
    "    - `number_of_pictures` — количество фотографий автомобиля. Этот столбец принимает только одно значение - 0. Он не информативный, поэтому удалим его.\n",
    "    - `registration_month` — месяц регистрации автомобиля\n",
    "    \n",
    "    Информативные признаки:\n",
    "\n",
    "    - `vehicle_type` — тип автомобильного кузова\n",
    "    - `registration_year` — год регистрации автомобиля\n",
    "    - `gearbox` — тип коробки передач\n",
    "    - `power` — мощность (л. с.)\n",
    "    - `model` — модель автомобиля\n",
    "    - `kilometer` — пробег (км)\n",
    "    - `fuel_type` — тип топлива\n",
    "    - `brand` — марка автомобиля\n",
    "    - `repaired` — была машина в ремонте или нет\n",
    "\n",
    "\n",
    "\n",
    "\n",
    "Удалим неинформативные признаки."
   ]
  },
  {
   "cell_type": "code",
   "execution_count": 7,
   "metadata": {},
   "outputs": [],
   "source": [
    "# Удаляем признаки\n",
    "columns_to_drop = ['date_crawled', 'date_created', 'last_seen', 'postal_code', 'number_of_pictures', 'registration_month']\n",
    "df.drop(columns_to_drop, axis=1, inplace=True)"
   ]
  },
  {
   "cell_type": "markdown",
   "metadata": {},
   "source": [
    "### Обработка пропусков"
   ]
  },
  {
   "cell_type": "markdown",
   "metadata": {},
   "source": [
    "В столбце `vehicle_type` содержится 11% пропусков. Заполним их категорией other."
   ]
  },
  {
   "cell_type": "code",
   "execution_count": 8,
   "metadata": {},
   "outputs": [],
   "source": [
    "df['vehicle_type'].fillna('other', inplace=True)"
   ]
  },
  {
   "cell_type": "markdown",
   "metadata": {},
   "source": [
    "В столбце `model` содержится 6% пропусков. Заполним их other."
   ]
  },
  {
   "cell_type": "code",
   "execution_count": 9,
   "metadata": {},
   "outputs": [],
   "source": [
    "df['model'].fillna('other', inplace=True)"
   ]
  },
  {
   "cell_type": "markdown",
   "metadata": {},
   "source": [
    "В столбце `gearbox` содержится 6% пропусков. Заполним их other."
   ]
  },
  {
   "cell_type": "code",
   "execution_count": 10,
   "metadata": {},
   "outputs": [],
   "source": [
    "df['gearbox'].fillna('other', inplace=True)"
   ]
  },
  {
   "cell_type": "markdown",
   "metadata": {},
   "source": [
    "В столбце `fuel_type` 9% пропусков. Сделаем то же самое."
   ]
  },
  {
   "cell_type": "code",
   "execution_count": 11,
   "metadata": {},
   "outputs": [],
   "source": [
    "df['fuel_type'].fillna('other', inplace=True)"
   ]
  },
  {
   "cell_type": "markdown",
   "metadata": {},
   "source": [
    "В столбце `repaired` содержится 20% пропусков. 87% всех значений это `no`. Вероятнее пользователей не указал, была ли машина в ремонте, так как она не была в ремонте. Запонилним пропуски значениями `no`."
   ]
  },
  {
   "cell_type": "code",
   "execution_count": 12,
   "metadata": {},
   "outputs": [],
   "source": [
    "df['repaired'].fillna('no', inplace=True)"
   ]
  },
  {
   "cell_type": "markdown",
   "metadata": {},
   "source": [
    "### Обработка аномальных значений\n",
    "\n",
    "Обработаем аномальные значения в столбцах `price` и `power`. Ограничим распределение 5% и 95% квантилями для `price`. 15% и 95% для `power`. Тем самым удалив аномальные значения. "
   ]
  },
  {
   "cell_type": "code",
   "execution_count": 13,
   "metadata": {},
   "outputs": [],
   "source": [
    "df.drop(df[(df['price'] < df['price'].quantile(.05)) | (df['price'] > df['price'].quantile(.95))].index, inplace=True)"
   ]
  },
  {
   "cell_type": "code",
   "execution_count": 14,
   "metadata": {},
   "outputs": [],
   "source": [
    "df.drop(df[(df['power'] < df['power'].quantile(.15)) | (df['power'] > df['power'].quantile(.95))].index, inplace=True)"
   ]
  },
  {
   "cell_type": "markdown",
   "metadata": {},
   "source": [
    "В `registration_year` присуствуют аномально низкие и аномально высокие значения. Удалим их."
   ]
  },
  {
   "cell_type": "code",
   "execution_count": 15,
   "metadata": {},
   "outputs": [],
   "source": [
    "# Удаляем значения ниже 1910 и выше 2019\n",
    "df.drop((df[(df['registration_year'] < 1910) | (df['registration_year'] >= 2016)]).index, inplace=True)"
   ]
  },
  {
   "cell_type": "code",
   "execution_count": 16,
   "metadata": {},
   "outputs": [
    {
     "data": {
      "text/plain": [
       "array([1910, 1937, 1941, 1942, 1943, 1948, 1949, 1950, 1951, 1953, 1954,\n",
       "       1955, 1956, 1957, 1958, 1959, 1960, 1961, 1962, 1963, 1964, 1965,\n",
       "       1966, 1967, 1968, 1969, 1970, 1971, 1972, 1973, 1974, 1975, 1976,\n",
       "       1977, 1978, 1979, 1980, 1981, 1982, 1983, 1984, 1985, 1986, 1987,\n",
       "       1988, 1989, 1990, 1991, 1992, 1993, 1994, 1995, 1996, 1997, 1998,\n",
       "       1999, 2000, 2001, 2002, 2003, 2004, 2005, 2006, 2007, 2008, 2009,\n",
       "       2010, 2011, 2012, 2013, 2014, 2015], dtype=int64)"
      ]
     },
     "execution_count": 16,
     "metadata": {},
     "output_type": "execute_result"
    }
   ],
   "source": [
    "# Выводим уникальные значения столбца registration_year\n",
    "df['registration_year'].sort_values().unique()"
   ]
  },
  {
   "cell_type": "markdown",
   "metadata": {},
   "source": [
    "### Обработка явных дубликатов\n",
    "\n",
    "Проверим датасет на наличие явных дубликатов."
   ]
  },
  {
   "cell_type": "code",
   "execution_count": 17,
   "metadata": {},
   "outputs": [
    {
     "data": {
      "text/plain": [
       "39279"
      ]
     },
     "execution_count": 17,
     "metadata": {},
     "output_type": "execute_result"
    }
   ],
   "source": [
    "df.duplicated().sum()"
   ]
  },
  {
   "cell_type": "markdown",
   "metadata": {},
   "source": [
    "Удалим явные дубликаты."
   ]
  },
  {
   "cell_type": "code",
   "execution_count": 18,
   "metadata": {},
   "outputs": [],
   "source": [
    "df.drop_duplicates(inplace=True)"
   ]
  },
  {
   "cell_type": "markdown",
   "metadata": {},
   "source": [
    "### Подготовка датасета для обучения моделей"
   ]
  },
  {
   "cell_type": "markdown",
   "metadata": {},
   "source": [
    "Создадим 2 датасета:\n",
    "1) Первый датасет будет использоваться с моделью линейной регресси. Для этой модели требуется закодировать категориальные признаки. Закодируем их методами OneHotEncoding и TargetEncoding.\n",
    "2) Второй датасет будет использоваться с CatBoost и LightGBM. Для этих моделей кодирование категориальных признаков не требуется. Достаточно перевести категориальные признаки в формат `category`."
   ]
  },
  {
   "cell_type": "code",
   "execution_count": 19,
   "metadata": {},
   "outputs": [],
   "source": [
    "# Датасет для линейной регрессии\n",
    "df_encoded = df.copy()\n",
    "\n",
    "# Датасет для моделей catboost и lightGBM\n",
    "df_boost = df.copy()"
   ]
  },
  {
   "cell_type": "code",
   "execution_count": 20,
   "metadata": {},
   "outputs": [],
   "source": [
    "# Сохраним значение random_state в отдельную переменную\n",
    "state = 12345"
   ]
  },
  {
   "cell_type": "markdown",
   "metadata": {},
   "source": [
    "#### Подготовка датасета для модели линейной регрессии"
   ]
  },
  {
   "cell_type": "markdown",
   "metadata": {},
   "source": [
    "Разделим датасет на обучающую и тестовую выборку в соотношении 80% обучающая и 20% тестовая."
   ]
  },
  {
   "cell_type": "code",
   "execution_count": 21,
   "metadata": {},
   "outputs": [],
   "source": [
    "# Разделим датасет на обучающую и тестовую выборку\n",
    "train_encoded, test_encoded = train_test_split(df_encoded, test_size=0.2, random_state=state)"
   ]
  },
  {
   "cell_type": "code",
   "execution_count": 22,
   "metadata": {},
   "outputs": [
    {
     "name": "stdout",
     "output_type": "stream",
     "text": [
      "Размер обучающей выборки: (165379, 10)\n",
      "Размер тестовой выборки: (41345, 10)\n"
     ]
    }
   ],
   "source": [
    "print('Размер обучающей выборки:', train_encoded.shape)\n",
    "print('Размер тестовой выборки:', test_encoded.shape)"
   ]
  },
  {
   "cell_type": "code",
   "execution_count": 23,
   "metadata": {},
   "outputs": [],
   "source": [
    "# Обучающая выборка\n",
    "train_features_encoded = train_encoded.drop(['price'], axis=1)\n",
    "train_target_encoded = train_encoded['price']\n",
    "\n",
    "# Тествая выборка\n",
    "test_features_encoded = test_encoded.drop(['price'], axis=1)\n",
    "test_target_encoded = test_encoded['price']"
   ]
  },
  {
   "cell_type": "code",
   "execution_count": 24,
   "metadata": {},
   "outputs": [],
   "source": [
    "# Определяем список столбцов, которые требуется закодировать\n",
    "columns_to_encode = ['vehicle_type', 'gearbox', 'fuel_type', 'repaired']\n",
    "\n",
    "# Создаем экземпляр OneHotEncoder из библиотеки category_encoders\n",
    "encoder = ce.OneHotEncoder(cols=columns_to_encode, use_cat_names=True)\n",
    "\n",
    "# Применяем кодирование One-Hot на обучающем наборе данных\n",
    "train_features_encoded = encoder.fit_transform(train_features_encoded)\n",
    "\n",
    "# Применяем кодирование One-Hot на тестовом наборе данных с использованием уже обученного кодировщика\n",
    "test_features_encoded = encoder.transform(test_features_encoded)"
   ]
  },
  {
   "cell_type": "code",
   "execution_count": 25,
   "metadata": {},
   "outputs": [],
   "source": [
    "# Удаляем первый признак из каждой категории, что бы избежать мультиколлинерности\n",
    "columns_to_delete = ['vehicle_type_bus', 'gearbox_auto', 'fuel_type_cng', 'repaired_no']\n",
    "\n",
    "# Удаляем столбцы из обучающего набора данных\n",
    "train_features_encoded.drop(columns=columns_to_delete, axis=1, inplace=True)\n",
    "\n",
    "# Удаляем столбцы из тестового набора данных\n",
    "test_features_encoded.drop(columns=columns_to_delete, axis=1, inplace=True)"
   ]
  },
  {
   "cell_type": "markdown",
   "metadata": {},
   "source": [
    "Что бы избежать 'проклятья размерности' воспользуеся Target Encoding для столбцов `model` и `brand`."
   ]
  },
  {
   "cell_type": "code",
   "execution_count": 26,
   "metadata": {},
   "outputs": [],
   "source": [
    "# Создаем экземпляр среднего кодирования из библиотеки category_encoders\n",
    "encoder = ce.TargetEncoder(cols=['model', 'brand'])\n",
    "\n",
    "# Применяем кодирование целевого значения на столбцах 'model' и 'brand' обучающего набора данных\n",
    "encoder_train = encoder.fit_transform(train_features_encoded[['model', 'brand']],\n",
    "                                      pd.DataFrame(train_target_encoded)['price'])\n",
    "\n",
    "# Применяем кодирование целевого значения на столбцах 'model' и 'brand' тестового набора данных\n",
    "encoder_test = encoder.transform(test_features_encoded[['model', 'brand']],\n",
    "                                 pd.DataFrame(test_target_encoded)['price'])\n",
    "\n",
    "# Удаляем столбцы 'model' и 'brand' из обучающего набора данных\n",
    "train_features_encoded.drop(['model', 'brand'], axis=1, inplace=True)\n",
    "\n",
    "# Удаляем столбцы 'model' и 'brand' из тестового набора данных\n",
    "test_features_encoded.drop(['model', 'brand'], axis=1, inplace=True)\n",
    "\n",
    "# Объединяем закодированные столбцы с обучающим набором данных\n",
    "train_features_encoded = train_features_encoded.join(encoder_train)\n",
    "\n",
    "# Объединяем закодированные столбцы с тестовым набором данных\n",
    "test_features_encoded = test_features_encoded.join(encoder_test)"
   ]
  },
  {
   "cell_type": "markdown",
   "metadata": {},
   "source": [
    "Стандартизируем признаки для закодированного датасета."
   ]
  },
  {
   "cell_type": "code",
   "execution_count": 27,
   "metadata": {},
   "outputs": [],
   "source": [
    "# Создаем объект StandardScaler\n",
    "scaler = StandardScaler()\n",
    "\n",
    "# Определяем список столбцов, которые нужно масштабировать\n",
    "col_to_scale = ['power', 'kilometer', 'registration_year']\n",
    "\n",
    "# Обучаем scaler на тренировочных данных\n",
    "scaler.fit(train_features_encoded[col_to_scale])\n",
    "\n",
    "# Масштабируем выбранные столбцы в тренировочном наборе данных\n",
    "train_features_encoded[col_to_scale] = scaler.transform(train_features_encoded[col_to_scale])\n",
    "\n",
    "# Масштабируем выбранные столбцы в тестовом наборе данных\n",
    "test_features_encoded[col_to_scale] = scaler.transform(test_features_encoded[col_to_scale])"
   ]
  },
  {
   "cell_type": "markdown",
   "metadata": {},
   "source": [
    "#### Подготовка датасета для моделей CatBoost и LightGBM"
   ]
  },
  {
   "cell_type": "markdown",
   "metadata": {},
   "source": [
    "Для моделей CatBoost и LightGBM переведём категориальные признаки тип `category`."
   ]
  },
  {
   "cell_type": "code",
   "execution_count": 28,
   "metadata": {},
   "outputs": [],
   "source": [
    "# Столбцы с категориальными признаками\n",
    "categorical_columns = ['vehicle_type', 'gearbox', 'fuel_type', 'repaired', 'model', 'brand']\n",
    "\n",
    "# Преобразование выбранных столбцов в тип 'category'\n",
    "df_boost[categorical_columns] = df_boost[categorical_columns].astype('category')"
   ]
  },
  {
   "cell_type": "markdown",
   "metadata": {},
   "source": [
    "Разделим датасет на обучающую и тестовую выборку в соотношении 80% обучающая и 20% тестовая."
   ]
  },
  {
   "cell_type": "code",
   "execution_count": 29,
   "metadata": {},
   "outputs": [],
   "source": [
    "# Разделим датасет на обучающую и тестовую выборку\n",
    "train_boost, test_boost = train_test_split(df_boost, test_size=0.2, random_state=state)"
   ]
  },
  {
   "cell_type": "code",
   "execution_count": 30,
   "metadata": {},
   "outputs": [
    {
     "name": "stdout",
     "output_type": "stream",
     "text": [
      "Размер обучающей выборки: (165379, 10)\n",
      "Размер тестовой выборки: (41345, 10)\n"
     ]
    }
   ],
   "source": [
    "print('Размер обучающей выборки:', train_boost.shape)\n",
    "print('Размер тестовой выборки:', test_boost.shape)"
   ]
  },
  {
   "cell_type": "markdown",
   "metadata": {},
   "source": [
    "Разделяем на `features` и `target`."
   ]
  },
  {
   "cell_type": "code",
   "execution_count": 31,
   "metadata": {},
   "outputs": [],
   "source": [
    "# Обучающая выборка\n",
    "train_features = train_boost.drop(['price'], axis=1)\n",
    "train_target = train_boost['price']\n",
    "\n",
    "# Тествая выборка\n",
    "test_features = test_boost.drop(['price'], axis=1)\n",
    "test_target = test_boost['price']"
   ]
  },
  {
   "cell_type": "markdown",
   "metadata": {},
   "source": [
    "### Вывод по подготовке данных\n",
    "На этапе предподготовки данных, были выполненые такие шаги:\n",
    "- Изучили датасет\n",
    "- Заполнили пропуски\n",
    "- Обработали аномальные значения\n",
    "- Удалили неинформативные признаки\n",
    "- Удалили явные дубликаты\n",
    "- Закодировали категориальные признаки прямым кодированием (One-Hot-Encoding) и Target Encoding\n",
    "- Разделили датасет на обучающую и тестовую выборку\n",
    "- Стандартизировали признаки"
   ]
  },
  {
   "cell_type": "markdown",
   "metadata": {},
   "source": [
    "## Обучение моделей"
   ]
  },
  {
   "cell_type": "markdown",
   "metadata": {},
   "source": [
    "Определяем метрику оценки производительности RMSE"
   ]
  },
  {
   "cell_type": "code",
   "execution_count": 32,
   "metadata": {},
   "outputs": [],
   "source": [
    "rmse_score = make_scorer(mean_squared_error, squared=False)"
   ]
  },
  {
   "cell_type": "markdown",
   "metadata": {},
   "source": [
    "Создадим таблицу, куда будем сохранять результаты, что бы в дальнейшем проанализировать их."
   ]
  },
  {
   "cell_type": "code",
   "execution_count": 33,
   "metadata": {},
   "outputs": [],
   "source": [
    "results_df = pd.DataFrame(columns=['model', 'best_rmse', 'rmse_test', 'params_time', 'predict_time'])"
   ]
  },
  {
   "cell_type": "code",
   "execution_count": 34,
   "metadata": {},
   "outputs": [],
   "source": [
    "results_fit_time = pd.DataFrame(columns=['fit_time'])"
   ]
  },
  {
   "cell_type": "markdown",
   "metadata": {},
   "source": [
    "Создадим функцию обучения моделей."
   ]
  },
  {
   "cell_type": "code",
   "execution_count": 35,
   "metadata": {},
   "outputs": [],
   "source": [
    "def train_model(model, params, train_features, train_target, test_features, results_df, cat_features=None):\n",
    "    # Создаем объект GridSearchCV с моделью model, сеткой параметров params,\n",
    "    # кросс-валидацией на 5 фолдах и оценкой по scoring-функции rmse_score\n",
    "    grid = GridSearchCV(model, param_grid=params, cv=5, scoring=rmse_score)\n",
    "    \n",
    "    # Засекаем время начала обучения модели\n",
    "    start_time = timeit.default_timer()\n",
    "    \n",
    "    # Обучаем модель\n",
    "    if cat_features is None:\n",
    "        # Если `cat_features` не указаны, то обучаем модель без учета категориальных признаков\n",
    "        grid.fit(train_features, train_target)\n",
    "    else:\n",
    "        # Если `cat_features` указаны, то обучаем модель с учетом категориальных признаков\n",
    "        grid.fit(train_features, train_target, cat_features=cat_features)\n",
    "   \n",
    "    # Засекаем время окончания обучения модели\n",
    "    end_time = timeit.default_timer()\n",
    "    \n",
    "    # Получаем лучший результат и параметры из объекта GridSearchCV\n",
    "    best_score = grid.best_score_\n",
    "    best_params = grid.best_params_\n",
    "    \n",
    "    # Вычисляем время подбора гиперпараметров\n",
    "    params_time = end_time - start_time\n",
    "    \n",
    "    # Засекаем время начала предсказания на тестовых признаках\n",
    "    start_time_predict = timeit.default_timer()\n",
    "    \n",
    "    # Делаем предсказания на тестовых признаках\n",
    "    predictions = grid.predict(test_features)\n",
    "    \n",
    "    # Засекаем время окончания предсказания\n",
    "    end_time_predict = timeit.default_timer()\n",
    "    \n",
    "    # Вычисляем время предсказания\n",
    "    predict_time = end_time_predict - start_time_predict\n",
    "    \n",
    "    # Вычисляем RMSE (среднеквадратичную ошибку) между предсказаниями и целевой переменной тестовых данных\n",
    "    rmse_test = np.sqrt(mean_squared_error(test_target, predictions))\n",
    "    \n",
    "    # Добавляем результаты в таблицу\n",
    "    results_df.loc[len(results_df)] = [model.__class__.__name__, best_score, rmse_test, params_time, predict_time]\n",
    "\n",
    "    # Возвращаем лучшие гиперпараметры модели\n",
    "    return best_params"
   ]
  },
  {
   "cell_type": "code",
   "execution_count": 36,
   "metadata": {},
   "outputs": [],
   "source": [
    "# Функция вычисляющая время обучения модели\n",
    "def fit_time_cal(model, train_features, train_target, best_params, results, cat_features=None, random_state=None):\n",
    "    # Создаем модель с использованием переданных параметров и указанным random_state\n",
    "    if random_state is None:\n",
    "        model = model(**best_params)\n",
    "    else:\n",
    "        model = model(random_state=state, **best_params, verbose=0)\n",
    "\n",
    "    # Засекаем время начала обучения модели\n",
    "    start_time = timeit.default_timer()\n",
    "    \n",
    "    if cat_features is None:\n",
    "        # Если `cat_features` не указаны, то обучаем модель без учета категориальных признаков\n",
    "        model.fit(train_features, train_target)\n",
    "    else:\n",
    "        # Если `cat_features` указаны, то обучаем модель с учетом категориальных признаков\n",
    "        model.fit(train_features, train_target, cat_features=cat_features)\n",
    "        \n",
    "    # Засекаем время окончания обучения модели\n",
    "    end_time = timeit.default_timer()\n",
    "\n",
    "    # Вычисляем время обучения\n",
    "    fit_time = end_time - start_time\n",
    "\n",
    "    # Сохраняем время обучения в столбец 'fit_time' DataFrame results_df\n",
    "    results.loc[len(results)] = [fit_time]"
   ]
  },
  {
   "cell_type": "markdown",
   "metadata": {},
   "source": [
    "### Модель линейной регрессии"
   ]
  },
  {
   "cell_type": "code",
   "execution_count": 37,
   "metadata": {},
   "outputs": [],
   "source": [
    "# Создаем объект LinearRegression\n",
    "lin_reg = LinearRegression()\n",
    "\n",
    "# Определяем параметры для поиска по сетке\n",
    "lin_params = {'fit_intercept':[True, False]}\n",
    "\n",
    "# Вызываем функцию train_model для обучения модели с заданными параметрами\n",
    "lin_best_params = train_model(\n",
    "    lin_reg, lin_params, train_features_encoded, train_target_encoded, test_features_encoded, results_df\n",
    ")"
   ]
  },
  {
   "cell_type": "code",
   "execution_count": 38,
   "metadata": {},
   "outputs": [],
   "source": [
    "# Вызываем функцию fit_time_cal для вычисления времени обучения модели\n",
    "fit_time_cal(LinearRegression, train_features_encoded, train_target_encoded, lin_best_params, results_fit_time)"
   ]
  },
  {
   "cell_type": "code",
   "execution_count": 39,
   "metadata": {},
   "outputs": [
    {
     "data": {
      "text/html": [
       "<div>\n",
       "<style scoped>\n",
       "    .dataframe tbody tr th:only-of-type {\n",
       "        vertical-align: middle;\n",
       "    }\n",
       "\n",
       "    .dataframe tbody tr th {\n",
       "        vertical-align: top;\n",
       "    }\n",
       "\n",
       "    .dataframe thead th {\n",
       "        text-align: right;\n",
       "    }\n",
       "</style>\n",
       "<table border=\"1\" class=\"dataframe\">\n",
       "  <thead>\n",
       "    <tr style=\"text-align: right;\">\n",
       "      <th></th>\n",
       "      <th>model</th>\n",
       "      <th>best_rmse</th>\n",
       "      <th>rmse_test</th>\n",
       "      <th>params_time</th>\n",
       "      <th>predict_time</th>\n",
       "    </tr>\n",
       "  </thead>\n",
       "  <tbody>\n",
       "    <tr>\n",
       "      <th>0</th>\n",
       "      <td>LinearRegression</td>\n",
       "      <td>2144.455585</td>\n",
       "      <td>2121.437286</td>\n",
       "      <td>1.572351</td>\n",
       "      <td>0.007366</td>\n",
       "    </tr>\n",
       "  </tbody>\n",
       "</table>\n",
       "</div>"
      ],
      "text/plain": [
       "              model    best_rmse    rmse_test  params_time  predict_time\n",
       "0  LinearRegression  2144.455585  2121.437286     1.572351      0.007366"
      ]
     },
     "execution_count": 39,
     "metadata": {},
     "output_type": "execute_result"
    }
   ],
   "source": [
    "results_df.loc[results_df['model'] == 'LinearRegression']"
   ]
  },
  {
   "cell_type": "code",
   "execution_count": 40,
   "metadata": {},
   "outputs": [
    {
     "name": "stdout",
     "output_type": "stream",
     "text": [
      "Лучшие гиперпараметры для модели линейной регрессии: {'fit_intercept': False}\n"
     ]
    }
   ],
   "source": [
    "print('Лучшие гиперпараметры для модели линейной регрессии:', lin_best_params)"
   ]
  },
  {
   "cell_type": "markdown",
   "metadata": {},
   "source": [
    "### Модель градиентного бустинга LightGBM"
   ]
  },
  {
   "cell_type": "code",
   "execution_count": 41,
   "metadata": {},
   "outputs": [],
   "source": [
    "# Создаем модель LGBMRegressor с указанным random_state\n",
    "lgbm_model = LGBMRegressor(random_state=state)\n",
    "\n",
    "# Задаем параметры для гиперпараметров модели\n",
    "lgbm_params = {'max_depth': [1, 2], 'n_estimators': [25, 50]}\n",
    "\n",
    "# Вызываем функцию train_model для обучения модели с использованием указанных параметров\n",
    "lgbm_best_params = train_model(lgbm_model, lgbm_params, train_features, train_target, test_features, results_df)"
   ]
  },
  {
   "cell_type": "code",
   "execution_count": 42,
   "metadata": {},
   "outputs": [
    {
     "name": "stdout",
     "output_type": "stream",
     "text": [
      "[LightGBM] [Warning] Auto-choosing col-wise multi-threading, the overhead of testing was 0.005388 seconds.\n",
      "You can set `force_col_wise=true` to remove the overhead.\n"
     ]
    }
   ],
   "source": [
    "# Вызываем функцию fit_time_cal для вычисления времени обучения модели\n",
    "fit_time_cal(LGBMRegressor, train_features, train_target, lgbm_best_params, results_fit_time, random_state=state)"
   ]
  },
  {
   "cell_type": "code",
   "execution_count": 43,
   "metadata": {},
   "outputs": [
    {
     "name": "stdout",
     "output_type": "stream",
     "text": [
      "Лучшие гиперпараметры для модели LightGBM: {'max_depth': 1, 'n_estimators': 25}\n"
     ]
    }
   ],
   "source": [
    "print('Лучшие гиперпараметры для модели LightGBM:', lgbm_best_params)"
   ]
  },
  {
   "cell_type": "code",
   "execution_count": 44,
   "metadata": {},
   "outputs": [
    {
     "data": {
      "text/html": [
       "<div>\n",
       "<style scoped>\n",
       "    .dataframe tbody tr th:only-of-type {\n",
       "        vertical-align: middle;\n",
       "    }\n",
       "\n",
       "    .dataframe tbody tr th {\n",
       "        vertical-align: top;\n",
       "    }\n",
       "\n",
       "    .dataframe thead th {\n",
       "        text-align: right;\n",
       "    }\n",
       "</style>\n",
       "<table border=\"1\" class=\"dataframe\">\n",
       "  <thead>\n",
       "    <tr style=\"text-align: right;\">\n",
       "      <th></th>\n",
       "      <th>model</th>\n",
       "      <th>best_rmse</th>\n",
       "      <th>rmse_test</th>\n",
       "      <th>params_time</th>\n",
       "      <th>predict_time</th>\n",
       "    </tr>\n",
       "  </thead>\n",
       "  <tbody>\n",
       "    <tr>\n",
       "      <th>1</th>\n",
       "      <td>LGBMRegressor</td>\n",
       "      <td>2271.449517</td>\n",
       "      <td>2257.78108</td>\n",
       "      <td>3.478991</td>\n",
       "      <td>0.013825</td>\n",
       "    </tr>\n",
       "  </tbody>\n",
       "</table>\n",
       "</div>"
      ],
      "text/plain": [
       "           model    best_rmse   rmse_test  params_time  predict_time\n",
       "1  LGBMRegressor  2271.449517  2257.78108     3.478991      0.013825"
      ]
     },
     "execution_count": 44,
     "metadata": {},
     "output_type": "execute_result"
    }
   ],
   "source": [
    "results_df.loc[results_df['model'] == 'LGBMRegressor']"
   ]
  },
  {
   "cell_type": "markdown",
   "metadata": {},
   "source": [
    "### Модель градиентного бустинга CatBoostRegressor"
   ]
  },
  {
   "cell_type": "code",
   "execution_count": 45,
   "metadata": {},
   "outputs": [],
   "source": [
    "cat_features = ['vehicle_type', 'gearbox', 'fuel_type', 'repaired', 'model', 'brand']"
   ]
  },
  {
   "cell_type": "code",
   "execution_count": 46,
   "metadata": {},
   "outputs": [],
   "source": [
    "# Создаем модель CatBoostRegressor с указанным random_state\n",
    "cat_boost_model = CatBoostRegressor(random_state=state, verbose=0)\n",
    "\n",
    "# Задаем параметры для гиперпараметров модели\n",
    "cat_boost_params = {'max_depth': [4, 6],\n",
    "                   'iterations': [50, 100]}\n",
    "\n",
    "# Вызываем функцию train_model для обучения модели с использованием указанных параметров\n",
    "cat_boost_best_params = train_model(\n",
    "    cat_boost_model, \n",
    "    cat_boost_params, \n",
    "    train_features, \n",
    "    train_target, \n",
    "    test_features, \n",
    "    results_df, \n",
    "    cat_features\n",
    ")"
   ]
  },
  {
   "cell_type": "code",
   "execution_count": 47,
   "metadata": {},
   "outputs": [],
   "source": [
    "# Вызываем функцию fit_time_cal для вычисления времени обучения модели\n",
    "fit_time_cal(\n",
    "    CatBoostRegressor, train_features, train_target, cat_boost_best_params, results_fit_time, cat_features, random_state=state\n",
    ")"
   ]
  },
  {
   "cell_type": "code",
   "execution_count": 48,
   "metadata": {},
   "outputs": [
    {
     "name": "stdout",
     "output_type": "stream",
     "text": [
      "Лучшие гиперпараметры для модели CatBoost: {'iterations': 50, 'max_depth': 4}\n"
     ]
    }
   ],
   "source": [
    "print('Лучшие гиперпараметры для модели CatBoost:', cat_boost_best_params)"
   ]
  },
  {
   "cell_type": "code",
   "execution_count": 49,
   "metadata": {},
   "outputs": [
    {
     "data": {
      "text/html": [
       "<div>\n",
       "<style scoped>\n",
       "    .dataframe tbody tr th:only-of-type {\n",
       "        vertical-align: middle;\n",
       "    }\n",
       "\n",
       "    .dataframe tbody tr th {\n",
       "        vertical-align: top;\n",
       "    }\n",
       "\n",
       "    .dataframe thead th {\n",
       "        text-align: right;\n",
       "    }\n",
       "</style>\n",
       "<table border=\"1\" class=\"dataframe\">\n",
       "  <thead>\n",
       "    <tr style=\"text-align: right;\">\n",
       "      <th></th>\n",
       "      <th>model</th>\n",
       "      <th>best_rmse</th>\n",
       "      <th>rmse_test</th>\n",
       "      <th>params_time</th>\n",
       "      <th>predict_time</th>\n",
       "    </tr>\n",
       "  </thead>\n",
       "  <tbody>\n",
       "    <tr>\n",
       "      <th>2</th>\n",
       "      <td>CatBoostRegressor</td>\n",
       "      <td>1408.771347</td>\n",
       "      <td>1398.001925</td>\n",
       "      <td>85.004664</td>\n",
       "      <td>0.036508</td>\n",
       "    </tr>\n",
       "  </tbody>\n",
       "</table>\n",
       "</div>"
      ],
      "text/plain": [
       "               model    best_rmse    rmse_test  params_time  predict_time\n",
       "2  CatBoostRegressor  1408.771347  1398.001925    85.004664      0.036508"
      ]
     },
     "execution_count": 49,
     "metadata": {},
     "output_type": "execute_result"
    }
   ],
   "source": [
    "results_df.loc[results_df['model'] == 'CatBoostRegressor']"
   ]
  },
  {
   "cell_type": "markdown",
   "metadata": {},
   "source": [
    "### Вывод по обучению моделей\n",
    "На этапе обучения моделей, обучили 3 модели:\n",
    "- LinearRegression - Модель линейной регрессии\n",
    "- LGBMRegressor - Модель градиентного бустинга LightGBM\n",
    "- CatBoostRegressor\t- Модель градиентного бустинга CatBoostRegressor\n",
    "\n",
    "Результаты сохранили в таблицу `results_df`. Проанализируем и выберем лучшую модель на этапе анализа моделей."
   ]
  },
  {
   "cell_type": "markdown",
   "metadata": {},
   "source": [
    "## Анализ моделей"
   ]
  },
  {
   "cell_type": "markdown",
   "metadata": {},
   "source": [
    "В этом разделе проанализируем собранные данные в таблице `results_df`."
   ]
  },
  {
   "cell_type": "code",
   "execution_count": 50,
   "metadata": {},
   "outputs": [],
   "source": [
    "# Объеденим результаты\n",
    "results_df = results_df.join(results_fit_time)"
   ]
  },
  {
   "cell_type": "code",
   "execution_count": 51,
   "metadata": {},
   "outputs": [],
   "source": [
    "# Создадим столбец с сумарным временем обучения и предсказания\n",
    "results_df['fit_predict_time'] = results_df['fit_time'] + results_df['predict_time']"
   ]
  },
  {
   "cell_type": "code",
   "execution_count": 52,
   "metadata": {},
   "outputs": [
    {
     "data": {
      "text/html": [
       "<div>\n",
       "<style scoped>\n",
       "    .dataframe tbody tr th:only-of-type {\n",
       "        vertical-align: middle;\n",
       "    }\n",
       "\n",
       "    .dataframe tbody tr th {\n",
       "        vertical-align: top;\n",
       "    }\n",
       "\n",
       "    .dataframe thead th {\n",
       "        text-align: right;\n",
       "    }\n",
       "</style>\n",
       "<table border=\"1\" class=\"dataframe\">\n",
       "  <thead>\n",
       "    <tr style=\"text-align: right;\">\n",
       "      <th></th>\n",
       "      <th>model</th>\n",
       "      <th>best_rmse</th>\n",
       "      <th>rmse_test</th>\n",
       "      <th>params_time</th>\n",
       "      <th>predict_time</th>\n",
       "      <th>fit_time</th>\n",
       "      <th>fit_predict_time</th>\n",
       "    </tr>\n",
       "  </thead>\n",
       "  <tbody>\n",
       "    <tr>\n",
       "      <th>0</th>\n",
       "      <td>LinearRegression</td>\n",
       "      <td>2144.455585</td>\n",
       "      <td>2121.437286</td>\n",
       "      <td>1.572351</td>\n",
       "      <td>0.007366</td>\n",
       "      <td>0.140878</td>\n",
       "      <td>0.148243</td>\n",
       "    </tr>\n",
       "    <tr>\n",
       "      <th>1</th>\n",
       "      <td>LGBMRegressor</td>\n",
       "      <td>2271.449517</td>\n",
       "      <td>2257.781080</td>\n",
       "      <td>3.478991</td>\n",
       "      <td>0.013825</td>\n",
       "      <td>0.168163</td>\n",
       "      <td>0.181988</td>\n",
       "    </tr>\n",
       "    <tr>\n",
       "      <th>2</th>\n",
       "      <td>CatBoostRegressor</td>\n",
       "      <td>1408.771347</td>\n",
       "      <td>1398.001925</td>\n",
       "      <td>85.004664</td>\n",
       "      <td>0.036508</td>\n",
       "      <td>2.931190</td>\n",
       "      <td>2.967699</td>\n",
       "    </tr>\n",
       "  </tbody>\n",
       "</table>\n",
       "</div>"
      ],
      "text/plain": [
       "               model    best_rmse    rmse_test  params_time  predict_time  \\\n",
       "0   LinearRegression  2144.455585  2121.437286     1.572351      0.007366   \n",
       "1      LGBMRegressor  2271.449517  2257.781080     3.478991      0.013825   \n",
       "2  CatBoostRegressor  1408.771347  1398.001925    85.004664      0.036508   \n",
       "\n",
       "   fit_time  fit_predict_time  \n",
       "0  0.140878          0.148243  \n",
       "1  0.168163          0.181988  \n",
       "2  2.931190          2.967699  "
      ]
     },
     "execution_count": 52,
     "metadata": {},
     "output_type": "execute_result"
    }
   ],
   "source": [
    "results_df"
   ]
  },
  {
   "cell_type": "code",
   "execution_count": 53,
   "metadata": {},
   "outputs": [],
   "source": [
    "# Функция для постороения столбчатой диаграммы\n",
    "def plot_bar_chart(height, bars, title):\n",
    "    # Создание массива позиций для каждого столбца на оси x\n",
    "    x_pos = np.arange(len(bars))\n",
    "    \n",
    "    # Определение цветов для столбцов\n",
    "    colors = ['blue', 'green', 'red', 'orange']\n",
    "    \n",
    "    # Создание нового графика с указанным размером\n",
    "    plt.figure(figsize=(10, 6))\n",
    "    \n",
    "    # Построение столбчатой диаграммы\n",
    "    plt.bar(x_pos, height, color=colors)\n",
    "    \n",
    "    # Установка подписей на оси x\n",
    "    plt.xticks(x_pos, bars)\n",
    "    \n",
    "    # Включение сетки по оси y с прозрачностью 0.2\n",
    "    plt.grid(True, axis='y', alpha=0.2)\n",
    "    \n",
    "    # Установка заголовка диаграммы\n",
    "    plt.title(title)\n",
    "    plt.ylabel('RMSE')\n",
    "    \n",
    "    # Отображение графика\n",
    "    plt.show()"
   ]
  },
  {
   "cell_type": "code",
   "execution_count": 54,
   "metadata": {},
   "outputs": [
    {
     "data": {
      "image/png": "[encoded data removed]",
      "text/plain": [
       "<Figure size 1000x600 with 1 Axes>"
      ]
     },
     "metadata": {},
     "output_type": "display_data"
    }
   ],
   "source": [
    "plot_bar_chart(results_df['rmse_test'], results_df['model'], 'Лучшая RMSE на тестовой выборке')"
   ]
  },
  {
   "cell_type": "code",
   "execution_count": 55,
   "metadata": {},
   "outputs": [
    {
     "data": {
      "image/png": "[encoded data removed]",
      "text/plain": [
       "<Figure size 1000x600 with 1 Axes>"
      ]
     },
     "metadata": {},
     "output_type": "display_data"
    }
   ],
   "source": [
    "plot_bar_chart(results_df['fit_predict_time'], results_df['model'], 'Время подбора гиперпараметров')"
   ]
  },
  {
   "cell_type": "code",
   "execution_count": 56,
   "metadata": {},
   "outputs": [
    {
     "data": {
      "image/png": "[encoded data removed]",
      "text/plain": [
       "<Figure size 1000x600 with 1 Axes>"
      ]
     },
     "metadata": {},
     "output_type": "display_data"
    }
   ],
   "source": [
    "plot_bar_chart(results_df['fit_time'], results_df['model'], 'Время обучения')"
   ]
  },
  {
   "cell_type": "code",
   "execution_count": 57,
   "metadata": {},
   "outputs": [
    {
     "data": {
      "image/png": "[encoded data removed]",
      "text/plain": [
       "<Figure size 1000x600 with 1 Axes>"
      ]
     },
     "metadata": {},
     "output_type": "display_data"
    }
   ],
   "source": [
    "plot_bar_chart(results_df['predict_time'], results_df['model'], 'Время на предсказания')"
   ]
  },
  {
   "cell_type": "markdown",
   "metadata": {},
   "source": [
    "### Вывод по анализу моделей\n",
    "\n",
    "Получили такие результаты:\n",
    "\n",
    "- Лучшее качество предсказаний у модели CatBoost\n",
    "- Наибольшая скорость предсказаний у модели LinearRegression\n",
    "- Наименьшее время обучения у модели LinearRegression"
   ]
  },
  {
   "cell_type": "markdown",
   "metadata": {},
   "source": [
    "## Вывод по проекту\n",
    "\n",
    "В этом проекте нам нужно было построить модель для определения рыночной стоимости автомобиля. \n",
    "\n",
    "В этом проекте мы сделали:\n",
    "- Изучили датасет\n",
    "- Заполнили пропуски\n",
    "- Обработали аномальные значения\n",
    "- Удалили неинформативные признаки\n",
    "- Удалили явные дубликаты\n",
    "- Закодировали категориальные признаки прямым кодированием (One-Hot-Encoding) и Target Encoding\n",
    "- Разделили датасет на обучающую и тестовую выборку\n",
    "- Стандартизировали признаки\n",
    "- Обучили 3 модели:\n",
    "    - LinearRegression - Модель линейной регрессии\n",
    "    - LGBMRegressor - Модель градиентного бустинга LightGBM\n",
    "    - CatBoostRegressor - Модель градиентного бустинга CatBoostRegressor\n",
    "- Собрали результаты в таблице `results_df`\n",
    "- Проанализировали модели\n",
    "- Выбрали лучшую модель подходящию заказчику по 3 параметрам: по качеству предсказаний, скорость предсказаний и времени обучения.\n",
    "\n",
    "По итогу лучшее значение RMSE у модели CatBoost, по остальным параметрам она уступает таким моделям, как LinearRegression и LightBoost."
   ]
  },
  {
   "cell_type": "code",
   "execution_count": null,
   "metadata": {},
   "outputs": [],
   "source": []
  }
 ],
 "metadata": {
  "ExecuteTimeLog": [
   {
    "duration": 43631,
    "start_time": "2023-05-31T14:13:18.333Z"
   },
   {
    "duration": 908,
    "start_time": "2023-05-31T14:14:01.966Z"
   },
   {
    "duration": 115,
    "start_time": "2023-05-31T14:14:02.875Z"
   },
   {
    "duration": 14,
    "start_time": "2023-05-31T14:14:02.992Z"
   },
   {
    "duration": 175,
    "start_time": "2023-05-31T14:14:03.015Z"
   },
   {
    "duration": 137,
    "start_time": "2023-05-31T14:14:03.191Z"
   },
   {
    "duration": 0,
    "start_time": "2023-05-31T14:14:03.330Z"
   },
   {
    "duration": 0,
    "start_time": "2023-05-31T14:14:03.332Z"
   },
   {
    "duration": 0,
    "start_time": "2023-05-31T14:14:03.332Z"
   },
   {
    "duration": 0,
    "start_time": "2023-05-31T14:14:03.333Z"
   },
   {
    "duration": 0,
    "start_time": "2023-05-31T14:14:03.334Z"
   },
   {
    "duration": 0,
    "start_time": "2023-05-31T14:14:03.335Z"
   },
   {
    "duration": 0,
    "start_time": "2023-05-31T14:14:03.335Z"
   },
   {
    "duration": 0,
    "start_time": "2023-05-31T14:14:03.336Z"
   },
   {
    "duration": 0,
    "start_time": "2023-05-31T14:14:03.337Z"
   },
   {
    "duration": 0,
    "start_time": "2023-05-31T14:14:03.338Z"
   },
   {
    "duration": 0,
    "start_time": "2023-05-31T14:14:03.339Z"
   },
   {
    "duration": 0,
    "start_time": "2023-05-31T14:14:03.339Z"
   },
   {
    "duration": 0,
    "start_time": "2023-05-31T14:14:03.340Z"
   },
   {
    "duration": 0,
    "start_time": "2023-05-31T14:14:03.341Z"
   },
   {
    "duration": 0,
    "start_time": "2023-05-31T14:14:03.342Z"
   },
   {
    "duration": 0,
    "start_time": "2023-05-31T14:14:03.342Z"
   },
   {
    "duration": 0,
    "start_time": "2023-05-31T14:14:03.343Z"
   },
   {
    "duration": 0,
    "start_time": "2023-05-31T14:14:03.344Z"
   },
   {
    "duration": 0,
    "start_time": "2023-05-31T14:14:03.345Z"
   },
   {
    "duration": 0,
    "start_time": "2023-05-31T14:14:03.346Z"
   },
   {
    "duration": 0,
    "start_time": "2023-05-31T14:14:03.347Z"
   },
   {
    "duration": 0,
    "start_time": "2023-05-31T14:14:03.347Z"
   },
   {
    "duration": 0,
    "start_time": "2023-05-31T14:14:03.348Z"
   },
   {
    "duration": 0,
    "start_time": "2023-05-31T14:14:03.349Z"
   },
   {
    "duration": 0,
    "start_time": "2023-05-31T14:14:03.350Z"
   },
   {
    "duration": 0,
    "start_time": "2023-05-31T14:14:03.351Z"
   },
   {
    "duration": 0,
    "start_time": "2023-05-31T14:14:03.351Z"
   },
   {
    "duration": 0,
    "start_time": "2023-05-31T14:14:03.352Z"
   },
   {
    "duration": 0,
    "start_time": "2023-05-31T14:14:03.353Z"
   },
   {
    "duration": 0,
    "start_time": "2023-05-31T14:14:03.354Z"
   },
   {
    "duration": 0,
    "start_time": "2023-05-31T14:14:03.355Z"
   },
   {
    "duration": 0,
    "start_time": "2023-05-31T14:14:03.356Z"
   },
   {
    "duration": 0,
    "start_time": "2023-05-31T14:14:03.357Z"
   },
   {
    "duration": 0,
    "start_time": "2023-05-31T14:14:03.357Z"
   },
   {
    "duration": 0,
    "start_time": "2023-05-31T14:14:03.358Z"
   },
   {
    "duration": 0,
    "start_time": "2023-05-31T14:14:03.359Z"
   },
   {
    "duration": 0,
    "start_time": "2023-05-31T14:14:03.360Z"
   },
   {
    "duration": 0,
    "start_time": "2023-05-31T14:14:03.360Z"
   },
   {
    "duration": 1954,
    "start_time": "2023-05-31T14:14:35.440Z"
   },
   {
    "duration": 8536,
    "start_time": "2023-05-31T14:14:52.804Z"
   },
   {
    "duration": 27,
    "start_time": "2023-05-31T14:15:18.106Z"
   },
   {
    "duration": 2528,
    "start_time": "2023-05-31T14:16:29.240Z"
   },
   {
    "duration": 15730,
    "start_time": "2023-05-31T14:16:31.770Z"
   },
   {
    "duration": 963,
    "start_time": "2023-05-31T14:16:47.502Z"
   },
   {
    "duration": 107,
    "start_time": "2023-05-31T14:16:48.467Z"
   },
   {
    "duration": 12,
    "start_time": "2023-05-31T14:16:48.576Z"
   },
   {
    "duration": 90,
    "start_time": "2023-05-31T14:16:48.589Z"
   },
   {
    "duration": 155,
    "start_time": "2023-05-31T14:16:48.681Z"
   },
   {
    "duration": 0,
    "start_time": "2023-05-31T14:16:48.840Z"
   },
   {
    "duration": 0,
    "start_time": "2023-05-31T14:16:48.841Z"
   },
   {
    "duration": 0,
    "start_time": "2023-05-31T14:16:48.843Z"
   },
   {
    "duration": 0,
    "start_time": "2023-05-31T14:16:48.844Z"
   },
   {
    "duration": 0,
    "start_time": "2023-05-31T14:16:48.845Z"
   },
   {
    "duration": 0,
    "start_time": "2023-05-31T14:16:48.846Z"
   },
   {
    "duration": 0,
    "start_time": "2023-05-31T14:16:48.847Z"
   },
   {
    "duration": 0,
    "start_time": "2023-05-31T14:16:48.848Z"
   },
   {
    "duration": 0,
    "start_time": "2023-05-31T14:16:48.849Z"
   },
   {
    "duration": 0,
    "start_time": "2023-05-31T14:16:48.850Z"
   },
   {
    "duration": 0,
    "start_time": "2023-05-31T14:16:48.851Z"
   },
   {
    "duration": 0,
    "start_time": "2023-05-31T14:16:48.852Z"
   },
   {
    "duration": 0,
    "start_time": "2023-05-31T14:16:48.853Z"
   },
   {
    "duration": 0,
    "start_time": "2023-05-31T14:16:48.854Z"
   },
   {
    "duration": 0,
    "start_time": "2023-05-31T14:16:48.855Z"
   },
   {
    "duration": 0,
    "start_time": "2023-05-31T14:16:48.856Z"
   },
   {
    "duration": 0,
    "start_time": "2023-05-31T14:16:48.858Z"
   },
   {
    "duration": 0,
    "start_time": "2023-05-31T14:16:48.859Z"
   },
   {
    "duration": 0,
    "start_time": "2023-05-31T14:16:48.860Z"
   },
   {
    "duration": 0,
    "start_time": "2023-05-31T14:16:48.862Z"
   },
   {
    "duration": 0,
    "start_time": "2023-05-31T14:16:48.863Z"
   },
   {
    "duration": 0,
    "start_time": "2023-05-31T14:16:48.864Z"
   },
   {
    "duration": 0,
    "start_time": "2023-05-31T14:16:48.865Z"
   },
   {
    "duration": 0,
    "start_time": "2023-05-31T14:16:48.867Z"
   },
   {
    "duration": 0,
    "start_time": "2023-05-31T14:16:48.915Z"
   },
   {
    "duration": 0,
    "start_time": "2023-05-31T14:16:48.916Z"
   },
   {
    "duration": 0,
    "start_time": "2023-05-31T14:16:48.918Z"
   },
   {
    "duration": 0,
    "start_time": "2023-05-31T14:16:48.919Z"
   },
   {
    "duration": 0,
    "start_time": "2023-05-31T14:16:48.921Z"
   },
   {
    "duration": 0,
    "start_time": "2023-05-31T14:16:48.922Z"
   },
   {
    "duration": 0,
    "start_time": "2023-05-31T14:16:48.923Z"
   },
   {
    "duration": 0,
    "start_time": "2023-05-31T14:16:48.925Z"
   },
   {
    "duration": 0,
    "start_time": "2023-05-31T14:16:48.926Z"
   },
   {
    "duration": 0,
    "start_time": "2023-05-31T14:16:48.927Z"
   },
   {
    "duration": 0,
    "start_time": "2023-05-31T14:16:48.928Z"
   },
   {
    "duration": 0,
    "start_time": "2023-05-31T14:16:48.930Z"
   },
   {
    "duration": 0,
    "start_time": "2023-05-31T14:16:48.931Z"
   },
   {
    "duration": 0,
    "start_time": "2023-05-31T14:16:48.932Z"
   },
   {
    "duration": 10716,
    "start_time": "2023-05-31T14:18:41.908Z"
   },
   {
    "duration": 939,
    "start_time": "2023-05-31T14:18:52.626Z"
   },
   {
    "duration": 348,
    "start_time": "2023-05-31T14:18:53.567Z"
   },
   {
    "duration": 12,
    "start_time": "2023-05-31T14:18:53.917Z"
   },
   {
    "duration": 88,
    "start_time": "2023-05-31T14:18:53.930Z"
   },
   {
    "duration": 23130,
    "start_time": "2023-05-31T14:18:54.020Z"
   },
   {
    "duration": 1851,
    "start_time": "2023-05-31T14:19:17.151Z"
   },
   {
    "duration": 32,
    "start_time": "2023-05-31T14:19:19.004Z"
   },
   {
    "duration": 17,
    "start_time": "2023-05-31T14:19:19.038Z"
   },
   {
    "duration": 14,
    "start_time": "2023-05-31T14:19:19.057Z"
   },
   {
    "duration": 18,
    "start_time": "2023-05-31T14:19:19.072Z"
   },
   {
    "duration": 34,
    "start_time": "2023-05-31T14:19:19.091Z"
   },
   {
    "duration": 23,
    "start_time": "2023-05-31T14:19:19.126Z"
   },
   {
    "duration": 41,
    "start_time": "2023-05-31T14:19:19.151Z"
   },
   {
    "duration": 55,
    "start_time": "2023-05-31T14:19:19.193Z"
   },
   {
    "duration": 24,
    "start_time": "2023-05-31T14:19:19.250Z"
   },
   {
    "duration": 94,
    "start_time": "2023-05-31T14:19:19.276Z"
   },
   {
    "duration": 99,
    "start_time": "2023-05-31T14:19:19.372Z"
   },
   {
    "duration": 327,
    "start_time": "2023-05-31T14:19:19.473Z"
   },
   {
    "duration": 2,
    "start_time": "2023-05-31T14:19:19.802Z"
   },
   {
    "duration": 357,
    "start_time": "2023-05-31T14:19:19.806Z"
   },
   {
    "duration": 60,
    "start_time": "2023-05-31T14:19:20.164Z"
   },
   {
    "duration": 20,
    "start_time": "2023-05-31T14:19:20.226Z"
   },
   {
    "duration": 3,
    "start_time": "2023-05-31T14:19:20.247Z"
   },
   {
    "duration": 12,
    "start_time": "2023-05-31T14:19:20.252Z"
   },
   {
    "duration": 15,
    "start_time": "2023-05-31T14:19:20.265Z"
   },
   {
    "duration": 305235,
    "start_time": "2023-05-31T14:19:20.281Z"
   },
   {
    "duration": 100,
    "start_time": "2023-05-31T14:24:25.521Z"
   },
   {
    "duration": 10,
    "start_time": "2023-05-31T14:24:25.623Z"
   },
   {
    "duration": 1094568,
    "start_time": "2023-05-31T14:24:25.634Z"
   },
   {
    "duration": 0,
    "start_time": "2023-05-31T14:42:40.204Z"
   },
   {
    "duration": 0,
    "start_time": "2023-05-31T14:42:40.205Z"
   },
   {
    "duration": 0,
    "start_time": "2023-05-31T14:42:40.206Z"
   },
   {
    "duration": 0,
    "start_time": "2023-05-31T14:42:40.215Z"
   },
   {
    "duration": 0,
    "start_time": "2023-05-31T14:42:40.216Z"
   },
   {
    "duration": 0,
    "start_time": "2023-05-31T14:42:40.218Z"
   },
   {
    "duration": 0,
    "start_time": "2023-05-31T14:42:40.218Z"
   },
   {
    "duration": 0,
    "start_time": "2023-05-31T14:42:40.219Z"
   },
   {
    "duration": 0,
    "start_time": "2023-05-31T14:42:40.220Z"
   },
   {
    "duration": 0,
    "start_time": "2023-05-31T14:42:40.221Z"
   },
   {
    "duration": 0,
    "start_time": "2023-05-31T14:42:40.222Z"
   },
   {
    "duration": 0,
    "start_time": "2023-05-31T14:42:40.223Z"
   },
   {
    "duration": 0,
    "start_time": "2023-05-31T14:42:40.224Z"
   },
   {
    "duration": 0,
    "start_time": "2023-05-31T14:42:40.225Z"
   },
   {
    "duration": 67200,
    "start_time": "2023-06-05T13:10:58.630Z"
   },
   {
    "duration": 1798,
    "start_time": "2023-06-05T13:12:05.833Z"
   },
   {
    "duration": 131,
    "start_time": "2023-06-05T13:12:07.633Z"
   },
   {
    "duration": 20,
    "start_time": "2023-06-05T13:12:07.767Z"
   },
   {
    "duration": 162,
    "start_time": "2023-06-05T13:12:07.790Z"
   },
   {
    "duration": 165,
    "start_time": "2023-06-05T13:12:07.955Z"
   },
   {
    "duration": 0,
    "start_time": "2023-06-05T13:12:08.124Z"
   },
   {
    "duration": 0,
    "start_time": "2023-06-05T13:12:08.126Z"
   },
   {
    "duration": 0,
    "start_time": "2023-06-05T13:12:08.141Z"
   },
   {
    "duration": 0,
    "start_time": "2023-06-05T13:12:08.143Z"
   },
   {
    "duration": 0,
    "start_time": "2023-06-05T13:12:08.145Z"
   },
   {
    "duration": 0,
    "start_time": "2023-06-05T13:12:08.147Z"
   },
   {
    "duration": 0,
    "start_time": "2023-06-05T13:12:08.149Z"
   },
   {
    "duration": 0,
    "start_time": "2023-06-05T13:12:08.152Z"
   },
   {
    "duration": 0,
    "start_time": "2023-06-05T13:12:08.154Z"
   },
   {
    "duration": 0,
    "start_time": "2023-06-05T13:12:08.156Z"
   },
   {
    "duration": 1,
    "start_time": "2023-06-05T13:12:08.157Z"
   },
   {
    "duration": 0,
    "start_time": "2023-06-05T13:12:08.159Z"
   },
   {
    "duration": 0,
    "start_time": "2023-06-05T13:12:08.161Z"
   },
   {
    "duration": 0,
    "start_time": "2023-06-05T13:12:08.162Z"
   },
   {
    "duration": 0,
    "start_time": "2023-06-05T13:12:08.164Z"
   },
   {
    "duration": 0,
    "start_time": "2023-06-05T13:12:08.165Z"
   },
   {
    "duration": 0,
    "start_time": "2023-06-05T13:12:08.168Z"
   },
   {
    "duration": 0,
    "start_time": "2023-06-05T13:12:08.169Z"
   },
   {
    "duration": 0,
    "start_time": "2023-06-05T13:12:08.171Z"
   },
   {
    "duration": 0,
    "start_time": "2023-06-05T13:12:08.173Z"
   },
   {
    "duration": 38,
    "start_time": "2023-06-05T13:21:21.417Z"
   },
   {
    "duration": 18,
    "start_time": "2023-06-05T13:21:26.236Z"
   },
   {
    "duration": 17,
    "start_time": "2023-06-05T13:21:27.026Z"
   },
   {
    "duration": 16,
    "start_time": "2023-06-05T13:21:27.835Z"
   },
   {
    "duration": 16,
    "start_time": "2023-06-05T13:21:28.576Z"
   },
   {
    "duration": 18,
    "start_time": "2023-06-05T13:21:29.475Z"
   },
   {
    "duration": 23,
    "start_time": "2023-06-05T13:21:30.927Z"
   },
   {
    "duration": 12075,
    "start_time": "2023-06-05T13:23:38.807Z"
   },
   {
    "duration": 31,
    "start_time": "2023-06-05T13:23:55.247Z"
   },
   {
    "duration": 20192,
    "start_time": "2023-06-05T13:24:19.830Z"
   },
   {
    "duration": 1399,
    "start_time": "2023-06-05T13:24:40.025Z"
   },
   {
    "duration": 116,
    "start_time": "2023-06-05T13:24:41.426Z"
   },
   {
    "duration": 16,
    "start_time": "2023-06-05T13:24:41.545Z"
   },
   {
    "duration": 116,
    "start_time": "2023-06-05T13:24:41.562Z"
   },
   {
    "duration": 7985,
    "start_time": "2023-06-05T13:24:41.680Z"
   },
   {
    "duration": 145,
    "start_time": "2023-06-05T13:24:49.667Z"
   },
   {
    "duration": 0,
    "start_time": "2023-06-05T13:24:49.816Z"
   },
   {
    "duration": 0,
    "start_time": "2023-06-05T13:24:49.817Z"
   },
   {
    "duration": 0,
    "start_time": "2023-06-05T13:24:49.819Z"
   },
   {
    "duration": 0,
    "start_time": "2023-06-05T13:24:49.820Z"
   },
   {
    "duration": 0,
    "start_time": "2023-06-05T13:24:49.821Z"
   },
   {
    "duration": 0,
    "start_time": "2023-06-05T13:24:49.822Z"
   },
   {
    "duration": 0,
    "start_time": "2023-06-05T13:24:49.823Z"
   },
   {
    "duration": 0,
    "start_time": "2023-06-05T13:24:49.824Z"
   },
   {
    "duration": 0,
    "start_time": "2023-06-05T13:24:49.825Z"
   },
   {
    "duration": 0,
    "start_time": "2023-06-05T13:24:49.842Z"
   },
   {
    "duration": 0,
    "start_time": "2023-06-05T13:24:49.843Z"
   },
   {
    "duration": 0,
    "start_time": "2023-06-05T13:24:49.845Z"
   },
   {
    "duration": 0,
    "start_time": "2023-06-05T13:24:49.847Z"
   },
   {
    "duration": 0,
    "start_time": "2023-06-05T13:24:49.848Z"
   },
   {
    "duration": 0,
    "start_time": "2023-06-05T13:24:49.849Z"
   },
   {
    "duration": 0,
    "start_time": "2023-06-05T13:24:49.851Z"
   },
   {
    "duration": 0,
    "start_time": "2023-06-05T13:24:49.852Z"
   },
   {
    "duration": 0,
    "start_time": "2023-06-05T13:24:49.854Z"
   },
   {
    "duration": 0,
    "start_time": "2023-06-05T13:24:49.855Z"
   },
   {
    "duration": 0,
    "start_time": "2023-06-05T13:24:49.857Z"
   },
   {
    "duration": 0,
    "start_time": "2023-06-05T13:24:49.861Z"
   },
   {
    "duration": 0,
    "start_time": "2023-06-05T13:24:49.862Z"
   },
   {
    "duration": 0,
    "start_time": "2023-06-05T13:24:49.864Z"
   },
   {
    "duration": 0,
    "start_time": "2023-06-05T13:24:49.866Z"
   },
   {
    "duration": 0,
    "start_time": "2023-06-05T13:24:49.867Z"
   },
   {
    "duration": 0,
    "start_time": "2023-06-05T13:24:49.869Z"
   },
   {
    "duration": 0,
    "start_time": "2023-06-05T13:24:49.870Z"
   },
   {
    "duration": 0,
    "start_time": "2023-06-05T13:24:49.871Z"
   },
   {
    "duration": 0,
    "start_time": "2023-06-05T13:24:49.872Z"
   },
   {
    "duration": 0,
    "start_time": "2023-06-05T13:24:49.874Z"
   },
   {
    "duration": 0,
    "start_time": "2023-06-05T13:24:49.875Z"
   },
   {
    "duration": 0,
    "start_time": "2023-06-05T13:24:49.877Z"
   },
   {
    "duration": 0,
    "start_time": "2023-06-05T13:24:49.878Z"
   },
   {
    "duration": 0,
    "start_time": "2023-06-05T13:24:49.880Z"
   },
   {
    "duration": 0,
    "start_time": "2023-06-05T13:24:49.942Z"
   },
   {
    "duration": 0,
    "start_time": "2023-06-05T13:24:49.945Z"
   },
   {
    "duration": 1,
    "start_time": "2023-06-05T13:24:49.947Z"
   },
   {
    "duration": 0,
    "start_time": "2023-06-05T13:24:49.949Z"
   },
   {
    "duration": 0,
    "start_time": "2023-06-05T13:24:49.949Z"
   },
   {
    "duration": 0,
    "start_time": "2023-06-05T13:24:49.950Z"
   },
   {
    "duration": 0,
    "start_time": "2023-06-05T13:24:49.951Z"
   },
   {
    "duration": 0,
    "start_time": "2023-06-05T13:24:49.952Z"
   },
   {
    "duration": 0,
    "start_time": "2023-06-05T13:24:49.953Z"
   },
   {
    "duration": 0,
    "start_time": "2023-06-05T13:24:49.954Z"
   },
   {
    "duration": 0,
    "start_time": "2023-06-05T13:24:49.955Z"
   },
   {
    "duration": 0,
    "start_time": "2023-06-05T13:24:49.956Z"
   },
   {
    "duration": 0,
    "start_time": "2023-06-05T13:24:49.957Z"
   },
   {
    "duration": 0,
    "start_time": "2023-06-05T13:24:49.958Z"
   },
   {
    "duration": 0,
    "start_time": "2023-06-05T13:24:49.959Z"
   },
   {
    "duration": 0,
    "start_time": "2023-06-05T13:24:49.960Z"
   },
   {
    "duration": 0,
    "start_time": "2023-06-05T13:24:49.961Z"
   },
   {
    "duration": 0,
    "start_time": "2023-06-05T13:24:49.964Z"
   },
   {
    "duration": 0,
    "start_time": "2023-06-05T13:24:49.965Z"
   },
   {
    "duration": 0,
    "start_time": "2023-06-05T13:24:49.966Z"
   },
   {
    "duration": 0,
    "start_time": "2023-06-05T13:24:49.968Z"
   },
   {
    "duration": 19404,
    "start_time": "2023-06-05T13:26:16.181Z"
   },
   {
    "duration": 1174,
    "start_time": "2023-06-05T13:26:35.588Z"
   },
   {
    "duration": 104,
    "start_time": "2023-06-05T13:26:36.764Z"
   },
   {
    "duration": 33,
    "start_time": "2023-06-05T13:26:36.870Z"
   },
   {
    "duration": 94,
    "start_time": "2023-06-05T13:26:36.905Z"
   },
   {
    "duration": 148,
    "start_time": "2023-06-05T13:26:37.001Z"
   },
   {
    "duration": 0,
    "start_time": "2023-06-05T13:26:37.153Z"
   },
   {
    "duration": 0,
    "start_time": "2023-06-05T13:26:37.154Z"
   },
   {
    "duration": 0,
    "start_time": "2023-06-05T13:26:37.155Z"
   },
   {
    "duration": 0,
    "start_time": "2023-06-05T13:26:37.156Z"
   },
   {
    "duration": 0,
    "start_time": "2023-06-05T13:26:37.157Z"
   },
   {
    "duration": 0,
    "start_time": "2023-06-05T13:26:37.158Z"
   },
   {
    "duration": 0,
    "start_time": "2023-06-05T13:26:37.159Z"
   },
   {
    "duration": 0,
    "start_time": "2023-06-05T13:26:37.160Z"
   },
   {
    "duration": 0,
    "start_time": "2023-06-05T13:26:37.161Z"
   },
   {
    "duration": 0,
    "start_time": "2023-06-05T13:26:37.162Z"
   },
   {
    "duration": 0,
    "start_time": "2023-06-05T13:26:37.162Z"
   },
   {
    "duration": 0,
    "start_time": "2023-06-05T13:26:37.163Z"
   },
   {
    "duration": 0,
    "start_time": "2023-06-05T13:26:37.164Z"
   },
   {
    "duration": 0,
    "start_time": "2023-06-05T13:26:37.165Z"
   },
   {
    "duration": 0,
    "start_time": "2023-06-05T13:26:37.166Z"
   },
   {
    "duration": 0,
    "start_time": "2023-06-05T13:26:37.167Z"
   },
   {
    "duration": 0,
    "start_time": "2023-06-05T13:26:37.168Z"
   },
   {
    "duration": 0,
    "start_time": "2023-06-05T13:26:37.169Z"
   },
   {
    "duration": 0,
    "start_time": "2023-06-05T13:26:37.170Z"
   },
   {
    "duration": 0,
    "start_time": "2023-06-05T13:26:37.171Z"
   },
   {
    "duration": 0,
    "start_time": "2023-06-05T13:26:37.172Z"
   },
   {
    "duration": 0,
    "start_time": "2023-06-05T13:26:37.173Z"
   },
   {
    "duration": 0,
    "start_time": "2023-06-05T13:26:37.174Z"
   },
   {
    "duration": 0,
    "start_time": "2023-06-05T13:26:37.175Z"
   },
   {
    "duration": 0,
    "start_time": "2023-06-05T13:26:37.176Z"
   },
   {
    "duration": 0,
    "start_time": "2023-06-05T13:26:37.177Z"
   },
   {
    "duration": 0,
    "start_time": "2023-06-05T13:26:37.178Z"
   },
   {
    "duration": 0,
    "start_time": "2023-06-05T13:26:37.179Z"
   },
   {
    "duration": 0,
    "start_time": "2023-06-05T13:26:37.180Z"
   },
   {
    "duration": 0,
    "start_time": "2023-06-05T13:26:37.181Z"
   },
   {
    "duration": 0,
    "start_time": "2023-06-05T13:26:37.182Z"
   },
   {
    "duration": 0,
    "start_time": "2023-06-05T13:26:37.183Z"
   },
   {
    "duration": 0,
    "start_time": "2023-06-05T13:26:37.184Z"
   },
   {
    "duration": 0,
    "start_time": "2023-06-05T13:26:37.185Z"
   },
   {
    "duration": 0,
    "start_time": "2023-06-05T13:26:37.186Z"
   },
   {
    "duration": 0,
    "start_time": "2023-06-05T13:26:37.187Z"
   },
   {
    "duration": 0,
    "start_time": "2023-06-05T13:26:37.242Z"
   },
   {
    "duration": 0,
    "start_time": "2023-06-05T13:26:37.243Z"
   },
   {
    "duration": 0,
    "start_time": "2023-06-05T13:26:37.244Z"
   },
   {
    "duration": 0,
    "start_time": "2023-06-05T13:26:37.245Z"
   },
   {
    "duration": 0,
    "start_time": "2023-06-05T13:26:37.246Z"
   },
   {
    "duration": 0,
    "start_time": "2023-06-05T13:26:37.248Z"
   },
   {
    "duration": 0,
    "start_time": "2023-06-05T13:26:37.249Z"
   },
   {
    "duration": 1,
    "start_time": "2023-06-05T13:26:37.249Z"
   },
   {
    "duration": 0,
    "start_time": "2023-06-05T13:26:37.251Z"
   },
   {
    "duration": 0,
    "start_time": "2023-06-05T13:26:37.252Z"
   },
   {
    "duration": 0,
    "start_time": "2023-06-05T13:26:37.253Z"
   },
   {
    "duration": 0,
    "start_time": "2023-06-05T13:26:37.254Z"
   },
   {
    "duration": 0,
    "start_time": "2023-06-05T13:26:37.255Z"
   },
   {
    "duration": 0,
    "start_time": "2023-06-05T13:26:37.258Z"
   },
   {
    "duration": 0,
    "start_time": "2023-06-05T13:26:37.259Z"
   },
   {
    "duration": 0,
    "start_time": "2023-06-05T13:26:37.260Z"
   },
   {
    "duration": 0,
    "start_time": "2023-06-05T13:26:37.261Z"
   },
   {
    "duration": 0,
    "start_time": "2023-06-05T13:26:37.262Z"
   },
   {
    "duration": 0,
    "start_time": "2023-06-05T13:26:37.263Z"
   },
   {
    "duration": 1759,
    "start_time": "2023-06-05T13:26:58.439Z"
   },
   {
    "duration": 29,
    "start_time": "2023-06-05T13:27:03.629Z"
   },
   {
    "duration": 18,
    "start_time": "2023-06-05T13:27:07.619Z"
   },
   {
    "duration": 17,
    "start_time": "2023-06-05T13:27:09.337Z"
   },
   {
    "duration": 17,
    "start_time": "2023-06-05T13:27:11.112Z"
   },
   {
    "duration": 17,
    "start_time": "2023-06-05T13:27:16.193Z"
   },
   {
    "duration": 18,
    "start_time": "2023-06-05T13:27:17.137Z"
   },
   {
    "duration": 53,
    "start_time": "2023-06-05T13:27:19.265Z"
   },
   {
    "duration": 59,
    "start_time": "2023-06-05T13:27:21.555Z"
   },
   {
    "duration": 42,
    "start_time": "2023-06-05T13:27:23.170Z"
   },
   {
    "duration": 25,
    "start_time": "2023-06-05T13:27:24.378Z"
   },
   {
    "duration": 97,
    "start_time": "2023-06-05T13:27:26.674Z"
   },
   {
    "duration": 99,
    "start_time": "2023-06-05T13:27:28.545Z"
   },
   {
    "duration": 21,
    "start_time": "2023-06-05T13:27:31.078Z"
   },
   {
    "duration": 2,
    "start_time": "2023-06-05T13:27:32.262Z"
   },
   {
    "duration": 49,
    "start_time": "2023-06-05T13:27:35.942Z"
   },
   {
    "duration": 4,
    "start_time": "2023-06-05T13:27:37.343Z"
   },
   {
    "duration": 18,
    "start_time": "2023-06-05T13:27:38.565Z"
   },
   {
    "duration": 15,
    "start_time": "2023-06-05T13:27:40.078Z"
   },
   {
    "duration": 740,
    "start_time": "2023-06-05T13:27:42.304Z"
   },
   {
    "duration": 48,
    "start_time": "2023-06-05T13:27:46.869Z"
   },
   {
    "duration": 20,
    "start_time": "2023-06-05T13:29:42.842Z"
   },
   {
    "duration": 404,
    "start_time": "2023-06-05T13:29:43.932Z"
   },
   {
    "duration": 27,
    "start_time": "2023-06-05T13:29:46.306Z"
   }
  ],
  "kernelspec": {
   "display_name": "Python 3 (ipykernel)",
   "language": "python",
   "name": "python3"
  },
  "language_info": {
   "codemirror_mode": {
    "name": "ipython",
    "version": 3
   },
   "file_extension": ".py",
   "mimetype": "text/x-python",
   "name": "python",
   "nbconvert_exporter": "python",
   "pygments_lexer": "ipython3",
   "version": "3.9.15"
  },
  "toc": {
   "base_numbering": 1,
   "nav_menu": {},
   "number_sections": true,
   "sideBar": true,
   "skip_h1_title": true,
   "title_cell": "Table of Contents",
   "title_sidebar": "Contents",
   "toc_cell": false,
   "toc_position": {},
   "toc_section_display": true,
   "toc_window_display": true
  }
 },
 "nbformat": 4,
 "nbformat_minor": 2
}
