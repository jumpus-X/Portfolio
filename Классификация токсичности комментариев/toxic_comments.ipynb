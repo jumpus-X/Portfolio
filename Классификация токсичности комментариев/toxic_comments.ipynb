{
 "cells": [
  {
   "cell_type": "markdown",
   "metadata": {},
   "source": [
    "# Классификация токсичности комментариев"
   ]
  },
  {
   "cell_type": "markdown",
   "metadata": {},
   "source": [
    "Интернет-магазин \"Викишоп\" внедряет новый сервис, который позволяет пользователям редактировать и дополнять описания товаров, подобно вики-сообществам. Это означает, что клиенты могут предлагать свои правки и комментировать изменения, внесенные другими пользователями. Нам необходим инструмент, который сможет автоматически обнаруживать токсичные комментарии и отправлять их на модерацию.\n",
    "\n",
    "Цель данного проекта заключается в обучении модели, способной классифицировать комментарии на позитивные и негативные с высокой точностью. У нас есть набор данных с разметкой, определяющей токсичность комментариев. Нашей задачей является построение модели, которая достигнет значения метрики качества F1 не менее 0.75.\n",
    "\n",
    "**Инструкция по выполнению проекта**\n",
    "\n",
    "1. Загрузите и подготовьте данные.\n",
    "2. Обучите разные модели. \n",
    "3. Сделайте выводы.\n",
    "\n",
    "\n",
    "**Описание данных**\n",
    "\n",
    "Данные находятся в файле `toxic_comments.csv`. Столбец *text* в нём содержит текст комментария, а *toxic* — целевой признак."
   ]
  },
  {
   "cell_type": "markdown",
   "metadata": {},
   "source": [
    "## Подготовка"
   ]
  },
  {
   "cell_type": "code",
   "execution_count": 1,
   "metadata": {},
   "outputs": [
    {
     "name": "stdout",
     "output_type": "stream",
     "text": [
      "Requirement already satisfied: sweetviz in d:\\anaconda3\\envs\\ds_practicum_env\\lib\\site-packages (2.1.4)\n",
      "Requirement already satisfied: pandas!=1.0.0,!=1.0.1,!=1.0.2,>=0.25.3 in d:\\anaconda3\\envs\\ds_practicum_env\\lib\\site-packages (from sweetviz) (1.5.3)\n",
      "Requirement already satisfied: jinja2>=2.11.1 in d:\\anaconda3\\envs\\ds_practicum_env\\lib\\site-packages (from sweetviz) (3.1.2)\n",
      "Requirement already satisfied: importlib-resources>=1.2.0 in d:\\anaconda3\\envs\\ds_practicum_env\\lib\\site-packages (from sweetviz) (5.10.0)\n",
      "Requirement already satisfied: tqdm>=4.43.0 in d:\\anaconda3\\envs\\ds_practicum_env\\lib\\site-packages (from sweetviz) (4.64.1)\n",
      "Requirement already satisfied: numpy>=1.16.0 in d:\\anaconda3\\envs\\ds_practicum_env\\lib\\site-packages (from sweetviz) (1.24.3)\n",
      "Requirement already satisfied: matplotlib>=3.1.3 in d:\\anaconda3\\envs\\ds_practicum_env\\lib\\site-packages (from sweetviz) (3.3.4)\n",
      "Requirement already satisfied: scipy>=1.3.2 in d:\\anaconda3\\envs\\ds_practicum_env\\lib\\site-packages (from sweetviz) (1.8.0)\n",
      "Requirement already satisfied: zipp>=3.1.0 in d:\\anaconda3\\envs\\ds_practicum_env\\lib\\site-packages (from importlib-resources>=1.2.0->sweetviz) (3.11.0)\n",
      "Requirement already satisfied: MarkupSafe>=2.0 in d:\\anaconda3\\envs\\ds_practicum_env\\lib\\site-packages (from jinja2>=2.11.1->sweetviz) (2.1.1)\n",
      "Requirement already satisfied: cycler>=0.10 in d:\\anaconda3\\envs\\ds_practicum_env\\lib\\site-packages (from matplotlib>=3.1.3->sweetviz) (0.11.0)\n",
      "Requirement already satisfied: kiwisolver>=1.0.1 in d:\\anaconda3\\envs\\ds_practicum_env\\lib\\site-packages (from matplotlib>=3.1.3->sweetviz) (1.4.4)\n",
      "Requirement already satisfied: pillow>=6.2.0 in d:\\anaconda3\\envs\\ds_practicum_env\\lib\\site-packages (from matplotlib>=3.1.3->sweetviz) (10.0.0)\n",
      "Requirement already satisfied: pyparsing!=2.0.4,!=2.1.2,!=2.1.6,>=2.0.3 in d:\\anaconda3\\envs\\ds_practicum_env\\lib\\site-packages (from matplotlib>=3.1.3->sweetviz) (3.0.9)\n",
      "Requirement already satisfied: python-dateutil>=2.1 in d:\\anaconda3\\envs\\ds_practicum_env\\lib\\site-packages (from matplotlib>=3.1.3->sweetviz) (2.8.2)\n",
      "Requirement already satisfied: pytz>=2020.1 in d:\\anaconda3\\envs\\ds_practicum_env\\lib\\site-packages (from pandas!=1.0.0,!=1.0.1,!=1.0.2,>=0.25.3->sweetviz) (2022.6)\n",
      "Requirement already satisfied: colorama in d:\\anaconda3\\envs\\ds_practicum_env\\lib\\site-packages (from tqdm>=4.43.0->sweetviz) (0.4.6)\n",
      "Requirement already satisfied: six>=1.5 in d:\\anaconda3\\envs\\ds_practicum_env\\lib\\site-packages (from python-dateutil>=2.1->matplotlib>=3.1.3->sweetviz) (1.16.0)\n",
      "Note: you may need to restart the kernel to use updated packages.\n",
      "Requirement already satisfied: missingno in d:\\anaconda3\\envs\\ds_practicum_env\\lib\\site-packages (0.5.1)\n",
      "Requirement already satisfied: matplotlib in d:\\anaconda3\\envs\\ds_practicum_env\\lib\\site-packages (from missingno) (3.3.4)\n",
      "Requirement already satisfied: numpy in d:\\anaconda3\\envs\\ds_practicum_env\\lib\\site-packages (from missingno) (1.24.3)\n",
      "Requirement already satisfied: scipy in d:\\anaconda3\\envs\\ds_practicum_env\\lib\\site-packages (from missingno) (1.8.0)\n",
      "Requirement already satisfied: seaborn in d:\\anaconda3\\envs\\ds_practicum_env\\lib\\site-packages (from missingno) (0.11.1)\n",
      "Requirement already satisfied: pyparsing!=2.0.4,!=2.1.2,!=2.1.6,>=2.0.3 in d:\\anaconda3\\envs\\ds_practicum_env\\lib\\site-packages (from matplotlib->missingno) (3.0.9)\n",
      "Requirement already satisfied: python-dateutil>=2.1 in d:\\anaconda3\\envs\\ds_practicum_env\\lib\\site-packages (from matplotlib->missingno) (2.8.2)\n",
      "Requirement already satisfied: pillow>=6.2.0 in d:\\anaconda3\\envs\\ds_practicum_env\\lib\\site-packages (from matplotlib->missingno) (10.0.0)\n",
      "Requirement already satisfied: kiwisolver>=1.0.1 in d:\\anaconda3\\envs\\ds_practicum_env\\lib\\site-packages (from matplotlib->missingno) (1.4.4)\n",
      "Requirement already satisfied: cycler>=0.10 in d:\\anaconda3\\envs\\ds_practicum_env\\lib\\site-packages (from matplotlib->missingno) (0.11.0)\n",
      "Requirement already satisfied: pandas>=0.23 in d:\\anaconda3\\envs\\ds_practicum_env\\lib\\site-packages (from seaborn->missingno) (1.5.3)\n",
      "Requirement already satisfied: pytz>=2020.1 in d:\\anaconda3\\envs\\ds_practicum_env\\lib\\site-packages (from pandas>=0.23->seaborn->missingno) (2022.6)\n",
      "Requirement already satisfied: six>=1.5 in d:\\anaconda3\\envs\\ds_practicum_env\\lib\\site-packages (from python-dateutil>=2.1->matplotlib->missingno) (1.16.0)\n",
      "Note: you may need to restart the kernel to use updated packages.\n",
      "Requirement already satisfied: lightgbm in d:\\anaconda3\\envs\\ds_practicum_env\\lib\\site-packages (3.3.5)Note: you may need to restart the kernel to use updated packages.\n",
      "\n",
      "Requirement already satisfied: scipy in d:\\anaconda3\\envs\\ds_practicum_env\\lib\\site-packages (from lightgbm) (1.8.0)\n",
      "Requirement already satisfied: wheel in d:\\anaconda3\\envs\\ds_practicum_env\\lib\\site-packages (from lightgbm) (0.38.4)\n",
      "Requirement already satisfied: scikit-learn!=0.22.0 in d:\\anaconda3\\envs\\ds_practicum_env\\lib\\site-packages (from lightgbm) (1.2.2)\n",
      "Requirement already satisfied: numpy in d:\\anaconda3\\envs\\ds_practicum_env\\lib\\site-packages (from lightgbm) (1.24.3)\n",
      "Requirement already satisfied: threadpoolctl>=2.0.0 in d:\\anaconda3\\envs\\ds_practicum_env\\lib\\site-packages (from scikit-learn!=0.22.0->lightgbm) (3.1.0)\n",
      "Requirement already satisfied: joblib>=1.1.1 in d:\\anaconda3\\envs\\ds_practicum_env\\lib\\site-packages (from scikit-learn!=0.22.0->lightgbm) (1.2.0)\n"
     ]
    }
   ],
   "source": [
    "import pandas as pd\n",
    "from sklearn.model_selection import train_test_split, GridSearchCV\n",
    "from sklearn.metrics import f1_score\n",
    "from sklearn.linear_model import LogisticRegression\n",
    "from sklearn.feature_extraction.text import TfidfVectorizer\n",
    "from catboost import CatBoostClassifier\n",
    "\n",
    "import numpy as np\n",
    "import warnings\n",
    "np.warnings = warnings\n",
    "warnings.filterwarnings('ignore')\n",
    "\n",
    "%pip install missingno\n",
    "import missingno as msno\n",
    "\n",
    "%pip install lightgbm\n",
    "import lightgbm as lgb\n",
    "from lightgbm import LGBMClassifier\n",
    "\n",
    "import re\n",
    "import nltk\n",
    "from nltk.corpus import wordnet\n",
    "from nltk.stem import WordNetLemmatizer"
   ]
  },
  {
   "cell_type": "code",
   "execution_count": 2,
   "metadata": {},
   "outputs": [],
   "source": [
    "# Импортируем датасет\n",
    "try:\n",
    "    df = pd.read_csv('toxic_comments.csv', index_col=0)\n",
    "except:\n",
    "    df = pd.read_csv('/datasets/toxic_comments.csv', index_col=0)"
   ]
  },
  {
   "cell_type": "code",
   "execution_count": 3,
   "metadata": {},
   "outputs": [
    {
     "name": "stdout",
     "output_type": "stream",
     "text": [
      "<class 'pandas.core.frame.DataFrame'>\n",
      "Int64Index: 159292 entries, 0 to 159450\n",
      "Data columns (total 2 columns):\n",
      " #   Column  Non-Null Count   Dtype \n",
      "---  ------  --------------   ----- \n",
      " 0   text    159292 non-null  object\n",
      " 1   toxic   159292 non-null  int64 \n",
      "dtypes: int64(1), object(1)\n",
      "memory usage: 3.6+ MB\n"
     ]
    }
   ],
   "source": [
    "# Основная информация\n",
    "df.info()"
   ]
  },
  {
   "cell_type": "code",
   "execution_count": 4,
   "metadata": {},
   "outputs": [
    {
     "data": {
      "text/html": [
       "<div>\n",
       "<style scoped>\n",
       "    .dataframe tbody tr th:only-of-type {\n",
       "        vertical-align: middle;\n",
       "    }\n",
       "\n",
       "    .dataframe tbody tr th {\n",
       "        vertical-align: top;\n",
       "    }\n",
       "\n",
       "    .dataframe thead th {\n",
       "        text-align: right;\n",
       "    }\n",
       "</style>\n",
       "<table border=\"1\" class=\"dataframe\">\n",
       "  <thead>\n",
       "    <tr style=\"text-align: right;\">\n",
       "      <th></th>\n",
       "      <th>text</th>\n",
       "      <th>toxic</th>\n",
       "    </tr>\n",
       "  </thead>\n",
       "  <tbody>\n",
       "    <tr>\n",
       "      <th>0</th>\n",
       "      <td>Explanation\\nWhy the edits made under my usern...</td>\n",
       "      <td>0</td>\n",
       "    </tr>\n",
       "    <tr>\n",
       "      <th>1</th>\n",
       "      <td>D'aww! He matches this background colour I'm s...</td>\n",
       "      <td>0</td>\n",
       "    </tr>\n",
       "    <tr>\n",
       "      <th>2</th>\n",
       "      <td>Hey man, I'm really not trying to edit war. It...</td>\n",
       "      <td>0</td>\n",
       "    </tr>\n",
       "    <tr>\n",
       "      <th>3</th>\n",
       "      <td>\"\\nMore\\nI can't make any real suggestions on ...</td>\n",
       "      <td>0</td>\n",
       "    </tr>\n",
       "    <tr>\n",
       "      <th>4</th>\n",
       "      <td>You, sir, are my hero. Any chance you remember...</td>\n",
       "      <td>0</td>\n",
       "    </tr>\n",
       "  </tbody>\n",
       "</table>\n",
       "</div>"
      ],
      "text/plain": [
       "                                                text  toxic\n",
       "0  Explanation\\nWhy the edits made under my usern...      0\n",
       "1  D'aww! He matches this background colour I'm s...      0\n",
       "2  Hey man, I'm really not trying to edit war. It...      0\n",
       "3  \"\\nMore\\nI can't make any real suggestions on ...      0\n",
       "4  You, sir, are my hero. Any chance you remember...      0"
      ]
     },
     "execution_count": 4,
     "metadata": {},
     "output_type": "execute_result"
    }
   ],
   "source": [
    "# Первые 5 строк\n",
    "df.head()"
   ]
  },
  {
   "cell_type": "code",
   "execution_count": 6,
   "metadata": {},
   "outputs": [
    {
     "data": {
      "image/png": "[encoded data removed]",
      "text/plain": [
       "<Figure size 2500x1000 with 2 Axes>"
      ]
     },
     "metadata": {},
     "output_type": "display_data"
    }
   ],
   "source": [
    "# Визуальное отоборажение пропусков\n",
    "msno.matrix(df);"
   ]
  },
  {
   "cell_type": "markdown",
   "metadata": {},
   "source": [
    "По предварительному анализу можно выделить:\n",
    "- В данных отсуствуют пропуски\n",
    "- В данных отсуствуют явные дубликаты\n",
    "- Имеется дисбаланс классов в целевом признаке. Класс 1 равен 10%, а класс 0 равено 90%. Токсичных комментариев значительно меньше"
   ]
  },
  {
   "cell_type": "markdown",
   "metadata": {},
   "source": [
    "### Предобработка текста"
   ]
  },
  {
   "cell_type": "markdown",
   "metadata": {},
   "source": [
    "Перед работой моделей, нужно подготовить столбец `text`.\n",
    "\n",
    "Шаги, которые будут сделаны по обработке текста:\n",
    "- Очистка от регулярных выражений и приведение к нижнему регистру\n",
    "- Разбиение текста на токены\n",
    "- Удаление стоп-слов\n",
    "- Лемматизация текста\n",
    "\n",
    "Загрузим все необходимые пакеты"
   ]
  },
  {
   "cell_type": "code",
   "execution_count": 7,
   "metadata": {},
   "outputs": [
    {
     "name": "stderr",
     "output_type": "stream",
     "text": [
      "[nltk_data] Downloading package wordnet to\n",
      "[nltk_data]     C:\\Users\\Jumpus\\AppData\\Roaming\\nltk_data...\n",
      "[nltk_data]   Package wordnet is already up-to-date!\n",
      "[nltk_data] Downloading package averaged_perceptron_tagger to\n",
      "[nltk_data]     C:\\Users\\Jumpus\\AppData\\Roaming\\nltk_data...\n",
      "[nltk_data]   Package averaged_perceptron_tagger is already up-to-\n",
      "[nltk_data]       date!\n",
      "[nltk_data] Downloading package punkt to\n",
      "[nltk_data]     C:\\Users\\Jumpus\\AppData\\Roaming\\nltk_data...\n",
      "[nltk_data]   Package punkt is already up-to-date!\n",
      "[nltk_data] Downloading package stopwords to\n",
      "[nltk_data]     C:\\Users\\Jumpus\\AppData\\Roaming\\nltk_data...\n",
      "[nltk_data]   Package stopwords is already up-to-date!\n"
     ]
    }
   ],
   "source": [
    "nltk.download('wordnet')\n",
    "nltk.download('averaged_perceptron_tagger')\n",
    "nltk.download('punkt')\n",
    "nltk.download('stopwords')\n",
    "stop_words = nltk.corpus.stopwords.words('english')"
   ]
  },
  {
   "cell_type": "code",
   "execution_count": 8,
   "metadata": {},
   "outputs": [],
   "source": [
    "def get_wordnet_pos(word):\n",
    "    tag = nltk.pos_tag([word])[0][1][0].upper()\n",
    "    tag_dict = {\"J\": wordnet.ADJ,\n",
    "                \"N\": wordnet.NOUN,\n",
    "                \"V\": wordnet.VERB,\n",
    "                \"R\": wordnet.ADV}\n",
    "    return tag_dict.get(tag, wordnet.NOUN)"
   ]
  },
  {
   "cell_type": "code",
   "execution_count": 9,
   "metadata": {},
   "outputs": [],
   "source": [
    "# Функция производит предобработку текста\n",
    "def preprocess_text(text):\n",
    "    \n",
    "    # Очистка текста от регулярных выражений\n",
    "    cleaned_text = re.sub(r'[^a-zA-Z ]', '', text).lower()\n",
    "    \n",
    "    # Токенизация текста\n",
    "    tokens = nltk.word_tokenize(cleaned_text) \n",
    "    \n",
    "    # Удаление стоп-слов\n",
    "    tokens_without_stopwords = [token for token in tokens if token not in stop_words]  \n",
    "    \n",
    "    # Лемматизация текста\n",
    "    lemmatizer = nltk.stem.WordNetLemmatizer()\n",
    "    lemmas = [lemmatizer.lemmatize(token, get_wordnet_pos(token)) for token in tokens_without_stopwords]\n",
    "    \n",
    "    # Объединение лемм в строку\n",
    "    preprocessed_text = ' '.join(lemmas) \n",
    "    \n",
    "    return preprocessed_text"
   ]
  },
  {
   "cell_type": "code",
   "execution_count": 10,
   "metadata": {
    "scrolled": true
   },
   "outputs": [
    {
     "name": "stdout",
     "output_type": "stream",
     "text": [
      "Исходный текст: Explanation\n",
      "Why the edits made under my username Hardcore Metallica Fan were reverted? They weren't vandalisms, just closure on some GAs after I voted at New York Dolls FAC. And please don't remove the template from the talk page since I'm retired now.89.205.38.27\n",
      "\n",
      "Текст после лемматизации: explanationwhy edits make username hardcore metallica fan revert werent vandalism closure gas vote new york doll fac please dont remove template talk page since im retire\n"
     ]
    }
   ],
   "source": [
    "print('Исходный текст:', df.loc[0,'text'])\n",
    "print()\n",
    "print('Текст после лемматизации:', preprocess_text(df.loc[0,'text']))"
   ]
  },
  {
   "cell_type": "code",
   "execution_count": 11,
   "metadata": {},
   "outputs": [
    {
     "name": "stdout",
     "output_type": "stream",
     "text": [
      "CPU times: total: 0 ns\n",
      "Wall time: 0 ns\n"
     ]
    }
   ],
   "source": [
    "%%time\n",
    "#df['lemm_text'] = df['text'].apply(preprocess_text)"
   ]
  },
  {
   "cell_type": "markdown",
   "metadata": {},
   "source": [
    "Сохраним результаты лемматизации в файле CSV"
   ]
  },
  {
   "cell_type": "code",
   "execution_count": 12,
   "metadata": {},
   "outputs": [],
   "source": [
    "#df.to_csv('lemm_toxic_comments_2.csv', index=False)"
   ]
  },
  {
   "cell_type": "code",
   "execution_count": 13,
   "metadata": {},
   "outputs": [],
   "source": [
    "df = pd.read_csv('lemm_toxic_comments_2.csv')"
   ]
  },
  {
   "cell_type": "markdown",
   "metadata": {},
   "source": [
    "#### Разделим датасет на выборки"
   ]
  },
  {
   "cell_type": "markdown",
   "metadata": {},
   "source": [
    "Разделим датафрейм на обучающую и тестовую выборки в пропорциях 80% к 20% соответственно. Так же разделим датасет на `features` и `target`.\n",
    "\n",
    "Признаки - `text` — текст комментария\n",
    "\n",
    "Целевой признак - `toxic` — оценка токсичности комментария (1 - да, 0 - нет)"
   ]
  },
  {
   "cell_type": "code",
   "execution_count": 14,
   "metadata": {},
   "outputs": [],
   "source": [
    "state = 12345"
   ]
  },
  {
   "cell_type": "code",
   "execution_count": 15,
   "metadata": {},
   "outputs": [],
   "source": [
    "# Разделим датасет на обучающую и тестовую выборку с выделением features и target\n",
    "train_features, test_features, train_target, test_target = train_test_split(\n",
    "    df['lemm_text'], df['toxic'], test_size=0.25, random_state=state)"
   ]
  },
  {
   "cell_type": "code",
   "execution_count": 16,
   "metadata": {},
   "outputs": [
    {
     "name": "stdout",
     "output_type": "stream",
     "text": [
      "Размер обучающей выборки признаков: 119469\n",
      "Размер тестовой выборки признаков: 39823\n",
      "Размер обучающей выборки целевого признака: 119469\n",
      "Размер тестовой выборки целевого признака: 39823\n"
     ]
    }
   ],
   "source": [
    "print('Размер обучающей выборки признаков:', train_features.shape[0])\n",
    "print('Размер тестовой выборки признаков:', test_features.shape[0])\n",
    "print('Размер обучающей выборки целевого признака:', train_target.shape[0])\n",
    "print('Размер тестовой выборки целевого признака:', test_target.shape[0])"
   ]
  },
  {
   "cell_type": "markdown",
   "metadata": {},
   "source": [
    "#### Вычислим TF-IDF для корпуса текстов"
   ]
  },
  {
   "cell_type": "code",
   "execution_count": 17,
   "metadata": {},
   "outputs": [],
   "source": [
    "# Заполним появившиеся пропуски\n",
    "train_features.fillna(value='пропуск', inplace=True)\n",
    "test_features.fillna(value='пропуск', inplace=True)"
   ]
  },
  {
   "cell_type": "code",
   "execution_count": 18,
   "metadata": {},
   "outputs": [],
   "source": [
    "# Создаем экземпляр TfidfVectorizer\n",
    "count_tf_idf = TfidfVectorizer()  \n",
    "\n",
    "# Применяем fit_transform к обучающему корпусу\n",
    "train_tf_idf = count_tf_idf.fit_transform(train_features)  \n",
    "\n",
    "# Применяем transform к тестовому корпусу\n",
    "test_tf_idf = count_tf_idf.transform(test_features)  "
   ]
  },
  {
   "cell_type": "markdown",
   "metadata": {},
   "source": [
    "Выведем размер корпусов."
   ]
  },
  {
   "cell_type": "code",
   "execution_count": 19,
   "metadata": {},
   "outputs": [
    {
     "name": "stdout",
     "output_type": "stream",
     "text": [
      "Размер обучающей выборки: 119469\n",
      "Размер тестовой выборки: 39823\n"
     ]
    }
   ],
   "source": [
    "print('Размер обучающей выборки:', train_tf_idf.shape[0])\n",
    "print('Размер тестовой выборки:', test_tf_idf.shape[0])"
   ]
  },
  {
   "cell_type": "markdown",
   "metadata": {},
   "source": [
    "### Вывод по предобработке текста\n",
    "\n",
    "На этом этапе сделаны такие шаги:\n",
    "\n",
    "- Очистили текст от регулярных выражений и привели к нижнему регистру\n",
    "- Разбили текста на токены\n",
    "- Удалили стоп-слова\n",
    "- Лемматизировали текст\n",
    "- Разделили датасет на обучающую и тестовую выборку\n",
    "- Вычислии TF-IDF для корпуса текстов"
   ]
  },
  {
   "cell_type": "markdown",
   "metadata": {},
   "source": [
    "## Обучение\n",
    "\n",
    "Необходимо обучить модель классифицировать комментарии на позитивные и негативные. Оценивать будем по метрике качества F1. Значение этой метрики должно быть не ниже 0.75.\n",
    "\n",
    "Модели, которые будем обучать:\n",
    "- LogisticRegression\n",
    "- CatBoostClassifier\n",
    "- LGBMClassifier\n",
    "\n",
    "На этапе предобаботки мы отметили, что в данных присуствует дисбаланс классов. Что бы его избежать воспользуемся гиперпараметром `class_weight` и присвоим ему значение `balanced`. Это сбалансирует наши классы."
   ]
  },
  {
   "cell_type": "code",
   "execution_count": 20,
   "metadata": {},
   "outputs": [],
   "source": [
    "# Создаем пустой DataFrame с заданными столбцами\n",
    "results_df = pd.DataFrame(columns=['model', 'f1_train'])"
   ]
  },
  {
   "cell_type": "code",
   "execution_count": 21,
   "metadata": {},
   "outputs": [],
   "source": [
    "def train_model(model, params, train_features, train_target, test_features, results_df, verbose=None):\n",
    "    \n",
    "    # Создаем объект GridSearchCV для поиска по сетке\n",
    "    grid = GridSearchCV(model, param_grid=params, cv=5, scoring='f1')\n",
    "    \n",
    "    # Обучаем модель без вывода информации о процессе обучения\n",
    "    if verbose is None:\n",
    "        grid.fit(train_features, train_target)\n",
    "    else:\n",
    "        grid.fit(train_features, train_target, verbose=False)\n",
    "    \n",
    "    # Получаем лучший результат и параметры из объекта GridSearchCV\n",
    "    best_score = grid.best_score_\n",
    "    best_params = grid.best_params_\n",
    "    \n",
    "    # Добавляем результаты в таблицу\n",
    "    results_df.loc[len(results_df)] = [model.__class__.__name__, best_score]\n",
    "    \n",
    "    print('Лучшие гиперпараметры:', best_params)\n",
    "    print(results_df.loc[results_df['model'] == model.__class__.__name__])\n",
    "    \n",
    "    return best_params"
   ]
  },
  {
   "cell_type": "markdown",
   "metadata": {},
   "source": [
    "### Модель логистической регрессии"
   ]
  },
  {
   "cell_type": "code",
   "execution_count": 22,
   "metadata": {},
   "outputs": [
    {
     "name": "stdout",
     "output_type": "stream",
     "text": [
      "Лучшие гиперпараметры: {'C': 11.1112}\n",
      "                model  f1_train\n",
      "0  LogisticRegression  0.760549\n",
      "CPU times: total: 3min 27s\n",
      "Wall time: 3min 9s\n"
     ]
    }
   ],
   "source": [
    "%%time\n",
    "# Задаем гиперпараметры\n",
    "log_reg_params = {'C': np.linspace(0.0001, 100, 10)}\n",
    "\n",
    "# Вызываем функцию train_model для обучения модели\n",
    "log_reg_best_params = train_model(\n",
    "    LogisticRegression(class_weight='balanced'), \n",
    "    log_reg_params, \n",
    "    train_tf_idf, \n",
    "    train_target, \n",
    "    test_tf_idf, \n",
    "    results_df\n",
    ")"
   ]
  },
  {
   "cell_type": "markdown",
   "metadata": {},
   "source": [
    "### Модель градиентного бустинга CatBoost"
   ]
  },
  {
   "cell_type": "code",
   "execution_count": 23,
   "metadata": {},
   "outputs": [
    {
     "name": "stdout",
     "output_type": "stream",
     "text": [
      "Лучшие гиперпараметры: {'iterations': 500}\n",
      "                model  f1_train\n",
      "1  CatBoostClassifier  0.743613\n",
      "CPU times: total: 4h 17min 37s\n",
      "Wall time: 41min 2s\n"
     ]
    }
   ],
   "source": [
    "%%time\n",
    "# Задаем гиперпараметры\n",
    "cat_boost_params = {'iterations': [500]}\n",
    "\n",
    "# Вызываем функцию train_model для обучения модели\n",
    "cat_boost_best_params = train_model(\n",
    "    CatBoostClassifier(random_state=state, auto_class_weights='Balanced'), \n",
    "    cat_boost_params, \n",
    "    train_tf_idf, \n",
    "    train_target,\n",
    "    test_tf_idf, \n",
    "    results_df, \n",
    "    verbose=False\n",
    ")"
   ]
  },
  {
   "cell_type": "markdown",
   "metadata": {},
   "source": [
    "### Модель градиентного бустинга LightGBM"
   ]
  },
  {
   "cell_type": "code",
   "execution_count": 24,
   "metadata": {},
   "outputs": [
    {
     "name": "stdout",
     "output_type": "stream",
     "text": [
      "Лучшие гиперпараметры: {'max_depth': 16, 'n_estimators': 500}\n",
      "            model  f1_train\n",
      "2  LGBMClassifier  0.755762\n",
      "CPU times: total: 2h 13min 37s\n",
      "Wall time: 11min 45s\n"
     ]
    }
   ],
   "source": [
    "%%time\n",
    "# Задаем гиперпараметры\n",
    "lgbm_params = {'max_depth': [12, 16], 'n_estimators': [250, 500]}\n",
    "\n",
    "# Вызываем функцию train_model для обучения модели\n",
    "lgbm_best_params = train_model(\n",
    "    LGBMClassifier(random_state=state, class_weight='balanced'),\n",
    "    lgbm_params,\n",
    "    train_tf_idf,\n",
    "    train_target,\n",
    "    test_tf_idf,\n",
    "    results_df\n",
    ")"
   ]
  },
  {
   "cell_type": "code",
   "execution_count": 25,
   "metadata": {},
   "outputs": [
    {
     "data": {
      "text/html": [
       "<div>\n",
       "<style scoped>\n",
       "    .dataframe tbody tr th:only-of-type {\n",
       "        vertical-align: middle;\n",
       "    }\n",
       "\n",
       "    .dataframe tbody tr th {\n",
       "        vertical-align: top;\n",
       "    }\n",
       "\n",
       "    .dataframe thead th {\n",
       "        text-align: right;\n",
       "    }\n",
       "</style>\n",
       "<table border=\"1\" class=\"dataframe\">\n",
       "  <thead>\n",
       "    <tr style=\"text-align: right;\">\n",
       "      <th></th>\n",
       "      <th>model</th>\n",
       "      <th>f1_train</th>\n",
       "    </tr>\n",
       "  </thead>\n",
       "  <tbody>\n",
       "    <tr>\n",
       "      <th>0</th>\n",
       "      <td>LogisticRegression</td>\n",
       "      <td>0.760549</td>\n",
       "    </tr>\n",
       "    <tr>\n",
       "      <th>1</th>\n",
       "      <td>CatBoostClassifier</td>\n",
       "      <td>0.743613</td>\n",
       "    </tr>\n",
       "    <tr>\n",
       "      <th>2</th>\n",
       "      <td>LGBMClassifier</td>\n",
       "      <td>0.755762</td>\n",
       "    </tr>\n",
       "  </tbody>\n",
       "</table>\n",
       "</div>"
      ],
      "text/plain": [
       "                model  f1_train\n",
       "0  LogisticRegression  0.760549\n",
       "1  CatBoostClassifier  0.743613\n",
       "2      LGBMClassifier  0.755762"
      ]
     },
     "execution_count": 25,
     "metadata": {},
     "output_type": "execute_result"
    }
   ],
   "source": [
    "# Выведем результаты\n",
    "results_df"
   ]
  },
  {
   "cell_type": "markdown",
   "metadata": {},
   "source": [
    "### Проверим лучшую модель на тестовой выборке"
   ]
  },
  {
   "cell_type": "markdown",
   "metadata": {},
   "source": [
    "Самую высоку метрику качества показала модель логистической регрессии. "
   ]
  },
  {
   "cell_type": "code",
   "execution_count": 26,
   "metadata": {},
   "outputs": [
    {
     "name": "stdout",
     "output_type": "stream",
     "text": [
      "0.7706422018348623\n"
     ]
    }
   ],
   "source": [
    "# Создаем экземпляр модели Logistic Regression с заданными параметрами\n",
    "log_reg_model = LogisticRegression(class_weight='balanced', **log_reg_best_params)  \n",
    "\n",
    "# Обучаем модель на обучающих признаках и целевой переменной\n",
    "log_reg_model.fit(train_tf_idf, train_target)  \n",
    "\n",
    "# Делаем предсказания на тестовых признаках с помощью обученной модели\n",
    "predictions = log_reg_model.predict(test_tf_idf)  \n",
    "\n",
    "# Вычисляем F1-меру между предсказаниями и целевой переменной тестовых данных\n",
    "f1_test = f1_score(test_target, predictions)  \n",
    "\n",
    "# Выводим значение F1-меры на тестовых данных\n",
    "print(f1_test)  "
   ]
  },
  {
   "cell_type": "markdown",
   "metadata": {},
   "source": [
    "### Вывод по этаму обучения\n",
    "\n",
    "Лучший результат показала модель Логистическо регресии. Можно отметить низкую разницу между значениями F1 для обучающей и тестовой выборок. Это указывает на то, что модели обладают низким уровнем переобучения и хорошо обобщают обученные данные на новые примеры."
   ]
  },
  {
   "cell_type": "markdown",
   "metadata": {},
   "source": [
    "## Вывод по проекту"
   ]
  },
  {
   "cell_type": "markdown",
   "metadata": {},
   "source": [
    "В этом проекте нам нужно было обучить модель классифицировать комментарии на позитивные и негативные. Результат оценивался метрикой качества F1. Значение этой метрики должно было быть не ниже 0.75.\n",
    "\n",
    "В этом проекте было сделано:\n",
    "\n",
    "1. Предварительный анализ данных:\n",
    "\n",
    "- Проверили на наличие пропусков.\n",
    "- Проверили на наличие явных дубилкатов.\n",
    "- Выявили дисбаланс классов в целевом признаке.\n",
    "\n",
    "2. Предобработка данных:\n",
    "\n",
    "- Очистили текст от регулярных выражений.\n",
    "- Разбили текст на токены.\n",
    "- Удалили стоп-слова.\n",
    "- Лемматизировали текст.\n",
    "\n",
    "3. Разделение датасета:\n",
    "\n",
    "- Разделили данные на обучающую и тестовую выборку.\n",
    "\n",
    "4. Вычисление TF-IDF:\n",
    "\n",
    "- Вычислили значения TF-IDF (Term Frequency-Inverse Document Frequency) для корпуса текстов.\n",
    "\n",
    "5. Обучение моделей:\n",
    "\n",
    "- Использовали три модели для классификации комментариев: LogisticRegression, CatBoostClassifier и LGBMClassifier.\n",
    "- Использовали гиперпараметр class_weight с значением \"balanced\" для борьбы с дисбалансом классов.\n",
    "\n",
    "6. Собрали результаты в таблицу results_df.\n",
    "\n",
    "7. Выбрали лучшую модель и проверили её на тестовой выборке.\n",
    "\n",
    "Лучшая модель оказалась Логистическая регрессия. Нам удалось получить метрику F1 выше 0.75."
   ]
  },
  {
   "cell_type": "code",
   "execution_count": null,
   "metadata": {},
   "outputs": [],
   "source": []
  }
 ],
 "metadata": {
  "kernelspec": {
   "display_name": "Python 3 (ipykernel)",
   "language": "python",
   "name": "python3"
  },
  "language_info": {
   "codemirror_mode": {
    "name": "ipython",
    "version": 3
   },
   "file_extension": ".py",
   "mimetype": "text/x-python",
   "name": "python",
   "nbconvert_exporter": "python",
   "pygments_lexer": "ipython3",
   "version": "3.9.15"
  },
  "toc": {
   "base_numbering": 1,
   "nav_menu": {},
   "number_sections": true,
   "sideBar": true,
   "skip_h1_title": true,
   "title_cell": "Содержание",
   "title_sidebar": "Contents",
   "toc_cell": true,
   "toc_position": {
    "height": "calc(100% - 180px)",
    "left": "10px",
    "top": "150px",
    "width": "302.391px"
   },
   "toc_section_display": true,
   "toc_window_display": false
  }
 },
 "nbformat": 4,
 "nbformat_minor": 2
}
