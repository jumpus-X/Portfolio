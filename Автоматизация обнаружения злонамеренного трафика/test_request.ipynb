{
 "cells": [
  {
   "cell_type": "markdown",
   "id": "83524f70",
   "metadata": {
    "toc": true
   },
   "source": [
    "<h1>Table of Contents<span class=\"tocSkip\"></span></h1>\n",
    "<div class=\"toc\"><ul class=\"toc-item\"></ul></div>"
   ]
  },
  {
   "cell_type": "code",
   "execution_count": 2,
   "id": "040d75a5",
   "metadata": {},
   "outputs": [
    {
     "name": "stdout",
     "output_type": "stream",
     "text": [
      "{'class_probabilities': [[0.8438479618450516, 0.013979758415977041, 0.00807393441001468, 0.0013639893636094498, 0.06991752137446919, 0.0008530411402288822, 0.0032392073357106507, 0.0010532227352101468, 8.961150910032862e-05, 0.04565747389831485, 0.00979818362600442, 0.0007888490345254835, 0.0008904934086168221, 8.928994381402931e-05, 0.00035746195935247783]]}\n"
     ]
    }
   ],
   "source": [
    "import requests\n",
    "\n",
    "# Пример загрузки application\n",
    "application = {\n",
    "    'destination_port': 11273,\n",
    "    'flow_duration': 36993,\n",
    "    'total_fwd_packets': 2,\n",
    "    'total_backward_packets': 1,\n",
    "    'total_length_of_fwd_packets': 0,\n",
    "    'total_length_of_bwd_packets': 0,\n",
    "    'fwd_packet_length_max': 0,\n",
    "    'fwd_packet_length_min': 0,\n",
    "    'fwd_packet_length_mean': 0.0,\n",
    "    'fwd_packet_length_std': 0.0,\n",
    "    'bwd_packet_length_max': 0,\n",
    "    'bwd_packet_length_min': 0,\n",
    "    'bwd_packet_length_mean': 0.0,\n",
    "    'bwd_packet_length_std': 0.0,\n",
    "    'flow_bytes_s': 0.0,\n",
    "    'flow_packets_s': 81.09642365,\n",
    "    'flow_iat_mean': 18496.5,\n",
    "    'flow_iat_std': 25954.354,\n",
    "    'flow_iat_max': 36849,\n",
    "    'flow_iat_min': 144,\n",
    "    'fwd_iat_total': 36993,\n",
    "    'fwd_iat_mean': 36993.0,\n",
    "    'fwd_iat_std': 0.0,\n",
    "    'fwd_iat_max': 36993,\n",
    "    'fwd_iat_min': 36993,\n",
    "    'bwd_iat_total': 0,\n",
    "    'bwd_iat_mean': 0.0,\n",
    "    'bwd_iat_std': 0.0,\n",
    "    'bwd_iat_max': 0,\n",
    "    'bwd_iat_min': 0,\n",
    "    'fwd_psh_flags': 0,\n",
    "    'fwd_urg_flags': 0,\n",
    "    'fwd_header_length': 40,\n",
    "    'bwd_header_length': 20,\n",
    "    'fwd_packets_s': 54.06428,\n",
    "    'bwd_packets_s': 27.03214,\n",
    "    'min_packet_length': 0,\n",
    "    'max_packet_length': 0,\n",
    "    'packet_length_mean': 0.0,\n",
    "    'packet_length_std': 0.0,\n",
    "    'packet_length_variance': 0.0,\n",
    "    'fin_flag_count': 0,\n",
    "    'syn_flag_count': 0,\n",
    "    'rst_flag_count': 0,\n",
    "    'psh_flag_count': 0,\n",
    "    'ack_flag_count': 1,\n",
    "    'urg_flag_count': 1,\n",
    "    'cwe_flag_count': 0,\n",
    "    'ece_flag_count': 0,\n",
    "    'down_up_ratio': 0,\n",
    "    'average_packet_size': 0.0,\n",
    "    'avg_fwd_segment_size': 0.0,\n",
    "    'avg_bwd_segment_size': 0.0,\n",
    "    'fwd_header_length_1': 40,\n",
    "    'subflow_fwd_packets': 2,\n",
    "    'subflow_fwd_bytes': 0,\n",
    "    'subflow_bwd_packets': 1,\n",
    "    'subflow_bwd_bytes': 0,\n",
    "    'init_win_bytes_forward': 60,\n",
    "    'init_win_bytes_backward': 255,\n",
    "    'act_data_pkt_fwd': 0,\n",
    "    'min_seg_size_forward': 20,\n",
    "    'active_mean': 0.0,\n",
    "    'active_std': 0.0,\n",
    "    'active_max': 0,\n",
    "    'active_min': 0,\n",
    "    'idle_mean': 0.0,\n",
    "    'idle_std': 0.0,\n",
    "    'idle_max': 0,\n",
    "    'idle_min': 0\n",
    "}\n",
    "\n",
    "# Местоположение сервера\n",
    "url = \"http://192.168.100.5:8989/predict\"\n",
    "\n",
    "resp = requests.post(url, json=application)\n",
    "\n",
    "# Напечатаем результаты\n",
    "print(resp.json())"
   ]
  }
 ],
 "metadata": {
  "kernelspec": {
   "display_name": "Python 3 (ipykernel)",
   "language": "python",
   "name": "python3"
  },
  "language_info": {
   "codemirror_mode": {
    "name": "ipython",
    "version": 3
   },
   "file_extension": ".py",
   "mimetype": "text/x-python",
   "name": "python",
   "nbconvert_exporter": "python",
   "pygments_lexer": "ipython3",
   "version": "3.9.15"
  },
  "toc": {
   "base_numbering": 1,
   "nav_menu": {},
   "number_sections": true,
   "sideBar": false,
   "skip_h1_title": true,
   "title_cell": "Table of Contents",
   "title_sidebar": "Содержание",
   "toc_cell": true,
   "toc_position": {},
   "toc_section_display": true,
   "toc_window_display": false
  }
 },
 "nbformat": 4,
 "nbformat_minor": 5
}
